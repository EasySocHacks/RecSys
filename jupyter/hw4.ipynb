{
 "cells": [
  {
   "cell_type": "code",
   "execution_count": 1,
   "outputs": [],
   "source": [
    "import os\n"
   ],
   "metadata": {
    "collapsed": false
   }
  },
  {
   "cell_type": "code",
   "execution_count": 2,
   "outputs": [],
   "source": [
    "os.environ[\"OPENBLAS_NUM_THREADS\"] = \"1\"  # For implicit ALS"
   ],
   "metadata": {
    "collapsed": false
   }
  },
  {
   "cell_type": "code",
   "execution_count": 3,
   "outputs": [],
   "source": [
    "import warnings\n",
    "\n",
    "warnings.filterwarnings('ignore')"
   ],
   "metadata": {
    "collapsed": false
   }
  },
  {
   "cell_type": "code",
   "execution_count": 4,
   "metadata": {
    "collapsed": true
   },
   "outputs": [],
   "source": [
    "\n",
    "\n",
    "import requests\n",
    "import pandas as pd\n",
    "import numpy as np\n",
    "\n",
    "from rectools.metrics import Precision, Recall, MAP, calc_metrics\n",
    "from rectools import Columns\n",
    "from rectools.dataset import Dataset\n",
    "\n",
    "import matplotlib.pyplot as plt\n",
    "import typing as tp\n",
    "from tqdm import tqdm\n"
   ]
  },
  {
   "cell_type": "markdown",
   "source": [
    "# Acquire dataset"
   ],
   "metadata": {
    "collapsed": false
   }
  },
  {
   "cell_type": "code",
   "execution_count": 5,
   "outputs": [
    {
     "name": "stderr",
     "output_type": "stream",
     "text": [
      "kion dataset download: 100%|█████████▉| 78.6M/78.8M [00:09<00:00, 5.66MiB/s]"
     ]
    }
   ],
   "source": [
    "# download dataset by chunks\n",
    "url = \"https://storage.yandexcloud.net/itmo-recsys-public-data/kion_train.zip\"\n",
    "\n",
    "req = requests.get(url, stream=True)\n",
    "\n",
    "with open('kion_train.zip', \"wb\") as fd:\n",
    "    total_size_in_bytes = int(req.headers.get('Content-Length', 0))\n",
    "    progress_bar = tqdm(desc='kion dataset download', total=total_size_in_bytes, unit='iB', unit_scale=True)\n",
    "    for chunk in req.iter_content(chunk_size=2 ** 20):\n",
    "        progress_bar.update(len(chunk))\n",
    "        fd.write(chunk)\n"
   ],
   "metadata": {
    "collapsed": false
   }
  },
  {
   "cell_type": "code",
   "execution_count": 6,
   "outputs": [
    {
     "name": "stdout",
     "output_type": "stream",
     "text": [
      "UnZip 6.00 of 20 April 2009, by Debian. Original by Info-ZIP.\r\n",
      "\r\n",
      "Usage: unzip [-Z] [-opts[modifiers]] file[.zip] [list] [-x xlist] [-d exdir]\r\n",
      "  Default action is to extract files in list, except those in xlist, to exdir;\r\n",
      "  file[.zip] may be a wildcard.  -Z => ZipInfo mode (\"unzip -Z\" for usage).\r\n",
      "\r\n",
      "  -p  extract files to pipe, no messages     -l  list files (short format)\r\n",
      "  -f  freshen existing files, create none    -t  test compressed archive data\r\n",
      "  -u  update files, create if necessary      -z  display archive comment only\r\n",
      "  -v  list verbosely/show version info       -T  timestamp archive to latest\r\n",
      "  -x  exclude files that follow (in xlist)   -d  extract files into exdir\r\n",
      "modifiers:\r\n",
      "  -n  never overwrite existing files         -q  quiet mode (-qq => quieter)\r\n",
      "  -o  overwrite files WITHOUT prompting      -a  auto-convert any text files\r\n",
      "  -j  junk paths (do not make directories)   -aa treat ALL files as text\r\n",
      "  -U  use escapes for all non-ASCII Unicode  -UU ignore any Unicode fields\r\n",
      "  -C  match filenames case-insensitively     -L  make (some) names lowercase\r\n",
      "  -X  restore UID/GID info                   -V  retain VMS version numbers\r\n",
      "  -K  keep setuid/setgid/tacky permissions   -M  pipe through \"more\" pager\r\n",
      "  -O CHARSET  specify a character encoding for DOS, Windows and OS/2 archives\r\n",
      "  -I CHARSET  specify a character encoding for UNIX and other archives\r\n",
      "\r\n",
      "See \"unzip -hh\" or unzip.txt for more help.  Examples:\r\n",
      "  unzip data1 -x joe   => extract all files except joe from zipfile data1.zip\r\n",
      "  unzip -p foo | more  => send contents of foo.zip via pipe into program more\r\n",
      "  unzip -fo foo ReadMe => quietly replace existing ReadMe if archive file newer\r\n"
     ]
    }
   ],
   "source": [
    "!unzip -y kion_train.zip"
   ],
   "metadata": {
    "collapsed": false
   }
  },
  {
   "cell_type": "code",
   "execution_count": 7,
   "outputs": [],
   "source": [
    "interactions = pd.read_csv('kion_train/interactions.csv')\n",
    "users = pd.read_csv('kion_train/users.csv')\n",
    "items = pd.read_csv('kion_train/items.csv')\n"
   ],
   "metadata": {
    "collapsed": false
   }
  },
  {
   "cell_type": "markdown",
   "source": [
    "# Data info"
   ],
   "metadata": {
    "collapsed": false
   }
  },
  {
   "cell_type": "markdown",
   "source": [
    "---\n",
    "### interactions"
   ],
   "metadata": {
    "collapsed": false
   }
  },
  {
   "cell_type": "code",
   "execution_count": 8,
   "outputs": [
    {
     "data": {
      "text/plain": "         user_id  item_id last_watch_dt  total_dur  watched_pct\n0         176549     9506    2021-05-11       4250         72.0\n1         699317     1659    2021-05-29       8317        100.0\n2         656683     7107    2021-05-09         10          0.0\n3         864613     7638    2021-07-05      14483        100.0\n4         964868     9506    2021-04-30       6725        100.0\n5476246   648596    12225    2021-08-13         76          0.0\n5476247   546862     9673    2021-04-13       2308         49.0\n5476248   697262    15297    2021-08-20      18307         63.0\n5476249   384202    16197    2021-04-19       6203        100.0\n5476250   319709     4436    2021-08-15       3921         45.0",
      "text/html": "<div>\n<style scoped>\n    .dataframe tbody tr th:only-of-type {\n        vertical-align: middle;\n    }\n\n    .dataframe tbody tr th {\n        vertical-align: top;\n    }\n\n    .dataframe thead th {\n        text-align: right;\n    }\n</style>\n<table border=\"1\" class=\"dataframe\">\n  <thead>\n    <tr style=\"text-align: right;\">\n      <th></th>\n      <th>user_id</th>\n      <th>item_id</th>\n      <th>last_watch_dt</th>\n      <th>total_dur</th>\n      <th>watched_pct</th>\n    </tr>\n  </thead>\n  <tbody>\n    <tr>\n      <th>0</th>\n      <td>176549</td>\n      <td>9506</td>\n      <td>2021-05-11</td>\n      <td>4250</td>\n      <td>72.0</td>\n    </tr>\n    <tr>\n      <th>1</th>\n      <td>699317</td>\n      <td>1659</td>\n      <td>2021-05-29</td>\n      <td>8317</td>\n      <td>100.0</td>\n    </tr>\n    <tr>\n      <th>2</th>\n      <td>656683</td>\n      <td>7107</td>\n      <td>2021-05-09</td>\n      <td>10</td>\n      <td>0.0</td>\n    </tr>\n    <tr>\n      <th>3</th>\n      <td>864613</td>\n      <td>7638</td>\n      <td>2021-07-05</td>\n      <td>14483</td>\n      <td>100.0</td>\n    </tr>\n    <tr>\n      <th>4</th>\n      <td>964868</td>\n      <td>9506</td>\n      <td>2021-04-30</td>\n      <td>6725</td>\n      <td>100.0</td>\n    </tr>\n    <tr>\n      <th>5476246</th>\n      <td>648596</td>\n      <td>12225</td>\n      <td>2021-08-13</td>\n      <td>76</td>\n      <td>0.0</td>\n    </tr>\n    <tr>\n      <th>5476247</th>\n      <td>546862</td>\n      <td>9673</td>\n      <td>2021-04-13</td>\n      <td>2308</td>\n      <td>49.0</td>\n    </tr>\n    <tr>\n      <th>5476248</th>\n      <td>697262</td>\n      <td>15297</td>\n      <td>2021-08-20</td>\n      <td>18307</td>\n      <td>63.0</td>\n    </tr>\n    <tr>\n      <th>5476249</th>\n      <td>384202</td>\n      <td>16197</td>\n      <td>2021-04-19</td>\n      <td>6203</td>\n      <td>100.0</td>\n    </tr>\n    <tr>\n      <th>5476250</th>\n      <td>319709</td>\n      <td>4436</td>\n      <td>2021-08-15</td>\n      <td>3921</td>\n      <td>45.0</td>\n    </tr>\n  </tbody>\n</table>\n</div>"
     },
     "execution_count": 8,
     "metadata": {},
     "output_type": "execute_result"
    }
   ],
   "source": [
    "pd.concat([interactions.head(), interactions.tail()])\n"
   ],
   "metadata": {
    "collapsed": false
   }
  },
  {
   "cell_type": "code",
   "execution_count": 9,
   "outputs": [
    {
     "name": "stdout",
     "output_type": "stream",
     "text": [
      "<class 'pandas.core.frame.DataFrame'>\n",
      "RangeIndex: 5476251 entries, 0 to 5476250\n",
      "Data columns (total 5 columns):\n",
      " #   Column         Dtype  \n",
      "---  ------         -----  \n",
      " 0   user_id        int64  \n",
      " 1   item_id        int64  \n",
      " 2   last_watch_dt  object \n",
      " 3   total_dur      int64  \n",
      " 4   watched_pct    float64\n",
      "dtypes: float64(1), int64(3), object(1)\n",
      "memory usage: 208.9+ MB\n"
     ]
    }
   ],
   "source": [
    "interactions.info()"
   ],
   "metadata": {
    "collapsed": false
   }
  },
  {
   "cell_type": "markdown",
   "source": [
    "---\n",
    "### items"
   ],
   "metadata": {
    "collapsed": false
   }
  },
  {
   "cell_type": "code",
   "execution_count": 10,
   "outputs": [
    {
     "data": {
      "text/plain": "       item_id content_type                 title      title_orig  \\\n0        10711         film        Поговори с ней  Hable con ella   \n1         2508         film           Голые перцы    Search Party   \n2        10716         film      Тактическая сила  Tactical Force   \n3         7868         film                45 лет        45 Years   \n4        16268         film  Все решает мгновение             NaN   \n15958     6443       series         Полярный круг   Arctic Circle   \n15959     2367       series               Надежда             NaN   \n15960    10632       series                Сговор          Hassel   \n15961     4538       series          Среди камней      Darklands    \n15962     3206       series                  Гоша             NaN   \n\n       release_year                                            genres  \\\n0            2002.0           драмы, зарубежные, детективы, мелодрамы   \n1            2014.0                  зарубежные, приключения, комедии   \n2            2011.0  криминал, зарубежные, триллеры, боевики, комедии   \n3            2015.0                      драмы, зарубежные, мелодрамы   \n4            1978.0                драмы, спорт, советские, мелодрамы   \n15958        2018.0                         драмы, триллеры, криминал   \n15959        2020.0                                    драмы, боевики   \n15960        2017.0                         драмы, триллеры, криминал   \n15961        2019.0                            драмы, спорт, криминал   \n15962        2019.0                                           комедии   \n\n                 countries  for_kids  age_rating   studios  \\\n0                  Испания       NaN        16.0       NaN   \n1                      США       NaN        16.0       NaN   \n2                   Канада       NaN        16.0       NaN   \n3           Великобритания       NaN        16.0       NaN   \n4                     СССР       NaN        12.0  Ленфильм   \n15958  Финляндия, Германия       NaN        16.0       NaN   \n15959               Россия       0.0        18.0       NaN   \n15960               Россия       0.0        18.0       NaN   \n15961               Россия       0.0        18.0       NaN   \n15962               Россия       0.0        16.0       NaN   \n\n                                   directors  \\\n0                           Педро Альмодовар   \n1                             Скот Армстронг   \n2                           Адам П. Калтраро   \n3                                  Эндрю Хэй   \n4                           Виктор Садовский   \n15958                          Ханну Салонен   \n15959                         Елена Хазанова   \n15960  Эшреф Рейбрук, Амир Камдин, Эрик Эгер   \n15961          Марк О’Коннор, Конор МакМахон   \n15962                         Михаил Миронов   \n\n                                                  actors  \\\n0      Адольфо Фернандес, Ана Фернандес, Дарио Гранди...   \n1      Адам Палли, Брайан Хаски, Дж.Б. Смув, Джейсон ...   \n2      Адриан Холмс, Даррен Шалави, Джерри Вассерман,...   \n3      Александра Риддлстон-Барретт, Джеральдин Джейм...   \n4      Александр Абдулов, Александр Демьяненко, Алекс...   \n15958  Иина Куустонен, Максимилиан Брюкнер, Пихла Вии...   \n15959  Виктория Исакова, Александр Кузьмин, Алексей М...   \n15960  Ола Рапас, Алиетт Офейм, Уильма Лиден, Шанти Р...   \n15961  Дэйн Уайт О’Хара, Томас Кэйн-Бирн, Джудит Родд...   \n15962                 Мкртыч Арзуманян, Виктория Рунцова   \n\n                                             description  \\\n0      Мелодрама легендарного Педро Альмодовара «Пого...   \n1      Уморительная современная комедия на популярную...   \n2      Профессиональный рестлер Стив Остин («Все или ...   \n3      Шарлотта Рэмплинг, Том Кортни, Джеральдин Джей...   \n4      Расчетливая чаровница из советского кинохита «...   \n15958  Во время погони за браконьерами по лесу, сотру...   \n15959  Оригинальный киносериал от создателей «Бывших»...   \n15960  Криминальная драма по мотивам романов о шведск...   \n15961  Семнадцатилетний Дэмиен мечтает вырваться за п...   \n15962  Добродушный Гоша не может выйти из дома, чтобы...   \n\n                                                keywords  \n0      Поговори, ней, 2002, Испания, друзья, любовь, ...  \n1      Голые, перцы, 2014, США, друзья, свадьбы, прео...  \n2      Тактическая, сила, 2011, Канада, бандиты, ганг...  \n3      45, лет, 2015, Великобритания, брак, жизнь, лю...  \n4      Все, решает, мгновение, 1978, СССР, сильные, ж...  \n15958  убийство, вирус, расследование преступления, н...  \n15959                              Надежда, 2020, Россия  \n15960                               Сговор, 2017, Россия  \n15961                        Среди, камней, 2019, Россия  \n15962                                 Гоша, 2019, Россия  ",
      "text/html": "<div>\n<style scoped>\n    .dataframe tbody tr th:only-of-type {\n        vertical-align: middle;\n    }\n\n    .dataframe tbody tr th {\n        vertical-align: top;\n    }\n\n    .dataframe thead th {\n        text-align: right;\n    }\n</style>\n<table border=\"1\" class=\"dataframe\">\n  <thead>\n    <tr style=\"text-align: right;\">\n      <th></th>\n      <th>item_id</th>\n      <th>content_type</th>\n      <th>title</th>\n      <th>title_orig</th>\n      <th>release_year</th>\n      <th>genres</th>\n      <th>countries</th>\n      <th>for_kids</th>\n      <th>age_rating</th>\n      <th>studios</th>\n      <th>directors</th>\n      <th>actors</th>\n      <th>description</th>\n      <th>keywords</th>\n    </tr>\n  </thead>\n  <tbody>\n    <tr>\n      <th>0</th>\n      <td>10711</td>\n      <td>film</td>\n      <td>Поговори с ней</td>\n      <td>Hable con ella</td>\n      <td>2002.0</td>\n      <td>драмы, зарубежные, детективы, мелодрамы</td>\n      <td>Испания</td>\n      <td>NaN</td>\n      <td>16.0</td>\n      <td>NaN</td>\n      <td>Педро Альмодовар</td>\n      <td>Адольфо Фернандес, Ана Фернандес, Дарио Гранди...</td>\n      <td>Мелодрама легендарного Педро Альмодовара «Пого...</td>\n      <td>Поговори, ней, 2002, Испания, друзья, любовь, ...</td>\n    </tr>\n    <tr>\n      <th>1</th>\n      <td>2508</td>\n      <td>film</td>\n      <td>Голые перцы</td>\n      <td>Search Party</td>\n      <td>2014.0</td>\n      <td>зарубежные, приключения, комедии</td>\n      <td>США</td>\n      <td>NaN</td>\n      <td>16.0</td>\n      <td>NaN</td>\n      <td>Скот Армстронг</td>\n      <td>Адам Палли, Брайан Хаски, Дж.Б. Смув, Джейсон ...</td>\n      <td>Уморительная современная комедия на популярную...</td>\n      <td>Голые, перцы, 2014, США, друзья, свадьбы, прео...</td>\n    </tr>\n    <tr>\n      <th>2</th>\n      <td>10716</td>\n      <td>film</td>\n      <td>Тактическая сила</td>\n      <td>Tactical Force</td>\n      <td>2011.0</td>\n      <td>криминал, зарубежные, триллеры, боевики, комедии</td>\n      <td>Канада</td>\n      <td>NaN</td>\n      <td>16.0</td>\n      <td>NaN</td>\n      <td>Адам П. Калтраро</td>\n      <td>Адриан Холмс, Даррен Шалави, Джерри Вассерман,...</td>\n      <td>Профессиональный рестлер Стив Остин («Все или ...</td>\n      <td>Тактическая, сила, 2011, Канада, бандиты, ганг...</td>\n    </tr>\n    <tr>\n      <th>3</th>\n      <td>7868</td>\n      <td>film</td>\n      <td>45 лет</td>\n      <td>45 Years</td>\n      <td>2015.0</td>\n      <td>драмы, зарубежные, мелодрамы</td>\n      <td>Великобритания</td>\n      <td>NaN</td>\n      <td>16.0</td>\n      <td>NaN</td>\n      <td>Эндрю Хэй</td>\n      <td>Александра Риддлстон-Барретт, Джеральдин Джейм...</td>\n      <td>Шарлотта Рэмплинг, Том Кортни, Джеральдин Джей...</td>\n      <td>45, лет, 2015, Великобритания, брак, жизнь, лю...</td>\n    </tr>\n    <tr>\n      <th>4</th>\n      <td>16268</td>\n      <td>film</td>\n      <td>Все решает мгновение</td>\n      <td>NaN</td>\n      <td>1978.0</td>\n      <td>драмы, спорт, советские, мелодрамы</td>\n      <td>СССР</td>\n      <td>NaN</td>\n      <td>12.0</td>\n      <td>Ленфильм</td>\n      <td>Виктор Садовский</td>\n      <td>Александр Абдулов, Александр Демьяненко, Алекс...</td>\n      <td>Расчетливая чаровница из советского кинохита «...</td>\n      <td>Все, решает, мгновение, 1978, СССР, сильные, ж...</td>\n    </tr>\n    <tr>\n      <th>15958</th>\n      <td>6443</td>\n      <td>series</td>\n      <td>Полярный круг</td>\n      <td>Arctic Circle</td>\n      <td>2018.0</td>\n      <td>драмы, триллеры, криминал</td>\n      <td>Финляндия, Германия</td>\n      <td>NaN</td>\n      <td>16.0</td>\n      <td>NaN</td>\n      <td>Ханну Салонен</td>\n      <td>Иина Куустонен, Максимилиан Брюкнер, Пихла Вии...</td>\n      <td>Во время погони за браконьерами по лесу, сотру...</td>\n      <td>убийство, вирус, расследование преступления, н...</td>\n    </tr>\n    <tr>\n      <th>15959</th>\n      <td>2367</td>\n      <td>series</td>\n      <td>Надежда</td>\n      <td>NaN</td>\n      <td>2020.0</td>\n      <td>драмы, боевики</td>\n      <td>Россия</td>\n      <td>0.0</td>\n      <td>18.0</td>\n      <td>NaN</td>\n      <td>Елена Хазанова</td>\n      <td>Виктория Исакова, Александр Кузьмин, Алексей М...</td>\n      <td>Оригинальный киносериал от создателей «Бывших»...</td>\n      <td>Надежда, 2020, Россия</td>\n    </tr>\n    <tr>\n      <th>15960</th>\n      <td>10632</td>\n      <td>series</td>\n      <td>Сговор</td>\n      <td>Hassel</td>\n      <td>2017.0</td>\n      <td>драмы, триллеры, криминал</td>\n      <td>Россия</td>\n      <td>0.0</td>\n      <td>18.0</td>\n      <td>NaN</td>\n      <td>Эшреф Рейбрук, Амир Камдин, Эрик Эгер</td>\n      <td>Ола Рапас, Алиетт Офейм, Уильма Лиден, Шанти Р...</td>\n      <td>Криминальная драма по мотивам романов о шведск...</td>\n      <td>Сговор, 2017, Россия</td>\n    </tr>\n    <tr>\n      <th>15961</th>\n      <td>4538</td>\n      <td>series</td>\n      <td>Среди камней</td>\n      <td>Darklands</td>\n      <td>2019.0</td>\n      <td>драмы, спорт, криминал</td>\n      <td>Россия</td>\n      <td>0.0</td>\n      <td>18.0</td>\n      <td>NaN</td>\n      <td>Марк О’Коннор, Конор МакМахон</td>\n      <td>Дэйн Уайт О’Хара, Томас Кэйн-Бирн, Джудит Родд...</td>\n      <td>Семнадцатилетний Дэмиен мечтает вырваться за п...</td>\n      <td>Среди, камней, 2019, Россия</td>\n    </tr>\n    <tr>\n      <th>15962</th>\n      <td>3206</td>\n      <td>series</td>\n      <td>Гоша</td>\n      <td>NaN</td>\n      <td>2019.0</td>\n      <td>комедии</td>\n      <td>Россия</td>\n      <td>0.0</td>\n      <td>16.0</td>\n      <td>NaN</td>\n      <td>Михаил Миронов</td>\n      <td>Мкртыч Арзуманян, Виктория Рунцова</td>\n      <td>Добродушный Гоша не может выйти из дома, чтобы...</td>\n      <td>Гоша, 2019, Россия</td>\n    </tr>\n  </tbody>\n</table>\n</div>"
     },
     "execution_count": 10,
     "metadata": {},
     "output_type": "execute_result"
    }
   ],
   "source": [
    "pd.concat([items.head(), items.tail()])\n"
   ],
   "metadata": {
    "collapsed": false
   }
  },
  {
   "cell_type": "code",
   "execution_count": 11,
   "outputs": [
    {
     "name": "stdout",
     "output_type": "stream",
     "text": [
      "<class 'pandas.core.frame.DataFrame'>\n",
      "RangeIndex: 15963 entries, 0 to 15962\n",
      "Data columns (total 14 columns):\n",
      " #   Column        Non-Null Count  Dtype  \n",
      "---  ------        --------------  -----  \n",
      " 0   item_id       15963 non-null  int64  \n",
      " 1   content_type  15963 non-null  object \n",
      " 2   title         15963 non-null  object \n",
      " 3   title_orig    11218 non-null  object \n",
      " 4   release_year  15865 non-null  float64\n",
      " 5   genres        15963 non-null  object \n",
      " 6   countries     15926 non-null  object \n",
      " 7   for_kids      566 non-null    float64\n",
      " 8   age_rating    15961 non-null  float64\n",
      " 9   studios       1065 non-null   object \n",
      " 10  directors     14454 non-null  object \n",
      " 11  actors        13344 non-null  object \n",
      " 12  description   15961 non-null  object \n",
      " 13  keywords      15540 non-null  object \n",
      "dtypes: float64(3), int64(1), object(10)\n",
      "memory usage: 1.7+ MB\n"
     ]
    }
   ],
   "source": [
    "items.info()"
   ],
   "metadata": {
    "collapsed": false
   }
  },
  {
   "cell_type": "markdown",
   "source": [
    "---\n",
    "### users"
   ],
   "metadata": {
    "collapsed": false
   }
  },
  {
   "cell_type": "code",
   "execution_count": 12,
   "outputs": [
    {
     "data": {
      "text/plain": "        user_id         age        income  sex  kids_flg\n0        973171   age_25_34  income_60_90    М         1\n1        962099   age_18_24  income_20_40    М         0\n2       1047345   age_45_54  income_40_60    Ж         0\n3        721985   age_45_54  income_20_40    Ж         0\n4        704055   age_35_44  income_60_90    Ж         0\n840192   339025  age_65_inf   income_0_20    Ж         0\n840193   983617   age_18_24  income_20_40    Ж         1\n840194   251008         NaN           NaN  NaN         0\n840195   590706         NaN           NaN    Ж         0\n840196   166555  age_65_inf  income_20_40    Ж         0",
      "text/html": "<div>\n<style scoped>\n    .dataframe tbody tr th:only-of-type {\n        vertical-align: middle;\n    }\n\n    .dataframe tbody tr th {\n        vertical-align: top;\n    }\n\n    .dataframe thead th {\n        text-align: right;\n    }\n</style>\n<table border=\"1\" class=\"dataframe\">\n  <thead>\n    <tr style=\"text-align: right;\">\n      <th></th>\n      <th>user_id</th>\n      <th>age</th>\n      <th>income</th>\n      <th>sex</th>\n      <th>kids_flg</th>\n    </tr>\n  </thead>\n  <tbody>\n    <tr>\n      <th>0</th>\n      <td>973171</td>\n      <td>age_25_34</td>\n      <td>income_60_90</td>\n      <td>М</td>\n      <td>1</td>\n    </tr>\n    <tr>\n      <th>1</th>\n      <td>962099</td>\n      <td>age_18_24</td>\n      <td>income_20_40</td>\n      <td>М</td>\n      <td>0</td>\n    </tr>\n    <tr>\n      <th>2</th>\n      <td>1047345</td>\n      <td>age_45_54</td>\n      <td>income_40_60</td>\n      <td>Ж</td>\n      <td>0</td>\n    </tr>\n    <tr>\n      <th>3</th>\n      <td>721985</td>\n      <td>age_45_54</td>\n      <td>income_20_40</td>\n      <td>Ж</td>\n      <td>0</td>\n    </tr>\n    <tr>\n      <th>4</th>\n      <td>704055</td>\n      <td>age_35_44</td>\n      <td>income_60_90</td>\n      <td>Ж</td>\n      <td>0</td>\n    </tr>\n    <tr>\n      <th>840192</th>\n      <td>339025</td>\n      <td>age_65_inf</td>\n      <td>income_0_20</td>\n      <td>Ж</td>\n      <td>0</td>\n    </tr>\n    <tr>\n      <th>840193</th>\n      <td>983617</td>\n      <td>age_18_24</td>\n      <td>income_20_40</td>\n      <td>Ж</td>\n      <td>1</td>\n    </tr>\n    <tr>\n      <th>840194</th>\n      <td>251008</td>\n      <td>NaN</td>\n      <td>NaN</td>\n      <td>NaN</td>\n      <td>0</td>\n    </tr>\n    <tr>\n      <th>840195</th>\n      <td>590706</td>\n      <td>NaN</td>\n      <td>NaN</td>\n      <td>Ж</td>\n      <td>0</td>\n    </tr>\n    <tr>\n      <th>840196</th>\n      <td>166555</td>\n      <td>age_65_inf</td>\n      <td>income_20_40</td>\n      <td>Ж</td>\n      <td>0</td>\n    </tr>\n  </tbody>\n</table>\n</div>"
     },
     "execution_count": 12,
     "metadata": {},
     "output_type": "execute_result"
    }
   ],
   "source": [
    "pd.concat([users.head(), users.tail()])\n"
   ],
   "metadata": {
    "collapsed": false
   }
  },
  {
   "cell_type": "code",
   "execution_count": 13,
   "outputs": [
    {
     "name": "stdout",
     "output_type": "stream",
     "text": [
      "<class 'pandas.core.frame.DataFrame'>\n",
      "RangeIndex: 840197 entries, 0 to 840196\n",
      "Data columns (total 5 columns):\n",
      " #   Column    Non-Null Count   Dtype \n",
      "---  ------    --------------   ----- \n",
      " 0   user_id   840197 non-null  int64 \n",
      " 1   age       826102 non-null  object\n",
      " 2   income    825421 non-null  object\n",
      " 3   sex       826366 non-null  object\n",
      " 4   kids_flg  840197 non-null  int64 \n",
      "dtypes: int64(2), object(3)\n",
      "memory usage: 32.1+ MB\n"
     ]
    }
   ],
   "source": [
    "users.info()\n"
   ],
   "metadata": {
    "collapsed": false
   }
  },
  {
   "cell_type": "markdown",
   "source": [
    "# Fake users"
   ],
   "metadata": {
    "collapsed": false
   }
  },
  {
   "cell_type": "code",
   "execution_count": 14,
   "outputs": [
    {
     "name": "stdout",
     "output_type": "stream",
     "text": [
      "1097558\n"
     ]
    }
   ],
   "source": [
    "max_id = users[\"user_id\"].max()\n",
    "print(max_id)"
   ],
   "metadata": {
    "collapsed": false
   }
  },
  {
   "cell_type": "code",
   "execution_count": 15,
   "outputs": [],
   "source": [
    "fake_user_ids = []"
   ],
   "metadata": {
    "collapsed": false
   }
  },
  {
   "cell_type": "markdown",
   "source": [
    "###  Любитель триллеров\n",
    "Так как одна из фич для айтемов - это жанр, проставим пользователю фильмы с жанром `триллер`"
   ],
   "metadata": {
    "collapsed": false
   }
  },
  {
   "cell_type": "code",
   "execution_count": 16,
   "outputs": [],
   "source": [
    "new_user_id = max_id + 1\n",
    "fake_user_ids.append(new_user_id)\n",
    "max_id += 1"
   ],
   "metadata": {
    "collapsed": false
   }
  },
  {
   "cell_type": "code",
   "execution_count": 17,
   "outputs": [
    {
     "data": {
      "text/plain": "2        10716\n8         9853\n17        6881\n21        3445\n38        1622\n         ...  \n15923    10288\n15939    15699\n15945    12880\n15958     6443\n15960    10632\nName: item_id, Length: 2418, dtype: int64"
     },
     "execution_count": 17,
     "metadata": {},
     "output_type": "execute_result"
    }
   ],
   "source": [
    "\n",
    "thriller_ids = items[(items[\"genres\"]).str.contains(\"триллер\")][\"item_id\"]\n",
    "thriller_ids"
   ],
   "metadata": {
    "collapsed": false
   }
  },
  {
   "cell_type": "code",
   "execution_count": 18,
   "outputs": [],
   "source": [
    "thriller_ids_sample = thriller_ids.sample(n=20)"
   ],
   "metadata": {
    "collapsed": false
   }
  },
  {
   "cell_type": "code",
   "execution_count": 19,
   "outputs": [
    {
     "data": {
      "text/plain": "    user_id  item_id last_watch_dt  total_dur  watched_pct\n0   1097559     6529    2021-04-13       7678           39\n1   1097559     8986    2021-04-13       6806           27\n2   1097559    13789    2021-04-13       2082           56\n3   1097559     9362    2021-04-13       1289           55\n4   1097559    11612    2021-04-13       1260           25\n5   1097559    10959    2021-04-13       9756           73\n6   1097559     3949    2021-04-13       4882           77\n7   1097559     7970    2021-04-13       4722           57\n8   1097559     8892    2021-04-13       9904           16\n9   1097559     7595    2021-04-13       7562            8\n10  1097559     5004    2021-04-13       7601           53\n11  1097559     3075    2021-04-13       6433           46\n12  1097559    14017    2021-04-13       5384           52\n13  1097559    13211    2021-04-13       9963           78\n14  1097559     8969    2021-04-13       2186           57\n15  1097559    10026    2021-04-13       2056            0\n16  1097559     5928    2021-04-13       6828           99\n17  1097559     8460    2021-04-13        881            5\n18  1097559     8226    2021-04-13       1948           64\n19  1097559    13000    2021-08-22       1223           17",
      "text/html": "<div>\n<style scoped>\n    .dataframe tbody tr th:only-of-type {\n        vertical-align: middle;\n    }\n\n    .dataframe tbody tr th {\n        vertical-align: top;\n    }\n\n    .dataframe thead th {\n        text-align: right;\n    }\n</style>\n<table border=\"1\" class=\"dataframe\">\n  <thead>\n    <tr style=\"text-align: right;\">\n      <th></th>\n      <th>user_id</th>\n      <th>item_id</th>\n      <th>last_watch_dt</th>\n      <th>total_dur</th>\n      <th>watched_pct</th>\n    </tr>\n  </thead>\n  <tbody>\n    <tr>\n      <th>0</th>\n      <td>1097559</td>\n      <td>6529</td>\n      <td>2021-04-13</td>\n      <td>7678</td>\n      <td>39</td>\n    </tr>\n    <tr>\n      <th>1</th>\n      <td>1097559</td>\n      <td>8986</td>\n      <td>2021-04-13</td>\n      <td>6806</td>\n      <td>27</td>\n    </tr>\n    <tr>\n      <th>2</th>\n      <td>1097559</td>\n      <td>13789</td>\n      <td>2021-04-13</td>\n      <td>2082</td>\n      <td>56</td>\n    </tr>\n    <tr>\n      <th>3</th>\n      <td>1097559</td>\n      <td>9362</td>\n      <td>2021-04-13</td>\n      <td>1289</td>\n      <td>55</td>\n    </tr>\n    <tr>\n      <th>4</th>\n      <td>1097559</td>\n      <td>11612</td>\n      <td>2021-04-13</td>\n      <td>1260</td>\n      <td>25</td>\n    </tr>\n    <tr>\n      <th>5</th>\n      <td>1097559</td>\n      <td>10959</td>\n      <td>2021-04-13</td>\n      <td>9756</td>\n      <td>73</td>\n    </tr>\n    <tr>\n      <th>6</th>\n      <td>1097559</td>\n      <td>3949</td>\n      <td>2021-04-13</td>\n      <td>4882</td>\n      <td>77</td>\n    </tr>\n    <tr>\n      <th>7</th>\n      <td>1097559</td>\n      <td>7970</td>\n      <td>2021-04-13</td>\n      <td>4722</td>\n      <td>57</td>\n    </tr>\n    <tr>\n      <th>8</th>\n      <td>1097559</td>\n      <td>8892</td>\n      <td>2021-04-13</td>\n      <td>9904</td>\n      <td>16</td>\n    </tr>\n    <tr>\n      <th>9</th>\n      <td>1097559</td>\n      <td>7595</td>\n      <td>2021-04-13</td>\n      <td>7562</td>\n      <td>8</td>\n    </tr>\n    <tr>\n      <th>10</th>\n      <td>1097559</td>\n      <td>5004</td>\n      <td>2021-04-13</td>\n      <td>7601</td>\n      <td>53</td>\n    </tr>\n    <tr>\n      <th>11</th>\n      <td>1097559</td>\n      <td>3075</td>\n      <td>2021-04-13</td>\n      <td>6433</td>\n      <td>46</td>\n    </tr>\n    <tr>\n      <th>12</th>\n      <td>1097559</td>\n      <td>14017</td>\n      <td>2021-04-13</td>\n      <td>5384</td>\n      <td>52</td>\n    </tr>\n    <tr>\n      <th>13</th>\n      <td>1097559</td>\n      <td>13211</td>\n      <td>2021-04-13</td>\n      <td>9963</td>\n      <td>78</td>\n    </tr>\n    <tr>\n      <th>14</th>\n      <td>1097559</td>\n      <td>8969</td>\n      <td>2021-04-13</td>\n      <td>2186</td>\n      <td>57</td>\n    </tr>\n    <tr>\n      <th>15</th>\n      <td>1097559</td>\n      <td>10026</td>\n      <td>2021-04-13</td>\n      <td>2056</td>\n      <td>0</td>\n    </tr>\n    <tr>\n      <th>16</th>\n      <td>1097559</td>\n      <td>5928</td>\n      <td>2021-04-13</td>\n      <td>6828</td>\n      <td>99</td>\n    </tr>\n    <tr>\n      <th>17</th>\n      <td>1097559</td>\n      <td>8460</td>\n      <td>2021-04-13</td>\n      <td>881</td>\n      <td>5</td>\n    </tr>\n    <tr>\n      <th>18</th>\n      <td>1097559</td>\n      <td>8226</td>\n      <td>2021-04-13</td>\n      <td>1948</td>\n      <td>64</td>\n    </tr>\n    <tr>\n      <th>19</th>\n      <td>1097559</td>\n      <td>13000</td>\n      <td>2021-08-22</td>\n      <td>1223</td>\n      <td>17</td>\n    </tr>\n  </tbody>\n</table>\n</div>"
     },
     "execution_count": 19,
     "metadata": {},
     "output_type": "execute_result"
    }
   ],
   "source": [
    "last_watch_dt = [\"2021-04-13\"] * 19\n",
    "last_watch_dt.append(\"2021-08-22\")\n",
    "total_dur = np.round(np.random.rand(20) * 10000 + 100).astype(dtype=np.int)\n",
    "watched_pct = np.round(np.random.rand(20) * 100).astype(dtype=np.int)\n",
    "data = {\n",
    "    \"user_id\": [new_user_id] * 20,\n",
    "    \"item_id\": list(thriller_ids_sample),\n",
    "    \"last_watch_dt\": last_watch_dt,\n",
    "    \"total_dur\": list(total_dur),\n",
    "    \"watched_pct\": list(watched_pct)\n",
    "}\n",
    "new_interactions = pd.DataFrame(data)\n",
    "interactions = interactions.append(new_interactions)\n",
    "new_interactions"
   ],
   "metadata": {
    "collapsed": false
   }
  },
  {
   "cell_type": "code",
   "execution_count": 20,
   "outputs": [
    {
     "data": {
      "text/plain": "    user_id  item_id last_watch_dt  total_dur  watched_pct\n0    176549     9506    2021-05-11       4250         72.0\n1    699317     1659    2021-05-29       8317        100.0\n2    656683     7107    2021-05-09         10          0.0\n3    864613     7638    2021-07-05      14483        100.0\n4    964868     9506    2021-04-30       6725        100.0\n15  1097559    10026    2021-04-13       2056          0.0\n16  1097559     5928    2021-04-13       6828         99.0\n17  1097559     8460    2021-04-13        881          5.0\n18  1097559     8226    2021-04-13       1948         64.0\n19  1097559    13000    2021-08-22       1223         17.0",
      "text/html": "<div>\n<style scoped>\n    .dataframe tbody tr th:only-of-type {\n        vertical-align: middle;\n    }\n\n    .dataframe tbody tr th {\n        vertical-align: top;\n    }\n\n    .dataframe thead th {\n        text-align: right;\n    }\n</style>\n<table border=\"1\" class=\"dataframe\">\n  <thead>\n    <tr style=\"text-align: right;\">\n      <th></th>\n      <th>user_id</th>\n      <th>item_id</th>\n      <th>last_watch_dt</th>\n      <th>total_dur</th>\n      <th>watched_pct</th>\n    </tr>\n  </thead>\n  <tbody>\n    <tr>\n      <th>0</th>\n      <td>176549</td>\n      <td>9506</td>\n      <td>2021-05-11</td>\n      <td>4250</td>\n      <td>72.0</td>\n    </tr>\n    <tr>\n      <th>1</th>\n      <td>699317</td>\n      <td>1659</td>\n      <td>2021-05-29</td>\n      <td>8317</td>\n      <td>100.0</td>\n    </tr>\n    <tr>\n      <th>2</th>\n      <td>656683</td>\n      <td>7107</td>\n      <td>2021-05-09</td>\n      <td>10</td>\n      <td>0.0</td>\n    </tr>\n    <tr>\n      <th>3</th>\n      <td>864613</td>\n      <td>7638</td>\n      <td>2021-07-05</td>\n      <td>14483</td>\n      <td>100.0</td>\n    </tr>\n    <tr>\n      <th>4</th>\n      <td>964868</td>\n      <td>9506</td>\n      <td>2021-04-30</td>\n      <td>6725</td>\n      <td>100.0</td>\n    </tr>\n    <tr>\n      <th>15</th>\n      <td>1097559</td>\n      <td>10026</td>\n      <td>2021-04-13</td>\n      <td>2056</td>\n      <td>0.0</td>\n    </tr>\n    <tr>\n      <th>16</th>\n      <td>1097559</td>\n      <td>5928</td>\n      <td>2021-04-13</td>\n      <td>6828</td>\n      <td>99.0</td>\n    </tr>\n    <tr>\n      <th>17</th>\n      <td>1097559</td>\n      <td>8460</td>\n      <td>2021-04-13</td>\n      <td>881</td>\n      <td>5.0</td>\n    </tr>\n    <tr>\n      <th>18</th>\n      <td>1097559</td>\n      <td>8226</td>\n      <td>2021-04-13</td>\n      <td>1948</td>\n      <td>64.0</td>\n    </tr>\n    <tr>\n      <th>19</th>\n      <td>1097559</td>\n      <td>13000</td>\n      <td>2021-08-22</td>\n      <td>1223</td>\n      <td>17.0</td>\n    </tr>\n  </tbody>\n</table>\n</div>"
     },
     "execution_count": 20,
     "metadata": {},
     "output_type": "execute_result"
    }
   ],
   "source": [
    "pd.concat([interactions.head(), interactions.tail()])\n"
   ],
   "metadata": {
    "collapsed": false
   }
  },
  {
   "cell_type": "code",
   "execution_count": 21,
   "outputs": [
    {
     "data": {
      "text/plain": "   user_id        age        income sex  kids_flg\n0  1097559  age_25_34  income_60_90   М         1",
      "text/html": "<div>\n<style scoped>\n    .dataframe tbody tr th:only-of-type {\n        vertical-align: middle;\n    }\n\n    .dataframe tbody tr th {\n        vertical-align: top;\n    }\n\n    .dataframe thead th {\n        text-align: right;\n    }\n</style>\n<table border=\"1\" class=\"dataframe\">\n  <thead>\n    <tr style=\"text-align: right;\">\n      <th></th>\n      <th>user_id</th>\n      <th>age</th>\n      <th>income</th>\n      <th>sex</th>\n      <th>kids_flg</th>\n    </tr>\n  </thead>\n  <tbody>\n    <tr>\n      <th>0</th>\n      <td>1097559</td>\n      <td>age_25_34</td>\n      <td>income_60_90</td>\n      <td>М</td>\n      <td>1</td>\n    </tr>\n  </tbody>\n</table>\n</div>"
     },
     "execution_count": 21,
     "metadata": {},
     "output_type": "execute_result"
    }
   ],
   "source": [
    "data = {\n",
    "    \"user_id\": [new_user_id],\n",
    "    \"age\": [\"age_25_34\"],\n",
    "    \"income\": [\"income_60_90\"],\n",
    "    \"sex\": \"М\",\n",
    "    \"kids_flg\": [1]\n",
    "}\n",
    "\n",
    "new_user = pd.DataFrame(data)\n",
    "users = users.append(new_user)\n",
    "new_user"
   ],
   "metadata": {
    "collapsed": false
   }
  },
  {
   "cell_type": "code",
   "execution_count": 22,
   "outputs": [
    {
     "data": {
      "text/plain": "   user_id        age        income sex  kids_flg\n0  1097559  age_25_34  income_60_90   М         1",
      "text/html": "<div>\n<style scoped>\n    .dataframe tbody tr th:only-of-type {\n        vertical-align: middle;\n    }\n\n    .dataframe tbody tr th {\n        vertical-align: top;\n    }\n\n    .dataframe thead th {\n        text-align: right;\n    }\n</style>\n<table border=\"1\" class=\"dataframe\">\n  <thead>\n    <tr style=\"text-align: right;\">\n      <th></th>\n      <th>user_id</th>\n      <th>age</th>\n      <th>income</th>\n      <th>sex</th>\n      <th>kids_flg</th>\n    </tr>\n  </thead>\n  <tbody>\n    <tr>\n      <th>0</th>\n      <td>1097559</td>\n      <td>age_25_34</td>\n      <td>income_60_90</td>\n      <td>М</td>\n      <td>1</td>\n    </tr>\n  </tbody>\n</table>\n</div>"
     },
     "execution_count": 22,
     "metadata": {},
     "output_type": "execute_result"
    }
   ],
   "source": [
    "users[users[\"user_id\"] == new_user_id]"
   ],
   "metadata": {
    "collapsed": false
   }
  },
  {
   "cell_type": "markdown",
   "source": [
    "###  Поклонник спорта\n",
    "По аналогии с предыдущим, найдем фильмы с жанром `спорт`"
   ],
   "metadata": {
    "collapsed": false
   }
  },
  {
   "cell_type": "code",
   "execution_count": 23,
   "outputs": [],
   "source": [
    "new_user_id = max_id + 1\n",
    "fake_user_ids.append(new_user_id)\n",
    "max_id += 1"
   ],
   "metadata": {
    "collapsed": false
   }
  },
  {
   "cell_type": "code",
   "execution_count": 24,
   "outputs": [
    {
     "data": {
      "text/plain": "4        16268\n35       15702\n221      15935\n272        849\n340       4639\n         ...  \n15856    14273\n15868     6467\n15920     9035\n15938     3134\n15961     4538\nName: item_id, Length: 308, dtype: int64"
     },
     "execution_count": 24,
     "metadata": {},
     "output_type": "execute_result"
    }
   ],
   "source": [
    "sport_ids = items[(items[\"genres\"]).str.contains(\"спорт\")][\"item_id\"]\n",
    "sport_ids"
   ],
   "metadata": {
    "collapsed": false
   }
  },
  {
   "cell_type": "code",
   "execution_count": 25,
   "outputs": [],
   "source": [
    "sport_ids_sample = sport_ids.sample(n=100)"
   ],
   "metadata": {
    "collapsed": false
   }
  },
  {
   "cell_type": "code",
   "execution_count": 26,
   "outputs": [
    {
     "data": {
      "text/plain": "    user_id  item_id last_watch_dt  total_dur  watched_pct\n0   1097560     5962    2021-04-13       9577           28\n1   1097560     7676    2021-04-13       5104           84\n2   1097560     4372    2021-04-13       2048           83\n3   1097560    14910    2021-04-13       7117            8\n4   1097560     1539    2021-04-13       6603           32\n..      ...      ...           ...        ...          ...\n95  1097560     8257    2021-04-13       5813           67\n96  1097560     9961    2021-04-13       2540           19\n97  1097560     1144    2021-04-13       9330           89\n98  1097560    10850    2021-04-13       7547           48\n99  1097560     9882    2021-08-22       2589           56\n\n[100 rows x 5 columns]",
      "text/html": "<div>\n<style scoped>\n    .dataframe tbody tr th:only-of-type {\n        vertical-align: middle;\n    }\n\n    .dataframe tbody tr th {\n        vertical-align: top;\n    }\n\n    .dataframe thead th {\n        text-align: right;\n    }\n</style>\n<table border=\"1\" class=\"dataframe\">\n  <thead>\n    <tr style=\"text-align: right;\">\n      <th></th>\n      <th>user_id</th>\n      <th>item_id</th>\n      <th>last_watch_dt</th>\n      <th>total_dur</th>\n      <th>watched_pct</th>\n    </tr>\n  </thead>\n  <tbody>\n    <tr>\n      <th>0</th>\n      <td>1097560</td>\n      <td>5962</td>\n      <td>2021-04-13</td>\n      <td>9577</td>\n      <td>28</td>\n    </tr>\n    <tr>\n      <th>1</th>\n      <td>1097560</td>\n      <td>7676</td>\n      <td>2021-04-13</td>\n      <td>5104</td>\n      <td>84</td>\n    </tr>\n    <tr>\n      <th>2</th>\n      <td>1097560</td>\n      <td>4372</td>\n      <td>2021-04-13</td>\n      <td>2048</td>\n      <td>83</td>\n    </tr>\n    <tr>\n      <th>3</th>\n      <td>1097560</td>\n      <td>14910</td>\n      <td>2021-04-13</td>\n      <td>7117</td>\n      <td>8</td>\n    </tr>\n    <tr>\n      <th>4</th>\n      <td>1097560</td>\n      <td>1539</td>\n      <td>2021-04-13</td>\n      <td>6603</td>\n      <td>32</td>\n    </tr>\n    <tr>\n      <th>...</th>\n      <td>...</td>\n      <td>...</td>\n      <td>...</td>\n      <td>...</td>\n      <td>...</td>\n    </tr>\n    <tr>\n      <th>95</th>\n      <td>1097560</td>\n      <td>8257</td>\n      <td>2021-04-13</td>\n      <td>5813</td>\n      <td>67</td>\n    </tr>\n    <tr>\n      <th>96</th>\n      <td>1097560</td>\n      <td>9961</td>\n      <td>2021-04-13</td>\n      <td>2540</td>\n      <td>19</td>\n    </tr>\n    <tr>\n      <th>97</th>\n      <td>1097560</td>\n      <td>1144</td>\n      <td>2021-04-13</td>\n      <td>9330</td>\n      <td>89</td>\n    </tr>\n    <tr>\n      <th>98</th>\n      <td>1097560</td>\n      <td>10850</td>\n      <td>2021-04-13</td>\n      <td>7547</td>\n      <td>48</td>\n    </tr>\n    <tr>\n      <th>99</th>\n      <td>1097560</td>\n      <td>9882</td>\n      <td>2021-08-22</td>\n      <td>2589</td>\n      <td>56</td>\n    </tr>\n  </tbody>\n</table>\n<p>100 rows × 5 columns</p>\n</div>"
     },
     "execution_count": 26,
     "metadata": {},
     "output_type": "execute_result"
    }
   ],
   "source": [
    "last_watch_dt = [\"2021-04-13\"] * 99\n",
    "last_watch_dt.append(\"2021-08-22\")\n",
    "total_dur = np.round(np.random.rand(100) * 10000 + 100).astype(dtype=np.int)\n",
    "watched_pct = np.round(np.random.rand(100) * 100).astype(dtype=np.int)\n",
    "data = {\n",
    "    \"user_id\": [new_user_id] * 100,\n",
    "    \"item_id\": list(sport_ids_sample),\n",
    "    \"last_watch_dt\": last_watch_dt,\n",
    "    \"total_dur\": list(total_dur),\n",
    "    \"watched_pct\": list(watched_pct)\n",
    "}\n",
    "\n",
    "new_interactions = pd.DataFrame(data)\n",
    "interactions = interactions.append(new_interactions)\n",
    "new_interactions"
   ],
   "metadata": {
    "collapsed": false
   }
  },
  {
   "cell_type": "code",
   "execution_count": 27,
   "outputs": [
    {
     "data": {
      "text/plain": "   user_id        age        income sex  kids_flg\n0  1097560  age_18_24  income_20_40   М         0",
      "text/html": "<div>\n<style scoped>\n    .dataframe tbody tr th:only-of-type {\n        vertical-align: middle;\n    }\n\n    .dataframe tbody tr th {\n        vertical-align: top;\n    }\n\n    .dataframe thead th {\n        text-align: right;\n    }\n</style>\n<table border=\"1\" class=\"dataframe\">\n  <thead>\n    <tr style=\"text-align: right;\">\n      <th></th>\n      <th>user_id</th>\n      <th>age</th>\n      <th>income</th>\n      <th>sex</th>\n      <th>kids_flg</th>\n    </tr>\n  </thead>\n  <tbody>\n    <tr>\n      <th>0</th>\n      <td>1097560</td>\n      <td>age_18_24</td>\n      <td>income_20_40</td>\n      <td>М</td>\n      <td>0</td>\n    </tr>\n  </tbody>\n</table>\n</div>"
     },
     "execution_count": 27,
     "metadata": {},
     "output_type": "execute_result"
    }
   ],
   "source": [
    "data = {\n",
    "    \"user_id\": [new_user_id],\n",
    "    \"age\": [\"age_18_24\"],\n",
    "    \"income\": [\"income_20_40\"],\n",
    "    \"sex\": [\"М\"],\n",
    "    \"kids_flg\": [0]\n",
    "}\n",
    "\n",
    "new_user = pd.DataFrame(data)\n",
    "users = users.append(new_user)\n",
    "new_user"
   ],
   "metadata": {
    "collapsed": false
   }
  },
  {
   "cell_type": "code",
   "execution_count": 28,
   "outputs": [
    {
     "data": {
      "text/plain": "   user_id        age        income sex  kids_flg\n0  1097560  age_18_24  income_20_40   М         0",
      "text/html": "<div>\n<style scoped>\n    .dataframe tbody tr th:only-of-type {\n        vertical-align: middle;\n    }\n\n    .dataframe tbody tr th {\n        vertical-align: top;\n    }\n\n    .dataframe thead th {\n        text-align: right;\n    }\n</style>\n<table border=\"1\" class=\"dataframe\">\n  <thead>\n    <tr style=\"text-align: right;\">\n      <th></th>\n      <th>user_id</th>\n      <th>age</th>\n      <th>income</th>\n      <th>sex</th>\n      <th>kids_flg</th>\n    </tr>\n  </thead>\n  <tbody>\n    <tr>\n      <th>0</th>\n      <td>1097560</td>\n      <td>age_18_24</td>\n      <td>income_20_40</td>\n      <td>М</td>\n      <td>0</td>\n    </tr>\n  </tbody>\n</table>\n</div>"
     },
     "execution_count": 28,
     "metadata": {},
     "output_type": "execute_result"
    }
   ],
   "source": [
    "users[users[\"user_id\"] == new_user_id]"
   ],
   "metadata": {
    "collapsed": false
   }
  },
  {
   "cell_type": "markdown",
   "source": [
    "###  Обожает сериалы\n",
    "Теперь абстрагируемся от жанра и укажим, что пользователь смотрит только сериалы"
   ],
   "metadata": {
    "collapsed": false
   }
  },
  {
   "cell_type": "code",
   "execution_count": 29,
   "outputs": [],
   "source": [
    "new_user_id = max_id + 1\n",
    "fake_user_ids.append(new_user_id)\n",
    "max_id += 1"
   ],
   "metadata": {
    "collapsed": false
   }
  },
  {
   "cell_type": "code",
   "execution_count": 30,
   "outputs": [
    {
     "data": {
      "text/plain": "76        3965\n77        4045\n78        2662\n79        5297\n80        4084\n         ...  \n15958     6443\n15959     2367\n15960    10632\n15961     4538\n15962     3206\nName: item_id, Length: 3961, dtype: int64"
     },
     "execution_count": 30,
     "metadata": {},
     "output_type": "execute_result"
    }
   ],
   "source": [
    "series_ids = items[(items[\"content_type\"]).str.contains(\"series\")][\"item_id\"]\n",
    "series_ids"
   ],
   "metadata": {
    "collapsed": false
   }
  },
  {
   "cell_type": "code",
   "execution_count": 31,
   "outputs": [],
   "source": [
    "series_ids_sample = series_ids.sample(n=100)"
   ],
   "metadata": {
    "collapsed": false
   }
  },
  {
   "cell_type": "code",
   "execution_count": 32,
   "outputs": [
    {
     "data": {
      "text/plain": "    user_id  item_id last_watch_dt  total_dur  watched_pct\n0   1097561    11111    2021-04-13       7188            1\n1   1097561     3065    2021-04-13        190           25\n2   1097561     6679    2021-04-13       2727           70\n3   1097561     1434    2021-04-13       3791           66\n4   1097561     5101    2021-04-13       8865           88\n..      ...      ...           ...        ...          ...\n95  1097561    15596    2021-04-13       9946           21\n96  1097561    14692    2021-04-13       4461           49\n97  1097561     1550    2021-04-13       6482           39\n98  1097561     3759    2021-04-13       3840           69\n99  1097561     5625    2021-08-22       6860           43\n\n[100 rows x 5 columns]",
      "text/html": "<div>\n<style scoped>\n    .dataframe tbody tr th:only-of-type {\n        vertical-align: middle;\n    }\n\n    .dataframe tbody tr th {\n        vertical-align: top;\n    }\n\n    .dataframe thead th {\n        text-align: right;\n    }\n</style>\n<table border=\"1\" class=\"dataframe\">\n  <thead>\n    <tr style=\"text-align: right;\">\n      <th></th>\n      <th>user_id</th>\n      <th>item_id</th>\n      <th>last_watch_dt</th>\n      <th>total_dur</th>\n      <th>watched_pct</th>\n    </tr>\n  </thead>\n  <tbody>\n    <tr>\n      <th>0</th>\n      <td>1097561</td>\n      <td>11111</td>\n      <td>2021-04-13</td>\n      <td>7188</td>\n      <td>1</td>\n    </tr>\n    <tr>\n      <th>1</th>\n      <td>1097561</td>\n      <td>3065</td>\n      <td>2021-04-13</td>\n      <td>190</td>\n      <td>25</td>\n    </tr>\n    <tr>\n      <th>2</th>\n      <td>1097561</td>\n      <td>6679</td>\n      <td>2021-04-13</td>\n      <td>2727</td>\n      <td>70</td>\n    </tr>\n    <tr>\n      <th>3</th>\n      <td>1097561</td>\n      <td>1434</td>\n      <td>2021-04-13</td>\n      <td>3791</td>\n      <td>66</td>\n    </tr>\n    <tr>\n      <th>4</th>\n      <td>1097561</td>\n      <td>5101</td>\n      <td>2021-04-13</td>\n      <td>8865</td>\n      <td>88</td>\n    </tr>\n    <tr>\n      <th>...</th>\n      <td>...</td>\n      <td>...</td>\n      <td>...</td>\n      <td>...</td>\n      <td>...</td>\n    </tr>\n    <tr>\n      <th>95</th>\n      <td>1097561</td>\n      <td>15596</td>\n      <td>2021-04-13</td>\n      <td>9946</td>\n      <td>21</td>\n    </tr>\n    <tr>\n      <th>96</th>\n      <td>1097561</td>\n      <td>14692</td>\n      <td>2021-04-13</td>\n      <td>4461</td>\n      <td>49</td>\n    </tr>\n    <tr>\n      <th>97</th>\n      <td>1097561</td>\n      <td>1550</td>\n      <td>2021-04-13</td>\n      <td>6482</td>\n      <td>39</td>\n    </tr>\n    <tr>\n      <th>98</th>\n      <td>1097561</td>\n      <td>3759</td>\n      <td>2021-04-13</td>\n      <td>3840</td>\n      <td>69</td>\n    </tr>\n    <tr>\n      <th>99</th>\n      <td>1097561</td>\n      <td>5625</td>\n      <td>2021-08-22</td>\n      <td>6860</td>\n      <td>43</td>\n    </tr>\n  </tbody>\n</table>\n<p>100 rows × 5 columns</p>\n</div>"
     },
     "execution_count": 32,
     "metadata": {},
     "output_type": "execute_result"
    }
   ],
   "source": [
    "last_watch_dt = [\"2021-04-13\"] * 99\n",
    "last_watch_dt.append(\"2021-08-22\")\n",
    "total_dur = np.round(np.random.rand(100) * 10000 + 100).astype(dtype=np.int)\n",
    "watched_pct = np.round(np.random.rand(100) * 100).astype(dtype=np.int)\n",
    "data = {\n",
    "    \"user_id\": [new_user_id] * 100,\n",
    "    \"item_id\": list(series_ids_sample),\n",
    "    \"last_watch_dt\": last_watch_dt,\n",
    "    \"total_dur\": list(total_dur),\n",
    "    \"watched_pct\": list(watched_pct)\n",
    "}\n",
    "\n",
    "new_interactions = pd.DataFrame(data)\n",
    "interactions = interactions.append(new_interactions)\n",
    "new_interactions"
   ],
   "metadata": {
    "collapsed": false
   }
  },
  {
   "cell_type": "code",
   "execution_count": 33,
   "outputs": [
    {
     "data": {
      "text/plain": "   user_id        age        income sex  kids_flg\n0  1097561  age_45_54  income_40_60   Ж         1",
      "text/html": "<div>\n<style scoped>\n    .dataframe tbody tr th:only-of-type {\n        vertical-align: middle;\n    }\n\n    .dataframe tbody tr th {\n        vertical-align: top;\n    }\n\n    .dataframe thead th {\n        text-align: right;\n    }\n</style>\n<table border=\"1\" class=\"dataframe\">\n  <thead>\n    <tr style=\"text-align: right;\">\n      <th></th>\n      <th>user_id</th>\n      <th>age</th>\n      <th>income</th>\n      <th>sex</th>\n      <th>kids_flg</th>\n    </tr>\n  </thead>\n  <tbody>\n    <tr>\n      <th>0</th>\n      <td>1097561</td>\n      <td>age_45_54</td>\n      <td>income_40_60</td>\n      <td>Ж</td>\n      <td>1</td>\n    </tr>\n  </tbody>\n</table>\n</div>"
     },
     "execution_count": 33,
     "metadata": {},
     "output_type": "execute_result"
    }
   ],
   "source": [
    "data = {\n",
    "    \"user_id\": [new_user_id],\n",
    "    \"age\": [\"age_45_54\"],\n",
    "    \"income\": [\"income_40_60\"],\n",
    "    \"sex\": [\"Ж\"],\n",
    "    \"kids_flg\": [1]\n",
    "}\n",
    "\n",
    "new_user = pd.DataFrame(data)\n",
    "users = users.append(new_user)\n",
    "new_user"
   ],
   "metadata": {
    "collapsed": false
   }
  },
  {
   "cell_type": "code",
   "execution_count": 34,
   "outputs": [
    {
     "data": {
      "text/plain": "   user_id        age        income sex  kids_flg\n0  1097561  age_45_54  income_40_60   Ж         1",
      "text/html": "<div>\n<style scoped>\n    .dataframe tbody tr th:only-of-type {\n        vertical-align: middle;\n    }\n\n    .dataframe tbody tr th {\n        vertical-align: top;\n    }\n\n    .dataframe thead th {\n        text-align: right;\n    }\n</style>\n<table border=\"1\" class=\"dataframe\">\n  <thead>\n    <tr style=\"text-align: right;\">\n      <th></th>\n      <th>user_id</th>\n      <th>age</th>\n      <th>income</th>\n      <th>sex</th>\n      <th>kids_flg</th>\n    </tr>\n  </thead>\n  <tbody>\n    <tr>\n      <th>0</th>\n      <td>1097561</td>\n      <td>age_45_54</td>\n      <td>income_40_60</td>\n      <td>Ж</td>\n      <td>1</td>\n    </tr>\n  </tbody>\n</table>\n</div>"
     },
     "execution_count": 34,
     "metadata": {},
     "output_type": "execute_result"
    }
   ],
   "source": [
    "users[users[\"user_id\"] == new_user_id]"
   ],
   "metadata": {
    "collapsed": false
   }
  },
  {
   "cell_type": "markdown",
   "source": [
    "# Small EDA"
   ],
   "metadata": {
    "collapsed": false
   }
  },
  {
   "cell_type": "markdown",
   "source": [
    "---\n",
    "### Users"
   ],
   "metadata": {
    "collapsed": false
   }
  },
  {
   "cell_type": "code",
   "execution_count": 35,
   "outputs": [
    {
     "name": "stdout",
     "output_type": "stream",
     "text": [
      "Всего уникальных пользователей: 840,200\n"
     ]
    }
   ],
   "source": [
    "print(f\"Всего уникальных пользователей: {users[Columns.User].nunique():,}\")"
   ],
   "metadata": {
    "collapsed": false
   }
  },
  {
   "cell_type": "code",
   "execution_count": 36,
   "outputs": [],
   "source": [
    "def plot_normalized_barh_chart(\n",
    "        dataframe: pd.DataFrame,\n",
    "        column_name: str,\n",
    "        title: str,\n",
    "        figsize: tp.Tuple[int, int] = (12, 7),\n",
    "        annotate_chart: bool = True,\n",
    "        xlabel: tp.Optional[str] = None,\n",
    "        ylabel: tp.Optional[str] = None,\n",
    ") -> plt.Axes.axes:\n",
    "    ax = (\n",
    "        dataframe[column_name]\n",
    "        .value_counts(dropna=False, normalize=True)\n",
    "        .sort_index()\n",
    "        .plot(\n",
    "            kind='barh',\n",
    "            grid=True,\n",
    "            title=title,\n",
    "            figsize=figsize,\n",
    "            xlabel=xlabel,\n",
    "            ylabel=ylabel,\n",
    "        )\n",
    "    )\n",
    "\n",
    "    if annotate_chart:\n",
    "        for bars in ax.containers:\n",
    "            ax.bar_label(bars, labels=[f'{x:.1%}' for x in bars.datavalues])"
   ],
   "metadata": {
    "collapsed": false
   }
  },
  {
   "cell_type": "code",
   "execution_count": 37,
   "outputs": [],
   "source": [
    "users['sex'] = users['sex'].map({'Ж': 1, 'М': 0})"
   ],
   "metadata": {
    "collapsed": false
   }
  },
  {
   "cell_type": "code",
   "execution_count": 38,
   "outputs": [
    {
     "data": {
      "text/plain": "<Figure size 1200x700 with 1 Axes>",
      "image/png": "[encoded data removed]"
     },
     "metadata": {},
     "output_type": "display_data"
    }
   ],
   "source": [
    "plot_normalized_barh_chart(users, 'sex', 'Расределение мужчин и женщин')"
   ],
   "metadata": {
    "collapsed": false
   }
  },
  {
   "cell_type": "code",
   "execution_count": 39,
   "outputs": [],
   "source": [
    "age_category = pd.CategoricalDtype(\n",
    "    categories=[\n",
    "        'age_18_24',\n",
    "        'age_25_34',\n",
    "        'age_35_44',\n",
    "        'age_45_54',\n",
    "        'age_55_64',\n",
    "        'age_65_inf',\n",
    "    ],\n",
    "    ordered=True,\n",
    ")"
   ],
   "metadata": {
    "collapsed": false
   }
  },
  {
   "cell_type": "code",
   "execution_count": 40,
   "outputs": [],
   "source": [
    "users['age'] = users['age'].astype(age_category)"
   ],
   "metadata": {
    "collapsed": false
   }
  },
  {
   "cell_type": "code",
   "execution_count": 41,
   "outputs": [
    {
     "data": {
      "text/plain": "<Figure size 1200x700 with 1 Axes>",
      "image/png": "[encoded data removed]"
     },
     "metadata": {},
     "output_type": "display_data"
    }
   ],
   "source": [
    "plot_normalized_barh_chart(users, 'age', 'Расределение возрастных групп')"
   ],
   "metadata": {
    "collapsed": false
   }
  },
  {
   "cell_type": "code",
   "execution_count": 42,
   "outputs": [],
   "source": [
    "income_category = pd.CategoricalDtype(\n",
    "    categories=[\n",
    "        'income_0_20',\n",
    "        'income_20_40',\n",
    "        'income_40_60',\n",
    "        'income_60_90',\n",
    "        'income_90_150',\n",
    "        'income_150_inf',\n",
    "    ],\n",
    "    ordered=True,\n",
    ")"
   ],
   "metadata": {
    "collapsed": false
   }
  },
  {
   "cell_type": "code",
   "execution_count": 43,
   "outputs": [],
   "source": [
    "users['income'] = users['income'].astype(income_category)"
   ],
   "metadata": {
    "collapsed": false
   }
  },
  {
   "cell_type": "code",
   "execution_count": 44,
   "outputs": [
    {
     "data": {
      "text/plain": "        user_id         age        income  sex  kids_flg\n0        973171   age_25_34  income_60_90  0.0         1\n1        962099   age_18_24  income_20_40  0.0         0\n2       1047345   age_45_54  income_40_60  1.0         0\n3        721985   age_45_54  income_20_40  1.0         0\n4        704055   age_35_44  income_60_90  1.0         0\n...         ...         ...           ...  ...       ...\n840195   590706         NaN           NaN  1.0         0\n840196   166555  age_65_inf  income_20_40  1.0         0\n0       1097559   age_25_34  income_60_90  0.0         1\n0       1097560   age_18_24  income_20_40  0.0         0\n0       1097561   age_45_54  income_40_60  1.0         1\n\n[840200 rows x 5 columns]",
      "text/html": "<div>\n<style scoped>\n    .dataframe tbody tr th:only-of-type {\n        vertical-align: middle;\n    }\n\n    .dataframe tbody tr th {\n        vertical-align: top;\n    }\n\n    .dataframe thead th {\n        text-align: right;\n    }\n</style>\n<table border=\"1\" class=\"dataframe\">\n  <thead>\n    <tr style=\"text-align: right;\">\n      <th></th>\n      <th>user_id</th>\n      <th>age</th>\n      <th>income</th>\n      <th>sex</th>\n      <th>kids_flg</th>\n    </tr>\n  </thead>\n  <tbody>\n    <tr>\n      <th>0</th>\n      <td>973171</td>\n      <td>age_25_34</td>\n      <td>income_60_90</td>\n      <td>0.0</td>\n      <td>1</td>\n    </tr>\n    <tr>\n      <th>1</th>\n      <td>962099</td>\n      <td>age_18_24</td>\n      <td>income_20_40</td>\n      <td>0.0</td>\n      <td>0</td>\n    </tr>\n    <tr>\n      <th>2</th>\n      <td>1047345</td>\n      <td>age_45_54</td>\n      <td>income_40_60</td>\n      <td>1.0</td>\n      <td>0</td>\n    </tr>\n    <tr>\n      <th>3</th>\n      <td>721985</td>\n      <td>age_45_54</td>\n      <td>income_20_40</td>\n      <td>1.0</td>\n      <td>0</td>\n    </tr>\n    <tr>\n      <th>4</th>\n      <td>704055</td>\n      <td>age_35_44</td>\n      <td>income_60_90</td>\n      <td>1.0</td>\n      <td>0</td>\n    </tr>\n    <tr>\n      <th>...</th>\n      <td>...</td>\n      <td>...</td>\n      <td>...</td>\n      <td>...</td>\n      <td>...</td>\n    </tr>\n    <tr>\n      <th>840195</th>\n      <td>590706</td>\n      <td>NaN</td>\n      <td>NaN</td>\n      <td>1.0</td>\n      <td>0</td>\n    </tr>\n    <tr>\n      <th>840196</th>\n      <td>166555</td>\n      <td>age_65_inf</td>\n      <td>income_20_40</td>\n      <td>1.0</td>\n      <td>0</td>\n    </tr>\n    <tr>\n      <th>0</th>\n      <td>1097559</td>\n      <td>age_25_34</td>\n      <td>income_60_90</td>\n      <td>0.0</td>\n      <td>1</td>\n    </tr>\n    <tr>\n      <th>0</th>\n      <td>1097560</td>\n      <td>age_18_24</td>\n      <td>income_20_40</td>\n      <td>0.0</td>\n      <td>0</td>\n    </tr>\n    <tr>\n      <th>0</th>\n      <td>1097561</td>\n      <td>age_45_54</td>\n      <td>income_40_60</td>\n      <td>1.0</td>\n      <td>1</td>\n    </tr>\n  </tbody>\n</table>\n<p>840200 rows × 5 columns</p>\n</div>"
     },
     "execution_count": 44,
     "metadata": {},
     "output_type": "execute_result"
    }
   ],
   "source": [
    "users"
   ],
   "metadata": {
    "collapsed": false
   }
  },
  {
   "cell_type": "code",
   "execution_count": 45,
   "outputs": [
    {
     "data": {
      "text/plain": "<Figure size 1200x700 with 1 Axes>",
      "image/png": "[encoded data removed]"
     },
     "metadata": {},
     "output_type": "display_data"
    }
   ],
   "source": [
    "plot_normalized_barh_chart(users, 'income', 'Распределение доходов')"
   ],
   "metadata": {
    "collapsed": false
   }
  },
  {
   "cell_type": "markdown",
   "source": [
    "### Items"
   ],
   "metadata": {
    "collapsed": false
   }
  },
  {
   "cell_type": "code",
   "execution_count": 46,
   "outputs": [
    {
     "name": "stdout",
     "output_type": "stream",
     "text": [
      "Всего уникальных айтемов: 15,963\n"
     ]
    }
   ],
   "source": [
    "print(f\"Всего уникальных айтемов: {items[Columns.Item].nunique():,}\")"
   ],
   "metadata": {
    "collapsed": false
   }
  },
  {
   "cell_type": "code",
   "execution_count": 47,
   "outputs": [
    {
     "data": {
      "text/plain": "   item_id content_type                 title      title_orig  release_year  \\\n0    10711         film        Поговори с ней  Hable con ella        2002.0   \n1     2508         film           Голые перцы    Search Party        2014.0   \n2    10716         film      Тактическая сила  Tactical Force        2011.0   \n3     7868         film                45 лет        45 Years        2015.0   \n4    16268         film  Все решает мгновение             NaN        1978.0   \n\n                                             genres       countries  for_kids  \\\n0           драмы, зарубежные, детективы, мелодрамы         Испания       NaN   \n1                  зарубежные, приключения, комедии             США       NaN   \n2  криминал, зарубежные, триллеры, боевики, комедии          Канада       NaN   \n3                      драмы, зарубежные, мелодрамы  Великобритания       NaN   \n4                драмы, спорт, советские, мелодрамы            СССР       NaN   \n\n   age_rating   studios         directors  \\\n0        16.0       NaN  Педро Альмодовар   \n1        16.0       NaN    Скот Армстронг   \n2        16.0       NaN  Адам П. Калтраро   \n3        16.0       NaN         Эндрю Хэй   \n4        12.0  Ленфильм  Виктор Садовский   \n\n                                              actors  \\\n0  Адольфо Фернандес, Ана Фернандес, Дарио Гранди...   \n1  Адам Палли, Брайан Хаски, Дж.Б. Смув, Джейсон ...   \n2  Адриан Холмс, Даррен Шалави, Джерри Вассерман,...   \n3  Александра Риддлстон-Барретт, Джеральдин Джейм...   \n4  Александр Абдулов, Александр Демьяненко, Алекс...   \n\n                                         description  \\\n0  Мелодрама легендарного Педро Альмодовара «Пого...   \n1  Уморительная современная комедия на популярную...   \n2  Профессиональный рестлер Стив Остин («Все или ...   \n3  Шарлотта Рэмплинг, Том Кортни, Джеральдин Джей...   \n4  Расчетливая чаровница из советского кинохита «...   \n\n                                            keywords  \n0  Поговори, ней, 2002, Испания, друзья, любовь, ...  \n1  Голые, перцы, 2014, США, друзья, свадьбы, прео...  \n2  Тактическая, сила, 2011, Канада, бандиты, ганг...  \n3  45, лет, 2015, Великобритания, брак, жизнь, лю...  \n4  Все, решает, мгновение, 1978, СССР, сильные, ж...  ",
      "text/html": "<div>\n<style scoped>\n    .dataframe tbody tr th:only-of-type {\n        vertical-align: middle;\n    }\n\n    .dataframe tbody tr th {\n        vertical-align: top;\n    }\n\n    .dataframe thead th {\n        text-align: right;\n    }\n</style>\n<table border=\"1\" class=\"dataframe\">\n  <thead>\n    <tr style=\"text-align: right;\">\n      <th></th>\n      <th>item_id</th>\n      <th>content_type</th>\n      <th>title</th>\n      <th>title_orig</th>\n      <th>release_year</th>\n      <th>genres</th>\n      <th>countries</th>\n      <th>for_kids</th>\n      <th>age_rating</th>\n      <th>studios</th>\n      <th>directors</th>\n      <th>actors</th>\n      <th>description</th>\n      <th>keywords</th>\n    </tr>\n  </thead>\n  <tbody>\n    <tr>\n      <th>0</th>\n      <td>10711</td>\n      <td>film</td>\n      <td>Поговори с ней</td>\n      <td>Hable con ella</td>\n      <td>2002.0</td>\n      <td>драмы, зарубежные, детективы, мелодрамы</td>\n      <td>Испания</td>\n      <td>NaN</td>\n      <td>16.0</td>\n      <td>NaN</td>\n      <td>Педро Альмодовар</td>\n      <td>Адольфо Фернандес, Ана Фернандес, Дарио Гранди...</td>\n      <td>Мелодрама легендарного Педро Альмодовара «Пого...</td>\n      <td>Поговори, ней, 2002, Испания, друзья, любовь, ...</td>\n    </tr>\n    <tr>\n      <th>1</th>\n      <td>2508</td>\n      <td>film</td>\n      <td>Голые перцы</td>\n      <td>Search Party</td>\n      <td>2014.0</td>\n      <td>зарубежные, приключения, комедии</td>\n      <td>США</td>\n      <td>NaN</td>\n      <td>16.0</td>\n      <td>NaN</td>\n      <td>Скот Армстронг</td>\n      <td>Адам Палли, Брайан Хаски, Дж.Б. Смув, Джейсон ...</td>\n      <td>Уморительная современная комедия на популярную...</td>\n      <td>Голые, перцы, 2014, США, друзья, свадьбы, прео...</td>\n    </tr>\n    <tr>\n      <th>2</th>\n      <td>10716</td>\n      <td>film</td>\n      <td>Тактическая сила</td>\n      <td>Tactical Force</td>\n      <td>2011.0</td>\n      <td>криминал, зарубежные, триллеры, боевики, комедии</td>\n      <td>Канада</td>\n      <td>NaN</td>\n      <td>16.0</td>\n      <td>NaN</td>\n      <td>Адам П. Калтраро</td>\n      <td>Адриан Холмс, Даррен Шалави, Джерри Вассерман,...</td>\n      <td>Профессиональный рестлер Стив Остин («Все или ...</td>\n      <td>Тактическая, сила, 2011, Канада, бандиты, ганг...</td>\n    </tr>\n    <tr>\n      <th>3</th>\n      <td>7868</td>\n      <td>film</td>\n      <td>45 лет</td>\n      <td>45 Years</td>\n      <td>2015.0</td>\n      <td>драмы, зарубежные, мелодрамы</td>\n      <td>Великобритания</td>\n      <td>NaN</td>\n      <td>16.0</td>\n      <td>NaN</td>\n      <td>Эндрю Хэй</td>\n      <td>Александра Риддлстон-Барретт, Джеральдин Джейм...</td>\n      <td>Шарлотта Рэмплинг, Том Кортни, Джеральдин Джей...</td>\n      <td>45, лет, 2015, Великобритания, брак, жизнь, лю...</td>\n    </tr>\n    <tr>\n      <th>4</th>\n      <td>16268</td>\n      <td>film</td>\n      <td>Все решает мгновение</td>\n      <td>NaN</td>\n      <td>1978.0</td>\n      <td>драмы, спорт, советские, мелодрамы</td>\n      <td>СССР</td>\n      <td>NaN</td>\n      <td>12.0</td>\n      <td>Ленфильм</td>\n      <td>Виктор Садовский</td>\n      <td>Александр Абдулов, Александр Демьяненко, Алекс...</td>\n      <td>Расчетливая чаровница из советского кинохита «...</td>\n      <td>Все, решает, мгновение, 1978, СССР, сильные, ж...</td>\n    </tr>\n  </tbody>\n</table>\n</div>"
     },
     "execution_count": 47,
     "metadata": {},
     "output_type": "execute_result"
    }
   ],
   "source": [
    "items.head()"
   ],
   "metadata": {
    "collapsed": false
   }
  },
  {
   "cell_type": "code",
   "execution_count": 48,
   "outputs": [],
   "source": [
    "YEAR_FROM = 1990\n",
    "STEP_SIZE = 5\n",
    "bins = [year for year in range(YEAR_FROM, int(items['release_year'].max()) + STEP_SIZE, STEP_SIZE)]"
   ],
   "metadata": {
    "collapsed": false
   }
  },
  {
   "cell_type": "code",
   "execution_count": 49,
   "outputs": [],
   "source": [
    "bins = [int(items['release_year'].min())] + bins"
   ],
   "metadata": {
    "collapsed": false
   }
  },
  {
   "cell_type": "code",
   "execution_count": 50,
   "outputs": [],
   "source": [
    "items['year_bin'] = pd.cut(items['release_year'],\n",
    "                           bins=bins, include_lowest=True)"
   ],
   "metadata": {
    "collapsed": false
   }
  },
  {
   "cell_type": "code",
   "execution_count": 51,
   "outputs": [
    {
     "data": {
      "text/plain": "<Figure size 1200x700 with 1 Axes>",
      "image/png": "[encoded data removed]"
     },
     "metadata": {},
     "output_type": "display_data"
    }
   ],
   "source": [
    "plot_normalized_barh_chart(items, 'year_bin', 'Распределение выхода контента')"
   ],
   "metadata": {
    "collapsed": false
   }
  },
  {
   "cell_type": "code",
   "execution_count": 52,
   "outputs": [
    {
     "data": {
      "text/plain": "<Figure size 1200x700 with 1 Axes>",
      "image/png": "[encoded data removed]"
     },
     "metadata": {},
     "output_type": "display_data"
    }
   ],
   "source": [
    "plot_normalized_barh_chart(items, 'content_type', 'Распределение контента')"
   ],
   "metadata": {
    "collapsed": false
   }
  },
  {
   "cell_type": "markdown",
   "source": [
    "### Interactions"
   ],
   "metadata": {
    "collapsed": false
   }
  },
  {
   "cell_type": "code",
   "execution_count": 53,
   "outputs": [
    {
     "name": "stdout",
     "output_type": "stream",
     "text": [
      "Кол-во уникальных пользователей и айтемов в интеракциях\n"
     ]
    },
    {
     "data": {
      "text/plain": "user_id    962182\nitem_id     15714\ndtype: int64"
     },
     "execution_count": 53,
     "metadata": {},
     "output_type": "execute_result"
    }
   ],
   "source": [
    "print('Кол-во уникальных пользователей и айтемов в интеракциях')\n",
    "interactions[Columns.UserItem].nunique()"
   ],
   "metadata": {
    "collapsed": false
   }
  },
  {
   "cell_type": "code",
   "execution_count": 54,
   "outputs": [],
   "source": [
    "Columns.Datetime = 'last_watch_dt'"
   ],
   "metadata": {
    "collapsed": false
   }
  },
  {
   "cell_type": "code",
   "execution_count": 55,
   "outputs": [
    {
     "data": {
      "text/plain": "   user_id  item_id last_watch_dt  total_dur  watched_pct\n0   176549     9506    2021-05-11       4250         72.0\n1   699317     1659    2021-05-29       8317        100.0\n2   656683     7107    2021-05-09         10          0.0\n3   864613     7638    2021-07-05      14483        100.0\n4   964868     9506    2021-04-30       6725        100.0",
      "text/html": "<div>\n<style scoped>\n    .dataframe tbody tr th:only-of-type {\n        vertical-align: middle;\n    }\n\n    .dataframe tbody tr th {\n        vertical-align: top;\n    }\n\n    .dataframe thead th {\n        text-align: right;\n    }\n</style>\n<table border=\"1\" class=\"dataframe\">\n  <thead>\n    <tr style=\"text-align: right;\">\n      <th></th>\n      <th>user_id</th>\n      <th>item_id</th>\n      <th>last_watch_dt</th>\n      <th>total_dur</th>\n      <th>watched_pct</th>\n    </tr>\n  </thead>\n  <tbody>\n    <tr>\n      <th>0</th>\n      <td>176549</td>\n      <td>9506</td>\n      <td>2021-05-11</td>\n      <td>4250</td>\n      <td>72.0</td>\n    </tr>\n    <tr>\n      <th>1</th>\n      <td>699317</td>\n      <td>1659</td>\n      <td>2021-05-29</td>\n      <td>8317</td>\n      <td>100.0</td>\n    </tr>\n    <tr>\n      <th>2</th>\n      <td>656683</td>\n      <td>7107</td>\n      <td>2021-05-09</td>\n      <td>10</td>\n      <td>0.0</td>\n    </tr>\n    <tr>\n      <th>3</th>\n      <td>864613</td>\n      <td>7638</td>\n      <td>2021-07-05</td>\n      <td>14483</td>\n      <td>100.0</td>\n    </tr>\n    <tr>\n      <th>4</th>\n      <td>964868</td>\n      <td>9506</td>\n      <td>2021-04-30</td>\n      <td>6725</td>\n      <td>100.0</td>\n    </tr>\n  </tbody>\n</table>\n</div>"
     },
     "execution_count": 55,
     "metadata": {},
     "output_type": "execute_result"
    }
   ],
   "source": [
    "interactions.head()"
   ],
   "metadata": {
    "collapsed": false
   }
  },
  {
   "cell_type": "code",
   "execution_count": 56,
   "outputs": [
    {
     "data": {
      "text/plain": "    user_id  item_id last_watch_dt  total_dur  watched_pct\n0    176549     9506    2021-05-11       4250         72.0\n1    699317     1659    2021-05-29       8317        100.0\n2    656683     7107    2021-05-09         10          0.0\n3    864613     7638    2021-07-05      14483        100.0\n4    964868     9506    2021-04-30       6725        100.0\n..      ...      ...           ...        ...          ...\n95  1097561    15596    2021-04-13       9946         21.0\n96  1097561    14692    2021-04-13       4461         49.0\n97  1097561     1550    2021-04-13       6482         39.0\n98  1097561     3759    2021-04-13       3840         69.0\n99  1097561     5625    2021-08-22       6860         43.0\n\n[5476471 rows x 5 columns]",
      "text/html": "<div>\n<style scoped>\n    .dataframe tbody tr th:only-of-type {\n        vertical-align: middle;\n    }\n\n    .dataframe tbody tr th {\n        vertical-align: top;\n    }\n\n    .dataframe thead th {\n        text-align: right;\n    }\n</style>\n<table border=\"1\" class=\"dataframe\">\n  <thead>\n    <tr style=\"text-align: right;\">\n      <th></th>\n      <th>user_id</th>\n      <th>item_id</th>\n      <th>last_watch_dt</th>\n      <th>total_dur</th>\n      <th>watched_pct</th>\n    </tr>\n  </thead>\n  <tbody>\n    <tr>\n      <th>0</th>\n      <td>176549</td>\n      <td>9506</td>\n      <td>2021-05-11</td>\n      <td>4250</td>\n      <td>72.0</td>\n    </tr>\n    <tr>\n      <th>1</th>\n      <td>699317</td>\n      <td>1659</td>\n      <td>2021-05-29</td>\n      <td>8317</td>\n      <td>100.0</td>\n    </tr>\n    <tr>\n      <th>2</th>\n      <td>656683</td>\n      <td>7107</td>\n      <td>2021-05-09</td>\n      <td>10</td>\n      <td>0.0</td>\n    </tr>\n    <tr>\n      <th>3</th>\n      <td>864613</td>\n      <td>7638</td>\n      <td>2021-07-05</td>\n      <td>14483</td>\n      <td>100.0</td>\n    </tr>\n    <tr>\n      <th>4</th>\n      <td>964868</td>\n      <td>9506</td>\n      <td>2021-04-30</td>\n      <td>6725</td>\n      <td>100.0</td>\n    </tr>\n    <tr>\n      <th>...</th>\n      <td>...</td>\n      <td>...</td>\n      <td>...</td>\n      <td>...</td>\n      <td>...</td>\n    </tr>\n    <tr>\n      <th>95</th>\n      <td>1097561</td>\n      <td>15596</td>\n      <td>2021-04-13</td>\n      <td>9946</td>\n      <td>21.0</td>\n    </tr>\n    <tr>\n      <th>96</th>\n      <td>1097561</td>\n      <td>14692</td>\n      <td>2021-04-13</td>\n      <td>4461</td>\n      <td>49.0</td>\n    </tr>\n    <tr>\n      <th>97</th>\n      <td>1097561</td>\n      <td>1550</td>\n      <td>2021-04-13</td>\n      <td>6482</td>\n      <td>39.0</td>\n    </tr>\n    <tr>\n      <th>98</th>\n      <td>1097561</td>\n      <td>3759</td>\n      <td>2021-04-13</td>\n      <td>3840</td>\n      <td>69.0</td>\n    </tr>\n    <tr>\n      <th>99</th>\n      <td>1097561</td>\n      <td>5625</td>\n      <td>2021-08-22</td>\n      <td>6860</td>\n      <td>43.0</td>\n    </tr>\n  </tbody>\n</table>\n<p>5476471 rows × 5 columns</p>\n</div>"
     },
     "execution_count": 56,
     "metadata": {},
     "output_type": "execute_result"
    }
   ],
   "source": [
    "interactions"
   ],
   "metadata": {
    "collapsed": false
   }
  },
  {
   "cell_type": "code",
   "execution_count": 57,
   "outputs": [],
   "source": [
    "interactions.drop(interactions[interactions[Columns.Datetime].str.len() != 10].index, inplace=True)"
   ],
   "metadata": {
    "collapsed": false
   }
  },
  {
   "cell_type": "code",
   "execution_count": 58,
   "outputs": [
    {
     "data": {
      "text/plain": "10    5476471\nName: last_watch_dt, dtype: int64"
     },
     "execution_count": 58,
     "metadata": {},
     "output_type": "execute_result"
    }
   ],
   "source": [
    "interactions[Columns.Datetime].str.len().value_counts()"
   ],
   "metadata": {
    "collapsed": false
   }
  },
  {
   "cell_type": "code",
   "execution_count": 59,
   "outputs": [
    {
     "data": {
      "text/plain": "('2021-03-13', '2021-08-22')"
     },
     "execution_count": 59,
     "metadata": {},
     "output_type": "execute_result"
    }
   ],
   "source": [
    "interactions[Columns.Datetime].min(), interactions[Columns.Datetime].max()"
   ],
   "metadata": {
    "collapsed": false
   }
  },
  {
   "cell_type": "markdown",
   "source": [
    "# Train/Test split"
   ],
   "metadata": {
    "collapsed": false
   }
  },
  {
   "cell_type": "code",
   "execution_count": 60,
   "outputs": [],
   "source": [
    "interactions[Columns.Datetime] = pd.to_datetime(interactions[Columns.Datetime], format='%Y-%m-%d')"
   ],
   "metadata": {
    "collapsed": false
   }
  },
  {
   "cell_type": "code",
   "execution_count": 61,
   "outputs": [
    {
     "data": {
      "text/plain": "    user_id  item_id last_watch_dt  total_dur  watched_pct\n0    176549     9506    2021-05-11       4250         72.0\n1    699317     1659    2021-05-29       8317        100.0\n2    656683     7107    2021-05-09         10          0.0\n3    864613     7638    2021-07-05      14483        100.0\n4    964868     9506    2021-04-30       6725        100.0\n..      ...      ...           ...        ...          ...\n95  1097561    15596    2021-04-13       9946         21.0\n96  1097561    14692    2021-04-13       4461         49.0\n97  1097561     1550    2021-04-13       6482         39.0\n98  1097561     3759    2021-04-13       3840         69.0\n99  1097561     5625    2021-08-22       6860         43.0\n\n[5476471 rows x 5 columns]",
      "text/html": "<div>\n<style scoped>\n    .dataframe tbody tr th:only-of-type {\n        vertical-align: middle;\n    }\n\n    .dataframe tbody tr th {\n        vertical-align: top;\n    }\n\n    .dataframe thead th {\n        text-align: right;\n    }\n</style>\n<table border=\"1\" class=\"dataframe\">\n  <thead>\n    <tr style=\"text-align: right;\">\n      <th></th>\n      <th>user_id</th>\n      <th>item_id</th>\n      <th>last_watch_dt</th>\n      <th>total_dur</th>\n      <th>watched_pct</th>\n    </tr>\n  </thead>\n  <tbody>\n    <tr>\n      <th>0</th>\n      <td>176549</td>\n      <td>9506</td>\n      <td>2021-05-11</td>\n      <td>4250</td>\n      <td>72.0</td>\n    </tr>\n    <tr>\n      <th>1</th>\n      <td>699317</td>\n      <td>1659</td>\n      <td>2021-05-29</td>\n      <td>8317</td>\n      <td>100.0</td>\n    </tr>\n    <tr>\n      <th>2</th>\n      <td>656683</td>\n      <td>7107</td>\n      <td>2021-05-09</td>\n      <td>10</td>\n      <td>0.0</td>\n    </tr>\n    <tr>\n      <th>3</th>\n      <td>864613</td>\n      <td>7638</td>\n      <td>2021-07-05</td>\n      <td>14483</td>\n      <td>100.0</td>\n    </tr>\n    <tr>\n      <th>4</th>\n      <td>964868</td>\n      <td>9506</td>\n      <td>2021-04-30</td>\n      <td>6725</td>\n      <td>100.0</td>\n    </tr>\n    <tr>\n      <th>...</th>\n      <td>...</td>\n      <td>...</td>\n      <td>...</td>\n      <td>...</td>\n      <td>...</td>\n    </tr>\n    <tr>\n      <th>95</th>\n      <td>1097561</td>\n      <td>15596</td>\n      <td>2021-04-13</td>\n      <td>9946</td>\n      <td>21.0</td>\n    </tr>\n    <tr>\n      <th>96</th>\n      <td>1097561</td>\n      <td>14692</td>\n      <td>2021-04-13</td>\n      <td>4461</td>\n      <td>49.0</td>\n    </tr>\n    <tr>\n      <th>97</th>\n      <td>1097561</td>\n      <td>1550</td>\n      <td>2021-04-13</td>\n      <td>6482</td>\n      <td>39.0</td>\n    </tr>\n    <tr>\n      <th>98</th>\n      <td>1097561</td>\n      <td>3759</td>\n      <td>2021-04-13</td>\n      <td>3840</td>\n      <td>69.0</td>\n    </tr>\n    <tr>\n      <th>99</th>\n      <td>1097561</td>\n      <td>5625</td>\n      <td>2021-08-22</td>\n      <td>6860</td>\n      <td>43.0</td>\n    </tr>\n  </tbody>\n</table>\n<p>5476471 rows × 5 columns</p>\n</div>"
     },
     "execution_count": 61,
     "metadata": {},
     "output_type": "execute_result"
    }
   ],
   "source": [
    "interactions"
   ],
   "metadata": {
    "collapsed": false
   }
  },
  {
   "cell_type": "code",
   "execution_count": 62,
   "outputs": [
    {
     "data": {
      "text/plain": "user_id                   int64\nitem_id                   int64\nlast_watch_dt    datetime64[ns]\ntotal_dur                 int64\nwatched_pct             float64\ndtype: object"
     },
     "execution_count": 62,
     "metadata": {},
     "output_type": "execute_result"
    }
   ],
   "source": [
    "interactions.dtypes"
   ],
   "metadata": {
    "collapsed": false
   }
  },
  {
   "cell_type": "code",
   "execution_count": 63,
   "outputs": [],
   "source": [
    "max_date = interactions[Columns.Datetime].max()"
   ],
   "metadata": {
    "collapsed": false
   }
  },
  {
   "cell_type": "markdown",
   "source": [
    "Видим, что есть какие-то выбросы, пока на них не обращаем внимание, посмотрим, что получается"
   ],
   "metadata": {
    "collapsed": false
   }
  },
  {
   "cell_type": "code",
   "execution_count": 64,
   "outputs": [
    {
     "data": {
      "text/plain": "count     5476471.00\nmean         8295.36\nstd         48567.03\nmin             1.00\n1%              3.00\n10%            42.00\n50%          2898.00\n90%         15111.00\n99%         90079.30\nmax      80411672.00\nName: total_dur, dtype: float64"
     },
     "execution_count": 64,
     "metadata": {},
     "output_type": "execute_result"
    }
   ],
   "source": [
    "interactions['total_dur'].describe(percentiles=[.01, .1, .5, .9, .99]).round(2)"
   ],
   "metadata": {
    "collapsed": false
   }
  },
  {
   "cell_type": "code",
   "execution_count": 65,
   "outputs": [
    {
     "data": {
      "text/plain": "<Figure size 640x480 with 1 Axes>",
      "image/png": "[encoded data removed]"
     },
     "metadata": {},
     "output_type": "display_data"
    }
   ],
   "source": [
    "(\n",
    "    interactions[Columns.Datetime].dt.isocalendar().week\n",
    "    .value_counts(sort=False)\n",
    "    .sort_index()\n",
    "    .plot(grid=True, title='Количество интеракций по неделям')\n",
    ");"
   ],
   "metadata": {
    "collapsed": false
   }
  },
  {
   "cell_type": "code",
   "execution_count": 66,
   "outputs": [
    {
     "data": {
      "text/plain": "<Figure size 640x480 with 1 Axes>",
      "image/png": "[encoded data removed]"
     },
     "metadata": {},
     "output_type": "display_data"
    }
   ],
   "source": [
    "(\n",
    "    interactions[Columns.Datetime].dt.to_period('M')\n",
    "    .value_counts(sort=False)\n",
    "    .sort_index()\n",
    "    .plot(grid=True, title='Количество интеракций по месяцам')\n",
    ");"
   ],
   "metadata": {
    "collapsed": false
   }
  },
  {
   "cell_type": "code",
   "execution_count": 67,
   "outputs": [
    {
     "data": {
      "text/plain": "490985"
     },
     "execution_count": 67,
     "metadata": {},
     "output_type": "execute_result"
    }
   ],
   "source": [
    "(interactions[Columns.Datetime] >= max_date - pd.Timedelta(days=7)).sum()"
   ],
   "metadata": {
    "collapsed": false
   }
  },
  {
   "cell_type": "code",
   "execution_count": 68,
   "outputs": [
    {
     "data": {
      "text/plain": "count    5475643.0\nmean          46.0\nstd           42.0\nmin            0.0\n25%            4.0\n50%           32.0\n75%          100.0\nmax          100.0\nName: watched_pct, dtype: float64"
     },
     "execution_count": 68,
     "metadata": {},
     "output_type": "execute_result"
    }
   ],
   "source": [
    "interactions['watched_pct'].describe().round()"
   ],
   "metadata": {
    "collapsed": false
   }
  },
  {
   "cell_type": "code",
   "execution_count": 69,
   "outputs": [
    {
     "data": {
      "text/plain": "<Figure size 640x480 with 1 Axes>",
      "image/png": "[encoded data removed]"
     },
     "metadata": {},
     "output_type": "display_data"
    }
   ],
   "source": [
    "interactions['watched_pct'].hist(bins=20);"
   ],
   "metadata": {
    "collapsed": false
   }
  },
  {
   "cell_type": "code",
   "execution_count": 70,
   "outputs": [],
   "source": [
    "interactions[Columns.Weight] = np.where(interactions['watched_pct'] > 10, 3, 1)"
   ],
   "metadata": {
    "collapsed": false
   }
  },
  {
   "cell_type": "code",
   "execution_count": 71,
   "outputs": [
    {
     "data": {
      "text/plain": "3    0.660181\n1    0.339819\nName: weight, dtype: float64"
     },
     "execution_count": 71,
     "metadata": {},
     "output_type": "execute_result"
    }
   ],
   "source": [
    "interactions[Columns.Weight].value_counts(normalize=True)"
   ],
   "metadata": {
    "collapsed": false
   }
  },
  {
   "cell_type": "code",
   "execution_count": 72,
   "outputs": [
    {
     "name": "stderr",
     "output_type": "stream",
     "text": [
      "kion dataset download: 100%|██████████| 78.8M/78.8M [00:19<00:00, 5.66MiB/s]"
     ]
    },
    {
     "name": "stdout",
     "output_type": "stream",
     "text": [
      "train: (4985486, 6)\n",
      "test: (490985, 6)\n"
     ]
    }
   ],
   "source": [
    "train = interactions[interactions[Columns.Datetime] < max_date - pd.Timedelta(days=7)].copy()\n",
    "test = interactions[interactions[Columns.Datetime] >= max_date - pd.Timedelta(days=7)].copy()\n",
    "\n",
    "print(f\"train: {train.shape}\")\n",
    "print(f\"test: {test.shape}\")"
   ],
   "metadata": {
    "collapsed": false
   }
  },
  {
   "cell_type": "code",
   "execution_count": 73,
   "outputs": [],
   "source": [
    "train.drop(train.query(\"total_dur < 300\").index, inplace=True)"
   ],
   "metadata": {
    "collapsed": false
   }
  },
  {
   "cell_type": "code",
   "execution_count": 74,
   "outputs": [],
   "source": [
    "# отфильтруем холодных пользователей из теста\n",
    "cold_users = set(test[Columns.User]) - set(train[Columns.User])"
   ],
   "metadata": {
    "collapsed": false
   }
  },
  {
   "cell_type": "code",
   "execution_count": 75,
   "outputs": [],
   "source": [
    "test.drop(test[test[Columns.User].isin(cold_users)].index, inplace=True)"
   ],
   "metadata": {
    "collapsed": false
   }
  },
  {
   "cell_type": "markdown",
   "source": [
    "# Features"
   ],
   "metadata": {
    "collapsed": false
   }
  },
  {
   "cell_type": "markdown",
   "source": [
    "### Users"
   ],
   "metadata": {
    "collapsed": false
   }
  },
  {
   "cell_type": "code",
   "execution_count": 76,
   "outputs": [
    {
     "data": {
      "text/plain": "user_id         0\nage         14095\nincome      14776\nsex         13831\nkids_flg        0\ndtype: int64"
     },
     "execution_count": 76,
     "metadata": {},
     "output_type": "execute_result"
    }
   ],
   "source": [
    "users.isnull().sum()"
   ],
   "metadata": {
    "collapsed": false
   }
  },
  {
   "cell_type": "code",
   "execution_count": 77,
   "outputs": [
    {
     "data": {
      "text/plain": "user_id     840200\nage              6\nincome           6\nsex              2\nkids_flg         2\ndtype: int64"
     },
     "execution_count": 77,
     "metadata": {},
     "output_type": "execute_result"
    }
   ],
   "source": [
    "users.nunique()"
   ],
   "metadata": {
    "collapsed": false
   }
  },
  {
   "cell_type": "code",
   "execution_count": 78,
   "outputs": [],
   "source": [
    "users = users.loc[users[Columns.User].isin(train[Columns.User])].copy()"
   ],
   "metadata": {
    "collapsed": false
   }
  },
  {
   "cell_type": "code",
   "execution_count": 79,
   "outputs": [
    {
     "data": {
      "text/plain": "        user_id        age        income  sex  kids_flg\n0        973171  age_25_34  income_60_90  0.0         1\n1        962099  age_18_24  income_20_40  0.0         0\n3        721985  age_45_54  income_20_40  1.0         0\n4        704055  age_35_44  income_60_90  1.0         0\n5       1037719  age_45_54  income_60_90  0.0         0\n...         ...        ...           ...  ...       ...\n840189   191349  age_45_54  income_40_60  0.0         1\n840190   393868  age_25_34  income_20_40  0.0         0\n0       1097559  age_25_34  income_60_90  0.0         1\n0       1097560  age_18_24  income_20_40  0.0         0\n0       1097561  age_45_54  income_40_60  1.0         1\n\n[586671 rows x 5 columns]",
      "text/html": "<div>\n<style scoped>\n    .dataframe tbody tr th:only-of-type {\n        vertical-align: middle;\n    }\n\n    .dataframe tbody tr th {\n        vertical-align: top;\n    }\n\n    .dataframe thead th {\n        text-align: right;\n    }\n</style>\n<table border=\"1\" class=\"dataframe\">\n  <thead>\n    <tr style=\"text-align: right;\">\n      <th></th>\n      <th>user_id</th>\n      <th>age</th>\n      <th>income</th>\n      <th>sex</th>\n      <th>kids_flg</th>\n    </tr>\n  </thead>\n  <tbody>\n    <tr>\n      <th>0</th>\n      <td>973171</td>\n      <td>age_25_34</td>\n      <td>income_60_90</td>\n      <td>0.0</td>\n      <td>1</td>\n    </tr>\n    <tr>\n      <th>1</th>\n      <td>962099</td>\n      <td>age_18_24</td>\n      <td>income_20_40</td>\n      <td>0.0</td>\n      <td>0</td>\n    </tr>\n    <tr>\n      <th>3</th>\n      <td>721985</td>\n      <td>age_45_54</td>\n      <td>income_20_40</td>\n      <td>1.0</td>\n      <td>0</td>\n    </tr>\n    <tr>\n      <th>4</th>\n      <td>704055</td>\n      <td>age_35_44</td>\n      <td>income_60_90</td>\n      <td>1.0</td>\n      <td>0</td>\n    </tr>\n    <tr>\n      <th>5</th>\n      <td>1037719</td>\n      <td>age_45_54</td>\n      <td>income_60_90</td>\n      <td>0.0</td>\n      <td>0</td>\n    </tr>\n    <tr>\n      <th>...</th>\n      <td>...</td>\n      <td>...</td>\n      <td>...</td>\n      <td>...</td>\n      <td>...</td>\n    </tr>\n    <tr>\n      <th>840189</th>\n      <td>191349</td>\n      <td>age_45_54</td>\n      <td>income_40_60</td>\n      <td>0.0</td>\n      <td>1</td>\n    </tr>\n    <tr>\n      <th>840190</th>\n      <td>393868</td>\n      <td>age_25_34</td>\n      <td>income_20_40</td>\n      <td>0.0</td>\n      <td>0</td>\n    </tr>\n    <tr>\n      <th>0</th>\n      <td>1097559</td>\n      <td>age_25_34</td>\n      <td>income_60_90</td>\n      <td>0.0</td>\n      <td>1</td>\n    </tr>\n    <tr>\n      <th>0</th>\n      <td>1097560</td>\n      <td>age_18_24</td>\n      <td>income_20_40</td>\n      <td>0.0</td>\n      <td>0</td>\n    </tr>\n    <tr>\n      <th>0</th>\n      <td>1097561</td>\n      <td>age_45_54</td>\n      <td>income_40_60</td>\n      <td>1.0</td>\n      <td>1</td>\n    </tr>\n  </tbody>\n</table>\n<p>586671 rows × 5 columns</p>\n</div>"
     },
     "execution_count": 79,
     "metadata": {},
     "output_type": "execute_result"
    }
   ],
   "source": [
    "users"
   ],
   "metadata": {
    "collapsed": false
   }
  },
  {
   "cell_type": "code",
   "execution_count": 80,
   "outputs": [
    {
     "data": {
      "text/plain": "             id         value feature\n0        973171           0.0     sex\n1        962099           0.0     sex\n3        721985           1.0     sex\n4        704055           1.0     sex\n5       1037719           0.0     sex\n840189   191349  income_40_60  income\n840190   393868  income_20_40  income\n0       1097559  income_60_90  income\n0       1097560  income_20_40  income\n0       1097561  income_40_60  income",
      "text/html": "<div>\n<style scoped>\n    .dataframe tbody tr th:only-of-type {\n        vertical-align: middle;\n    }\n\n    .dataframe tbody tr th {\n        vertical-align: top;\n    }\n\n    .dataframe thead th {\n        text-align: right;\n    }\n</style>\n<table border=\"1\" class=\"dataframe\">\n  <thead>\n    <tr style=\"text-align: right;\">\n      <th></th>\n      <th>id</th>\n      <th>value</th>\n      <th>feature</th>\n    </tr>\n  </thead>\n  <tbody>\n    <tr>\n      <th>0</th>\n      <td>973171</td>\n      <td>0.0</td>\n      <td>sex</td>\n    </tr>\n    <tr>\n      <th>1</th>\n      <td>962099</td>\n      <td>0.0</td>\n      <td>sex</td>\n    </tr>\n    <tr>\n      <th>3</th>\n      <td>721985</td>\n      <td>1.0</td>\n      <td>sex</td>\n    </tr>\n    <tr>\n      <th>4</th>\n      <td>704055</td>\n      <td>1.0</td>\n      <td>sex</td>\n    </tr>\n    <tr>\n      <th>5</th>\n      <td>1037719</td>\n      <td>0.0</td>\n      <td>sex</td>\n    </tr>\n    <tr>\n      <th>840189</th>\n      <td>191349</td>\n      <td>income_40_60</td>\n      <td>income</td>\n    </tr>\n    <tr>\n      <th>840190</th>\n      <td>393868</td>\n      <td>income_20_40</td>\n      <td>income</td>\n    </tr>\n    <tr>\n      <th>0</th>\n      <td>1097559</td>\n      <td>income_60_90</td>\n      <td>income</td>\n    </tr>\n    <tr>\n      <th>0</th>\n      <td>1097560</td>\n      <td>income_20_40</td>\n      <td>income</td>\n    </tr>\n    <tr>\n      <th>0</th>\n      <td>1097561</td>\n      <td>income_40_60</td>\n      <td>income</td>\n    </tr>\n  </tbody>\n</table>\n</div>"
     },
     "execution_count": 80,
     "metadata": {},
     "output_type": "execute_result"
    }
   ],
   "source": [
    "user_features_frames = []\n",
    "for feature in [\"sex\", \"age\", \"income\"]:\n",
    "    feature_frame = users.reindex(columns=[Columns.User, feature])\n",
    "    feature_frame.columns = [\"id\", \"value\"]\n",
    "    feature_frame[\"feature\"] = feature\n",
    "    user_features_frames.append(feature_frame)\n",
    "user_features = pd.concat(user_features_frames)\n",
    "pd.concat([user_features.head(), user_features.tail()])"
   ],
   "metadata": {
    "collapsed": false
   }
  },
  {
   "cell_type": "markdown",
   "source": [
    "### Items"
   ],
   "metadata": {
    "collapsed": false
   }
  },
  {
   "cell_type": "code",
   "execution_count": 81,
   "outputs": [
    {
     "data": {
      "text/plain": "item_id             0\ncontent_type        0\ntitle               0\ntitle_orig       4745\nrelease_year       98\ngenres              0\ncountries          37\nfor_kids        15397\nage_rating          2\nstudios         14898\ndirectors        1509\nactors           2619\ndescription         2\nkeywords          423\nyear_bin           98\ndtype: int64"
     },
     "execution_count": 81,
     "metadata": {},
     "output_type": "execute_result"
    }
   ],
   "source": [
    "items.isnull().sum()"
   ],
   "metadata": {
    "collapsed": false
   }
  },
  {
   "cell_type": "code",
   "execution_count": 82,
   "outputs": [
    {
     "data": {
      "text/plain": "item_id         15963\ncontent_type        2\ntitle           15293\ntitle_orig      10575\nrelease_year      105\ngenres           2771\ncountries         687\nfor_kids            2\nage_rating          6\nstudios            38\ndirectors        7973\nactors          12996\ndescription     15619\nkeywords        15492\nyear_bin            8\ndtype: int64"
     },
     "execution_count": 82,
     "metadata": {},
     "output_type": "execute_result"
    }
   ],
   "source": [
    "items.nunique()"
   ],
   "metadata": {
    "collapsed": false
   }
  },
  {
   "cell_type": "code",
   "execution_count": 83,
   "outputs": [],
   "source": [
    "items = items.loc[items[Columns.Item].isin(train[Columns.Item])].copy()"
   ],
   "metadata": {
    "collapsed": false
   }
  },
  {
   "cell_type": "code",
   "execution_count": 84,
   "outputs": [
    {
     "data": {
      "text/plain": "       item_id content_type                 title      title_orig  \\\n0        10711         film        Поговори с ней  Hable con ella   \n1         2508         film           Голые перцы    Search Party   \n2        10716         film      Тактическая сила  Tactical Force   \n3         7868         film                45 лет        45 Years   \n4        16268         film  Все решает мгновение             NaN   \n...        ...          ...                   ...             ...   \n15958     6443       series         Полярный круг   Arctic Circle   \n15959     2367       series               Надежда             NaN   \n15960    10632       series                Сговор          Hassel   \n15961     4538       series          Среди камней      Darklands    \n15962     3206       series                  Гоша             NaN   \n\n       release_year                                            genres  \\\n0            2002.0           драмы, зарубежные, детективы, мелодрамы   \n1            2014.0                  зарубежные, приключения, комедии   \n2            2011.0  криминал, зарубежные, триллеры, боевики, комедии   \n3            2015.0                      драмы, зарубежные, мелодрамы   \n4            1978.0                драмы, спорт, советские, мелодрамы   \n...             ...                                               ...   \n15958        2018.0                         драмы, триллеры, криминал   \n15959        2020.0                                    драмы, боевики   \n15960        2017.0                         драмы, триллеры, криминал   \n15961        2019.0                            драмы, спорт, криминал   \n15962        2019.0                                           комедии   \n\n                 countries  for_kids  age_rating   studios  \\\n0                  Испания       NaN        16.0       NaN   \n1                      США       NaN        16.0       NaN   \n2                   Канада       NaN        16.0       NaN   \n3           Великобритания       NaN        16.0       NaN   \n4                     СССР       NaN        12.0  Ленфильм   \n...                    ...       ...         ...       ...   \n15958  Финляндия, Германия       NaN        16.0       NaN   \n15959               Россия       0.0        18.0       NaN   \n15960               Россия       0.0        18.0       NaN   \n15961               Россия       0.0        18.0       NaN   \n15962               Россия       0.0        16.0       NaN   \n\n                                   directors  \\\n0                           Педро Альмодовар   \n1                             Скот Армстронг   \n2                           Адам П. Калтраро   \n3                                  Эндрю Хэй   \n4                           Виктор Садовский   \n...                                      ...   \n15958                          Ханну Салонен   \n15959                         Елена Хазанова   \n15960  Эшреф Рейбрук, Амир Камдин, Эрик Эгер   \n15961          Марк О’Коннор, Конор МакМахон   \n15962                         Михаил Миронов   \n\n                                                  actors  \\\n0      Адольфо Фернандес, Ана Фернандес, Дарио Гранди...   \n1      Адам Палли, Брайан Хаски, Дж.Б. Смув, Джейсон ...   \n2      Адриан Холмс, Даррен Шалави, Джерри Вассерман,...   \n3      Александра Риддлстон-Барретт, Джеральдин Джейм...   \n4      Александр Абдулов, Александр Демьяненко, Алекс...   \n...                                                  ...   \n15958  Иина Куустонен, Максимилиан Брюкнер, Пихла Вии...   \n15959  Виктория Исакова, Александр Кузьмин, Алексей М...   \n15960  Ола Рапас, Алиетт Офейм, Уильма Лиден, Шанти Р...   \n15961  Дэйн Уайт О’Хара, Томас Кэйн-Бирн, Джудит Родд...   \n15962                 Мкртыч Арзуманян, Виктория Рунцова   \n\n                                             description  \\\n0      Мелодрама легендарного Педро Альмодовара «Пого...   \n1      Уморительная современная комедия на популярную...   \n2      Профессиональный рестлер Стив Остин («Все или ...   \n3      Шарлотта Рэмплинг, Том Кортни, Джеральдин Джей...   \n4      Расчетливая чаровница из советского кинохита «...   \n...                                                  ...   \n15958  Во время погони за браконьерами по лесу, сотру...   \n15959  Оригинальный киносериал от создателей «Бывших»...   \n15960  Криминальная драма по мотивам романов о шведск...   \n15961  Семнадцатилетний Дэмиен мечтает вырваться за п...   \n15962  Добродушный Гоша не может выйти из дома, чтобы...   \n\n                                                keywords            year_bin  \n0      Поговори, ней, 2002, Испания, друзья, любовь, ...    (2000.0, 2005.0]  \n1      Голые, перцы, 2014, США, друзья, свадьбы, прео...    (2010.0, 2015.0]  \n2      Тактическая, сила, 2011, Канада, бандиты, ганг...    (2010.0, 2015.0]  \n3      45, лет, 2015, Великобритания, брак, жизнь, лю...    (2010.0, 2015.0]  \n4      Все, решает, мгновение, 1978, СССР, сильные, ж...  (1896.999, 1990.0]  \n...                                                  ...                 ...  \n15958  убийство, вирус, расследование преступления, н...    (2015.0, 2020.0]  \n15959                              Надежда, 2020, Россия    (2015.0, 2020.0]  \n15960                               Сговор, 2017, Россия    (2015.0, 2020.0]  \n15961                        Среди, камней, 2019, Россия    (2015.0, 2020.0]  \n15962                                 Гоша, 2019, Россия    (2015.0, 2020.0]  \n\n[14050 rows x 15 columns]",
      "text/html": "<div>\n<style scoped>\n    .dataframe tbody tr th:only-of-type {\n        vertical-align: middle;\n    }\n\n    .dataframe tbody tr th {\n        vertical-align: top;\n    }\n\n    .dataframe thead th {\n        text-align: right;\n    }\n</style>\n<table border=\"1\" class=\"dataframe\">\n  <thead>\n    <tr style=\"text-align: right;\">\n      <th></th>\n      <th>item_id</th>\n      <th>content_type</th>\n      <th>title</th>\n      <th>title_orig</th>\n      <th>release_year</th>\n      <th>genres</th>\n      <th>countries</th>\n      <th>for_kids</th>\n      <th>age_rating</th>\n      <th>studios</th>\n      <th>directors</th>\n      <th>actors</th>\n      <th>description</th>\n      <th>keywords</th>\n      <th>year_bin</th>\n    </tr>\n  </thead>\n  <tbody>\n    <tr>\n      <th>0</th>\n      <td>10711</td>\n      <td>film</td>\n      <td>Поговори с ней</td>\n      <td>Hable con ella</td>\n      <td>2002.0</td>\n      <td>драмы, зарубежные, детективы, мелодрамы</td>\n      <td>Испания</td>\n      <td>NaN</td>\n      <td>16.0</td>\n      <td>NaN</td>\n      <td>Педро Альмодовар</td>\n      <td>Адольфо Фернандес, Ана Фернандес, Дарио Гранди...</td>\n      <td>Мелодрама легендарного Педро Альмодовара «Пого...</td>\n      <td>Поговори, ней, 2002, Испания, друзья, любовь, ...</td>\n      <td>(2000.0, 2005.0]</td>\n    </tr>\n    <tr>\n      <th>1</th>\n      <td>2508</td>\n      <td>film</td>\n      <td>Голые перцы</td>\n      <td>Search Party</td>\n      <td>2014.0</td>\n      <td>зарубежные, приключения, комедии</td>\n      <td>США</td>\n      <td>NaN</td>\n      <td>16.0</td>\n      <td>NaN</td>\n      <td>Скот Армстронг</td>\n      <td>Адам Палли, Брайан Хаски, Дж.Б. Смув, Джейсон ...</td>\n      <td>Уморительная современная комедия на популярную...</td>\n      <td>Голые, перцы, 2014, США, друзья, свадьбы, прео...</td>\n      <td>(2010.0, 2015.0]</td>\n    </tr>\n    <tr>\n      <th>2</th>\n      <td>10716</td>\n      <td>film</td>\n      <td>Тактическая сила</td>\n      <td>Tactical Force</td>\n      <td>2011.0</td>\n      <td>криминал, зарубежные, триллеры, боевики, комедии</td>\n      <td>Канада</td>\n      <td>NaN</td>\n      <td>16.0</td>\n      <td>NaN</td>\n      <td>Адам П. Калтраро</td>\n      <td>Адриан Холмс, Даррен Шалави, Джерри Вассерман,...</td>\n      <td>Профессиональный рестлер Стив Остин («Все или ...</td>\n      <td>Тактическая, сила, 2011, Канада, бандиты, ганг...</td>\n      <td>(2010.0, 2015.0]</td>\n    </tr>\n    <tr>\n      <th>3</th>\n      <td>7868</td>\n      <td>film</td>\n      <td>45 лет</td>\n      <td>45 Years</td>\n      <td>2015.0</td>\n      <td>драмы, зарубежные, мелодрамы</td>\n      <td>Великобритания</td>\n      <td>NaN</td>\n      <td>16.0</td>\n      <td>NaN</td>\n      <td>Эндрю Хэй</td>\n      <td>Александра Риддлстон-Барретт, Джеральдин Джейм...</td>\n      <td>Шарлотта Рэмплинг, Том Кортни, Джеральдин Джей...</td>\n      <td>45, лет, 2015, Великобритания, брак, жизнь, лю...</td>\n      <td>(2010.0, 2015.0]</td>\n    </tr>\n    <tr>\n      <th>4</th>\n      <td>16268</td>\n      <td>film</td>\n      <td>Все решает мгновение</td>\n      <td>NaN</td>\n      <td>1978.0</td>\n      <td>драмы, спорт, советские, мелодрамы</td>\n      <td>СССР</td>\n      <td>NaN</td>\n      <td>12.0</td>\n      <td>Ленфильм</td>\n      <td>Виктор Садовский</td>\n      <td>Александр Абдулов, Александр Демьяненко, Алекс...</td>\n      <td>Расчетливая чаровница из советского кинохита «...</td>\n      <td>Все, решает, мгновение, 1978, СССР, сильные, ж...</td>\n      <td>(1896.999, 1990.0]</td>\n    </tr>\n    <tr>\n      <th>...</th>\n      <td>...</td>\n      <td>...</td>\n      <td>...</td>\n      <td>...</td>\n      <td>...</td>\n      <td>...</td>\n      <td>...</td>\n      <td>...</td>\n      <td>...</td>\n      <td>...</td>\n      <td>...</td>\n      <td>...</td>\n      <td>...</td>\n      <td>...</td>\n      <td>...</td>\n    </tr>\n    <tr>\n      <th>15958</th>\n      <td>6443</td>\n      <td>series</td>\n      <td>Полярный круг</td>\n      <td>Arctic Circle</td>\n      <td>2018.0</td>\n      <td>драмы, триллеры, криминал</td>\n      <td>Финляндия, Германия</td>\n      <td>NaN</td>\n      <td>16.0</td>\n      <td>NaN</td>\n      <td>Ханну Салонен</td>\n      <td>Иина Куустонен, Максимилиан Брюкнер, Пихла Вии...</td>\n      <td>Во время погони за браконьерами по лесу, сотру...</td>\n      <td>убийство, вирус, расследование преступления, н...</td>\n      <td>(2015.0, 2020.0]</td>\n    </tr>\n    <tr>\n      <th>15959</th>\n      <td>2367</td>\n      <td>series</td>\n      <td>Надежда</td>\n      <td>NaN</td>\n      <td>2020.0</td>\n      <td>драмы, боевики</td>\n      <td>Россия</td>\n      <td>0.0</td>\n      <td>18.0</td>\n      <td>NaN</td>\n      <td>Елена Хазанова</td>\n      <td>Виктория Исакова, Александр Кузьмин, Алексей М...</td>\n      <td>Оригинальный киносериал от создателей «Бывших»...</td>\n      <td>Надежда, 2020, Россия</td>\n      <td>(2015.0, 2020.0]</td>\n    </tr>\n    <tr>\n      <th>15960</th>\n      <td>10632</td>\n      <td>series</td>\n      <td>Сговор</td>\n      <td>Hassel</td>\n      <td>2017.0</td>\n      <td>драмы, триллеры, криминал</td>\n      <td>Россия</td>\n      <td>0.0</td>\n      <td>18.0</td>\n      <td>NaN</td>\n      <td>Эшреф Рейбрук, Амир Камдин, Эрик Эгер</td>\n      <td>Ола Рапас, Алиетт Офейм, Уильма Лиден, Шанти Р...</td>\n      <td>Криминальная драма по мотивам романов о шведск...</td>\n      <td>Сговор, 2017, Россия</td>\n      <td>(2015.0, 2020.0]</td>\n    </tr>\n    <tr>\n      <th>15961</th>\n      <td>4538</td>\n      <td>series</td>\n      <td>Среди камней</td>\n      <td>Darklands</td>\n      <td>2019.0</td>\n      <td>драмы, спорт, криминал</td>\n      <td>Россия</td>\n      <td>0.0</td>\n      <td>18.0</td>\n      <td>NaN</td>\n      <td>Марк О’Коннор, Конор МакМахон</td>\n      <td>Дэйн Уайт О’Хара, Томас Кэйн-Бирн, Джудит Родд...</td>\n      <td>Семнадцатилетний Дэмиен мечтает вырваться за п...</td>\n      <td>Среди, камней, 2019, Россия</td>\n      <td>(2015.0, 2020.0]</td>\n    </tr>\n    <tr>\n      <th>15962</th>\n      <td>3206</td>\n      <td>series</td>\n      <td>Гоша</td>\n      <td>NaN</td>\n      <td>2019.0</td>\n      <td>комедии</td>\n      <td>Россия</td>\n      <td>0.0</td>\n      <td>16.0</td>\n      <td>NaN</td>\n      <td>Михаил Миронов</td>\n      <td>Мкртыч Арзуманян, Виктория Рунцова</td>\n      <td>Добродушный Гоша не может выйти из дома, чтобы...</td>\n      <td>Гоша, 2019, Россия</td>\n      <td>(2015.0, 2020.0]</td>\n    </tr>\n  </tbody>\n</table>\n<p>14050 rows × 15 columns</p>\n</div>"
     },
     "execution_count": 84,
     "metadata": {},
     "output_type": "execute_result"
    }
   ],
   "source": [
    "items"
   ],
   "metadata": {
    "collapsed": false
   }
  },
  {
   "cell_type": "markdown",
   "source": [
    "#### Genre"
   ],
   "metadata": {
    "collapsed": false
   }
  },
  {
   "cell_type": "code",
   "execution_count": 85,
   "outputs": [
    {
     "data": {
      "text/plain": "      id       value feature\n0  10711       драмы   genre\n0  10711  зарубежные   genre\n0  10711   детективы   genre\n0  10711   мелодрамы   genre\n1   2508  зарубежные   genre",
      "text/html": "<div>\n<style scoped>\n    .dataframe tbody tr th:only-of-type {\n        vertical-align: middle;\n    }\n\n    .dataframe tbody tr th {\n        vertical-align: top;\n    }\n\n    .dataframe thead th {\n        text-align: right;\n    }\n</style>\n<table border=\"1\" class=\"dataframe\">\n  <thead>\n    <tr style=\"text-align: right;\">\n      <th></th>\n      <th>id</th>\n      <th>value</th>\n      <th>feature</th>\n    </tr>\n  </thead>\n  <tbody>\n    <tr>\n      <th>0</th>\n      <td>10711</td>\n      <td>драмы</td>\n      <td>genre</td>\n    </tr>\n    <tr>\n      <th>0</th>\n      <td>10711</td>\n      <td>зарубежные</td>\n      <td>genre</td>\n    </tr>\n    <tr>\n      <th>0</th>\n      <td>10711</td>\n      <td>детективы</td>\n      <td>genre</td>\n    </tr>\n    <tr>\n      <th>0</th>\n      <td>10711</td>\n      <td>мелодрамы</td>\n      <td>genre</td>\n    </tr>\n    <tr>\n      <th>1</th>\n      <td>2508</td>\n      <td>зарубежные</td>\n      <td>genre</td>\n    </tr>\n  </tbody>\n</table>\n</div>"
     },
     "execution_count": 85,
     "metadata": {},
     "output_type": "execute_result"
    }
   ],
   "source": [
    "items[\"genre\"] = items[\"genres\"].str.lower().str.replace(\", \", \",\", regex=False).str.split(\",\")\n",
    "genre_feature = items[[\"item_id\", \"genre\"]].explode(\"genre\")\n",
    "genre_feature.columns = [\"id\", \"value\"]\n",
    "genre_feature[\"feature\"] = \"genre\"\n",
    "genre_feature.head()"
   ],
   "metadata": {
    "collapsed": false
   }
  },
  {
   "cell_type": "markdown",
   "source": [
    "#### Content"
   ],
   "metadata": {
    "collapsed": false
   }
  },
  {
   "cell_type": "code",
   "execution_count": 86,
   "outputs": [
    {
     "data": {
      "text/plain": "      id value       feature\n0  10711  film  content_type\n1   2508  film  content_type\n2  10716  film  content_type\n3   7868  film  content_type\n4  16268  film  content_type",
      "text/html": "<div>\n<style scoped>\n    .dataframe tbody tr th:only-of-type {\n        vertical-align: middle;\n    }\n\n    .dataframe tbody tr th {\n        vertical-align: top;\n    }\n\n    .dataframe thead th {\n        text-align: right;\n    }\n</style>\n<table border=\"1\" class=\"dataframe\">\n  <thead>\n    <tr style=\"text-align: right;\">\n      <th></th>\n      <th>id</th>\n      <th>value</th>\n      <th>feature</th>\n    </tr>\n  </thead>\n  <tbody>\n    <tr>\n      <th>0</th>\n      <td>10711</td>\n      <td>film</td>\n      <td>content_type</td>\n    </tr>\n    <tr>\n      <th>1</th>\n      <td>2508</td>\n      <td>film</td>\n      <td>content_type</td>\n    </tr>\n    <tr>\n      <th>2</th>\n      <td>10716</td>\n      <td>film</td>\n      <td>content_type</td>\n    </tr>\n    <tr>\n      <th>3</th>\n      <td>7868</td>\n      <td>film</td>\n      <td>content_type</td>\n    </tr>\n    <tr>\n      <th>4</th>\n      <td>16268</td>\n      <td>film</td>\n      <td>content_type</td>\n    </tr>\n  </tbody>\n</table>\n</div>"
     },
     "execution_count": 86,
     "metadata": {},
     "output_type": "execute_result"
    }
   ],
   "source": [
    "content_feature = items.reindex(columns=[Columns.Item, \"content_type\"])\n",
    "content_feature.columns = [\"id\", \"value\"]\n",
    "content_feature[\"feature\"] = \"content_type\"\n",
    "content_feature.head()"
   ],
   "metadata": {
    "collapsed": false
   }
  },
  {
   "cell_type": "code",
   "execution_count": 87,
   "outputs": [],
   "source": [
    "item_features = pd.concat((genre_feature, content_feature))"
   ],
   "metadata": {
    "collapsed": false
   }
  },
  {
   "cell_type": "code",
   "execution_count": 88,
   "outputs": [
    {
     "data": {
      "text/plain": "          id       value       feature\n0      10711       драмы         genre\n0      10711  зарубежные         genre\n0      10711   детективы         genre\n0      10711   мелодрамы         genre\n1       2508  зарубежные         genre\n15958   6443      series  content_type\n15959   2367      series  content_type\n15960  10632      series  content_type\n15961   4538      series  content_type\n15962   3206      series  content_type",
      "text/html": "<div>\n<style scoped>\n    .dataframe tbody tr th:only-of-type {\n        vertical-align: middle;\n    }\n\n    .dataframe tbody tr th {\n        vertical-align: top;\n    }\n\n    .dataframe thead th {\n        text-align: right;\n    }\n</style>\n<table border=\"1\" class=\"dataframe\">\n  <thead>\n    <tr style=\"text-align: right;\">\n      <th></th>\n      <th>id</th>\n      <th>value</th>\n      <th>feature</th>\n    </tr>\n  </thead>\n  <tbody>\n    <tr>\n      <th>0</th>\n      <td>10711</td>\n      <td>драмы</td>\n      <td>genre</td>\n    </tr>\n    <tr>\n      <th>0</th>\n      <td>10711</td>\n      <td>зарубежные</td>\n      <td>genre</td>\n    </tr>\n    <tr>\n      <th>0</th>\n      <td>10711</td>\n      <td>детективы</td>\n      <td>genre</td>\n    </tr>\n    <tr>\n      <th>0</th>\n      <td>10711</td>\n      <td>мелодрамы</td>\n      <td>genre</td>\n    </tr>\n    <tr>\n      <th>1</th>\n      <td>2508</td>\n      <td>зарубежные</td>\n      <td>genre</td>\n    </tr>\n    <tr>\n      <th>15958</th>\n      <td>6443</td>\n      <td>series</td>\n      <td>content_type</td>\n    </tr>\n    <tr>\n      <th>15959</th>\n      <td>2367</td>\n      <td>series</td>\n      <td>content_type</td>\n    </tr>\n    <tr>\n      <th>15960</th>\n      <td>10632</td>\n      <td>series</td>\n      <td>content_type</td>\n    </tr>\n    <tr>\n      <th>15961</th>\n      <td>4538</td>\n      <td>series</td>\n      <td>content_type</td>\n    </tr>\n    <tr>\n      <th>15962</th>\n      <td>3206</td>\n      <td>series</td>\n      <td>content_type</td>\n    </tr>\n  </tbody>\n</table>\n</div>"
     },
     "execution_count": 88,
     "metadata": {},
     "output_type": "execute_result"
    }
   ],
   "source": [
    "pd.concat([item_features.head(), item_features.tail()])"
   ],
   "metadata": {
    "collapsed": false
   }
  },
  {
   "cell_type": "markdown",
   "source": [
    "# Metrics"
   ],
   "metadata": {
    "collapsed": false
   }
  },
  {
   "cell_type": "code",
   "execution_count": 89,
   "outputs": [],
   "source": [
    "metrics_name = {\n",
    "    'Precision': Precision,\n",
    "    'Recall': Recall,\n",
    "    'MAP': MAP,\n",
    "}\n",
    "\n",
    "metrics = {}\n",
    "for metric_name, metric in metrics_name.items():\n",
    "    for k in range(1, 11):\n",
    "        metrics[f'{metric_name}@{k}'] = metric(k=k)"
   ],
   "metadata": {
    "collapsed": false
   }
  },
  {
   "cell_type": "code",
   "execution_count": 90,
   "outputs": [
    {
     "data": {
      "text/plain": "{'Precision@1': Precision(k=1),\n 'Precision@2': Precision(k=2),\n 'Precision@3': Precision(k=3),\n 'Precision@4': Precision(k=4),\n 'Precision@5': Precision(k=5),\n 'Precision@6': Precision(k=6),\n 'Precision@7': Precision(k=7),\n 'Precision@8': Precision(k=8),\n 'Precision@9': Precision(k=9),\n 'Precision@10': Precision(k=10),\n 'Recall@1': Recall(k=1),\n 'Recall@2': Recall(k=2),\n 'Recall@3': Recall(k=3),\n 'Recall@4': Recall(k=4),\n 'Recall@5': Recall(k=5),\n 'Recall@6': Recall(k=6),\n 'Recall@7': Recall(k=7),\n 'Recall@8': Recall(k=8),\n 'Recall@9': Recall(k=9),\n 'Recall@10': Recall(k=10),\n 'MAP@1': MAP(k=1, divide_by_k=False),\n 'MAP@2': MAP(k=2, divide_by_k=False),\n 'MAP@3': MAP(k=3, divide_by_k=False),\n 'MAP@4': MAP(k=4, divide_by_k=False),\n 'MAP@5': MAP(k=5, divide_by_k=False),\n 'MAP@6': MAP(k=6, divide_by_k=False),\n 'MAP@7': MAP(k=7, divide_by_k=False),\n 'MAP@8': MAP(k=8, divide_by_k=False),\n 'MAP@9': MAP(k=9, divide_by_k=False),\n 'MAP@10': MAP(k=10, divide_by_k=False)}"
     },
     "execution_count": 90,
     "metadata": {},
     "output_type": "execute_result"
    }
   ],
   "source": [
    "metrics"
   ],
   "metadata": {
    "collapsed": false
   }
  },
  {
   "cell_type": "markdown",
   "source": [
    "# Models"
   ],
   "metadata": {
    "collapsed": false
   }
  },
  {
   "cell_type": "code",
   "execution_count": 91,
   "outputs": [
    {
     "name": "stdout",
     "output_type": "stream",
     "text": [
      "CPU times: user 2 µs, sys: 0 ns, total: 2 µs\n",
      "Wall time: 4.05 µs\n"
     ]
    }
   ],
   "source": [
    "%time\n",
    "dataset = Dataset.construct(\n",
    "    interactions_df=train,\n",
    "    user_features_df=user_features,\n",
    "    cat_user_features=[\"sex\", \"age\", \"income\"],\n",
    "    item_features_df=item_features,\n",
    "    cat_item_features=[\"genre\", \"content_type\"],\n",
    ")\n",
    "K_RECOS = 10\n",
    "SEED = 123\n",
    "NUM_THREADS = 16\n",
    "N_FACTORS = (32, 64)\n",
    "N_EPOCHS = 1\n",
    "USER_ALPHA = 0\n",
    "ITEM_ALPHA = 0\n",
    "LEARNING_RATE = (0.05, 0.01)\n"
   ],
   "metadata": {
    "collapsed": false
   }
  },
  {
   "cell_type": "code",
   "execution_count": 92,
   "outputs": [],
   "source": [
    "models = {}"
   ],
   "metadata": {
    "collapsed": false
   }
  },
  {
   "cell_type": "code",
   "execution_count": 93,
   "outputs": [],
   "source": [
    "def augment_inner_product(factors):\n",
    "    normed_factors = np.linalg.norm(factors, axis=1)\n",
    "    max_norm = normed_factors.max()\n",
    "\n",
    "    extra_dim = np.sqrt(max_norm ** 2 - normed_factors ** 2).reshape(-1, 1)\n",
    "    augmented_factors = np.append(factors, extra_dim, axis=1)\n",
    "    return max_norm, augmented_factors"
   ],
   "metadata": {
    "collapsed": false
   }
  },
  {
   "cell_type": "code",
   "execution_count": 94,
   "outputs": [
    {
     "name": "stdout",
     "output_type": "stream",
     "text": [
      "CPU times: user 1e+03 ns, sys: 1 µs, total: 2 µs\n",
      "Wall time: 3.58 µs\n"
     ]
    }
   ],
   "source": [
    "%time\n",
    "from service.rec_models.als_model import ALSModel\n",
    "\n",
    "for is_fitting_features in (True, False):\n",
    "    for n_factors in N_FACTORS:\n",
    "        models[f\"ALS_{n_factors}_{is_fitting_features}\"] = (\n",
    "            ALSModel(\n",
    "                dataset=dataset,\n",
    "                n_factors=n_factors,\n",
    "                is_fitting_features=is_fitting_features,\n",
    "                n_threads=NUM_THREADS,\n",
    "                seed=SEED\n",
    "            )\n",
    "        )"
   ],
   "metadata": {
    "collapsed": false
   }
  },
  {
   "cell_type": "code",
   "execution_count": 95,
   "outputs": [
    {
     "name": "stdout",
     "output_type": "stream",
     "text": [
      "CPU times: user 2 µs, sys: 0 ns, total: 2 µs\n",
      "Wall time: 2.86 µs\n"
     ]
    }
   ],
   "source": [
    "%time\n",
    "from service.rec_models.factoring_machine_model import FactoringMachineModel\n",
    "\n",
    "for n_factors in N_FACTORS:\n",
    "    for lr in LEARNING_RATE:\n",
    "        models[f\"LightFM_{n_factors}_{lr}\"] = (\n",
    "            FactoringMachineModel(\n",
    "                dataset=dataset,\n",
    "                n_factors=n_factors,\n",
    "                loss=\"warp\",\n",
    "                lr=lr,\n",
    "                ua=USER_ALPHA,\n",
    "                ia=ITEM_ALPHA,\n",
    "                n_epoch=N_EPOCHS,\n",
    "                n_threads=NUM_THREADS,\n",
    "                seed=SEED\n",
    "            )\n",
    "        )"
   ],
   "metadata": {
    "collapsed": false
   }
  },
  {
   "cell_type": "code",
   "execution_count": 96,
   "outputs": [
    {
     "data": {
      "text/plain": "{'ALS_32_True': <service.rec_models.als_model.ALSModel at 0x7f87fa444430>,\n 'ALS_64_True': <service.rec_models.als_model.ALSModel at 0x7f87fa444b20>,\n 'ALS_32_False': <service.rec_models.als_model.ALSModel at 0x7f87f8d816a0>,\n 'ALS_64_False': <service.rec_models.als_model.ALSModel at 0x7f87f8d817f0>,\n 'LightFM_32_0.05': <service.rec_models.factoring_machine_model.FactoringMachineModel at 0x7f87fbaf8040>,\n 'LightFM_32_0.01': <service.rec_models.factoring_machine_model.FactoringMachineModel at 0x7f87fa680f40>,\n 'LightFM_64_0.05': <service.rec_models.factoring_machine_model.FactoringMachineModel at 0x7f87fab3bf70>,\n 'LightFM_64_0.01': <service.rec_models.factoring_machine_model.FactoringMachineModel at 0x7f87fbaf8310>}"
     },
     "execution_count": 96,
     "metadata": {},
     "output_type": "execute_result"
    }
   ],
   "source": [
    "models"
   ],
   "metadata": {
    "collapsed": false
   }
  },
  {
   "cell_type": "code",
   "execution_count": 97,
   "outputs": [],
   "source": [
    "TEST_USERS = test[Columns.User].unique()"
   ],
   "metadata": {
    "collapsed": false
   }
  },
  {
   "cell_type": "code",
   "execution_count": 98,
   "outputs": [
    {
     "data": {
      "text/plain": "array([ 203219,  200197,   73446, ..., 1097559, 1097560, 1097561])"
     },
     "execution_count": 98,
     "metadata": {},
     "output_type": "execute_result"
    }
   ],
   "source": [
    "TEST_USERS"
   ],
   "metadata": {
    "collapsed": false
   }
  },
  {
   "cell_type": "code",
   "execution_count": 99,
   "outputs": [
    {
     "name": "stdout",
     "output_type": "stream",
     "text": [
      "CPU times: user 1e+03 ns, sys: 0 ns, total: 1e+03 ns\n",
      "Wall time: 3.1 µs\n"
     ]
    }
   ],
   "source": [
    "%time\n",
    "results = []\n",
    "for model_name, model in models.items():\n",
    "    model_quality = {'model': model_name}\n",
    "\n",
    "    recos = model.model.recommend(\n",
    "        users=TEST_USERS,\n",
    "        dataset=dataset,\n",
    "        k=K_RECOS,\n",
    "        filter_viewed=True,\n",
    "    )\n",
    "    metric_values = calc_metrics(metrics, recos, test, train)\n",
    "    model_quality.update(metric_values)\n",
    "    results.append(model_quality)"
   ],
   "metadata": {
    "collapsed": false
   }
  },
  {
   "cell_type": "code",
   "execution_count": 100,
   "outputs": [],
   "source": [
    "df_quality = pd.DataFrame(results).T\n",
    "\n",
    "df_quality.columns = df_quality.iloc[0]\n",
    "\n",
    "df_quality.drop('model', inplace=True)"
   ],
   "metadata": {
    "collapsed": false
   }
  },
  {
   "cell_type": "code",
   "execution_count": 101,
   "outputs": [
    {
     "data": {
      "text/plain": "<pandas.io.formats.style.Styler at 0x7f87fa34e6a0>",
      "text/html": "<style type=\"text/css\">\n#T_ed29b_row0_col7, #T_ed29b_row1_col7, #T_ed29b_row2_col6, #T_ed29b_row3_col7, #T_ed29b_row4_col7, #T_ed29b_row5_col7, #T_ed29b_row6_col7, #T_ed29b_row7_col5, #T_ed29b_row8_col7, #T_ed29b_row9_col7, #T_ed29b_row10_col7, #T_ed29b_row11_col7, #T_ed29b_row12_col6, #T_ed29b_row13_col7, #T_ed29b_row14_col6, #T_ed29b_row15_col7, #T_ed29b_row16_col6, #T_ed29b_row17_col7, #T_ed29b_row18_col6, #T_ed29b_row19_col7, #T_ed29b_row20_col7, #T_ed29b_row21_col7, #T_ed29b_row22_col7, #T_ed29b_row23_col7, #T_ed29b_row24_col7, #T_ed29b_row25_col7, #T_ed29b_row26_col7, #T_ed29b_row27_col7, #T_ed29b_row28_col7, #T_ed29b_row29_col7 {\n  background-color: lightgreen;\n}\n</style>\n<table id=\"T_ed29b\">\n  <thead>\n    <tr>\n      <th class=\"index_name level0\" >model</th>\n      <th id=\"T_ed29b_level0_col0\" class=\"col_heading level0 col0\" >ALS_32_True</th>\n      <th id=\"T_ed29b_level0_col1\" class=\"col_heading level0 col1\" >ALS_64_True</th>\n      <th id=\"T_ed29b_level0_col2\" class=\"col_heading level0 col2\" >ALS_32_False</th>\n      <th id=\"T_ed29b_level0_col3\" class=\"col_heading level0 col3\" >ALS_64_False</th>\n      <th id=\"T_ed29b_level0_col4\" class=\"col_heading level0 col4\" >LightFM_32_0.05</th>\n      <th id=\"T_ed29b_level0_col5\" class=\"col_heading level0 col5\" >LightFM_32_0.01</th>\n      <th id=\"T_ed29b_level0_col6\" class=\"col_heading level0 col6\" >LightFM_64_0.05</th>\n      <th id=\"T_ed29b_level0_col7\" class=\"col_heading level0 col7\" >LightFM_64_0.01</th>\n    </tr>\n  </thead>\n  <tbody>\n    <tr>\n      <th id=\"T_ed29b_level0_row0\" class=\"row_heading level0 row0\" >Precision@1</th>\n      <td id=\"T_ed29b_row0_col0\" class=\"data row0 col0\" >0.080696</td>\n      <td id=\"T_ed29b_row0_col1\" class=\"data row0 col1\" >0.081935</td>\n      <td id=\"T_ed29b_row0_col2\" class=\"data row0 col2\" >0.062303</td>\n      <td id=\"T_ed29b_row0_col3\" class=\"data row0 col3\" >0.062870</td>\n      <td id=\"T_ed29b_row0_col4\" class=\"data row0 col4\" >0.082457</td>\n      <td id=\"T_ed29b_row0_col5\" class=\"data row0 col5\" >0.081722</td>\n      <td id=\"T_ed29b_row0_col6\" class=\"data row0 col6\" >0.081528</td>\n      <td id=\"T_ed29b_row0_col7\" class=\"data row0 col7\" >0.082581</td>\n    </tr>\n    <tr>\n      <th id=\"T_ed29b_level0_row1\" class=\"row_heading level0 row1\" >Recall@1</th>\n      <td id=\"T_ed29b_row1_col0\" class=\"data row1 col0\" >0.041391</td>\n      <td id=\"T_ed29b_row1_col1\" class=\"data row1 col1\" >0.042242</td>\n      <td id=\"T_ed29b_row1_col2\" class=\"data row1 col2\" >0.030905</td>\n      <td id=\"T_ed29b_row1_col3\" class=\"data row1 col3\" >0.031339</td>\n      <td id=\"T_ed29b_row1_col4\" class=\"data row1 col4\" >0.042086</td>\n      <td id=\"T_ed29b_row1_col5\" class=\"data row1 col5\" >0.042329</td>\n      <td id=\"T_ed29b_row1_col6\" class=\"data row1 col6\" >0.041511</td>\n      <td id=\"T_ed29b_row1_col7\" class=\"data row1 col7\" >0.042453</td>\n    </tr>\n    <tr>\n      <th id=\"T_ed29b_level0_row2\" class=\"row_heading level0 row2\" >Precision@2</th>\n      <td id=\"T_ed29b_row2_col0\" class=\"data row2 col0\" >0.068685</td>\n      <td id=\"T_ed29b_row2_col1\" class=\"data row2 col1\" >0.068884</td>\n      <td id=\"T_ed29b_row2_col2\" class=\"data row2 col2\" >0.055324</td>\n      <td id=\"T_ed29b_row2_col3\" class=\"data row2 col3\" >0.055806</td>\n      <td id=\"T_ed29b_row2_col4\" class=\"data row2 col4\" >0.069729</td>\n      <td id=\"T_ed29b_row2_col5\" class=\"data row2 col5\" >0.069857</td>\n      <td id=\"T_ed29b_row2_col6\" class=\"data row2 col6\" >0.070482</td>\n      <td id=\"T_ed29b_row2_col7\" class=\"data row2 col7\" >0.070101</td>\n    </tr>\n    <tr>\n      <th id=\"T_ed29b_level0_row3\" class=\"row_heading level0 row3\" >Recall@2</th>\n      <td id=\"T_ed29b_row3_col0\" class=\"data row3 col0\" >0.068987</td>\n      <td id=\"T_ed29b_row3_col1\" class=\"data row3 col1\" >0.069297</td>\n      <td id=\"T_ed29b_row3_col2\" class=\"data row3 col2\" >0.054275</td>\n      <td id=\"T_ed29b_row3_col3\" class=\"data row3 col3\" >0.054738</td>\n      <td id=\"T_ed29b_row3_col4\" class=\"data row3 col4\" >0.069486</td>\n      <td id=\"T_ed29b_row3_col5\" class=\"data row3 col5\" >0.070177</td>\n      <td id=\"T_ed29b_row3_col6\" class=\"data row3 col6\" >0.070092</td>\n      <td id=\"T_ed29b_row3_col7\" class=\"data row3 col7\" >0.070257</td>\n    </tr>\n    <tr>\n      <th id=\"T_ed29b_level0_row4\" class=\"row_heading level0 row4\" >Precision@3</th>\n      <td id=\"T_ed29b_row4_col0\" class=\"data row4 col0\" >0.058786</td>\n      <td id=\"T_ed29b_row4_col1\" class=\"data row4 col1\" >0.058830</td>\n      <td id=\"T_ed29b_row4_col2\" class=\"data row4 col2\" >0.050838</td>\n      <td id=\"T_ed29b_row4_col3\" class=\"data row4 col3\" >0.051490</td>\n      <td id=\"T_ed29b_row4_col4\" class=\"data row4 col4\" >0.061861</td>\n      <td id=\"T_ed29b_row4_col5\" class=\"data row4 col5\" >0.062684</td>\n      <td id=\"T_ed29b_row4_col6\" class=\"data row4 col6\" >0.062749</td>\n      <td id=\"T_ed29b_row4_col7\" class=\"data row4 col7\" >0.063029</td>\n    </tr>\n    <tr>\n      <th id=\"T_ed29b_level0_row5\" class=\"row_heading level0 row5\" >Recall@3</th>\n      <td id=\"T_ed29b_row5_col0\" class=\"data row5 col0\" >0.086812</td>\n      <td id=\"T_ed29b_row5_col1\" class=\"data row5 col1\" >0.086957</td>\n      <td id=\"T_ed29b_row5_col2\" class=\"data row5 col2\" >0.073727</td>\n      <td id=\"T_ed29b_row5_col3\" class=\"data row5 col3\" >0.074370</td>\n      <td id=\"T_ed29b_row5_col4\" class=\"data row5 col4\" >0.091121</td>\n      <td id=\"T_ed29b_row5_col5\" class=\"data row5 col5\" >0.093115</td>\n      <td id=\"T_ed29b_row5_col6\" class=\"data row5 col6\" >0.092203</td>\n      <td id=\"T_ed29b_row5_col7\" class=\"data row5 col7\" >0.093405</td>\n    </tr>\n    <tr>\n      <th id=\"T_ed29b_level0_row6\" class=\"row_heading level0 row6\" >Precision@4</th>\n      <td id=\"T_ed29b_row6_col0\" class=\"data row6 col0\" >0.052195</td>\n      <td id=\"T_ed29b_row6_col1\" class=\"data row6 col1\" >0.052330</td>\n      <td id=\"T_ed29b_row6_col2\" class=\"data row6 col2\" >0.047024</td>\n      <td id=\"T_ed29b_row6_col3\" class=\"data row6 col3\" >0.047595</td>\n      <td id=\"T_ed29b_row6_col4\" class=\"data row6 col4\" >0.055866</td>\n      <td id=\"T_ed29b_row6_col5\" class=\"data row6 col5\" >0.056683</td>\n      <td id=\"T_ed29b_row6_col6\" class=\"data row6 col6\" >0.056298</td>\n      <td id=\"T_ed29b_row6_col7\" class=\"data row6 col7\" >0.056846</td>\n    </tr>\n    <tr>\n      <th id=\"T_ed29b_level0_row7\" class=\"row_heading level0 row7\" >Recall@4</th>\n      <td id=\"T_ed29b_row7_col0\" class=\"data row7 col0\" >0.101268</td>\n      <td id=\"T_ed29b_row7_col1\" class=\"data row7 col1\" >0.101609</td>\n      <td id=\"T_ed29b_row7_col2\" class=\"data row7 col2\" >0.090043</td>\n      <td id=\"T_ed29b_row7_col3\" class=\"data row7 col3\" >0.090901</td>\n      <td id=\"T_ed29b_row7_col4\" class=\"data row7 col4\" >0.108471</td>\n      <td id=\"T_ed29b_row7_col5\" class=\"data row7 col5\" >0.111190</td>\n      <td id=\"T_ed29b_row7_col6\" class=\"data row7 col6\" >0.109190</td>\n      <td id=\"T_ed29b_row7_col7\" class=\"data row7 col7\" >0.111159</td>\n    </tr>\n    <tr>\n      <th id=\"T_ed29b_level0_row8\" class=\"row_heading level0 row8\" >Precision@5</th>\n      <td id=\"T_ed29b_row8_col0\" class=\"data row8 col0\" >0.046856</td>\n      <td id=\"T_ed29b_row8_col1\" class=\"data row8 col1\" >0.046789</td>\n      <td id=\"T_ed29b_row8_col2\" class=\"data row8 col2\" >0.043510</td>\n      <td id=\"T_ed29b_row8_col3\" class=\"data row8 col3\" >0.043703</td>\n      <td id=\"T_ed29b_row8_col4\" class=\"data row8 col4\" >0.050549</td>\n      <td id=\"T_ed29b_row8_col5\" class=\"data row8 col5\" >0.051271</td>\n      <td id=\"T_ed29b_row8_col6\" class=\"data row8 col6\" >0.050807</td>\n      <td id=\"T_ed29b_row8_col7\" class=\"data row8 col7\" >0.051529</td>\n    </tr>\n    <tr>\n      <th id=\"T_ed29b_level0_row9\" class=\"row_heading level0 row9\" >Recall@5</th>\n      <td id=\"T_ed29b_row9_col0\" class=\"data row9 col0\" >0.112475</td>\n      <td id=\"T_ed29b_row9_col1\" class=\"data row9 col1\" >0.112332</td>\n      <td id=\"T_ed29b_row9_col2\" class=\"data row9 col2\" >0.102698</td>\n      <td id=\"T_ed29b_row9_col3\" class=\"data row9 col3\" >0.102610</td>\n      <td id=\"T_ed29b_row9_col4\" class=\"data row9 col4\" >0.121482</td>\n      <td id=\"T_ed29b_row9_col5\" class=\"data row9 col5\" >0.124693</td>\n      <td id=\"T_ed29b_row9_col6\" class=\"data row9 col6\" >0.121798</td>\n      <td id=\"T_ed29b_row9_col7\" class=\"data row9 col7\" >0.124966</td>\n    </tr>\n    <tr>\n      <th id=\"T_ed29b_level0_row10\" class=\"row_heading level0 row10\" >Precision@6</th>\n      <td id=\"T_ed29b_row10_col0\" class=\"data row10 col0\" >0.042115</td>\n      <td id=\"T_ed29b_row10_col1\" class=\"data row10 col1\" >0.042043</td>\n      <td id=\"T_ed29b_row10_col2\" class=\"data row10 col2\" >0.040233</td>\n      <td id=\"T_ed29b_row10_col3\" class=\"data row10 col3\" >0.040369</td>\n      <td id=\"T_ed29b_row10_col4\" class=\"data row10 col4\" >0.045967</td>\n      <td id=\"T_ed29b_row10_col5\" class=\"data row10 col5\" >0.046241</td>\n      <td id=\"T_ed29b_row10_col6\" class=\"data row10 col6\" >0.046336</td>\n      <td id=\"T_ed29b_row10_col7\" class=\"data row10 col7\" >0.046730</td>\n    </tr>\n    <tr>\n      <th id=\"T_ed29b_level0_row11\" class=\"row_heading level0 row11\" >Recall@6</th>\n      <td id=\"T_ed29b_row11_col0\" class=\"data row11 col0\" >0.119944</td>\n      <td id=\"T_ed29b_row11_col1\" class=\"data row11 col1\" >0.119930</td>\n      <td id=\"T_ed29b_row11_col2\" class=\"data row11 col2\" >0.112671</td>\n      <td id=\"T_ed29b_row11_col3\" class=\"data row11 col3\" >0.112554</td>\n      <td id=\"T_ed29b_row11_col4\" class=\"data row11 col4\" >0.131337</td>\n      <td id=\"T_ed29b_row11_col5\" class=\"data row11 col5\" >0.133804</td>\n      <td id=\"T_ed29b_row11_col6\" class=\"data row11 col6\" >0.131965</td>\n      <td id=\"T_ed29b_row11_col7\" class=\"data row11 col7\" >0.135023</td>\n    </tr>\n    <tr>\n      <th id=\"T_ed29b_level0_row12\" class=\"row_heading level0 row12\" >Precision@7</th>\n      <td id=\"T_ed29b_row12_col0\" class=\"data row12 col0\" >0.038385</td>\n      <td id=\"T_ed29b_row12_col1\" class=\"data row12 col1\" >0.038282</td>\n      <td id=\"T_ed29b_row12_col2\" class=\"data row12 col2\" >0.037650</td>\n      <td id=\"T_ed29b_row12_col3\" class=\"data row12 col3\" >0.037552</td>\n      <td id=\"T_ed29b_row12_col4\" class=\"data row12 col4\" >0.042074</td>\n      <td id=\"T_ed29b_row12_col5\" class=\"data row12 col5\" >0.042140</td>\n      <td id=\"T_ed29b_row12_col6\" class=\"data row12 col6\" >0.042560</td>\n      <td id=\"T_ed29b_row12_col7\" class=\"data row12 col7\" >0.042503</td>\n    </tr>\n    <tr>\n      <th id=\"T_ed29b_level0_row13\" class=\"row_heading level0 row13\" >Recall@7</th>\n      <td id=\"T_ed29b_row13_col0\" class=\"data row13 col0\" >0.126435</td>\n      <td id=\"T_ed29b_row13_col1\" class=\"data row13 col1\" >0.126217</td>\n      <td id=\"T_ed29b_row13_col2\" class=\"data row13 col2\" >0.121566</td>\n      <td id=\"T_ed29b_row13_col3\" class=\"data row13 col3\" >0.120717</td>\n      <td id=\"T_ed29b_row13_col4\" class=\"data row13 col4\" >0.138963</td>\n      <td id=\"T_ed29b_row13_col5\" class=\"data row13 col5\" >0.141552</td>\n      <td id=\"T_ed29b_row13_col6\" class=\"data row13 col6\" >0.140013</td>\n      <td id=\"T_ed29b_row13_col7\" class=\"data row13 col7\" >0.142369</td>\n    </tr>\n    <tr>\n      <th id=\"T_ed29b_level0_row14\" class=\"row_heading level0 row14\" >Precision@8</th>\n      <td id=\"T_ed29b_row14_col0\" class=\"data row14 col0\" >0.035344</td>\n      <td id=\"T_ed29b_row14_col1\" class=\"data row14 col1\" >0.035243</td>\n      <td id=\"T_ed29b_row14_col2\" class=\"data row14 col2\" >0.035379</td>\n      <td id=\"T_ed29b_row14_col3\" class=\"data row14 col3\" >0.035056</td>\n      <td id=\"T_ed29b_row14_col4\" class=\"data row14 col4\" >0.038871</td>\n      <td id=\"T_ed29b_row14_col5\" class=\"data row14 col5\" >0.038942</td>\n      <td id=\"T_ed29b_row14_col6\" class=\"data row14 col6\" >0.039456</td>\n      <td id=\"T_ed29b_row14_col7\" class=\"data row14 col7\" >0.039257</td>\n    </tr>\n    <tr>\n      <th id=\"T_ed29b_level0_row15\" class=\"row_heading level0 row15\" >Recall@8</th>\n      <td id=\"T_ed29b_row15_col0\" class=\"data row15 col0\" >0.132194</td>\n      <td id=\"T_ed29b_row15_col1\" class=\"data row15 col1\" >0.132057</td>\n      <td id=\"T_ed29b_row15_col2\" class=\"data row15 col2\" >0.129109</td>\n      <td id=\"T_ed29b_row15_col3\" class=\"data row15 col3\" >0.127388</td>\n      <td id=\"T_ed29b_row15_col4\" class=\"data row15 col4\" >0.145903</td>\n      <td id=\"T_ed29b_row15_col5\" class=\"data row15 col5\" >0.149045</td>\n      <td id=\"T_ed29b_row15_col6\" class=\"data row15 col6\" >0.147561</td>\n      <td id=\"T_ed29b_row15_col7\" class=\"data row15 col7\" >0.149733</td>\n    </tr>\n    <tr>\n      <th id=\"T_ed29b_level0_row16\" class=\"row_heading level0 row16\" >Precision@9</th>\n      <td id=\"T_ed29b_row16_col0\" class=\"data row16 col0\" >0.032954</td>\n      <td id=\"T_ed29b_row16_col1\" class=\"data row16 col1\" >0.032853</td>\n      <td id=\"T_ed29b_row16_col2\" class=\"data row16 col2\" >0.033528</td>\n      <td id=\"T_ed29b_row16_col3\" class=\"data row16 col3\" >0.033026</td>\n      <td id=\"T_ed29b_row16_col4\" class=\"data row16 col4\" >0.036345</td>\n      <td id=\"T_ed29b_row16_col5\" class=\"data row16 col5\" >0.036287</td>\n      <td id=\"T_ed29b_row16_col6\" class=\"data row16 col6\" >0.036905</td>\n      <td id=\"T_ed29b_row16_col7\" class=\"data row16 col7\" >0.036747</td>\n    </tr>\n    <tr>\n      <th id=\"T_ed29b_level0_row17\" class=\"row_heading level0 row17\" >Recall@9</th>\n      <td id=\"T_ed29b_row17_col0\" class=\"data row17 col0\" >0.137836</td>\n      <td id=\"T_ed29b_row17_col1\" class=\"data row17 col1\" >0.137629</td>\n      <td id=\"T_ed29b_row17_col2\" class=\"data row17 col2\" >0.136427</td>\n      <td id=\"T_ed29b_row17_col3\" class=\"data row17 col3\" >0.133833</td>\n      <td id=\"T_ed29b_row17_col4\" class=\"data row17 col4\" >0.152531</td>\n      <td id=\"T_ed29b_row17_col5\" class=\"data row17 col5\" >0.155809</td>\n      <td id=\"T_ed29b_row17_col6\" class=\"data row17 col6\" >0.154523</td>\n      <td id=\"T_ed29b_row17_col7\" class=\"data row17 col7\" >0.157372</td>\n    </tr>\n    <tr>\n      <th id=\"T_ed29b_level0_row18\" class=\"row_heading level0 row18\" >Precision@10</th>\n      <td id=\"T_ed29b_row18_col0\" class=\"data row18 col0\" >0.030972</td>\n      <td id=\"T_ed29b_row18_col1\" class=\"data row18 col1\" >0.030832</td>\n      <td id=\"T_ed29b_row18_col2\" class=\"data row18 col2\" >0.031878</td>\n      <td id=\"T_ed29b_row18_col3\" class=\"data row18 col3\" >0.031244</td>\n      <td id=\"T_ed29b_row18_col4\" class=\"data row18 col4\" >0.034252</td>\n      <td id=\"T_ed29b_row18_col5\" class=\"data row18 col5\" >0.034031</td>\n      <td id=\"T_ed29b_row18_col6\" class=\"data row18 col6\" >0.034761</td>\n      <td id=\"T_ed29b_row18_col7\" class=\"data row18 col7\" >0.034468</td>\n    </tr>\n    <tr>\n      <th id=\"T_ed29b_level0_row19\" class=\"row_heading level0 row19\" >Recall@10</th>\n      <td id=\"T_ed29b_row19_col0\" class=\"data row19 col0\" >0.143264</td>\n      <td id=\"T_ed29b_row19_col1\" class=\"data row19 col1\" >0.142695</td>\n      <td id=\"T_ed29b_row19_col2\" class=\"data row19 col2\" >0.142920</td>\n      <td id=\"T_ed29b_row19_col3\" class=\"data row19 col3\" >0.139561</td>\n      <td id=\"T_ed29b_row19_col4\" class=\"data row19 col4\" >0.159340</td>\n      <td id=\"T_ed29b_row19_col5\" class=\"data row19 col5\" >0.161867</td>\n      <td id=\"T_ed29b_row19_col6\" class=\"data row19 col6\" >0.161163</td>\n      <td id=\"T_ed29b_row19_col7\" class=\"data row19 col7\" >0.163552</td>\n    </tr>\n    <tr>\n      <th id=\"T_ed29b_level0_row20\" class=\"row_heading level0 row20\" >MAP@1</th>\n      <td id=\"T_ed29b_row20_col0\" class=\"data row20 col0\" >0.041391</td>\n      <td id=\"T_ed29b_row20_col1\" class=\"data row20 col1\" >0.042242</td>\n      <td id=\"T_ed29b_row20_col2\" class=\"data row20 col2\" >0.030905</td>\n      <td id=\"T_ed29b_row20_col3\" class=\"data row20 col3\" >0.031339</td>\n      <td id=\"T_ed29b_row20_col4\" class=\"data row20 col4\" >0.042086</td>\n      <td id=\"T_ed29b_row20_col5\" class=\"data row20 col5\" >0.042329</td>\n      <td id=\"T_ed29b_row20_col6\" class=\"data row20 col6\" >0.041511</td>\n      <td id=\"T_ed29b_row20_col7\" class=\"data row20 col7\" >0.042453</td>\n    </tr>\n    <tr>\n      <th id=\"T_ed29b_level0_row21\" class=\"row_heading level0 row21\" >MAP@2</th>\n      <td id=\"T_ed29b_row21_col0\" class=\"data row21 col0\" >0.055866</td>\n      <td id=\"T_ed29b_row21_col1\" class=\"data row21 col1\" >0.056454</td>\n      <td id=\"T_ed29b_row21_col2\" class=\"data row21 col2\" >0.043088</td>\n      <td id=\"T_ed29b_row21_col3\" class=\"data row21 col3\" >0.043570</td>\n      <td id=\"T_ed29b_row21_col4\" class=\"data row21 col4\" >0.056531</td>\n      <td id=\"T_ed29b_row21_col5\" class=\"data row21 col5\" >0.056954</td>\n      <td id=\"T_ed29b_row21_col6\" class=\"data row21 col6\" >0.056552</td>\n      <td id=\"T_ed29b_row21_col7\" class=\"data row21 col7\" >0.057068</td>\n    </tr>\n    <tr>\n      <th id=\"T_ed29b_level0_row22\" class=\"row_heading level0 row22\" >MAP@3</th>\n      <td id=\"T_ed29b_row22_col0\" class=\"data row22 col0\" >0.062334</td>\n      <td id=\"T_ed29b_row22_col1\" class=\"data row22 col1\" >0.062864</td>\n      <td id=\"T_ed29b_row22_col2\" class=\"data row22 col2\" >0.050039</td>\n      <td id=\"T_ed29b_row22_col3\" class=\"data row22 col3\" >0.050602</td>\n      <td id=\"T_ed29b_row22_col4\" class=\"data row22 col4\" >0.064359</td>\n      <td id=\"T_ed29b_row22_col5\" class=\"data row22 col5\" >0.065230</td>\n      <td id=\"T_ed29b_row22_col6\" class=\"data row22 col6\" >0.064553</td>\n      <td id=\"T_ed29b_row22_col7\" class=\"data row22 col7\" >0.065438</td>\n    </tr>\n    <tr>\n      <th id=\"T_ed29b_level0_row23\" class=\"row_heading level0 row23\" >MAP@4</th>\n      <td id=\"T_ed29b_row23_col0\" class=\"data row23 col0\" >0.066372</td>\n      <td id=\"T_ed29b_row23_col1\" class=\"data row23 col1\" >0.066965</td>\n      <td id=\"T_ed29b_row23_col2\" class=\"data row23 col2\" >0.054503</td>\n      <td id=\"T_ed29b_row23_col3\" class=\"data row23 col3\" >0.055127</td>\n      <td id=\"T_ed29b_row23_col4\" class=\"data row23 col4\" >0.069171</td>\n      <td id=\"T_ed29b_row23_col5\" class=\"data row23 col5\" >0.070241</td>\n      <td id=\"T_ed29b_row23_col6\" class=\"data row23 col6\" >0.069256</td>\n      <td id=\"T_ed29b_row23_col7\" class=\"data row23 col7\" >0.070396</td>\n    </tr>\n    <tr>\n      <th id=\"T_ed29b_level0_row24\" class=\"row_heading level0 row24\" >MAP@5</th>\n      <td id=\"T_ed29b_row24_col0\" class=\"data row24 col0\" >0.068939</td>\n      <td id=\"T_ed29b_row24_col1\" class=\"data row24 col1\" >0.069422</td>\n      <td id=\"T_ed29b_row24_col2\" class=\"data row24 col2\" >0.057385</td>\n      <td id=\"T_ed29b_row24_col3\" class=\"data row24 col3\" >0.057821</td>\n      <td id=\"T_ed29b_row24_col4\" class=\"data row24 col4\" >0.072168</td>\n      <td id=\"T_ed29b_row24_col5\" class=\"data row24 col5\" >0.073375</td>\n      <td id=\"T_ed29b_row24_col6\" class=\"data row24 col6\" >0.072162</td>\n      <td id=\"T_ed29b_row24_col7\" class=\"data row24 col7\" >0.073564</td>\n    </tr>\n    <tr>\n      <th id=\"T_ed29b_level0_row25\" class=\"row_heading level0 row25\" >MAP@6</th>\n      <td id=\"T_ed29b_row25_col0\" class=\"data row25 col0\" >0.070419</td>\n      <td id=\"T_ed29b_row25_col1\" class=\"data row25 col1\" >0.070920</td>\n      <td id=\"T_ed29b_row25_col2\" class=\"data row25 col2\" >0.059295</td>\n      <td id=\"T_ed29b_row25_col3\" class=\"data row25 col3\" >0.059742</td>\n      <td id=\"T_ed29b_row25_col4\" class=\"data row25 col4\" >0.074089</td>\n      <td id=\"T_ed29b_row25_col5\" class=\"data row25 col5\" >0.075171</td>\n      <td id=\"T_ed29b_row25_col6\" class=\"data row25 col6\" >0.074161</td>\n      <td id=\"T_ed29b_row25_col7\" class=\"data row25 col7\" >0.075536</td>\n    </tr>\n    <tr>\n      <th id=\"T_ed29b_level0_row26\" class=\"row_heading level0 row26\" >MAP@7</th>\n      <td id=\"T_ed29b_row26_col0\" class=\"data row26 col0\" >0.071532</td>\n      <td id=\"T_ed29b_row26_col1\" class=\"data row26 col1\" >0.072012</td>\n      <td id=\"T_ed29b_row26_col2\" class=\"data row26 col2\" >0.060777</td>\n      <td id=\"T_ed29b_row26_col3\" class=\"data row26 col3\" >0.061115</td>\n      <td id=\"T_ed29b_row26_col4\" class=\"data row26 col4\" >0.075393</td>\n      <td id=\"T_ed29b_row26_col5\" class=\"data row26 col5\" >0.076493</td>\n      <td id=\"T_ed29b_row26_col6\" class=\"data row26 col6\" >0.075512</td>\n      <td id=\"T_ed29b_row26_col7\" class=\"data row26 col7\" >0.076808</td>\n    </tr>\n    <tr>\n      <th id=\"T_ed29b_level0_row27\" class=\"row_heading level0 row27\" >MAP@8</th>\n      <td id=\"T_ed29b_row27_col0\" class=\"data row27 col0\" >0.072406</td>\n      <td id=\"T_ed29b_row27_col1\" class=\"data row27 col1\" >0.072883</td>\n      <td id=\"T_ed29b_row27_col2\" class=\"data row27 col2\" >0.061916</td>\n      <td id=\"T_ed29b_row27_col3\" class=\"data row27 col3\" >0.062116</td>\n      <td id=\"T_ed29b_row27_col4\" class=\"data row27 col4\" >0.076414</td>\n      <td id=\"T_ed29b_row27_col5\" class=\"data row27 col5\" >0.077625</td>\n      <td id=\"T_ed29b_row27_col6\" class=\"data row27 col6\" >0.076632</td>\n      <td id=\"T_ed29b_row27_col7\" class=\"data row27 col7\" >0.077918</td>\n    </tr>\n    <tr>\n      <th id=\"T_ed29b_level0_row28\" class=\"row_heading level0 row28\" >MAP@9</th>\n      <td id=\"T_ed29b_row28_col0\" class=\"data row28 col0\" >0.073171</td>\n      <td id=\"T_ed29b_row28_col1\" class=\"data row28 col1\" >0.073634</td>\n      <td id=\"T_ed29b_row28_col2\" class=\"data row28 col2\" >0.062900</td>\n      <td id=\"T_ed29b_row28_col3\" class=\"data row28 col3\" >0.062980</td>\n      <td id=\"T_ed29b_row28_col4\" class=\"data row28 col4\" >0.077313</td>\n      <td id=\"T_ed29b_row28_col5\" class=\"data row28 col5\" >0.078525</td>\n      <td id=\"T_ed29b_row28_col6\" class=\"data row28 col6\" >0.077580</td>\n      <td id=\"T_ed29b_row28_col7\" class=\"data row28 col7\" >0.078935</td>\n    </tr>\n    <tr>\n      <th id=\"T_ed29b_level0_row29\" class=\"row_heading level0 row29\" >MAP@10</th>\n      <td id=\"T_ed29b_row29_col0\" class=\"data row29 col0\" >0.073828</td>\n      <td id=\"T_ed29b_row29_col1\" class=\"data row29 col1\" >0.074249</td>\n      <td id=\"T_ed29b_row29_col2\" class=\"data row29 col2\" >0.063700</td>\n      <td id=\"T_ed29b_row29_col3\" class=\"data row29 col3\" >0.063689</td>\n      <td id=\"T_ed29b_row29_col4\" class=\"data row29 col4\" >0.078125</td>\n      <td id=\"T_ed29b_row29_col5\" class=\"data row29 col5\" >0.079266</td>\n      <td id=\"T_ed29b_row29_col6\" class=\"data row29 col6\" >0.078393</td>\n      <td id=\"T_ed29b_row29_col7\" class=\"data row29 col7\" >0.079697</td>\n    </tr>\n  </tbody>\n</table>\n"
     },
     "execution_count": 101,
     "metadata": {},
     "output_type": "execute_result"
    }
   ],
   "source": [
    "df_quality.style.highlight_max(color='lightgreen', axis=1)"
   ],
   "metadata": {
    "collapsed": false
   }
  },
  {
   "cell_type": "code",
   "execution_count": 102,
   "outputs": [],
   "source": [
    "def _recommend_all(query_factors, index_factors, topn=10):\n",
    "    output = query_factors.dot(index_factors.T)\n",
    "    argpartition_indices = np.argpartition(output, -topn)[:, -topn:]\n",
    "\n",
    "    x_indices = np.repeat(np.arange(output.shape[0]), topn)\n",
    "    y_indices = argpartition_indices.flatten()\n",
    "    top_value = output[x_indices, y_indices].reshape(output.shape[0], topn)\n",
    "    top_indices = np.argsort(top_value)[:, ::-1]\n",
    "\n",
    "    y_indices = top_indices.flatten()\n",
    "    top_indices = argpartition_indices[x_indices, y_indices]\n",
    "    labels = top_indices.reshape(-1, topn)\n",
    "    distances = output[x_indices, top_indices].reshape(-1, topn)\n",
    "    return labels, distances"
   ],
   "metadata": {
    "collapsed": false
   }
  },
  {
   "cell_type": "code",
   "execution_count": 103,
   "outputs": [
    {
     "name": "stdout",
     "output_type": "stream",
     "text": [
      "[[ 18  29  41  30 119  60  98 171 266  84]\n",
      " [ 18 119  29  41  98 171  30  60  27 103]\n",
      " [ 29  18 119 103 171  59  98  27  11 776]]\n"
     ]
    }
   ],
   "source": [
    "import hnswlib\n",
    "\n",
    "model = models[\"LightFM_64_0.01\"].model\n",
    "user_embeddings, item_embeddings = model.get_vectors(\n",
    "    dataset\n",
    ")\n",
    "\n",
    "labels, _ = _recommend_all(\n",
    "    user_embeddings[[-3, -2, -1], :],\n",
    "    item_embeddings\n",
    ")\n",
    "\n",
    "print(labels)\n",
    "\n",
    "label_fake_1 = labels[0, :].flatten()\n",
    "label_fake_2 = labels[1, :].flatten()\n",
    "label_fake_3 = labels[2, :].flatten()"
   ],
   "metadata": {
    "collapsed": false
   }
  },
  {
   "cell_type": "code",
   "execution_count": 104,
   "outputs": [
    {
     "data": {
      "text/plain": "       item_id content_type  \\\n36          41         film   \n2413        84         film   \n3309        60         film   \n5699       171         film   \n8501        30         film   \n10810       29         film   \n12628       18         film   \n14983       98       series   \n\n                                                   title  \\\n36                                   Один шанс из тысячи   \n2413                              Рожденный после смерти   \n3309                   А вот и она (с тифлокомментарием)   \n5699   Уотергейт. Крушение Белого дома (жестовым языком)   \n8501   Thomas & Friends: Легенда Содора о пропавших с...   \n10810                             Похитители велосипедов   \n12628                                   Бесконечная ночь   \n14983                                   Ходячие мертвецы   \n\n                                              title_orig  release_year  \\\n36                              One Chance in a Thousand        1968.0   \n2413                                    Strange But True        2019.0   \n3309             And So It Goes (with Audio Description)        2014.0   \n5699   Mark Felt: The Man Who Brought Down the White ...        2017.0   \n8501   Thomas & Friends: Sodor's Legend of the Lost T...        2015.0   \n10810                                Ladri di biciclette        1948.0   \n12628                                 Hard Night Falling        2019.0   \n14983                                   The Walking Dead        2010.0   \n\n                                                  genres       countries  \\\n36                         русские, военные, приключения            СССР   \n2413                         драмы, зарубежные, триллеры          Канада   \n3309                      мелодрамы, зарубежные, комедии             США   \n5699           драмы, исторические, зарубежные, триллеры             США   \n8501   приключения, зарубежные, семейное, фэнтези, ко...  Великобритания   \n10810                                              драмы          Италия   \n12628             боевики, триллеры, криминал, детективы     Италия, США   \n14983                                       драмы, ужасы             США   \n\n       for_kids  age_rating studios         directors  \\\n36          NaN        12.0     NaN      Леон Кочарян   \n2413        NaN        18.0     NaN       Роуэн Этейл   \n3309        NaN        12.0     NaN        Роб Райнер   \n5699        NaN        16.0     NaN   Питер Ландесман   \n8501        NaN         0.0     NaN     Дэвид Стоутен   \n10810       NaN        12.0     NaN  Витторио Де Сика   \n12628       NaN        16.0     NaN     Джорджо Бруно   \n14983       NaN        18.0     NaN     Грег Никотеро   \n\n                                                  actors  \\\n36     Николай Гринько, Александр Фадеев, Владимир Ма...   \n2413   Аллегра Фултон, Блайт Даннер, Брайан Кокс, Ван...   \n3309   Майкл Дуглас, Дайан Китон, Йайа ДаКоста, Стерл...   \n5699   Лиам Нисон, Мартон Чокаш, Дайан Лэйн, Тони Гол...   \n8501   Джон Хёрт, Эдди Редмэйн, Джейми Кэмпбелл Бауэр...   \n10810  Ламберто Маджорани, Энцо Стайола, Лианелла Кар...   \n12628  Дольф Лундгрен, Хал Яманоути, Наталия Берн, Ма...   \n14983  Эндрю Линкольн, Норман Ридус, Джон Бернтал, Са...   \n\n                                             description  \\\n36     1942 год. Группа советских диверсантов с трудо...   \n2413   Через пять лет после трагической гибели Ронни,...   \n3309   После смерти жены пожилой Орен Литтл превращае...   \n5699   Зам. начальника ФБР Марк Фелт готов пожертвова...   \n8501   На острове Содор живут необычные и говорящие п...   \n10810  Послевоенный Рим, давно неработающий Антонио в...   \n12628  Криминальный авторитет Горо планирует ограбить...   \n14983  Данный сериал распространяется по особой модел...   \n\n                                                keywords            year_bin  \\\n36                    Один, шанс, из, тысячи, 1968, СССР  (1896.999, 1990.0]   \n2413   Рожденный, после, смерти, 2019, Канада, месть,...    (2015.0, 2020.0]   \n3309              вот, она, тифлокомментарием, 2014, США    (2010.0, 2015.0]   \n5699   Уотергейт, Крушение, Белого, дома, жестовым, я...    (2015.0, 2020.0]   \n8501   Thomas, Friends, Легенда, Содора, о, пропавших...    (2010.0, 2015.0]   \n10810  рим, италия, итальянский, езда на велосипеде, ...  (1896.999, 1990.0]   \n12628  заложник, ограбление, головорез, прихвостни, 2...    (2015.0, 2020.0]   \n14983  2010-е, американец корейского происхождения, а...    (2005.0, 2010.0]   \n\n                                                   genre  \n36                       [русские, военные, приключения]  \n2413                       [драмы, зарубежные, триллеры]  \n3309                    [мелодрамы, зарубежные, комедии]  \n5699         [драмы, исторические, зарубежные, триллеры]  \n8501   [приключения, зарубежные, семейное, фэнтези, к...  \n10810                                            [драмы]  \n12628           [боевики, триллеры, криминал, детективы]  \n14983                                     [драмы, ужасы]  ",
      "text/html": "<div>\n<style scoped>\n    .dataframe tbody tr th:only-of-type {\n        vertical-align: middle;\n    }\n\n    .dataframe tbody tr th {\n        vertical-align: top;\n    }\n\n    .dataframe thead th {\n        text-align: right;\n    }\n</style>\n<table border=\"1\" class=\"dataframe\">\n  <thead>\n    <tr style=\"text-align: right;\">\n      <th></th>\n      <th>item_id</th>\n      <th>content_type</th>\n      <th>title</th>\n      <th>title_orig</th>\n      <th>release_year</th>\n      <th>genres</th>\n      <th>countries</th>\n      <th>for_kids</th>\n      <th>age_rating</th>\n      <th>studios</th>\n      <th>directors</th>\n      <th>actors</th>\n      <th>description</th>\n      <th>keywords</th>\n      <th>year_bin</th>\n      <th>genre</th>\n    </tr>\n  </thead>\n  <tbody>\n    <tr>\n      <th>36</th>\n      <td>41</td>\n      <td>film</td>\n      <td>Один шанс из тысячи</td>\n      <td>One Chance in a Thousand</td>\n      <td>1968.0</td>\n      <td>русские, военные, приключения</td>\n      <td>СССР</td>\n      <td>NaN</td>\n      <td>12.0</td>\n      <td>NaN</td>\n      <td>Леон Кочарян</td>\n      <td>Николай Гринько, Александр Фадеев, Владимир Ма...</td>\n      <td>1942 год. Группа советских диверсантов с трудо...</td>\n      <td>Один, шанс, из, тысячи, 1968, СССР</td>\n      <td>(1896.999, 1990.0]</td>\n      <td>[русские, военные, приключения]</td>\n    </tr>\n    <tr>\n      <th>2413</th>\n      <td>84</td>\n      <td>film</td>\n      <td>Рожденный после смерти</td>\n      <td>Strange But True</td>\n      <td>2019.0</td>\n      <td>драмы, зарубежные, триллеры</td>\n      <td>Канада</td>\n      <td>NaN</td>\n      <td>18.0</td>\n      <td>NaN</td>\n      <td>Роуэн Этейл</td>\n      <td>Аллегра Фултон, Блайт Даннер, Брайан Кокс, Ван...</td>\n      <td>Через пять лет после трагической гибели Ронни,...</td>\n      <td>Рожденный, после, смерти, 2019, Канада, месть,...</td>\n      <td>(2015.0, 2020.0]</td>\n      <td>[драмы, зарубежные, триллеры]</td>\n    </tr>\n    <tr>\n      <th>3309</th>\n      <td>60</td>\n      <td>film</td>\n      <td>А вот и она (с тифлокомментарием)</td>\n      <td>And So It Goes (with Audio Description)</td>\n      <td>2014.0</td>\n      <td>мелодрамы, зарубежные, комедии</td>\n      <td>США</td>\n      <td>NaN</td>\n      <td>12.0</td>\n      <td>NaN</td>\n      <td>Роб Райнер</td>\n      <td>Майкл Дуглас, Дайан Китон, Йайа ДаКоста, Стерл...</td>\n      <td>После смерти жены пожилой Орен Литтл превращае...</td>\n      <td>вот, она, тифлокомментарием, 2014, США</td>\n      <td>(2010.0, 2015.0]</td>\n      <td>[мелодрамы, зарубежные, комедии]</td>\n    </tr>\n    <tr>\n      <th>5699</th>\n      <td>171</td>\n      <td>film</td>\n      <td>Уотергейт. Крушение Белого дома (жестовым языком)</td>\n      <td>Mark Felt: The Man Who Brought Down the White ...</td>\n      <td>2017.0</td>\n      <td>драмы, исторические, зарубежные, триллеры</td>\n      <td>США</td>\n      <td>NaN</td>\n      <td>16.0</td>\n      <td>NaN</td>\n      <td>Питер Ландесман</td>\n      <td>Лиам Нисон, Мартон Чокаш, Дайан Лэйн, Тони Гол...</td>\n      <td>Зам. начальника ФБР Марк Фелт готов пожертвова...</td>\n      <td>Уотергейт, Крушение, Белого, дома, жестовым, я...</td>\n      <td>(2015.0, 2020.0]</td>\n      <td>[драмы, исторические, зарубежные, триллеры]</td>\n    </tr>\n    <tr>\n      <th>8501</th>\n      <td>30</td>\n      <td>film</td>\n      <td>Thomas &amp; Friends: Легенда Содора о пропавших с...</td>\n      <td>Thomas &amp; Friends: Sodor's Legend of the Lost T...</td>\n      <td>2015.0</td>\n      <td>приключения, зарубежные, семейное, фэнтези, ко...</td>\n      <td>Великобритания</td>\n      <td>NaN</td>\n      <td>0.0</td>\n      <td>NaN</td>\n      <td>Дэвид Стоутен</td>\n      <td>Джон Хёрт, Эдди Редмэйн, Джейми Кэмпбелл Бауэр...</td>\n      <td>На острове Содор живут необычные и говорящие п...</td>\n      <td>Thomas, Friends, Легенда, Содора, о, пропавших...</td>\n      <td>(2010.0, 2015.0]</td>\n      <td>[приключения, зарубежные, семейное, фэнтези, к...</td>\n    </tr>\n    <tr>\n      <th>10810</th>\n      <td>29</td>\n      <td>film</td>\n      <td>Похитители велосипедов</td>\n      <td>Ladri di biciclette</td>\n      <td>1948.0</td>\n      <td>драмы</td>\n      <td>Италия</td>\n      <td>NaN</td>\n      <td>12.0</td>\n      <td>NaN</td>\n      <td>Витторио Де Сика</td>\n      <td>Ламберто Маджорани, Энцо Стайола, Лианелла Кар...</td>\n      <td>Послевоенный Рим, давно неработающий Антонио в...</td>\n      <td>рим, италия, итальянский, езда на велосипеде, ...</td>\n      <td>(1896.999, 1990.0]</td>\n      <td>[драмы]</td>\n    </tr>\n    <tr>\n      <th>12628</th>\n      <td>18</td>\n      <td>film</td>\n      <td>Бесконечная ночь</td>\n      <td>Hard Night Falling</td>\n      <td>2019.0</td>\n      <td>боевики, триллеры, криминал, детективы</td>\n      <td>Италия, США</td>\n      <td>NaN</td>\n      <td>16.0</td>\n      <td>NaN</td>\n      <td>Джорджо Бруно</td>\n      <td>Дольф Лундгрен, Хал Яманоути, Наталия Берн, Ма...</td>\n      <td>Криминальный авторитет Горо планирует ограбить...</td>\n      <td>заложник, ограбление, головорез, прихвостни, 2...</td>\n      <td>(2015.0, 2020.0]</td>\n      <td>[боевики, триллеры, криминал, детективы]</td>\n    </tr>\n    <tr>\n      <th>14983</th>\n      <td>98</td>\n      <td>series</td>\n      <td>Ходячие мертвецы</td>\n      <td>The Walking Dead</td>\n      <td>2010.0</td>\n      <td>драмы, ужасы</td>\n      <td>США</td>\n      <td>NaN</td>\n      <td>18.0</td>\n      <td>NaN</td>\n      <td>Грег Никотеро</td>\n      <td>Эндрю Линкольн, Норман Ридус, Джон Бернтал, Са...</td>\n      <td>Данный сериал распространяется по особой модел...</td>\n      <td>2010-е, американец корейского происхождения, а...</td>\n      <td>(2005.0, 2010.0]</td>\n      <td>[драмы, ужасы]</td>\n    </tr>\n  </tbody>\n</table>\n</div>"
     },
     "execution_count": 104,
     "metadata": {},
     "output_type": "execute_result"
    }
   ],
   "source": [
    "acquired_items = items[items[\"item_id\"].isin(label_fake_1)]\n",
    "acquired_items\n"
   ],
   "metadata": {
    "collapsed": false
   }
  },
  {
   "cell_type": "code",
   "execution_count": 105,
   "outputs": [
    {
     "data": {
      "text/plain": "       item_id content_type  \\\n36          41         film   \n970         27         film   \n3309        60         film   \n5699       171         film   \n8501        30         film   \n10810       29         film   \n11625      103         film   \n12628       18         film   \n14983       98       series   \n\n                                                   title  \\\n36                                   Один шанс из тысячи   \n970                                              Кружева   \n3309                   А вот и она (с тифлокомментарием)   \n5699   Уотергейт. Крушение Белого дома (жестовым языком)   \n8501   Thomas & Friends: Легенда Содора о пропавших с...   \n10810                             Похитители велосипедов   \n11625                                       Ведьма войны   \n12628                                   Бесконечная ночь   \n14983                                   Ходячие мертвецы   \n\n                                              title_orig  release_year  \\\n36                              One Chance in a Thousand        1968.0   \n970                                                  NaN        2014.0   \n3309             And So It Goes (with Audio Description)        2014.0   \n5699   Mark Felt: The Man Who Brought Down the White ...        2017.0   \n8501   Thomas & Friends: Sodor's Legend of the Lost T...        2015.0   \n10810                                Ladri di biciclette        1948.0   \n11625                                            Rebelle        2012.0   \n12628                                 Hard Night Falling        2019.0   \n14983                                   The Walking Dead        2010.0   \n\n                                                  genres       countries  \\\n36                         русские, военные, приключения            СССР   \n970                                   русские, мелодрамы          Россия   \n3309                      мелодрамы, зарубежные, комедии             США   \n5699           драмы, исторические, зарубежные, триллеры             США   \n8501   приключения, зарубежные, семейное, фэнтези, ко...  Великобритания   \n10810                                              драмы          Италия   \n11625                         драмы, зарубежные, военные          Канада   \n12628             боевики, триллеры, криминал, детективы     Италия, США   \n14983                                       драмы, ужасы             США   \n\n       for_kids  age_rating studios         directors  \\\n36          NaN        12.0     NaN      Леон Кочарян   \n970         NaN        12.0     NaN      Иван Мережко   \n3309        NaN        12.0     NaN        Роб Райнер   \n5699        NaN        16.0     NaN   Питер Ландесман   \n8501        NaN         0.0     NaN     Дэвид Стоутен   \n10810       NaN        12.0     NaN  Витторио Де Сика   \n11625       NaN        18.0     NaN        Ким Нгуйен   \n12628       NaN        16.0     NaN     Джорджо Бруно   \n14983       NaN        18.0     NaN     Грег Никотеро   \n\n                                                  actors  \\\n36     Николай Гринько, Александр Фадеев, Владимир Ма...   \n970    Анатолий Голуб, Андрей Карако, Валерия Арланов...   \n3309   Майкл Дуглас, Дайан Китон, Йайа ДаКоста, Стерл...   \n5699   Лиам Нисон, Мартон Чокаш, Дайан Лэйн, Тони Гол...   \n8501   Джон Хёрт, Эдди Редмэйн, Джейми Кэмпбелл Бауэр...   \n10810  Ламберто Маджорани, Энцо Стайола, Лианелла Кар...   \n11625  Алекс Херабо, Алекси Сабве, Ален Лино Мик Эли ...   \n12628  Дольф Лундгрен, Хал Яманоути, Наталия Берн, Ма...   \n14983  Эндрю Линкольн, Норман Ридус, Джон Бернтал, Са...   \n\n                                             description  \\\n36     1942 год. Группа советских диверсантов с трудо...   \n970    Мелодрама режиссера Ивана Мережко рассказывает...   \n3309   После смерти жены пожилой Орен Литтл превращае...   \n5699   Зам. начальника ФБР Марк Фелт готов пожертвова...   \n8501   На острове Содор живут необычные и говорящие п...   \n10810  Послевоенный Рим, давно неработающий Антонио в...   \n11625  Военная драма от канадского режиссера Кима Нгу...   \n12628  Криминальный авторитет Горо планирует ограбить...   \n14983  Данный сериал распространяется по особой модел...   \n\n                                                keywords            year_bin  \\\n36                    Один, шанс, из, тысячи, 1968, СССР  (1896.999, 1990.0]   \n970    Кружева, 2014, Россия, жизнь, любовь, мода, пр...    (2010.0, 2015.0]   \n3309              вот, она, тифлокомментарием, 2014, США    (2010.0, 2015.0]   \n5699   Уотергейт, Крушение, Белого, дома, жестовым, я...    (2015.0, 2020.0]   \n8501   Thomas, Friends, Легенда, Содора, о, пропавших...    (2010.0, 2015.0]   \n10810  рим, италия, итальянский, езда на велосипеде, ...  (1896.999, 1990.0]   \n11625  Ведьма, войны, 2012, Канада, жизнь, преображен...    (2010.0, 2015.0]   \n12628  заложник, ограбление, головорез, прихвостни, 2...    (2015.0, 2020.0]   \n14983  2010-е, американец корейского происхождения, а...    (2005.0, 2010.0]   \n\n                                                   genre  \n36                       [русские, военные, приключения]  \n970                                 [русские, мелодрамы]  \n3309                    [мелодрамы, зарубежные, комедии]  \n5699         [драмы, исторические, зарубежные, триллеры]  \n8501   [приключения, зарубежные, семейное, фэнтези, к...  \n10810                                            [драмы]  \n11625                       [драмы, зарубежные, военные]  \n12628           [боевики, триллеры, криминал, детективы]  \n14983                                     [драмы, ужасы]  ",
      "text/html": "<div>\n<style scoped>\n    .dataframe tbody tr th:only-of-type {\n        vertical-align: middle;\n    }\n\n    .dataframe tbody tr th {\n        vertical-align: top;\n    }\n\n    .dataframe thead th {\n        text-align: right;\n    }\n</style>\n<table border=\"1\" class=\"dataframe\">\n  <thead>\n    <tr style=\"text-align: right;\">\n      <th></th>\n      <th>item_id</th>\n      <th>content_type</th>\n      <th>title</th>\n      <th>title_orig</th>\n      <th>release_year</th>\n      <th>genres</th>\n      <th>countries</th>\n      <th>for_kids</th>\n      <th>age_rating</th>\n      <th>studios</th>\n      <th>directors</th>\n      <th>actors</th>\n      <th>description</th>\n      <th>keywords</th>\n      <th>year_bin</th>\n      <th>genre</th>\n    </tr>\n  </thead>\n  <tbody>\n    <tr>\n      <th>36</th>\n      <td>41</td>\n      <td>film</td>\n      <td>Один шанс из тысячи</td>\n      <td>One Chance in a Thousand</td>\n      <td>1968.0</td>\n      <td>русские, военные, приключения</td>\n      <td>СССР</td>\n      <td>NaN</td>\n      <td>12.0</td>\n      <td>NaN</td>\n      <td>Леон Кочарян</td>\n      <td>Николай Гринько, Александр Фадеев, Владимир Ма...</td>\n      <td>1942 год. Группа советских диверсантов с трудо...</td>\n      <td>Один, шанс, из, тысячи, 1968, СССР</td>\n      <td>(1896.999, 1990.0]</td>\n      <td>[русские, военные, приключения]</td>\n    </tr>\n    <tr>\n      <th>970</th>\n      <td>27</td>\n      <td>film</td>\n      <td>Кружева</td>\n      <td>NaN</td>\n      <td>2014.0</td>\n      <td>русские, мелодрамы</td>\n      <td>Россия</td>\n      <td>NaN</td>\n      <td>12.0</td>\n      <td>NaN</td>\n      <td>Иван Мережко</td>\n      <td>Анатолий Голуб, Андрей Карако, Валерия Арланов...</td>\n      <td>Мелодрама режиссера Ивана Мережко рассказывает...</td>\n      <td>Кружева, 2014, Россия, жизнь, любовь, мода, пр...</td>\n      <td>(2010.0, 2015.0]</td>\n      <td>[русские, мелодрамы]</td>\n    </tr>\n    <tr>\n      <th>3309</th>\n      <td>60</td>\n      <td>film</td>\n      <td>А вот и она (с тифлокомментарием)</td>\n      <td>And So It Goes (with Audio Description)</td>\n      <td>2014.0</td>\n      <td>мелодрамы, зарубежные, комедии</td>\n      <td>США</td>\n      <td>NaN</td>\n      <td>12.0</td>\n      <td>NaN</td>\n      <td>Роб Райнер</td>\n      <td>Майкл Дуглас, Дайан Китон, Йайа ДаКоста, Стерл...</td>\n      <td>После смерти жены пожилой Орен Литтл превращае...</td>\n      <td>вот, она, тифлокомментарием, 2014, США</td>\n      <td>(2010.0, 2015.0]</td>\n      <td>[мелодрамы, зарубежные, комедии]</td>\n    </tr>\n    <tr>\n      <th>5699</th>\n      <td>171</td>\n      <td>film</td>\n      <td>Уотергейт. Крушение Белого дома (жестовым языком)</td>\n      <td>Mark Felt: The Man Who Brought Down the White ...</td>\n      <td>2017.0</td>\n      <td>драмы, исторические, зарубежные, триллеры</td>\n      <td>США</td>\n      <td>NaN</td>\n      <td>16.0</td>\n      <td>NaN</td>\n      <td>Питер Ландесман</td>\n      <td>Лиам Нисон, Мартон Чокаш, Дайан Лэйн, Тони Гол...</td>\n      <td>Зам. начальника ФБР Марк Фелт готов пожертвова...</td>\n      <td>Уотергейт, Крушение, Белого, дома, жестовым, я...</td>\n      <td>(2015.0, 2020.0]</td>\n      <td>[драмы, исторические, зарубежные, триллеры]</td>\n    </tr>\n    <tr>\n      <th>8501</th>\n      <td>30</td>\n      <td>film</td>\n      <td>Thomas &amp; Friends: Легенда Содора о пропавших с...</td>\n      <td>Thomas &amp; Friends: Sodor's Legend of the Lost T...</td>\n      <td>2015.0</td>\n      <td>приключения, зарубежные, семейное, фэнтези, ко...</td>\n      <td>Великобритания</td>\n      <td>NaN</td>\n      <td>0.0</td>\n      <td>NaN</td>\n      <td>Дэвид Стоутен</td>\n      <td>Джон Хёрт, Эдди Редмэйн, Джейми Кэмпбелл Бауэр...</td>\n      <td>На острове Содор живут необычные и говорящие п...</td>\n      <td>Thomas, Friends, Легенда, Содора, о, пропавших...</td>\n      <td>(2010.0, 2015.0]</td>\n      <td>[приключения, зарубежные, семейное, фэнтези, к...</td>\n    </tr>\n    <tr>\n      <th>10810</th>\n      <td>29</td>\n      <td>film</td>\n      <td>Похитители велосипедов</td>\n      <td>Ladri di biciclette</td>\n      <td>1948.0</td>\n      <td>драмы</td>\n      <td>Италия</td>\n      <td>NaN</td>\n      <td>12.0</td>\n      <td>NaN</td>\n      <td>Витторио Де Сика</td>\n      <td>Ламберто Маджорани, Энцо Стайола, Лианелла Кар...</td>\n      <td>Послевоенный Рим, давно неработающий Антонио в...</td>\n      <td>рим, италия, итальянский, езда на велосипеде, ...</td>\n      <td>(1896.999, 1990.0]</td>\n      <td>[драмы]</td>\n    </tr>\n    <tr>\n      <th>11625</th>\n      <td>103</td>\n      <td>film</td>\n      <td>Ведьма войны</td>\n      <td>Rebelle</td>\n      <td>2012.0</td>\n      <td>драмы, зарубежные, военные</td>\n      <td>Канада</td>\n      <td>NaN</td>\n      <td>18.0</td>\n      <td>NaN</td>\n      <td>Ким Нгуйен</td>\n      <td>Алекс Херабо, Алекси Сабве, Ален Лино Мик Эли ...</td>\n      <td>Военная драма от канадского режиссера Кима Нгу...</td>\n      <td>Ведьма, войны, 2012, Канада, жизнь, преображен...</td>\n      <td>(2010.0, 2015.0]</td>\n      <td>[драмы, зарубежные, военные]</td>\n    </tr>\n    <tr>\n      <th>12628</th>\n      <td>18</td>\n      <td>film</td>\n      <td>Бесконечная ночь</td>\n      <td>Hard Night Falling</td>\n      <td>2019.0</td>\n      <td>боевики, триллеры, криминал, детективы</td>\n      <td>Италия, США</td>\n      <td>NaN</td>\n      <td>16.0</td>\n      <td>NaN</td>\n      <td>Джорджо Бруно</td>\n      <td>Дольф Лундгрен, Хал Яманоути, Наталия Берн, Ма...</td>\n      <td>Криминальный авторитет Горо планирует ограбить...</td>\n      <td>заложник, ограбление, головорез, прихвостни, 2...</td>\n      <td>(2015.0, 2020.0]</td>\n      <td>[боевики, триллеры, криминал, детективы]</td>\n    </tr>\n    <tr>\n      <th>14983</th>\n      <td>98</td>\n      <td>series</td>\n      <td>Ходячие мертвецы</td>\n      <td>The Walking Dead</td>\n      <td>2010.0</td>\n      <td>драмы, ужасы</td>\n      <td>США</td>\n      <td>NaN</td>\n      <td>18.0</td>\n      <td>NaN</td>\n      <td>Грег Никотеро</td>\n      <td>Эндрю Линкольн, Норман Ридус, Джон Бернтал, Са...</td>\n      <td>Данный сериал распространяется по особой модел...</td>\n      <td>2010-е, американец корейского происхождения, а...</td>\n      <td>(2005.0, 2010.0]</td>\n      <td>[драмы, ужасы]</td>\n    </tr>\n  </tbody>\n</table>\n</div>"
     },
     "execution_count": 105,
     "metadata": {},
     "output_type": "execute_result"
    }
   ],
   "source": [
    "acquired_items = items[items[\"item_id\"].isin(label_fake_2)]\n",
    "acquired_items\n"
   ],
   "metadata": {
    "collapsed": false
   }
  },
  {
   "cell_type": "code",
   "execution_count": 106,
   "outputs": [
    {
     "data": {
      "text/plain": "       item_id content_type  \\\n970         27         film   \n5699       171         film   \n10810       29         film   \n11625      103         film   \n12628       18         film   \n14636      776         film   \n14708       59         film   \n14983       98       series   \n\n                                                   title  \\\n970                                              Кружева   \n5699   Уотергейт. Крушение Белого дома (жестовым языком)   \n10810                             Похитители велосипедов   \n11625                                       Ведьма войны   \n12628                                   Бесконечная ночь   \n14636                                            Куколка   \n14708                                      Три мушкетера   \n14983                                   Ходячие мертвецы   \n\n                                              title_orig  release_year  \\\n970                                                  NaN        2014.0   \n5699   Mark Felt: The Man Who Brought Down the White ...        2017.0   \n10810                                Ladri di biciclette        1948.0   \n11625                                            Rebelle        2012.0   \n12628                                 Hard Night Falling        2019.0   \n14636                                          Baby Doll        1988.0   \n14708                                                NaN        2005.0   \n14983                                   The Walking Dead        2010.0   \n\n                                          genres    countries  for_kids  \\\n970                           русские, мелодрамы       Россия       NaN   \n5699   драмы, исторические, зарубежные, триллеры          США       NaN   \n10810                                      драмы       Италия       NaN   \n11625                 драмы, зарубежные, военные       Канада       NaN   \n12628     боевики, триллеры, криминал, детективы  Италия, США       NaN   \n14636                    драмы, спорт, мелодрамы         СССР       NaN   \n14708                  мюзиклы, русские, комедии       Россия       NaN   \n14983                               драмы, ужасы          США       NaN   \n\n       age_rating studios         directors  \\\n970          12.0     NaN      Иван Мережко   \n5699         16.0     NaN   Питер Ландесман   \n10810        12.0     NaN  Витторио Де Сика   \n11625        18.0     NaN        Ким Нгуйен   \n12628        16.0     NaN     Джорджо Бруно   \n14636        18.0     NaN    Исаак Фридберг   \n14708        12.0     NaN     Тина Баркалая   \n14983        18.0     NaN     Грег Никотеро   \n\n                                                  actors  \\\n970    Анатолий Голуб, Андрей Карако, Валерия Арланов...   \n5699   Лиам Нисон, Мартон Чокаш, Дайан Лэйн, Тони Гол...   \n10810  Ламберто Маджорани, Энцо Стайола, Лианелла Кар...   \n11625  Алекс Херабо, Алекси Сабве, Ален Лино Мик Эли ...   \n12628  Дольф Лундгрен, Хал Яманоути, Наталия Берн, Ма...   \n14636  Наталья Назарова, Владимир Меньшов, Светлана Ш...   \n14708  Александр Пикалов, Алена Свиридова, Алика Смех...   \n14983  Эндрю Линкольн, Норман Ридус, Джон Бернтал, Са...   \n\n                                             description  \\\n970    Мелодрама режиссера Ивана Мережко рассказывает...   \n5699   Зам. начальника ФБР Марк Фелт готов пожертвова...   \n10810  Послевоенный Рим, давно неработающий Антонио в...   \n11625  Военная драма от канадского режиссера Кима Нгу...   \n12628  Криминальный авторитет Горо планирует ограбить...   \n14636  Главная героиня учится в школе. Но перед сверс...   \n14708  В новогоднем мюзикле «Три мушкетера» авторы пр...   \n14983  Данный сериал распространяется по особой модел...   \n\n                                                keywords            year_bin  \\\n970    Кружева, 2014, Россия, жизнь, любовь, мода, пр...    (2010.0, 2015.0]   \n5699   Уотергейт, Крушение, Белого, дома, жестовым, я...    (2015.0, 2020.0]   \n10810  рим, италия, итальянский, езда на велосипеде, ...  (1896.999, 1990.0]   \n11625  Ведьма, войны, 2012, Канада, жизнь, преображен...    (2010.0, 2015.0]   \n12628  заложник, ограбление, головорез, прихвостни, 2...    (2015.0, 2020.0]   \n14636                                Куколка, 1988, СССР  (1896.999, 1990.0]   \n14708  Три, мушкетера, 2005, Россия, друзья, интриги,...    (2000.0, 2005.0]   \n14983  2010-е, американец корейского происхождения, а...    (2005.0, 2010.0]   \n\n                                             genre  \n970                           [русские, мелодрамы]  \n5699   [драмы, исторические, зарубежные, триллеры]  \n10810                                      [драмы]  \n11625                 [драмы, зарубежные, военные]  \n12628     [боевики, триллеры, криминал, детективы]  \n14636                    [драмы, спорт, мелодрамы]  \n14708                  [мюзиклы, русские, комедии]  \n14983                               [драмы, ужасы]  ",
      "text/html": "<div>\n<style scoped>\n    .dataframe tbody tr th:only-of-type {\n        vertical-align: middle;\n    }\n\n    .dataframe tbody tr th {\n        vertical-align: top;\n    }\n\n    .dataframe thead th {\n        text-align: right;\n    }\n</style>\n<table border=\"1\" class=\"dataframe\">\n  <thead>\n    <tr style=\"text-align: right;\">\n      <th></th>\n      <th>item_id</th>\n      <th>content_type</th>\n      <th>title</th>\n      <th>title_orig</th>\n      <th>release_year</th>\n      <th>genres</th>\n      <th>countries</th>\n      <th>for_kids</th>\n      <th>age_rating</th>\n      <th>studios</th>\n      <th>directors</th>\n      <th>actors</th>\n      <th>description</th>\n      <th>keywords</th>\n      <th>year_bin</th>\n      <th>genre</th>\n    </tr>\n  </thead>\n  <tbody>\n    <tr>\n      <th>970</th>\n      <td>27</td>\n      <td>film</td>\n      <td>Кружева</td>\n      <td>NaN</td>\n      <td>2014.0</td>\n      <td>русские, мелодрамы</td>\n      <td>Россия</td>\n      <td>NaN</td>\n      <td>12.0</td>\n      <td>NaN</td>\n      <td>Иван Мережко</td>\n      <td>Анатолий Голуб, Андрей Карако, Валерия Арланов...</td>\n      <td>Мелодрама режиссера Ивана Мережко рассказывает...</td>\n      <td>Кружева, 2014, Россия, жизнь, любовь, мода, пр...</td>\n      <td>(2010.0, 2015.0]</td>\n      <td>[русские, мелодрамы]</td>\n    </tr>\n    <tr>\n      <th>5699</th>\n      <td>171</td>\n      <td>film</td>\n      <td>Уотергейт. Крушение Белого дома (жестовым языком)</td>\n      <td>Mark Felt: The Man Who Brought Down the White ...</td>\n      <td>2017.0</td>\n      <td>драмы, исторические, зарубежные, триллеры</td>\n      <td>США</td>\n      <td>NaN</td>\n      <td>16.0</td>\n      <td>NaN</td>\n      <td>Питер Ландесман</td>\n      <td>Лиам Нисон, Мартон Чокаш, Дайан Лэйн, Тони Гол...</td>\n      <td>Зам. начальника ФБР Марк Фелт готов пожертвова...</td>\n      <td>Уотергейт, Крушение, Белого, дома, жестовым, я...</td>\n      <td>(2015.0, 2020.0]</td>\n      <td>[драмы, исторические, зарубежные, триллеры]</td>\n    </tr>\n    <tr>\n      <th>10810</th>\n      <td>29</td>\n      <td>film</td>\n      <td>Похитители велосипедов</td>\n      <td>Ladri di biciclette</td>\n      <td>1948.0</td>\n      <td>драмы</td>\n      <td>Италия</td>\n      <td>NaN</td>\n      <td>12.0</td>\n      <td>NaN</td>\n      <td>Витторио Де Сика</td>\n      <td>Ламберто Маджорани, Энцо Стайола, Лианелла Кар...</td>\n      <td>Послевоенный Рим, давно неработающий Антонио в...</td>\n      <td>рим, италия, итальянский, езда на велосипеде, ...</td>\n      <td>(1896.999, 1990.0]</td>\n      <td>[драмы]</td>\n    </tr>\n    <tr>\n      <th>11625</th>\n      <td>103</td>\n      <td>film</td>\n      <td>Ведьма войны</td>\n      <td>Rebelle</td>\n      <td>2012.0</td>\n      <td>драмы, зарубежные, военные</td>\n      <td>Канада</td>\n      <td>NaN</td>\n      <td>18.0</td>\n      <td>NaN</td>\n      <td>Ким Нгуйен</td>\n      <td>Алекс Херабо, Алекси Сабве, Ален Лино Мик Эли ...</td>\n      <td>Военная драма от канадского режиссера Кима Нгу...</td>\n      <td>Ведьма, войны, 2012, Канада, жизнь, преображен...</td>\n      <td>(2010.0, 2015.0]</td>\n      <td>[драмы, зарубежные, военные]</td>\n    </tr>\n    <tr>\n      <th>12628</th>\n      <td>18</td>\n      <td>film</td>\n      <td>Бесконечная ночь</td>\n      <td>Hard Night Falling</td>\n      <td>2019.0</td>\n      <td>боевики, триллеры, криминал, детективы</td>\n      <td>Италия, США</td>\n      <td>NaN</td>\n      <td>16.0</td>\n      <td>NaN</td>\n      <td>Джорджо Бруно</td>\n      <td>Дольф Лундгрен, Хал Яманоути, Наталия Берн, Ма...</td>\n      <td>Криминальный авторитет Горо планирует ограбить...</td>\n      <td>заложник, ограбление, головорез, прихвостни, 2...</td>\n      <td>(2015.0, 2020.0]</td>\n      <td>[боевики, триллеры, криминал, детективы]</td>\n    </tr>\n    <tr>\n      <th>14636</th>\n      <td>776</td>\n      <td>film</td>\n      <td>Куколка</td>\n      <td>Baby Doll</td>\n      <td>1988.0</td>\n      <td>драмы, спорт, мелодрамы</td>\n      <td>СССР</td>\n      <td>NaN</td>\n      <td>18.0</td>\n      <td>NaN</td>\n      <td>Исаак Фридберг</td>\n      <td>Наталья Назарова, Владимир Меньшов, Светлана Ш...</td>\n      <td>Главная героиня учится в школе. Но перед сверс...</td>\n      <td>Куколка, 1988, СССР</td>\n      <td>(1896.999, 1990.0]</td>\n      <td>[драмы, спорт, мелодрамы]</td>\n    </tr>\n    <tr>\n      <th>14708</th>\n      <td>59</td>\n      <td>film</td>\n      <td>Три мушкетера</td>\n      <td>NaN</td>\n      <td>2005.0</td>\n      <td>мюзиклы, русские, комедии</td>\n      <td>Россия</td>\n      <td>NaN</td>\n      <td>12.0</td>\n      <td>NaN</td>\n      <td>Тина Баркалая</td>\n      <td>Александр Пикалов, Алена Свиридова, Алика Смех...</td>\n      <td>В новогоднем мюзикле «Три мушкетера» авторы пр...</td>\n      <td>Три, мушкетера, 2005, Россия, друзья, интриги,...</td>\n      <td>(2000.0, 2005.0]</td>\n      <td>[мюзиклы, русские, комедии]</td>\n    </tr>\n    <tr>\n      <th>14983</th>\n      <td>98</td>\n      <td>series</td>\n      <td>Ходячие мертвецы</td>\n      <td>The Walking Dead</td>\n      <td>2010.0</td>\n      <td>драмы, ужасы</td>\n      <td>США</td>\n      <td>NaN</td>\n      <td>18.0</td>\n      <td>NaN</td>\n      <td>Грег Никотеро</td>\n      <td>Эндрю Линкольн, Норман Ридус, Джон Бернтал, Са...</td>\n      <td>Данный сериал распространяется по особой модел...</td>\n      <td>2010-е, американец корейского происхождения, а...</td>\n      <td>(2005.0, 2010.0]</td>\n      <td>[драмы, ужасы]</td>\n    </tr>\n  </tbody>\n</table>\n</div>"
     },
     "execution_count": 106,
     "metadata": {},
     "output_type": "execute_result"
    }
   ],
   "source": [
    "acquired_items = items[items[\"item_id\"].isin(label_fake_3)]\n",
    "acquired_items\n"
   ],
   "metadata": {
    "collapsed": false
   }
  }
 ],
 "metadata": {
  "kernelspec": {
   "display_name": "Python 3",
   "language": "python",
   "name": "python3"
  },
  "language_info": {
   "codemirror_mode": {
    "name": "ipython",
    "version": 2
   },
   "file_extension": ".py",
   "mimetype": "text/x-python",
   "name": "python",
   "nbconvert_exporter": "python",
   "pygments_lexer": "ipython2",
   "version": "2.7.6"
  }
 },
 "nbformat": 4,
 "nbformat_minor": 0
}
