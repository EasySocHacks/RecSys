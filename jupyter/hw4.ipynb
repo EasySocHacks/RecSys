{
 "cells": [
  {
   "cell_type": "code",
   "execution_count": 1,
   "outputs": [],
   "source": [
    "import os\n"
   ],
   "metadata": {
    "collapsed": false
   }
  },
  {
   "cell_type": "code",
   "execution_count": 2,
   "outputs": [],
   "source": [
    "os.environ[\"OPENBLAS_NUM_THREADS\"] = \"1\"  # For implicit ALS"
   ],
   "metadata": {
    "collapsed": false
   }
  },
  {
   "cell_type": "code",
   "execution_count": 3,
   "outputs": [],
   "source": [
    "import warnings\n",
    "\n",
    "warnings.filterwarnings('ignore')"
   ],
   "metadata": {
    "collapsed": false
   }
  },
  {
   "cell_type": "code",
   "execution_count": 4,
   "metadata": {
    "collapsed": true
   },
   "outputs": [],
   "source": [
    "\n",
    "\n",
    "import pandas as pd\n",
    "import numpy as np\n",
    "\n",
    "from rectools.metrics import Precision, Recall, MAP, calc_metrics\n",
    "from rectools import Columns\n",
    "from rectools.dataset import Dataset\n",
    "\n",
    "import matplotlib.pyplot as plt\n",
    "import typing as tp\n"
   ]
  },
  {
   "cell_type": "markdown",
   "source": [
    "# Acquire dataset"
   ],
   "metadata": {
    "collapsed": false
   }
  },
  {
   "cell_type": "code",
   "execution_count": 5,
   "outputs": [],
   "source": [
    "interactions = pd.read_csv('../kion_train/interactions.csv')\n",
    "users = pd.read_csv('../kion_train/users.csv')\n",
    "items = pd.read_csv('../kion_train/items.csv')\n"
   ],
   "metadata": {
    "collapsed": false
   }
  },
  {
   "cell_type": "markdown",
   "source": [
    "# Data info"
   ],
   "metadata": {
    "collapsed": false
   }
  },
  {
   "cell_type": "markdown",
   "source": [
    "---\n",
    "### interactions"
   ],
   "metadata": {
    "collapsed": false
   }
  },
  {
   "cell_type": "code",
   "execution_count": 6,
   "outputs": [
    {
     "data": {
      "text/plain": "         user_id  item_id last_watch_dt  total_dur  watched_pct\n0         176549     9506    2021-05-11       4250         72.0\n1         699317     1659    2021-05-29       8317        100.0\n2         656683     7107    2021-05-09         10          0.0\n3         864613     7638    2021-07-05      14483        100.0\n4         964868     9506    2021-04-30       6725        100.0\n5476246   648596    12225    2021-08-13         76          0.0\n5476247   546862     9673    2021-04-13       2308         49.0\n5476248   697262    15297    2021-08-20      18307         63.0\n5476249   384202    16197    2021-04-19       6203        100.0\n5476250   319709     4436    2021-08-15       3921         45.0",
      "text/html": "<div>\n<style scoped>\n    .dataframe tbody tr th:only-of-type {\n        vertical-align: middle;\n    }\n\n    .dataframe tbody tr th {\n        vertical-align: top;\n    }\n\n    .dataframe thead th {\n        text-align: right;\n    }\n</style>\n<table border=\"1\" class=\"dataframe\">\n  <thead>\n    <tr style=\"text-align: right;\">\n      <th></th>\n      <th>user_id</th>\n      <th>item_id</th>\n      <th>last_watch_dt</th>\n      <th>total_dur</th>\n      <th>watched_pct</th>\n    </tr>\n  </thead>\n  <tbody>\n    <tr>\n      <th>0</th>\n      <td>176549</td>\n      <td>9506</td>\n      <td>2021-05-11</td>\n      <td>4250</td>\n      <td>72.0</td>\n    </tr>\n    <tr>\n      <th>1</th>\n      <td>699317</td>\n      <td>1659</td>\n      <td>2021-05-29</td>\n      <td>8317</td>\n      <td>100.0</td>\n    </tr>\n    <tr>\n      <th>2</th>\n      <td>656683</td>\n      <td>7107</td>\n      <td>2021-05-09</td>\n      <td>10</td>\n      <td>0.0</td>\n    </tr>\n    <tr>\n      <th>3</th>\n      <td>864613</td>\n      <td>7638</td>\n      <td>2021-07-05</td>\n      <td>14483</td>\n      <td>100.0</td>\n    </tr>\n    <tr>\n      <th>4</th>\n      <td>964868</td>\n      <td>9506</td>\n      <td>2021-04-30</td>\n      <td>6725</td>\n      <td>100.0</td>\n    </tr>\n    <tr>\n      <th>5476246</th>\n      <td>648596</td>\n      <td>12225</td>\n      <td>2021-08-13</td>\n      <td>76</td>\n      <td>0.0</td>\n    </tr>\n    <tr>\n      <th>5476247</th>\n      <td>546862</td>\n      <td>9673</td>\n      <td>2021-04-13</td>\n      <td>2308</td>\n      <td>49.0</td>\n    </tr>\n    <tr>\n      <th>5476248</th>\n      <td>697262</td>\n      <td>15297</td>\n      <td>2021-08-20</td>\n      <td>18307</td>\n      <td>63.0</td>\n    </tr>\n    <tr>\n      <th>5476249</th>\n      <td>384202</td>\n      <td>16197</td>\n      <td>2021-04-19</td>\n      <td>6203</td>\n      <td>100.0</td>\n    </tr>\n    <tr>\n      <th>5476250</th>\n      <td>319709</td>\n      <td>4436</td>\n      <td>2021-08-15</td>\n      <td>3921</td>\n      <td>45.0</td>\n    </tr>\n  </tbody>\n</table>\n</div>"
     },
     "execution_count": 6,
     "metadata": {},
     "output_type": "execute_result"
    }
   ],
   "source": [
    "pd.concat([interactions.head(), interactions.tail()])\n"
   ],
   "metadata": {
    "collapsed": false
   }
  },
  {
   "cell_type": "code",
   "execution_count": 7,
   "outputs": [
    {
     "name": "stdout",
     "output_type": "stream",
     "text": [
      "<class 'pandas.core.frame.DataFrame'>\n",
      "RangeIndex: 5476251 entries, 0 to 5476250\n",
      "Data columns (total 5 columns):\n",
      " #   Column         Dtype  \n",
      "---  ------         -----  \n",
      " 0   user_id        int64  \n",
      " 1   item_id        int64  \n",
      " 2   last_watch_dt  object \n",
      " 3   total_dur      int64  \n",
      " 4   watched_pct    float64\n",
      "dtypes: float64(1), int64(3), object(1)\n",
      "memory usage: 208.9+ MB\n"
     ]
    }
   ],
   "source": [
    "interactions.info()"
   ],
   "metadata": {
    "collapsed": false
   }
  },
  {
   "cell_type": "markdown",
   "source": [
    "---\n",
    "### items"
   ],
   "metadata": {
    "collapsed": false
   }
  },
  {
   "cell_type": "code",
   "execution_count": 8,
   "outputs": [
    {
     "data": {
      "text/plain": "       item_id content_type                 title      title_orig  \\\n0        10711         film        Поговори с ней  Hable con ella   \n1         2508         film           Голые перцы    Search Party   \n2        10716         film      Тактическая сила  Tactical Force   \n3         7868         film                45 лет        45 Years   \n4        16268         film  Все решает мгновение             NaN   \n15958     6443       series         Полярный круг   Arctic Circle   \n15959     2367       series               Надежда             NaN   \n15960    10632       series                Сговор          Hassel   \n15961     4538       series          Среди камней      Darklands    \n15962     3206       series                  Гоша             NaN   \n\n       release_year                                            genres  \\\n0            2002.0           драмы, зарубежные, детективы, мелодрамы   \n1            2014.0                  зарубежные, приключения, комедии   \n2            2011.0  криминал, зарубежные, триллеры, боевики, комедии   \n3            2015.0                      драмы, зарубежные, мелодрамы   \n4            1978.0                драмы, спорт, советские, мелодрамы   \n15958        2018.0                         драмы, триллеры, криминал   \n15959        2020.0                                    драмы, боевики   \n15960        2017.0                         драмы, триллеры, криминал   \n15961        2019.0                            драмы, спорт, криминал   \n15962        2019.0                                           комедии   \n\n                 countries  for_kids  age_rating   studios  \\\n0                  Испания       NaN        16.0       NaN   \n1                      США       NaN        16.0       NaN   \n2                   Канада       NaN        16.0       NaN   \n3           Великобритания       NaN        16.0       NaN   \n4                     СССР       NaN        12.0  Ленфильм   \n15958  Финляндия, Германия       NaN        16.0       NaN   \n15959               Россия       0.0        18.0       NaN   \n15960               Россия       0.0        18.0       NaN   \n15961               Россия       0.0        18.0       NaN   \n15962               Россия       0.0        16.0       NaN   \n\n                                   directors  \\\n0                           Педро Альмодовар   \n1                             Скот Армстронг   \n2                           Адам П. Калтраро   \n3                                  Эндрю Хэй   \n4                           Виктор Садовский   \n15958                          Ханну Салонен   \n15959                         Елена Хазанова   \n15960  Эшреф Рейбрук, Амир Камдин, Эрик Эгер   \n15961          Марк О’Коннор, Конор МакМахон   \n15962                         Михаил Миронов   \n\n                                                  actors  \\\n0      Адольфо Фернандес, Ана Фернандес, Дарио Гранди...   \n1      Адам Палли, Брайан Хаски, Дж.Б. Смув, Джейсон ...   \n2      Адриан Холмс, Даррен Шалави, Джерри Вассерман,...   \n3      Александра Риддлстон-Барретт, Джеральдин Джейм...   \n4      Александр Абдулов, Александр Демьяненко, Алекс...   \n15958  Иина Куустонен, Максимилиан Брюкнер, Пихла Вии...   \n15959  Виктория Исакова, Александр Кузьмин, Алексей М...   \n15960  Ола Рапас, Алиетт Офейм, Уильма Лиден, Шанти Р...   \n15961  Дэйн Уайт О’Хара, Томас Кэйн-Бирн, Джудит Родд...   \n15962                 Мкртыч Арзуманян, Виктория Рунцова   \n\n                                             description  \\\n0      Мелодрама легендарного Педро Альмодовара «Пого...   \n1      Уморительная современная комедия на популярную...   \n2      Профессиональный рестлер Стив Остин («Все или ...   \n3      Шарлотта Рэмплинг, Том Кортни, Джеральдин Джей...   \n4      Расчетливая чаровница из советского кинохита «...   \n15958  Во время погони за браконьерами по лесу, сотру...   \n15959  Оригинальный киносериал от создателей «Бывших»...   \n15960  Криминальная драма по мотивам романов о шведск...   \n15961  Семнадцатилетний Дэмиен мечтает вырваться за п...   \n15962  Добродушный Гоша не может выйти из дома, чтобы...   \n\n                                                keywords  \n0      Поговори, ней, 2002, Испания, друзья, любовь, ...  \n1      Голые, перцы, 2014, США, друзья, свадьбы, прео...  \n2      Тактическая, сила, 2011, Канада, бандиты, ганг...  \n3      45, лет, 2015, Великобритания, брак, жизнь, лю...  \n4      Все, решает, мгновение, 1978, СССР, сильные, ж...  \n15958  убийство, вирус, расследование преступления, н...  \n15959                              Надежда, 2020, Россия  \n15960                               Сговор, 2017, Россия  \n15961                        Среди, камней, 2019, Россия  \n15962                                 Гоша, 2019, Россия  ",
      "text/html": "<div>\n<style scoped>\n    .dataframe tbody tr th:only-of-type {\n        vertical-align: middle;\n    }\n\n    .dataframe tbody tr th {\n        vertical-align: top;\n    }\n\n    .dataframe thead th {\n        text-align: right;\n    }\n</style>\n<table border=\"1\" class=\"dataframe\">\n  <thead>\n    <tr style=\"text-align: right;\">\n      <th></th>\n      <th>item_id</th>\n      <th>content_type</th>\n      <th>title</th>\n      <th>title_orig</th>\n      <th>release_year</th>\n      <th>genres</th>\n      <th>countries</th>\n      <th>for_kids</th>\n      <th>age_rating</th>\n      <th>studios</th>\n      <th>directors</th>\n      <th>actors</th>\n      <th>description</th>\n      <th>keywords</th>\n    </tr>\n  </thead>\n  <tbody>\n    <tr>\n      <th>0</th>\n      <td>10711</td>\n      <td>film</td>\n      <td>Поговори с ней</td>\n      <td>Hable con ella</td>\n      <td>2002.0</td>\n      <td>драмы, зарубежные, детективы, мелодрамы</td>\n      <td>Испания</td>\n      <td>NaN</td>\n      <td>16.0</td>\n      <td>NaN</td>\n      <td>Педро Альмодовар</td>\n      <td>Адольфо Фернандес, Ана Фернандес, Дарио Гранди...</td>\n      <td>Мелодрама легендарного Педро Альмодовара «Пого...</td>\n      <td>Поговори, ней, 2002, Испания, друзья, любовь, ...</td>\n    </tr>\n    <tr>\n      <th>1</th>\n      <td>2508</td>\n      <td>film</td>\n      <td>Голые перцы</td>\n      <td>Search Party</td>\n      <td>2014.0</td>\n      <td>зарубежные, приключения, комедии</td>\n      <td>США</td>\n      <td>NaN</td>\n      <td>16.0</td>\n      <td>NaN</td>\n      <td>Скот Армстронг</td>\n      <td>Адам Палли, Брайан Хаски, Дж.Б. Смув, Джейсон ...</td>\n      <td>Уморительная современная комедия на популярную...</td>\n      <td>Голые, перцы, 2014, США, друзья, свадьбы, прео...</td>\n    </tr>\n    <tr>\n      <th>2</th>\n      <td>10716</td>\n      <td>film</td>\n      <td>Тактическая сила</td>\n      <td>Tactical Force</td>\n      <td>2011.0</td>\n      <td>криминал, зарубежные, триллеры, боевики, комедии</td>\n      <td>Канада</td>\n      <td>NaN</td>\n      <td>16.0</td>\n      <td>NaN</td>\n      <td>Адам П. Калтраро</td>\n      <td>Адриан Холмс, Даррен Шалави, Джерри Вассерман,...</td>\n      <td>Профессиональный рестлер Стив Остин («Все или ...</td>\n      <td>Тактическая, сила, 2011, Канада, бандиты, ганг...</td>\n    </tr>\n    <tr>\n      <th>3</th>\n      <td>7868</td>\n      <td>film</td>\n      <td>45 лет</td>\n      <td>45 Years</td>\n      <td>2015.0</td>\n      <td>драмы, зарубежные, мелодрамы</td>\n      <td>Великобритания</td>\n      <td>NaN</td>\n      <td>16.0</td>\n      <td>NaN</td>\n      <td>Эндрю Хэй</td>\n      <td>Александра Риддлстон-Барретт, Джеральдин Джейм...</td>\n      <td>Шарлотта Рэмплинг, Том Кортни, Джеральдин Джей...</td>\n      <td>45, лет, 2015, Великобритания, брак, жизнь, лю...</td>\n    </tr>\n    <tr>\n      <th>4</th>\n      <td>16268</td>\n      <td>film</td>\n      <td>Все решает мгновение</td>\n      <td>NaN</td>\n      <td>1978.0</td>\n      <td>драмы, спорт, советские, мелодрамы</td>\n      <td>СССР</td>\n      <td>NaN</td>\n      <td>12.0</td>\n      <td>Ленфильм</td>\n      <td>Виктор Садовский</td>\n      <td>Александр Абдулов, Александр Демьяненко, Алекс...</td>\n      <td>Расчетливая чаровница из советского кинохита «...</td>\n      <td>Все, решает, мгновение, 1978, СССР, сильные, ж...</td>\n    </tr>\n    <tr>\n      <th>15958</th>\n      <td>6443</td>\n      <td>series</td>\n      <td>Полярный круг</td>\n      <td>Arctic Circle</td>\n      <td>2018.0</td>\n      <td>драмы, триллеры, криминал</td>\n      <td>Финляндия, Германия</td>\n      <td>NaN</td>\n      <td>16.0</td>\n      <td>NaN</td>\n      <td>Ханну Салонен</td>\n      <td>Иина Куустонен, Максимилиан Брюкнер, Пихла Вии...</td>\n      <td>Во время погони за браконьерами по лесу, сотру...</td>\n      <td>убийство, вирус, расследование преступления, н...</td>\n    </tr>\n    <tr>\n      <th>15959</th>\n      <td>2367</td>\n      <td>series</td>\n      <td>Надежда</td>\n      <td>NaN</td>\n      <td>2020.0</td>\n      <td>драмы, боевики</td>\n      <td>Россия</td>\n      <td>0.0</td>\n      <td>18.0</td>\n      <td>NaN</td>\n      <td>Елена Хазанова</td>\n      <td>Виктория Исакова, Александр Кузьмин, Алексей М...</td>\n      <td>Оригинальный киносериал от создателей «Бывших»...</td>\n      <td>Надежда, 2020, Россия</td>\n    </tr>\n    <tr>\n      <th>15960</th>\n      <td>10632</td>\n      <td>series</td>\n      <td>Сговор</td>\n      <td>Hassel</td>\n      <td>2017.0</td>\n      <td>драмы, триллеры, криминал</td>\n      <td>Россия</td>\n      <td>0.0</td>\n      <td>18.0</td>\n      <td>NaN</td>\n      <td>Эшреф Рейбрук, Амир Камдин, Эрик Эгер</td>\n      <td>Ола Рапас, Алиетт Офейм, Уильма Лиден, Шанти Р...</td>\n      <td>Криминальная драма по мотивам романов о шведск...</td>\n      <td>Сговор, 2017, Россия</td>\n    </tr>\n    <tr>\n      <th>15961</th>\n      <td>4538</td>\n      <td>series</td>\n      <td>Среди камней</td>\n      <td>Darklands</td>\n      <td>2019.0</td>\n      <td>драмы, спорт, криминал</td>\n      <td>Россия</td>\n      <td>0.0</td>\n      <td>18.0</td>\n      <td>NaN</td>\n      <td>Марк О’Коннор, Конор МакМахон</td>\n      <td>Дэйн Уайт О’Хара, Томас Кэйн-Бирн, Джудит Родд...</td>\n      <td>Семнадцатилетний Дэмиен мечтает вырваться за п...</td>\n      <td>Среди, камней, 2019, Россия</td>\n    </tr>\n    <tr>\n      <th>15962</th>\n      <td>3206</td>\n      <td>series</td>\n      <td>Гоша</td>\n      <td>NaN</td>\n      <td>2019.0</td>\n      <td>комедии</td>\n      <td>Россия</td>\n      <td>0.0</td>\n      <td>16.0</td>\n      <td>NaN</td>\n      <td>Михаил Миронов</td>\n      <td>Мкртыч Арзуманян, Виктория Рунцова</td>\n      <td>Добродушный Гоша не может выйти из дома, чтобы...</td>\n      <td>Гоша, 2019, Россия</td>\n    </tr>\n  </tbody>\n</table>\n</div>"
     },
     "execution_count": 8,
     "metadata": {},
     "output_type": "execute_result"
    }
   ],
   "source": [
    "pd.concat([items.head(), items.tail()])\n"
   ],
   "metadata": {
    "collapsed": false
   }
  },
  {
   "cell_type": "code",
   "execution_count": 9,
   "outputs": [
    {
     "name": "stdout",
     "output_type": "stream",
     "text": [
      "<class 'pandas.core.frame.DataFrame'>\n",
      "RangeIndex: 15963 entries, 0 to 15962\n",
      "Data columns (total 14 columns):\n",
      " #   Column        Non-Null Count  Dtype  \n",
      "---  ------        --------------  -----  \n",
      " 0   item_id       15963 non-null  int64  \n",
      " 1   content_type  15963 non-null  object \n",
      " 2   title         15963 non-null  object \n",
      " 3   title_orig    11218 non-null  object \n",
      " 4   release_year  15865 non-null  float64\n",
      " 5   genres        15963 non-null  object \n",
      " 6   countries     15926 non-null  object \n",
      " 7   for_kids      566 non-null    float64\n",
      " 8   age_rating    15961 non-null  float64\n",
      " 9   studios       1065 non-null   object \n",
      " 10  directors     14454 non-null  object \n",
      " 11  actors        13344 non-null  object \n",
      " 12  description   15961 non-null  object \n",
      " 13  keywords      15540 non-null  object \n",
      "dtypes: float64(3), int64(1), object(10)\n",
      "memory usage: 1.7+ MB\n"
     ]
    }
   ],
   "source": [
    "items.info()"
   ],
   "metadata": {
    "collapsed": false
   }
  },
  {
   "cell_type": "markdown",
   "source": [
    "---\n",
    "### users"
   ],
   "metadata": {
    "collapsed": false
   }
  },
  {
   "cell_type": "code",
   "execution_count": 10,
   "outputs": [
    {
     "data": {
      "text/plain": "        user_id         age        income  sex  kids_flg\n0        973171   age_25_34  income_60_90    М         1\n1        962099   age_18_24  income_20_40    М         0\n2       1047345   age_45_54  income_40_60    Ж         0\n3        721985   age_45_54  income_20_40    Ж         0\n4        704055   age_35_44  income_60_90    Ж         0\n840192   339025  age_65_inf   income_0_20    Ж         0\n840193   983617   age_18_24  income_20_40    Ж         1\n840194   251008         NaN           NaN  NaN         0\n840195   590706         NaN           NaN    Ж         0\n840196   166555  age_65_inf  income_20_40    Ж         0",
      "text/html": "<div>\n<style scoped>\n    .dataframe tbody tr th:only-of-type {\n        vertical-align: middle;\n    }\n\n    .dataframe tbody tr th {\n        vertical-align: top;\n    }\n\n    .dataframe thead th {\n        text-align: right;\n    }\n</style>\n<table border=\"1\" class=\"dataframe\">\n  <thead>\n    <tr style=\"text-align: right;\">\n      <th></th>\n      <th>user_id</th>\n      <th>age</th>\n      <th>income</th>\n      <th>sex</th>\n      <th>kids_flg</th>\n    </tr>\n  </thead>\n  <tbody>\n    <tr>\n      <th>0</th>\n      <td>973171</td>\n      <td>age_25_34</td>\n      <td>income_60_90</td>\n      <td>М</td>\n      <td>1</td>\n    </tr>\n    <tr>\n      <th>1</th>\n      <td>962099</td>\n      <td>age_18_24</td>\n      <td>income_20_40</td>\n      <td>М</td>\n      <td>0</td>\n    </tr>\n    <tr>\n      <th>2</th>\n      <td>1047345</td>\n      <td>age_45_54</td>\n      <td>income_40_60</td>\n      <td>Ж</td>\n      <td>0</td>\n    </tr>\n    <tr>\n      <th>3</th>\n      <td>721985</td>\n      <td>age_45_54</td>\n      <td>income_20_40</td>\n      <td>Ж</td>\n      <td>0</td>\n    </tr>\n    <tr>\n      <th>4</th>\n      <td>704055</td>\n      <td>age_35_44</td>\n      <td>income_60_90</td>\n      <td>Ж</td>\n      <td>0</td>\n    </tr>\n    <tr>\n      <th>840192</th>\n      <td>339025</td>\n      <td>age_65_inf</td>\n      <td>income_0_20</td>\n      <td>Ж</td>\n      <td>0</td>\n    </tr>\n    <tr>\n      <th>840193</th>\n      <td>983617</td>\n      <td>age_18_24</td>\n      <td>income_20_40</td>\n      <td>Ж</td>\n      <td>1</td>\n    </tr>\n    <tr>\n      <th>840194</th>\n      <td>251008</td>\n      <td>NaN</td>\n      <td>NaN</td>\n      <td>NaN</td>\n      <td>0</td>\n    </tr>\n    <tr>\n      <th>840195</th>\n      <td>590706</td>\n      <td>NaN</td>\n      <td>NaN</td>\n      <td>Ж</td>\n      <td>0</td>\n    </tr>\n    <tr>\n      <th>840196</th>\n      <td>166555</td>\n      <td>age_65_inf</td>\n      <td>income_20_40</td>\n      <td>Ж</td>\n      <td>0</td>\n    </tr>\n  </tbody>\n</table>\n</div>"
     },
     "execution_count": 10,
     "metadata": {},
     "output_type": "execute_result"
    }
   ],
   "source": [
    "pd.concat([users.head(), users.tail()])\n"
   ],
   "metadata": {
    "collapsed": false
   }
  },
  {
   "cell_type": "code",
   "execution_count": 11,
   "outputs": [
    {
     "name": "stdout",
     "output_type": "stream",
     "text": [
      "<class 'pandas.core.frame.DataFrame'>\n",
      "RangeIndex: 840197 entries, 0 to 840196\n",
      "Data columns (total 5 columns):\n",
      " #   Column    Non-Null Count   Dtype \n",
      "---  ------    --------------   ----- \n",
      " 0   user_id   840197 non-null  int64 \n",
      " 1   age       826102 non-null  object\n",
      " 2   income    825421 non-null  object\n",
      " 3   sex       826366 non-null  object\n",
      " 4   kids_flg  840197 non-null  int64 \n",
      "dtypes: int64(2), object(3)\n",
      "memory usage: 32.1+ MB\n"
     ]
    }
   ],
   "source": [
    "users.info()\n"
   ],
   "metadata": {
    "collapsed": false
   }
  },
  {
   "cell_type": "markdown",
   "source": [
    "# Fake users"
   ],
   "metadata": {
    "collapsed": false
   }
  },
  {
   "cell_type": "code",
   "execution_count": 14,
   "outputs": [
    {
     "name": "stdout",
     "output_type": "stream",
     "text": [
      "1097558\n"
     ]
    }
   ],
   "source": [
    "max_id = users[\"user_id\"].max()\n",
    "print(max_id)"
   ],
   "metadata": {
    "collapsed": false
   }
  },
  {
   "cell_type": "code",
   "execution_count": 15,
   "outputs": [],
   "source": [
    "fake_user_ids = []"
   ],
   "metadata": {
    "collapsed": false
   }
  },
  {
   "cell_type": "markdown",
   "source": [
    "###  Любитель триллеров\n",
    "Так как одна из фич для айтемов - это жанр, проставим пользователю фильмы с жанром `триллер`"
   ],
   "metadata": {
    "collapsed": false
   }
  },
  {
   "cell_type": "code",
   "execution_count": 16,
   "outputs": [],
   "source": [
    "new_user_id = max_id + 1\n",
    "fake_user_ids.append(new_user_id)\n",
    "max_id += 1"
   ],
   "metadata": {
    "collapsed": false
   }
  },
  {
   "cell_type": "code",
   "execution_count": 17,
   "outputs": [
    {
     "data": {
      "text/plain": "2        10716\n8         9853\n17        6881\n21        3445\n38        1622\n         ...  \n15923    10288\n15939    15699\n15945    12880\n15958     6443\n15960    10632\nName: item_id, Length: 2418, dtype: int64"
     },
     "execution_count": 17,
     "metadata": {},
     "output_type": "execute_result"
    }
   ],
   "source": [
    "\n",
    "thriller_ids = items[(items[\"genres\"]).str.contains(\"триллер\")][\"item_id\"]\n",
    "thriller_ids"
   ],
   "metadata": {
    "collapsed": false
   }
  },
  {
   "cell_type": "code",
   "execution_count": 18,
   "outputs": [],
   "source": [
    "thriller_ids_sample = thriller_ids.sample(n=20)"
   ],
   "metadata": {
    "collapsed": false
   }
  },
  {
   "cell_type": "code",
   "execution_count": 19,
   "outputs": [
    {
     "data": {
      "text/plain": "    user_id  item_id last_watch_dt  total_dur  watched_pct\n0   1097559     8226    2021-04-13       4824           64\n1   1097559    11914    2021-04-13       6483           74\n2   1097559     4303    2021-04-13       7820           75\n3   1097559      828    2021-04-13       9121           72\n4   1097559     9140    2021-04-13       4144           93\n5   1097559     4546    2021-04-13       7231           30\n6   1097559     9444    2021-04-13       6984           83\n7   1097559     6309    2021-04-13       9665           55\n8   1097559    16133    2021-04-13       9794           60\n9   1097559     2842    2021-04-13       4893           97\n10  1097559    11382    2021-04-13       8194           28\n11  1097559     2629    2021-04-13       4975           16\n12  1097559    15813    2021-04-13       4643           76\n13  1097559    13911    2021-04-13       9116           58\n14  1097559     5573    2021-04-13       4643           56\n15  1097559      134    2021-04-13       4520           35\n16  1097559    16425    2021-04-13       6164           47\n17  1097559    14179    2021-04-13       9525           95\n18  1097559    14056    2021-04-13       6590           87\n19  1097559    15817    2021-08-22       1005           20",
      "text/html": "<div>\n<style scoped>\n    .dataframe tbody tr th:only-of-type {\n        vertical-align: middle;\n    }\n\n    .dataframe tbody tr th {\n        vertical-align: top;\n    }\n\n    .dataframe thead th {\n        text-align: right;\n    }\n</style>\n<table border=\"1\" class=\"dataframe\">\n  <thead>\n    <tr style=\"text-align: right;\">\n      <th></th>\n      <th>user_id</th>\n      <th>item_id</th>\n      <th>last_watch_dt</th>\n      <th>total_dur</th>\n      <th>watched_pct</th>\n    </tr>\n  </thead>\n  <tbody>\n    <tr>\n      <th>0</th>\n      <td>1097559</td>\n      <td>8226</td>\n      <td>2021-04-13</td>\n      <td>4824</td>\n      <td>64</td>\n    </tr>\n    <tr>\n      <th>1</th>\n      <td>1097559</td>\n      <td>11914</td>\n      <td>2021-04-13</td>\n      <td>6483</td>\n      <td>74</td>\n    </tr>\n    <tr>\n      <th>2</th>\n      <td>1097559</td>\n      <td>4303</td>\n      <td>2021-04-13</td>\n      <td>7820</td>\n      <td>75</td>\n    </tr>\n    <tr>\n      <th>3</th>\n      <td>1097559</td>\n      <td>828</td>\n      <td>2021-04-13</td>\n      <td>9121</td>\n      <td>72</td>\n    </tr>\n    <tr>\n      <th>4</th>\n      <td>1097559</td>\n      <td>9140</td>\n      <td>2021-04-13</td>\n      <td>4144</td>\n      <td>93</td>\n    </tr>\n    <tr>\n      <th>5</th>\n      <td>1097559</td>\n      <td>4546</td>\n      <td>2021-04-13</td>\n      <td>7231</td>\n      <td>30</td>\n    </tr>\n    <tr>\n      <th>6</th>\n      <td>1097559</td>\n      <td>9444</td>\n      <td>2021-04-13</td>\n      <td>6984</td>\n      <td>83</td>\n    </tr>\n    <tr>\n      <th>7</th>\n      <td>1097559</td>\n      <td>6309</td>\n      <td>2021-04-13</td>\n      <td>9665</td>\n      <td>55</td>\n    </tr>\n    <tr>\n      <th>8</th>\n      <td>1097559</td>\n      <td>16133</td>\n      <td>2021-04-13</td>\n      <td>9794</td>\n      <td>60</td>\n    </tr>\n    <tr>\n      <th>9</th>\n      <td>1097559</td>\n      <td>2842</td>\n      <td>2021-04-13</td>\n      <td>4893</td>\n      <td>97</td>\n    </tr>\n    <tr>\n      <th>10</th>\n      <td>1097559</td>\n      <td>11382</td>\n      <td>2021-04-13</td>\n      <td>8194</td>\n      <td>28</td>\n    </tr>\n    <tr>\n      <th>11</th>\n      <td>1097559</td>\n      <td>2629</td>\n      <td>2021-04-13</td>\n      <td>4975</td>\n      <td>16</td>\n    </tr>\n    <tr>\n      <th>12</th>\n      <td>1097559</td>\n      <td>15813</td>\n      <td>2021-04-13</td>\n      <td>4643</td>\n      <td>76</td>\n    </tr>\n    <tr>\n      <th>13</th>\n      <td>1097559</td>\n      <td>13911</td>\n      <td>2021-04-13</td>\n      <td>9116</td>\n      <td>58</td>\n    </tr>\n    <tr>\n      <th>14</th>\n      <td>1097559</td>\n      <td>5573</td>\n      <td>2021-04-13</td>\n      <td>4643</td>\n      <td>56</td>\n    </tr>\n    <tr>\n      <th>15</th>\n      <td>1097559</td>\n      <td>134</td>\n      <td>2021-04-13</td>\n      <td>4520</td>\n      <td>35</td>\n    </tr>\n    <tr>\n      <th>16</th>\n      <td>1097559</td>\n      <td>16425</td>\n      <td>2021-04-13</td>\n      <td>6164</td>\n      <td>47</td>\n    </tr>\n    <tr>\n      <th>17</th>\n      <td>1097559</td>\n      <td>14179</td>\n      <td>2021-04-13</td>\n      <td>9525</td>\n      <td>95</td>\n    </tr>\n    <tr>\n      <th>18</th>\n      <td>1097559</td>\n      <td>14056</td>\n      <td>2021-04-13</td>\n      <td>6590</td>\n      <td>87</td>\n    </tr>\n    <tr>\n      <th>19</th>\n      <td>1097559</td>\n      <td>15817</td>\n      <td>2021-08-22</td>\n      <td>1005</td>\n      <td>20</td>\n    </tr>\n  </tbody>\n</table>\n</div>"
     },
     "execution_count": 19,
     "metadata": {},
     "output_type": "execute_result"
    }
   ],
   "source": [
    "last_watch_dt = [\"2021-04-13\"] * 19\n",
    "last_watch_dt.append(\"2021-08-22\")\n",
    "total_dur = np.round(np.random.rand(20) * 10000 + 100).astype(dtype=np.int)\n",
    "watched_pct = np.round(np.random.rand(20) * 100).astype(dtype=np.int)\n",
    "data = {\n",
    "    \"user_id\": [new_user_id] * 20,\n",
    "    \"item_id\": list(thriller_ids_sample),\n",
    "    \"last_watch_dt\": last_watch_dt,\n",
    "    \"total_dur\": list(total_dur),\n",
    "    \"watched_pct\": list(watched_pct)\n",
    "}\n",
    "new_interactions = pd.DataFrame(data)\n",
    "interactions = interactions.append(new_interactions)\n",
    "new_interactions"
   ],
   "metadata": {
    "collapsed": false
   }
  },
  {
   "cell_type": "code",
   "execution_count": 20,
   "outputs": [
    {
     "data": {
      "text/plain": "    user_id  item_id last_watch_dt  total_dur  watched_pct\n0    176549     9506    2021-05-11       4250         72.0\n1    699317     1659    2021-05-29       8317        100.0\n2    656683     7107    2021-05-09         10          0.0\n3    864613     7638    2021-07-05      14483        100.0\n4    964868     9506    2021-04-30       6725        100.0\n15  1097559      134    2021-04-13       4520         35.0\n16  1097559    16425    2021-04-13       6164         47.0\n17  1097559    14179    2021-04-13       9525         95.0\n18  1097559    14056    2021-04-13       6590         87.0\n19  1097559    15817    2021-08-22       1005         20.0",
      "text/html": "<div>\n<style scoped>\n    .dataframe tbody tr th:only-of-type {\n        vertical-align: middle;\n    }\n\n    .dataframe tbody tr th {\n        vertical-align: top;\n    }\n\n    .dataframe thead th {\n        text-align: right;\n    }\n</style>\n<table border=\"1\" class=\"dataframe\">\n  <thead>\n    <tr style=\"text-align: right;\">\n      <th></th>\n      <th>user_id</th>\n      <th>item_id</th>\n      <th>last_watch_dt</th>\n      <th>total_dur</th>\n      <th>watched_pct</th>\n    </tr>\n  </thead>\n  <tbody>\n    <tr>\n      <th>0</th>\n      <td>176549</td>\n      <td>9506</td>\n      <td>2021-05-11</td>\n      <td>4250</td>\n      <td>72.0</td>\n    </tr>\n    <tr>\n      <th>1</th>\n      <td>699317</td>\n      <td>1659</td>\n      <td>2021-05-29</td>\n      <td>8317</td>\n      <td>100.0</td>\n    </tr>\n    <tr>\n      <th>2</th>\n      <td>656683</td>\n      <td>7107</td>\n      <td>2021-05-09</td>\n      <td>10</td>\n      <td>0.0</td>\n    </tr>\n    <tr>\n      <th>3</th>\n      <td>864613</td>\n      <td>7638</td>\n      <td>2021-07-05</td>\n      <td>14483</td>\n      <td>100.0</td>\n    </tr>\n    <tr>\n      <th>4</th>\n      <td>964868</td>\n      <td>9506</td>\n      <td>2021-04-30</td>\n      <td>6725</td>\n      <td>100.0</td>\n    </tr>\n    <tr>\n      <th>15</th>\n      <td>1097559</td>\n      <td>134</td>\n      <td>2021-04-13</td>\n      <td>4520</td>\n      <td>35.0</td>\n    </tr>\n    <tr>\n      <th>16</th>\n      <td>1097559</td>\n      <td>16425</td>\n      <td>2021-04-13</td>\n      <td>6164</td>\n      <td>47.0</td>\n    </tr>\n    <tr>\n      <th>17</th>\n      <td>1097559</td>\n      <td>14179</td>\n      <td>2021-04-13</td>\n      <td>9525</td>\n      <td>95.0</td>\n    </tr>\n    <tr>\n      <th>18</th>\n      <td>1097559</td>\n      <td>14056</td>\n      <td>2021-04-13</td>\n      <td>6590</td>\n      <td>87.0</td>\n    </tr>\n    <tr>\n      <th>19</th>\n      <td>1097559</td>\n      <td>15817</td>\n      <td>2021-08-22</td>\n      <td>1005</td>\n      <td>20.0</td>\n    </tr>\n  </tbody>\n</table>\n</div>"
     },
     "execution_count": 20,
     "metadata": {},
     "output_type": "execute_result"
    }
   ],
   "source": [
    "pd.concat([interactions.head(), interactions.tail()])\n"
   ],
   "metadata": {
    "collapsed": false
   }
  },
  {
   "cell_type": "code",
   "execution_count": 21,
   "outputs": [
    {
     "data": {
      "text/plain": "   user_id        age        income sex  kids_flg\n0  1097559  age_25_34  income_60_90   М         1",
      "text/html": "<div>\n<style scoped>\n    .dataframe tbody tr th:only-of-type {\n        vertical-align: middle;\n    }\n\n    .dataframe tbody tr th {\n        vertical-align: top;\n    }\n\n    .dataframe thead th {\n        text-align: right;\n    }\n</style>\n<table border=\"1\" class=\"dataframe\">\n  <thead>\n    <tr style=\"text-align: right;\">\n      <th></th>\n      <th>user_id</th>\n      <th>age</th>\n      <th>income</th>\n      <th>sex</th>\n      <th>kids_flg</th>\n    </tr>\n  </thead>\n  <tbody>\n    <tr>\n      <th>0</th>\n      <td>1097559</td>\n      <td>age_25_34</td>\n      <td>income_60_90</td>\n      <td>М</td>\n      <td>1</td>\n    </tr>\n  </tbody>\n</table>\n</div>"
     },
     "execution_count": 21,
     "metadata": {},
     "output_type": "execute_result"
    }
   ],
   "source": [
    "data = {\n",
    "    \"user_id\": [new_user_id],\n",
    "    \"age\": [\"age_25_34\"],\n",
    "    \"income\": [\"income_60_90\"],\n",
    "    \"sex\": \"М\",\n",
    "    \"kids_flg\": [1]\n",
    "}\n",
    "\n",
    "new_user = pd.DataFrame(data)\n",
    "users = users.append(new_user)\n",
    "new_user"
   ],
   "metadata": {
    "collapsed": false
   }
  },
  {
   "cell_type": "code",
   "execution_count": 22,
   "outputs": [
    {
     "data": {
      "text/plain": "   user_id        age        income sex  kids_flg\n0  1097559  age_25_34  income_60_90   М         1",
      "text/html": "<div>\n<style scoped>\n    .dataframe tbody tr th:only-of-type {\n        vertical-align: middle;\n    }\n\n    .dataframe tbody tr th {\n        vertical-align: top;\n    }\n\n    .dataframe thead th {\n        text-align: right;\n    }\n</style>\n<table border=\"1\" class=\"dataframe\">\n  <thead>\n    <tr style=\"text-align: right;\">\n      <th></th>\n      <th>user_id</th>\n      <th>age</th>\n      <th>income</th>\n      <th>sex</th>\n      <th>kids_flg</th>\n    </tr>\n  </thead>\n  <tbody>\n    <tr>\n      <th>0</th>\n      <td>1097559</td>\n      <td>age_25_34</td>\n      <td>income_60_90</td>\n      <td>М</td>\n      <td>1</td>\n    </tr>\n  </tbody>\n</table>\n</div>"
     },
     "execution_count": 22,
     "metadata": {},
     "output_type": "execute_result"
    }
   ],
   "source": [
    "users[users[\"user_id\"] == new_user_id]"
   ],
   "metadata": {
    "collapsed": false
   }
  },
  {
   "cell_type": "markdown",
   "source": [
    "###  Поклонник спорта\n",
    "По аналогии с предыдущим, найдем фильмы с жанром `спорт`"
   ],
   "metadata": {
    "collapsed": false
   }
  },
  {
   "cell_type": "code",
   "execution_count": 23,
   "outputs": [],
   "source": [
    "new_user_id = max_id + 1\n",
    "fake_user_ids.append(new_user_id)\n",
    "max_id += 1"
   ],
   "metadata": {
    "collapsed": false
   }
  },
  {
   "cell_type": "code",
   "execution_count": 24,
   "outputs": [
    {
     "data": {
      "text/plain": "4        16268\n35       15702\n221      15935\n272        849\n340       4639\n         ...  \n15856    14273\n15868     6467\n15920     9035\n15938     3134\n15961     4538\nName: item_id, Length: 308, dtype: int64"
     },
     "execution_count": 24,
     "metadata": {},
     "output_type": "execute_result"
    }
   ],
   "source": [
    "sport_ids = items[(items[\"genres\"]).str.contains(\"спорт\")][\"item_id\"]\n",
    "sport_ids"
   ],
   "metadata": {
    "collapsed": false
   }
  },
  {
   "cell_type": "code",
   "execution_count": 25,
   "outputs": [],
   "source": [
    "sport_ids_sample = sport_ids.sample(n=100)"
   ],
   "metadata": {
    "collapsed": false
   }
  },
  {
   "cell_type": "code",
   "execution_count": 26,
   "outputs": [
    {
     "data": {
      "text/plain": "    user_id  item_id last_watch_dt  total_dur  watched_pct\n0   1097560    12500    2021-04-13       5068           76\n1   1097560    11781    2021-04-13       9638           12\n2   1097560    14141    2021-04-13       3679           35\n3   1097560     7088    2021-04-13       2426           65\n4   1097560      700    2021-04-13       7570           91\n..      ...      ...           ...        ...          ...\n95  1097560     9818    2021-04-13       4226           71\n96  1097560    14263    2021-04-13       1064           12\n97  1097560    13919    2021-04-13       1797            3\n98  1097560     9873    2021-04-13        463           44\n99  1097560    10487    2021-08-22        758            2\n\n[100 rows x 5 columns]",
      "text/html": "<div>\n<style scoped>\n    .dataframe tbody tr th:only-of-type {\n        vertical-align: middle;\n    }\n\n    .dataframe tbody tr th {\n        vertical-align: top;\n    }\n\n    .dataframe thead th {\n        text-align: right;\n    }\n</style>\n<table border=\"1\" class=\"dataframe\">\n  <thead>\n    <tr style=\"text-align: right;\">\n      <th></th>\n      <th>user_id</th>\n      <th>item_id</th>\n      <th>last_watch_dt</th>\n      <th>total_dur</th>\n      <th>watched_pct</th>\n    </tr>\n  </thead>\n  <tbody>\n    <tr>\n      <th>0</th>\n      <td>1097560</td>\n      <td>12500</td>\n      <td>2021-04-13</td>\n      <td>5068</td>\n      <td>76</td>\n    </tr>\n    <tr>\n      <th>1</th>\n      <td>1097560</td>\n      <td>11781</td>\n      <td>2021-04-13</td>\n      <td>9638</td>\n      <td>12</td>\n    </tr>\n    <tr>\n      <th>2</th>\n      <td>1097560</td>\n      <td>14141</td>\n      <td>2021-04-13</td>\n      <td>3679</td>\n      <td>35</td>\n    </tr>\n    <tr>\n      <th>3</th>\n      <td>1097560</td>\n      <td>7088</td>\n      <td>2021-04-13</td>\n      <td>2426</td>\n      <td>65</td>\n    </tr>\n    <tr>\n      <th>4</th>\n      <td>1097560</td>\n      <td>700</td>\n      <td>2021-04-13</td>\n      <td>7570</td>\n      <td>91</td>\n    </tr>\n    <tr>\n      <th>...</th>\n      <td>...</td>\n      <td>...</td>\n      <td>...</td>\n      <td>...</td>\n      <td>...</td>\n    </tr>\n    <tr>\n      <th>95</th>\n      <td>1097560</td>\n      <td>9818</td>\n      <td>2021-04-13</td>\n      <td>4226</td>\n      <td>71</td>\n    </tr>\n    <tr>\n      <th>96</th>\n      <td>1097560</td>\n      <td>14263</td>\n      <td>2021-04-13</td>\n      <td>1064</td>\n      <td>12</td>\n    </tr>\n    <tr>\n      <th>97</th>\n      <td>1097560</td>\n      <td>13919</td>\n      <td>2021-04-13</td>\n      <td>1797</td>\n      <td>3</td>\n    </tr>\n    <tr>\n      <th>98</th>\n      <td>1097560</td>\n      <td>9873</td>\n      <td>2021-04-13</td>\n      <td>463</td>\n      <td>44</td>\n    </tr>\n    <tr>\n      <th>99</th>\n      <td>1097560</td>\n      <td>10487</td>\n      <td>2021-08-22</td>\n      <td>758</td>\n      <td>2</td>\n    </tr>\n  </tbody>\n</table>\n<p>100 rows × 5 columns</p>\n</div>"
     },
     "execution_count": 26,
     "metadata": {},
     "output_type": "execute_result"
    }
   ],
   "source": [
    "last_watch_dt = [\"2021-04-13\"] * 99\n",
    "last_watch_dt.append(\"2021-08-22\")\n",
    "total_dur = np.round(np.random.rand(100) * 10000 + 100).astype(dtype=np.int)\n",
    "watched_pct = np.round(np.random.rand(100) * 100).astype(dtype=np.int)\n",
    "data = {\n",
    "    \"user_id\": [new_user_id] * 100,\n",
    "    \"item_id\": list(sport_ids_sample),\n",
    "    \"last_watch_dt\": last_watch_dt,\n",
    "    \"total_dur\": list(total_dur),\n",
    "    \"watched_pct\": list(watched_pct)\n",
    "}\n",
    "\n",
    "new_interactions = pd.DataFrame(data)\n",
    "interactions = interactions.append(new_interactions)\n",
    "new_interactions"
   ],
   "metadata": {
    "collapsed": false
   }
  },
  {
   "cell_type": "code",
   "execution_count": 27,
   "outputs": [
    {
     "data": {
      "text/plain": "   user_id        age        income sex  kids_flg\n0  1097560  age_18_24  income_20_40   М         0",
      "text/html": "<div>\n<style scoped>\n    .dataframe tbody tr th:only-of-type {\n        vertical-align: middle;\n    }\n\n    .dataframe tbody tr th {\n        vertical-align: top;\n    }\n\n    .dataframe thead th {\n        text-align: right;\n    }\n</style>\n<table border=\"1\" class=\"dataframe\">\n  <thead>\n    <tr style=\"text-align: right;\">\n      <th></th>\n      <th>user_id</th>\n      <th>age</th>\n      <th>income</th>\n      <th>sex</th>\n      <th>kids_flg</th>\n    </tr>\n  </thead>\n  <tbody>\n    <tr>\n      <th>0</th>\n      <td>1097560</td>\n      <td>age_18_24</td>\n      <td>income_20_40</td>\n      <td>М</td>\n      <td>0</td>\n    </tr>\n  </tbody>\n</table>\n</div>"
     },
     "execution_count": 27,
     "metadata": {},
     "output_type": "execute_result"
    }
   ],
   "source": [
    "data = {\n",
    "    \"user_id\": [new_user_id],\n",
    "    \"age\": [\"age_18_24\"],\n",
    "    \"income\": [\"income_20_40\"],\n",
    "    \"sex\": [\"М\"],\n",
    "    \"kids_flg\": [0]\n",
    "}\n",
    "\n",
    "new_user = pd.DataFrame(data)\n",
    "users = users.append(new_user)\n",
    "new_user"
   ],
   "metadata": {
    "collapsed": false
   }
  },
  {
   "cell_type": "code",
   "execution_count": 28,
   "outputs": [
    {
     "data": {
      "text/plain": "   user_id        age        income sex  kids_flg\n0  1097560  age_18_24  income_20_40   М         0",
      "text/html": "<div>\n<style scoped>\n    .dataframe tbody tr th:only-of-type {\n        vertical-align: middle;\n    }\n\n    .dataframe tbody tr th {\n        vertical-align: top;\n    }\n\n    .dataframe thead th {\n        text-align: right;\n    }\n</style>\n<table border=\"1\" class=\"dataframe\">\n  <thead>\n    <tr style=\"text-align: right;\">\n      <th></th>\n      <th>user_id</th>\n      <th>age</th>\n      <th>income</th>\n      <th>sex</th>\n      <th>kids_flg</th>\n    </tr>\n  </thead>\n  <tbody>\n    <tr>\n      <th>0</th>\n      <td>1097560</td>\n      <td>age_18_24</td>\n      <td>income_20_40</td>\n      <td>М</td>\n      <td>0</td>\n    </tr>\n  </tbody>\n</table>\n</div>"
     },
     "execution_count": 28,
     "metadata": {},
     "output_type": "execute_result"
    }
   ],
   "source": [
    "users[users[\"user_id\"] == new_user_id]"
   ],
   "metadata": {
    "collapsed": false
   }
  },
  {
   "cell_type": "markdown",
   "source": [
    "###  Обожает сериалы\n",
    "Теперь абстрагируемся от жанра и укажем, что пользователь смотрит только сериалы"
   ],
   "metadata": {
    "collapsed": false
   }
  },
  {
   "cell_type": "code",
   "execution_count": 29,
   "outputs": [],
   "source": [
    "new_user_id = max_id + 1\n",
    "fake_user_ids.append(new_user_id)\n",
    "max_id += 1"
   ],
   "metadata": {
    "collapsed": false
   }
  },
  {
   "cell_type": "code",
   "execution_count": 30,
   "outputs": [
    {
     "data": {
      "text/plain": "76        3965\n77        4045\n78        2662\n79        5297\n80        4084\n         ...  \n15958     6443\n15959     2367\n15960    10632\n15961     4538\n15962     3206\nName: item_id, Length: 3961, dtype: int64"
     },
     "execution_count": 30,
     "metadata": {},
     "output_type": "execute_result"
    }
   ],
   "source": [
    "series_ids = items[(items[\"content_type\"]).str.contains(\"series\")][\"item_id\"]\n",
    "series_ids"
   ],
   "metadata": {
    "collapsed": false
   }
  },
  {
   "cell_type": "code",
   "execution_count": 31,
   "outputs": [],
   "source": [
    "series_ids_sample = series_ids.sample(n=100)"
   ],
   "metadata": {
    "collapsed": false
   }
  },
  {
   "cell_type": "code",
   "execution_count": 32,
   "outputs": [
    {
     "data": {
      "text/plain": "    user_id  item_id last_watch_dt  total_dur  watched_pct\n0   1097561     3932    2021-04-13       1275           33\n1   1097561    15263    2021-04-13       9285           44\n2   1097561     2824    2021-04-13       8312            9\n3   1097561     1514    2021-04-13       7855           57\n4   1097561    12901    2021-04-13        828            9\n..      ...      ...           ...        ...          ...\n95  1097561    16058    2021-04-13       1455           38\n96  1097561    16322    2021-04-13       8986           27\n97  1097561    16121    2021-04-13       6446           76\n98  1097561    12181    2021-04-13       5362           54\n99  1097561    14061    2021-08-22       1940           71\n\n[100 rows x 5 columns]",
      "text/html": "<div>\n<style scoped>\n    .dataframe tbody tr th:only-of-type {\n        vertical-align: middle;\n    }\n\n    .dataframe tbody tr th {\n        vertical-align: top;\n    }\n\n    .dataframe thead th {\n        text-align: right;\n    }\n</style>\n<table border=\"1\" class=\"dataframe\">\n  <thead>\n    <tr style=\"text-align: right;\">\n      <th></th>\n      <th>user_id</th>\n      <th>item_id</th>\n      <th>last_watch_dt</th>\n      <th>total_dur</th>\n      <th>watched_pct</th>\n    </tr>\n  </thead>\n  <tbody>\n    <tr>\n      <th>0</th>\n      <td>1097561</td>\n      <td>3932</td>\n      <td>2021-04-13</td>\n      <td>1275</td>\n      <td>33</td>\n    </tr>\n    <tr>\n      <th>1</th>\n      <td>1097561</td>\n      <td>15263</td>\n      <td>2021-04-13</td>\n      <td>9285</td>\n      <td>44</td>\n    </tr>\n    <tr>\n      <th>2</th>\n      <td>1097561</td>\n      <td>2824</td>\n      <td>2021-04-13</td>\n      <td>8312</td>\n      <td>9</td>\n    </tr>\n    <tr>\n      <th>3</th>\n      <td>1097561</td>\n      <td>1514</td>\n      <td>2021-04-13</td>\n      <td>7855</td>\n      <td>57</td>\n    </tr>\n    <tr>\n      <th>4</th>\n      <td>1097561</td>\n      <td>12901</td>\n      <td>2021-04-13</td>\n      <td>828</td>\n      <td>9</td>\n    </tr>\n    <tr>\n      <th>...</th>\n      <td>...</td>\n      <td>...</td>\n      <td>...</td>\n      <td>...</td>\n      <td>...</td>\n    </tr>\n    <tr>\n      <th>95</th>\n      <td>1097561</td>\n      <td>16058</td>\n      <td>2021-04-13</td>\n      <td>1455</td>\n      <td>38</td>\n    </tr>\n    <tr>\n      <th>96</th>\n      <td>1097561</td>\n      <td>16322</td>\n      <td>2021-04-13</td>\n      <td>8986</td>\n      <td>27</td>\n    </tr>\n    <tr>\n      <th>97</th>\n      <td>1097561</td>\n      <td>16121</td>\n      <td>2021-04-13</td>\n      <td>6446</td>\n      <td>76</td>\n    </tr>\n    <tr>\n      <th>98</th>\n      <td>1097561</td>\n      <td>12181</td>\n      <td>2021-04-13</td>\n      <td>5362</td>\n      <td>54</td>\n    </tr>\n    <tr>\n      <th>99</th>\n      <td>1097561</td>\n      <td>14061</td>\n      <td>2021-08-22</td>\n      <td>1940</td>\n      <td>71</td>\n    </tr>\n  </tbody>\n</table>\n<p>100 rows × 5 columns</p>\n</div>"
     },
     "execution_count": 32,
     "metadata": {},
     "output_type": "execute_result"
    }
   ],
   "source": [
    "last_watch_dt = [\"2021-04-13\"] * 99\n",
    "last_watch_dt.append(\"2021-08-22\")\n",
    "total_dur = np.round(np.random.rand(100) * 10000 + 100).astype(dtype=np.int)\n",
    "watched_pct = np.round(np.random.rand(100) * 100).astype(dtype=np.int)\n",
    "data = {\n",
    "    \"user_id\": [new_user_id] * 100,\n",
    "    \"item_id\": list(series_ids_sample),\n",
    "    \"last_watch_dt\": last_watch_dt,\n",
    "    \"total_dur\": list(total_dur),\n",
    "    \"watched_pct\": list(watched_pct)\n",
    "}\n",
    "\n",
    "new_interactions = pd.DataFrame(data)\n",
    "interactions = interactions.append(new_interactions)\n",
    "new_interactions"
   ],
   "metadata": {
    "collapsed": false
   }
  },
  {
   "cell_type": "code",
   "execution_count": 33,
   "outputs": [
    {
     "data": {
      "text/plain": "   user_id        age        income sex  kids_flg\n0  1097561  age_45_54  income_40_60   Ж         1",
      "text/html": "<div>\n<style scoped>\n    .dataframe tbody tr th:only-of-type {\n        vertical-align: middle;\n    }\n\n    .dataframe tbody tr th {\n        vertical-align: top;\n    }\n\n    .dataframe thead th {\n        text-align: right;\n    }\n</style>\n<table border=\"1\" class=\"dataframe\">\n  <thead>\n    <tr style=\"text-align: right;\">\n      <th></th>\n      <th>user_id</th>\n      <th>age</th>\n      <th>income</th>\n      <th>sex</th>\n      <th>kids_flg</th>\n    </tr>\n  </thead>\n  <tbody>\n    <tr>\n      <th>0</th>\n      <td>1097561</td>\n      <td>age_45_54</td>\n      <td>income_40_60</td>\n      <td>Ж</td>\n      <td>1</td>\n    </tr>\n  </tbody>\n</table>\n</div>"
     },
     "execution_count": 33,
     "metadata": {},
     "output_type": "execute_result"
    }
   ],
   "source": [
    "data = {\n",
    "    \"user_id\": [new_user_id],\n",
    "    \"age\": [\"age_45_54\"],\n",
    "    \"income\": [\"income_40_60\"],\n",
    "    \"sex\": [\"Ж\"],\n",
    "    \"kids_flg\": [1]\n",
    "}\n",
    "\n",
    "new_user = pd.DataFrame(data)\n",
    "users = users.append(new_user)\n",
    "new_user"
   ],
   "metadata": {
    "collapsed": false
   }
  },
  {
   "cell_type": "code",
   "execution_count": 34,
   "outputs": [
    {
     "data": {
      "text/plain": "   user_id        age        income sex  kids_flg\n0  1097561  age_45_54  income_40_60   Ж         1",
      "text/html": "<div>\n<style scoped>\n    .dataframe tbody tr th:only-of-type {\n        vertical-align: middle;\n    }\n\n    .dataframe tbody tr th {\n        vertical-align: top;\n    }\n\n    .dataframe thead th {\n        text-align: right;\n    }\n</style>\n<table border=\"1\" class=\"dataframe\">\n  <thead>\n    <tr style=\"text-align: right;\">\n      <th></th>\n      <th>user_id</th>\n      <th>age</th>\n      <th>income</th>\n      <th>sex</th>\n      <th>kids_flg</th>\n    </tr>\n  </thead>\n  <tbody>\n    <tr>\n      <th>0</th>\n      <td>1097561</td>\n      <td>age_45_54</td>\n      <td>income_40_60</td>\n      <td>Ж</td>\n      <td>1</td>\n    </tr>\n  </tbody>\n</table>\n</div>"
     },
     "execution_count": 34,
     "metadata": {},
     "output_type": "execute_result"
    }
   ],
   "source": [
    "users[users[\"user_id\"] == new_user_id]"
   ],
   "metadata": {
    "collapsed": false
   }
  },
  {
   "cell_type": "markdown",
   "source": [
    "# Preprocessing"
   ],
   "metadata": {
    "collapsed": false
   }
  },
  {
   "cell_type": "code",
   "execution_count": 35,
   "outputs": [],
   "source": [
    "Columns.Datetime = 'last_watch_dt'"
   ],
   "metadata": {
    "collapsed": false
   }
  },
  {
   "cell_type": "code",
   "execution_count": 36,
   "outputs": [],
   "source": [
    "interactions.drop(interactions[interactions[Columns.Datetime].str.len() != 10].index, inplace=True)"
   ],
   "metadata": {
    "collapsed": false
   }
  },
  {
   "cell_type": "code",
   "execution_count": 39,
   "outputs": [],
   "source": [
    "interactions[Columns.Datetime] = pd.to_datetime(interactions[Columns.Datetime], format='%Y-%m-%d')"
   ],
   "metadata": {
    "collapsed": false
   }
  },
  {
   "cell_type": "code",
   "execution_count": 40,
   "outputs": [],
   "source": [
    "max_date = interactions[Columns.Datetime].max()"
   ],
   "metadata": {
    "collapsed": false
   }
  },
  {
   "cell_type": "code",
   "execution_count": 41,
   "outputs": [],
   "source": [
    "interactions[Columns.Weight] = np.where(interactions['watched_pct'] > 30, 5, 1)"
   ],
   "metadata": {
    "collapsed": false
   }
  },
  {
   "cell_type": "code",
   "execution_count": 42,
   "outputs": [
    {
     "name": "stdout",
     "output_type": "stream",
     "text": [
      "train: (4985486, 6)\n",
      "test: (490985, 6)\n"
     ]
    }
   ],
   "source": [
    "train = interactions[interactions[Columns.Datetime] < max_date - pd.Timedelta(days=7)].copy()\n",
    "test = interactions[interactions[Columns.Datetime] >= max_date - pd.Timedelta(days=7)].copy()\n",
    "\n",
    "print(f\"train: {train.shape}\")\n",
    "print(f\"test: {test.shape}\")"
   ],
   "metadata": {
    "collapsed": false
   }
  },
  {
   "cell_type": "code",
   "execution_count": 43,
   "outputs": [],
   "source": [
    "cold_users = set(test[Columns.User]) - set(train[Columns.User])\n",
    "test.drop(test[test[Columns.User].isin(cold_users)].index, inplace=True)"
   ],
   "metadata": {
    "collapsed": false
   }
  },
  {
   "cell_type": "markdown",
   "source": [
    "# Features"
   ],
   "metadata": {
    "collapsed": false
   }
  },
  {
   "cell_type": "markdown",
   "source": [
    "### Users"
   ],
   "metadata": {
    "collapsed": false
   }
  },
  {
   "cell_type": "code",
   "execution_count": 44,
   "outputs": [
    {
     "data": {
      "text/plain": "user_id     840200\nage              6\nincome           6\nsex              2\nkids_flg         2\ndtype: int64"
     },
     "execution_count": 44,
     "metadata": {},
     "output_type": "execute_result"
    }
   ],
   "source": [
    "users.isnull().sum()\n",
    "users.nunique()"
   ],
   "metadata": {
    "collapsed": false
   }
  },
  {
   "cell_type": "code",
   "execution_count": 45,
   "outputs": [],
   "source": [
    "users = users.loc[users[Columns.User].isin(train[Columns.User])].copy()"
   ],
   "metadata": {
    "collapsed": false
   }
  },
  {
   "cell_type": "code",
   "execution_count": 46,
   "outputs": [
    {
     "data": {
      "text/plain": "        user_id         age        income  sex  kids_flg\n0        973171   age_25_34  income_60_90    М         1\n1        962099   age_18_24  income_20_40    М         0\n3        721985   age_45_54  income_20_40    Ж         0\n4        704055   age_35_44  income_60_90    Ж         0\n5       1037719   age_45_54  income_60_90    М         0\n...         ...         ...           ...  ...       ...\n840192   339025  age_65_inf   income_0_20    Ж         0\n840194   251008         NaN           NaN  NaN         0\n0       1097559   age_25_34  income_60_90    М         1\n0       1097560   age_18_24  income_20_40    М         0\n0       1097561   age_45_54  income_40_60    Ж         1\n\n[697139 rows x 5 columns]",
      "text/html": "<div>\n<style scoped>\n    .dataframe tbody tr th:only-of-type {\n        vertical-align: middle;\n    }\n\n    .dataframe tbody tr th {\n        vertical-align: top;\n    }\n\n    .dataframe thead th {\n        text-align: right;\n    }\n</style>\n<table border=\"1\" class=\"dataframe\">\n  <thead>\n    <tr style=\"text-align: right;\">\n      <th></th>\n      <th>user_id</th>\n      <th>age</th>\n      <th>income</th>\n      <th>sex</th>\n      <th>kids_flg</th>\n    </tr>\n  </thead>\n  <tbody>\n    <tr>\n      <th>0</th>\n      <td>973171</td>\n      <td>age_25_34</td>\n      <td>income_60_90</td>\n      <td>М</td>\n      <td>1</td>\n    </tr>\n    <tr>\n      <th>1</th>\n      <td>962099</td>\n      <td>age_18_24</td>\n      <td>income_20_40</td>\n      <td>М</td>\n      <td>0</td>\n    </tr>\n    <tr>\n      <th>3</th>\n      <td>721985</td>\n      <td>age_45_54</td>\n      <td>income_20_40</td>\n      <td>Ж</td>\n      <td>0</td>\n    </tr>\n    <tr>\n      <th>4</th>\n      <td>704055</td>\n      <td>age_35_44</td>\n      <td>income_60_90</td>\n      <td>Ж</td>\n      <td>0</td>\n    </tr>\n    <tr>\n      <th>5</th>\n      <td>1037719</td>\n      <td>age_45_54</td>\n      <td>income_60_90</td>\n      <td>М</td>\n      <td>0</td>\n    </tr>\n    <tr>\n      <th>...</th>\n      <td>...</td>\n      <td>...</td>\n      <td>...</td>\n      <td>...</td>\n      <td>...</td>\n    </tr>\n    <tr>\n      <th>840192</th>\n      <td>339025</td>\n      <td>age_65_inf</td>\n      <td>income_0_20</td>\n      <td>Ж</td>\n      <td>0</td>\n    </tr>\n    <tr>\n      <th>840194</th>\n      <td>251008</td>\n      <td>NaN</td>\n      <td>NaN</td>\n      <td>NaN</td>\n      <td>0</td>\n    </tr>\n    <tr>\n      <th>0</th>\n      <td>1097559</td>\n      <td>age_25_34</td>\n      <td>income_60_90</td>\n      <td>М</td>\n      <td>1</td>\n    </tr>\n    <tr>\n      <th>0</th>\n      <td>1097560</td>\n      <td>age_18_24</td>\n      <td>income_20_40</td>\n      <td>М</td>\n      <td>0</td>\n    </tr>\n    <tr>\n      <th>0</th>\n      <td>1097561</td>\n      <td>age_45_54</td>\n      <td>income_40_60</td>\n      <td>Ж</td>\n      <td>1</td>\n    </tr>\n  </tbody>\n</table>\n<p>697139 rows × 5 columns</p>\n</div>"
     },
     "execution_count": 46,
     "metadata": {},
     "output_type": "execute_result"
    }
   ],
   "source": [
    "users"
   ],
   "metadata": {
    "collapsed": false
   }
  },
  {
   "cell_type": "code",
   "execution_count": 47,
   "outputs": [
    {
     "data": {
      "text/plain": "             id         value feature\n0        973171             М     sex\n1        962099             М     sex\n3        721985             Ж     sex\n4        704055             Ж     sex\n5       1037719             М     sex\n840192   339025   income_0_20  income\n840194   251008           NaN  income\n0       1097559  income_60_90  income\n0       1097560  income_20_40  income\n0       1097561  income_40_60  income",
      "text/html": "<div>\n<style scoped>\n    .dataframe tbody tr th:only-of-type {\n        vertical-align: middle;\n    }\n\n    .dataframe tbody tr th {\n        vertical-align: top;\n    }\n\n    .dataframe thead th {\n        text-align: right;\n    }\n</style>\n<table border=\"1\" class=\"dataframe\">\n  <thead>\n    <tr style=\"text-align: right;\">\n      <th></th>\n      <th>id</th>\n      <th>value</th>\n      <th>feature</th>\n    </tr>\n  </thead>\n  <tbody>\n    <tr>\n      <th>0</th>\n      <td>973171</td>\n      <td>М</td>\n      <td>sex</td>\n    </tr>\n    <tr>\n      <th>1</th>\n      <td>962099</td>\n      <td>М</td>\n      <td>sex</td>\n    </tr>\n    <tr>\n      <th>3</th>\n      <td>721985</td>\n      <td>Ж</td>\n      <td>sex</td>\n    </tr>\n    <tr>\n      <th>4</th>\n      <td>704055</td>\n      <td>Ж</td>\n      <td>sex</td>\n    </tr>\n    <tr>\n      <th>5</th>\n      <td>1037719</td>\n      <td>М</td>\n      <td>sex</td>\n    </tr>\n    <tr>\n      <th>840192</th>\n      <td>339025</td>\n      <td>income_0_20</td>\n      <td>income</td>\n    </tr>\n    <tr>\n      <th>840194</th>\n      <td>251008</td>\n      <td>NaN</td>\n      <td>income</td>\n    </tr>\n    <tr>\n      <th>0</th>\n      <td>1097559</td>\n      <td>income_60_90</td>\n      <td>income</td>\n    </tr>\n    <tr>\n      <th>0</th>\n      <td>1097560</td>\n      <td>income_20_40</td>\n      <td>income</td>\n    </tr>\n    <tr>\n      <th>0</th>\n      <td>1097561</td>\n      <td>income_40_60</td>\n      <td>income</td>\n    </tr>\n  </tbody>\n</table>\n</div>"
     },
     "execution_count": 47,
     "metadata": {},
     "output_type": "execute_result"
    }
   ],
   "source": [
    "user_features_frames = []\n",
    "for feature in [\"sex\", \"age\", \"income\"]:\n",
    "    feature_frame = users.reindex(columns=[Columns.User, feature])\n",
    "    feature_frame.columns = [\"id\", \"value\"]\n",
    "    feature_frame[\"feature\"] = feature\n",
    "    user_features_frames.append(feature_frame)\n",
    "user_features = pd.concat(user_features_frames)\n",
    "pd.concat([user_features.head(), user_features.tail()])"
   ],
   "metadata": {
    "collapsed": false
   }
  },
  {
   "cell_type": "markdown",
   "source": [
    "### Items"
   ],
   "metadata": {
    "collapsed": false
   }
  },
  {
   "cell_type": "code",
   "execution_count": 48,
   "outputs": [
    {
     "data": {
      "text/plain": "item_id             0\ncontent_type        0\ntitle               0\ntitle_orig       4745\nrelease_year       98\ngenres              0\ncountries          37\nfor_kids        15397\nage_rating          2\nstudios         14898\ndirectors        1509\nactors           2619\ndescription         2\nkeywords          423\ndtype: int64"
     },
     "execution_count": 48,
     "metadata": {},
     "output_type": "execute_result"
    }
   ],
   "source": [
    "items.isnull().sum()"
   ],
   "metadata": {
    "collapsed": false
   }
  },
  {
   "cell_type": "code",
   "execution_count": 49,
   "outputs": [
    {
     "data": {
      "text/plain": "item_id         15963\ncontent_type        2\ntitle           15293\ntitle_orig      10575\nrelease_year      105\ngenres           2771\ncountries         687\nfor_kids            2\nage_rating          6\nstudios            38\ndirectors        7973\nactors          12996\ndescription     15619\nkeywords        15492\ndtype: int64"
     },
     "execution_count": 49,
     "metadata": {},
     "output_type": "execute_result"
    }
   ],
   "source": [
    "items.nunique()"
   ],
   "metadata": {
    "collapsed": false
   }
  },
  {
   "cell_type": "code",
   "execution_count": 50,
   "outputs": [],
   "source": [
    "items = items.loc[items[Columns.Item].isin(train[Columns.Item])].copy()"
   ],
   "metadata": {
    "collapsed": false
   }
  },
  {
   "cell_type": "code",
   "execution_count": 51,
   "outputs": [
    {
     "data": {
      "text/plain": "       item_id content_type                 title      title_orig  \\\n0        10711         film        Поговори с ней  Hable con ella   \n1         2508         film           Голые перцы    Search Party   \n2        10716         film      Тактическая сила  Tactical Force   \n3         7868         film                45 лет        45 Years   \n4        16268         film  Все решает мгновение             NaN   \n...        ...          ...                   ...             ...   \n15958     6443       series         Полярный круг   Arctic Circle   \n15959     2367       series               Надежда             NaN   \n15960    10632       series                Сговор          Hassel   \n15961     4538       series          Среди камней      Darklands    \n15962     3206       series                  Гоша             NaN   \n\n       release_year                                            genres  \\\n0            2002.0           драмы, зарубежные, детективы, мелодрамы   \n1            2014.0                  зарубежные, приключения, комедии   \n2            2011.0  криминал, зарубежные, триллеры, боевики, комедии   \n3            2015.0                      драмы, зарубежные, мелодрамы   \n4            1978.0                драмы, спорт, советские, мелодрамы   \n...             ...                                               ...   \n15958        2018.0                         драмы, триллеры, криминал   \n15959        2020.0                                    драмы, боевики   \n15960        2017.0                         драмы, триллеры, криминал   \n15961        2019.0                            драмы, спорт, криминал   \n15962        2019.0                                           комедии   \n\n                 countries  for_kids  age_rating   studios  \\\n0                  Испания       NaN        16.0       NaN   \n1                      США       NaN        16.0       NaN   \n2                   Канада       NaN        16.0       NaN   \n3           Великобритания       NaN        16.0       NaN   \n4                     СССР       NaN        12.0  Ленфильм   \n...                    ...       ...         ...       ...   \n15958  Финляндия, Германия       NaN        16.0       NaN   \n15959               Россия       0.0        18.0       NaN   \n15960               Россия       0.0        18.0       NaN   \n15961               Россия       0.0        18.0       NaN   \n15962               Россия       0.0        16.0       NaN   \n\n                                   directors  \\\n0                           Педро Альмодовар   \n1                             Скот Армстронг   \n2                           Адам П. Калтраро   \n3                                  Эндрю Хэй   \n4                           Виктор Садовский   \n...                                      ...   \n15958                          Ханну Салонен   \n15959                         Елена Хазанова   \n15960  Эшреф Рейбрук, Амир Камдин, Эрик Эгер   \n15961          Марк О’Коннор, Конор МакМахон   \n15962                         Михаил Миронов   \n\n                                                  actors  \\\n0      Адольфо Фернандес, Ана Фернандес, Дарио Гранди...   \n1      Адам Палли, Брайан Хаски, Дж.Б. Смув, Джейсон ...   \n2      Адриан Холмс, Даррен Шалави, Джерри Вассерман,...   \n3      Александра Риддлстон-Барретт, Джеральдин Джейм...   \n4      Александр Абдулов, Александр Демьяненко, Алекс...   \n...                                                  ...   \n15958  Иина Куустонен, Максимилиан Брюкнер, Пихла Вии...   \n15959  Виктория Исакова, Александр Кузьмин, Алексей М...   \n15960  Ола Рапас, Алиетт Офейм, Уильма Лиден, Шанти Р...   \n15961  Дэйн Уайт О’Хара, Томас Кэйн-Бирн, Джудит Родд...   \n15962                 Мкртыч Арзуманян, Виктория Рунцова   \n\n                                             description  \\\n0      Мелодрама легендарного Педро Альмодовара «Пого...   \n1      Уморительная современная комедия на популярную...   \n2      Профессиональный рестлер Стив Остин («Все или ...   \n3      Шарлотта Рэмплинг, Том Кортни, Джеральдин Джей...   \n4      Расчетливая чаровница из советского кинохита «...   \n...                                                  ...   \n15958  Во время погони за браконьерами по лесу, сотру...   \n15959  Оригинальный киносериал от создателей «Бывших»...   \n15960  Криминальная драма по мотивам романов о шведск...   \n15961  Семнадцатилетний Дэмиен мечтает вырваться за п...   \n15962  Добродушный Гоша не может выйти из дома, чтобы...   \n\n                                                keywords  \n0      Поговори, ней, 2002, Испания, друзья, любовь, ...  \n1      Голые, перцы, 2014, США, друзья, свадьбы, прео...  \n2      Тактическая, сила, 2011, Канада, бандиты, ганг...  \n3      45, лет, 2015, Великобритания, брак, жизнь, лю...  \n4      Все, решает, мгновение, 1978, СССР, сильные, ж...  \n...                                                  ...  \n15958  убийство, вирус, расследование преступления, н...  \n15959                              Надежда, 2020, Россия  \n15960                               Сговор, 2017, Россия  \n15961                        Среди, камней, 2019, Россия  \n15962                                 Гоша, 2019, Россия  \n\n[15572 rows x 14 columns]",
      "text/html": "<div>\n<style scoped>\n    .dataframe tbody tr th:only-of-type {\n        vertical-align: middle;\n    }\n\n    .dataframe tbody tr th {\n        vertical-align: top;\n    }\n\n    .dataframe thead th {\n        text-align: right;\n    }\n</style>\n<table border=\"1\" class=\"dataframe\">\n  <thead>\n    <tr style=\"text-align: right;\">\n      <th></th>\n      <th>item_id</th>\n      <th>content_type</th>\n      <th>title</th>\n      <th>title_orig</th>\n      <th>release_year</th>\n      <th>genres</th>\n      <th>countries</th>\n      <th>for_kids</th>\n      <th>age_rating</th>\n      <th>studios</th>\n      <th>directors</th>\n      <th>actors</th>\n      <th>description</th>\n      <th>keywords</th>\n    </tr>\n  </thead>\n  <tbody>\n    <tr>\n      <th>0</th>\n      <td>10711</td>\n      <td>film</td>\n      <td>Поговори с ней</td>\n      <td>Hable con ella</td>\n      <td>2002.0</td>\n      <td>драмы, зарубежные, детективы, мелодрамы</td>\n      <td>Испания</td>\n      <td>NaN</td>\n      <td>16.0</td>\n      <td>NaN</td>\n      <td>Педро Альмодовар</td>\n      <td>Адольфо Фернандес, Ана Фернандес, Дарио Гранди...</td>\n      <td>Мелодрама легендарного Педро Альмодовара «Пого...</td>\n      <td>Поговори, ней, 2002, Испания, друзья, любовь, ...</td>\n    </tr>\n    <tr>\n      <th>1</th>\n      <td>2508</td>\n      <td>film</td>\n      <td>Голые перцы</td>\n      <td>Search Party</td>\n      <td>2014.0</td>\n      <td>зарубежные, приключения, комедии</td>\n      <td>США</td>\n      <td>NaN</td>\n      <td>16.0</td>\n      <td>NaN</td>\n      <td>Скот Армстронг</td>\n      <td>Адам Палли, Брайан Хаски, Дж.Б. Смув, Джейсон ...</td>\n      <td>Уморительная современная комедия на популярную...</td>\n      <td>Голые, перцы, 2014, США, друзья, свадьбы, прео...</td>\n    </tr>\n    <tr>\n      <th>2</th>\n      <td>10716</td>\n      <td>film</td>\n      <td>Тактическая сила</td>\n      <td>Tactical Force</td>\n      <td>2011.0</td>\n      <td>криминал, зарубежные, триллеры, боевики, комедии</td>\n      <td>Канада</td>\n      <td>NaN</td>\n      <td>16.0</td>\n      <td>NaN</td>\n      <td>Адам П. Калтраро</td>\n      <td>Адриан Холмс, Даррен Шалави, Джерри Вассерман,...</td>\n      <td>Профессиональный рестлер Стив Остин («Все или ...</td>\n      <td>Тактическая, сила, 2011, Канада, бандиты, ганг...</td>\n    </tr>\n    <tr>\n      <th>3</th>\n      <td>7868</td>\n      <td>film</td>\n      <td>45 лет</td>\n      <td>45 Years</td>\n      <td>2015.0</td>\n      <td>драмы, зарубежные, мелодрамы</td>\n      <td>Великобритания</td>\n      <td>NaN</td>\n      <td>16.0</td>\n      <td>NaN</td>\n      <td>Эндрю Хэй</td>\n      <td>Александра Риддлстон-Барретт, Джеральдин Джейм...</td>\n      <td>Шарлотта Рэмплинг, Том Кортни, Джеральдин Джей...</td>\n      <td>45, лет, 2015, Великобритания, брак, жизнь, лю...</td>\n    </tr>\n    <tr>\n      <th>4</th>\n      <td>16268</td>\n      <td>film</td>\n      <td>Все решает мгновение</td>\n      <td>NaN</td>\n      <td>1978.0</td>\n      <td>драмы, спорт, советские, мелодрамы</td>\n      <td>СССР</td>\n      <td>NaN</td>\n      <td>12.0</td>\n      <td>Ленфильм</td>\n      <td>Виктор Садовский</td>\n      <td>Александр Абдулов, Александр Демьяненко, Алекс...</td>\n      <td>Расчетливая чаровница из советского кинохита «...</td>\n      <td>Все, решает, мгновение, 1978, СССР, сильные, ж...</td>\n    </tr>\n    <tr>\n      <th>...</th>\n      <td>...</td>\n      <td>...</td>\n      <td>...</td>\n      <td>...</td>\n      <td>...</td>\n      <td>...</td>\n      <td>...</td>\n      <td>...</td>\n      <td>...</td>\n      <td>...</td>\n      <td>...</td>\n      <td>...</td>\n      <td>...</td>\n      <td>...</td>\n    </tr>\n    <tr>\n      <th>15958</th>\n      <td>6443</td>\n      <td>series</td>\n      <td>Полярный круг</td>\n      <td>Arctic Circle</td>\n      <td>2018.0</td>\n      <td>драмы, триллеры, криминал</td>\n      <td>Финляндия, Германия</td>\n      <td>NaN</td>\n      <td>16.0</td>\n      <td>NaN</td>\n      <td>Ханну Салонен</td>\n      <td>Иина Куустонен, Максимилиан Брюкнер, Пихла Вии...</td>\n      <td>Во время погони за браконьерами по лесу, сотру...</td>\n      <td>убийство, вирус, расследование преступления, н...</td>\n    </tr>\n    <tr>\n      <th>15959</th>\n      <td>2367</td>\n      <td>series</td>\n      <td>Надежда</td>\n      <td>NaN</td>\n      <td>2020.0</td>\n      <td>драмы, боевики</td>\n      <td>Россия</td>\n      <td>0.0</td>\n      <td>18.0</td>\n      <td>NaN</td>\n      <td>Елена Хазанова</td>\n      <td>Виктория Исакова, Александр Кузьмин, Алексей М...</td>\n      <td>Оригинальный киносериал от создателей «Бывших»...</td>\n      <td>Надежда, 2020, Россия</td>\n    </tr>\n    <tr>\n      <th>15960</th>\n      <td>10632</td>\n      <td>series</td>\n      <td>Сговор</td>\n      <td>Hassel</td>\n      <td>2017.0</td>\n      <td>драмы, триллеры, криминал</td>\n      <td>Россия</td>\n      <td>0.0</td>\n      <td>18.0</td>\n      <td>NaN</td>\n      <td>Эшреф Рейбрук, Амир Камдин, Эрик Эгер</td>\n      <td>Ола Рапас, Алиетт Офейм, Уильма Лиден, Шанти Р...</td>\n      <td>Криминальная драма по мотивам романов о шведск...</td>\n      <td>Сговор, 2017, Россия</td>\n    </tr>\n    <tr>\n      <th>15961</th>\n      <td>4538</td>\n      <td>series</td>\n      <td>Среди камней</td>\n      <td>Darklands</td>\n      <td>2019.0</td>\n      <td>драмы, спорт, криминал</td>\n      <td>Россия</td>\n      <td>0.0</td>\n      <td>18.0</td>\n      <td>NaN</td>\n      <td>Марк О’Коннор, Конор МакМахон</td>\n      <td>Дэйн Уайт О’Хара, Томас Кэйн-Бирн, Джудит Родд...</td>\n      <td>Семнадцатилетний Дэмиен мечтает вырваться за п...</td>\n      <td>Среди, камней, 2019, Россия</td>\n    </tr>\n    <tr>\n      <th>15962</th>\n      <td>3206</td>\n      <td>series</td>\n      <td>Гоша</td>\n      <td>NaN</td>\n      <td>2019.0</td>\n      <td>комедии</td>\n      <td>Россия</td>\n      <td>0.0</td>\n      <td>16.0</td>\n      <td>NaN</td>\n      <td>Михаил Миронов</td>\n      <td>Мкртыч Арзуманян, Виктория Рунцова</td>\n      <td>Добродушный Гоша не может выйти из дома, чтобы...</td>\n      <td>Гоша, 2019, Россия</td>\n    </tr>\n  </tbody>\n</table>\n<p>15572 rows × 14 columns</p>\n</div>"
     },
     "execution_count": 51,
     "metadata": {},
     "output_type": "execute_result"
    }
   ],
   "source": [
    "items"
   ],
   "metadata": {
    "collapsed": false
   }
  },
  {
   "cell_type": "markdown",
   "source": [
    "#### Genre"
   ],
   "metadata": {
    "collapsed": false
   }
  },
  {
   "cell_type": "code",
   "execution_count": 52,
   "outputs": [
    {
     "data": {
      "text/plain": "      id       value feature\n0  10711       драмы   genre\n0  10711  зарубежные   genre\n0  10711   детективы   genre\n0  10711   мелодрамы   genre\n1   2508  зарубежные   genre",
      "text/html": "<div>\n<style scoped>\n    .dataframe tbody tr th:only-of-type {\n        vertical-align: middle;\n    }\n\n    .dataframe tbody tr th {\n        vertical-align: top;\n    }\n\n    .dataframe thead th {\n        text-align: right;\n    }\n</style>\n<table border=\"1\" class=\"dataframe\">\n  <thead>\n    <tr style=\"text-align: right;\">\n      <th></th>\n      <th>id</th>\n      <th>value</th>\n      <th>feature</th>\n    </tr>\n  </thead>\n  <tbody>\n    <tr>\n      <th>0</th>\n      <td>10711</td>\n      <td>драмы</td>\n      <td>genre</td>\n    </tr>\n    <tr>\n      <th>0</th>\n      <td>10711</td>\n      <td>зарубежные</td>\n      <td>genre</td>\n    </tr>\n    <tr>\n      <th>0</th>\n      <td>10711</td>\n      <td>детективы</td>\n      <td>genre</td>\n    </tr>\n    <tr>\n      <th>0</th>\n      <td>10711</td>\n      <td>мелодрамы</td>\n      <td>genre</td>\n    </tr>\n    <tr>\n      <th>1</th>\n      <td>2508</td>\n      <td>зарубежные</td>\n      <td>genre</td>\n    </tr>\n  </tbody>\n</table>\n</div>"
     },
     "execution_count": 52,
     "metadata": {},
     "output_type": "execute_result"
    }
   ],
   "source": [
    "items[\"genre\"] = items[\"genres\"].str.lower().str.replace(\", \", \",\", regex=False).str.split(\",\")\n",
    "genre_feature = items[[\"item_id\", \"genre\"]].explode(\"genre\")\n",
    "genre_feature.columns = [\"id\", \"value\"]\n",
    "genre_feature[\"feature\"] = \"genre\"\n",
    "genre_feature.head()"
   ],
   "metadata": {
    "collapsed": false
   }
  },
  {
   "cell_type": "markdown",
   "source": [
    "#### Content"
   ],
   "metadata": {
    "collapsed": false
   }
  },
  {
   "cell_type": "code",
   "execution_count": 53,
   "outputs": [
    {
     "data": {
      "text/plain": "      id value       feature\n0  10711  film  content_type\n1   2508  film  content_type\n2  10716  film  content_type\n3   7868  film  content_type\n4  16268  film  content_type",
      "text/html": "<div>\n<style scoped>\n    .dataframe tbody tr th:only-of-type {\n        vertical-align: middle;\n    }\n\n    .dataframe tbody tr th {\n        vertical-align: top;\n    }\n\n    .dataframe thead th {\n        text-align: right;\n    }\n</style>\n<table border=\"1\" class=\"dataframe\">\n  <thead>\n    <tr style=\"text-align: right;\">\n      <th></th>\n      <th>id</th>\n      <th>value</th>\n      <th>feature</th>\n    </tr>\n  </thead>\n  <tbody>\n    <tr>\n      <th>0</th>\n      <td>10711</td>\n      <td>film</td>\n      <td>content_type</td>\n    </tr>\n    <tr>\n      <th>1</th>\n      <td>2508</td>\n      <td>film</td>\n      <td>content_type</td>\n    </tr>\n    <tr>\n      <th>2</th>\n      <td>10716</td>\n      <td>film</td>\n      <td>content_type</td>\n    </tr>\n    <tr>\n      <th>3</th>\n      <td>7868</td>\n      <td>film</td>\n      <td>content_type</td>\n    </tr>\n    <tr>\n      <th>4</th>\n      <td>16268</td>\n      <td>film</td>\n      <td>content_type</td>\n    </tr>\n  </tbody>\n</table>\n</div>"
     },
     "execution_count": 53,
     "metadata": {},
     "output_type": "execute_result"
    }
   ],
   "source": [
    "content_feature = items.reindex(columns=[Columns.Item, \"content_type\"])\n",
    "content_feature.columns = [\"id\", \"value\"]\n",
    "content_feature[\"feature\"] = \"content_type\"\n",
    "content_feature.head()"
   ],
   "metadata": {
    "collapsed": false
   }
  },
  {
   "cell_type": "code",
   "execution_count": 54,
   "outputs": [],
   "source": [
    "item_features = pd.concat((genre_feature, content_feature))"
   ],
   "metadata": {
    "collapsed": false
   }
  },
  {
   "cell_type": "code",
   "execution_count": 55,
   "outputs": [
    {
     "data": {
      "text/plain": "          id       value       feature\n0      10711       драмы         genre\n0      10711  зарубежные         genre\n0      10711   детективы         genre\n0      10711   мелодрамы         genre\n1       2508  зарубежные         genre\n15958   6443      series  content_type\n15959   2367      series  content_type\n15960  10632      series  content_type\n15961   4538      series  content_type\n15962   3206      series  content_type",
      "text/html": "<div>\n<style scoped>\n    .dataframe tbody tr th:only-of-type {\n        vertical-align: middle;\n    }\n\n    .dataframe tbody tr th {\n        vertical-align: top;\n    }\n\n    .dataframe thead th {\n        text-align: right;\n    }\n</style>\n<table border=\"1\" class=\"dataframe\">\n  <thead>\n    <tr style=\"text-align: right;\">\n      <th></th>\n      <th>id</th>\n      <th>value</th>\n      <th>feature</th>\n    </tr>\n  </thead>\n  <tbody>\n    <tr>\n      <th>0</th>\n      <td>10711</td>\n      <td>драмы</td>\n      <td>genre</td>\n    </tr>\n    <tr>\n      <th>0</th>\n      <td>10711</td>\n      <td>зарубежные</td>\n      <td>genre</td>\n    </tr>\n    <tr>\n      <th>0</th>\n      <td>10711</td>\n      <td>детективы</td>\n      <td>genre</td>\n    </tr>\n    <tr>\n      <th>0</th>\n      <td>10711</td>\n      <td>мелодрамы</td>\n      <td>genre</td>\n    </tr>\n    <tr>\n      <th>1</th>\n      <td>2508</td>\n      <td>зарубежные</td>\n      <td>genre</td>\n    </tr>\n    <tr>\n      <th>15958</th>\n      <td>6443</td>\n      <td>series</td>\n      <td>content_type</td>\n    </tr>\n    <tr>\n      <th>15959</th>\n      <td>2367</td>\n      <td>series</td>\n      <td>content_type</td>\n    </tr>\n    <tr>\n      <th>15960</th>\n      <td>10632</td>\n      <td>series</td>\n      <td>content_type</td>\n    </tr>\n    <tr>\n      <th>15961</th>\n      <td>4538</td>\n      <td>series</td>\n      <td>content_type</td>\n    </tr>\n    <tr>\n      <th>15962</th>\n      <td>3206</td>\n      <td>series</td>\n      <td>content_type</td>\n    </tr>\n  </tbody>\n</table>\n</div>"
     },
     "execution_count": 55,
     "metadata": {},
     "output_type": "execute_result"
    }
   ],
   "source": [
    "pd.concat([item_features.head(), item_features.tail()])"
   ],
   "metadata": {
    "collapsed": false
   }
  },
  {
   "cell_type": "markdown",
   "source": [
    "# Metrics"
   ],
   "metadata": {
    "collapsed": false
   }
  },
  {
   "cell_type": "code",
   "execution_count": 56,
   "outputs": [],
   "source": [
    "metrics_name = {\n",
    "    'Precision': Precision,\n",
    "    'Recall': Recall,\n",
    "    'MAP': MAP,\n",
    "}\n",
    "\n",
    "metrics = {}\n",
    "for metric_name, metric in metrics_name.items():\n",
    "    for k in range(1, 11):\n",
    "        metrics[f'{metric_name}@{k}'] = metric(k=k)"
   ],
   "metadata": {
    "collapsed": false
   }
  },
  {
   "cell_type": "code",
   "execution_count": 57,
   "outputs": [
    {
     "data": {
      "text/plain": "{'Precision@1': Precision(k=1),\n 'Precision@2': Precision(k=2),\n 'Precision@3': Precision(k=3),\n 'Precision@4': Precision(k=4),\n 'Precision@5': Precision(k=5),\n 'Precision@6': Precision(k=6),\n 'Precision@7': Precision(k=7),\n 'Precision@8': Precision(k=8),\n 'Precision@9': Precision(k=9),\n 'Precision@10': Precision(k=10),\n 'Recall@1': Recall(k=1),\n 'Recall@2': Recall(k=2),\n 'Recall@3': Recall(k=3),\n 'Recall@4': Recall(k=4),\n 'Recall@5': Recall(k=5),\n 'Recall@6': Recall(k=6),\n 'Recall@7': Recall(k=7),\n 'Recall@8': Recall(k=8),\n 'Recall@9': Recall(k=9),\n 'Recall@10': Recall(k=10),\n 'MAP@1': MAP(k=1, divide_by_k=False),\n 'MAP@2': MAP(k=2, divide_by_k=False),\n 'MAP@3': MAP(k=3, divide_by_k=False),\n 'MAP@4': MAP(k=4, divide_by_k=False),\n 'MAP@5': MAP(k=5, divide_by_k=False),\n 'MAP@6': MAP(k=6, divide_by_k=False),\n 'MAP@7': MAP(k=7, divide_by_k=False),\n 'MAP@8': MAP(k=8, divide_by_k=False),\n 'MAP@9': MAP(k=9, divide_by_k=False),\n 'MAP@10': MAP(k=10, divide_by_k=False)}"
     },
     "execution_count": 57,
     "metadata": {},
     "output_type": "execute_result"
    }
   ],
   "source": [
    "metrics"
   ],
   "metadata": {
    "collapsed": false
   }
  },
  {
   "cell_type": "markdown",
   "source": [
    "# Models"
   ],
   "metadata": {
    "collapsed": false
   }
  },
  {
   "cell_type": "code",
   "execution_count": 58,
   "outputs": [],
   "source": [
    "dataset = Dataset.construct(\n",
    "    interactions_df=train,\n",
    "    user_features_df=user_features,\n",
    "    cat_user_features=[\"sex\", \"age\", \"income\"],\n",
    "    item_features_df=item_features,\n",
    "    cat_item_features=[\"genre\", \"content_type\"],\n",
    ")\n",
    "K_RECOS = 10\n",
    "SEED = 123\n",
    "NUM_THREADS = 16\n",
    "N_FACTORS = (32, 64)\n",
    "N_EPOCHS = 1\n",
    "USER_ALPHA = 0\n",
    "ITEM_ALPHA = 0\n",
    "LEARNING_RATE = (0.05, 0.01)\n"
   ],
   "metadata": {
    "collapsed": false
   }
  },
  {
   "cell_type": "code",
   "execution_count": 59,
   "outputs": [],
   "source": [
    "models = {}"
   ],
   "metadata": {
    "collapsed": false
   }
  },
  {
   "cell_type": "code",
   "execution_count": 60,
   "outputs": [
    {
     "name": "stdout",
     "output_type": "stream",
     "text": [
      "ALS_32_True\n",
      "ALS_64_True\n",
      "ALS_32_False\n",
      "ALS_64_False\n",
      "CPU times: user 23.6 s, sys: 1min 15s, total: 1min 38s\n",
      "Wall time: 1min 39s\n"
     ]
    }
   ],
   "source": [
    "%%time\n",
    "from service.rec_models.als_model import ALSModel, ALSFeatures\n",
    "\n",
    "for is_fitting_features in (True, False):\n",
    "    for n_factors in N_FACTORS:\n",
    "        print(f\"ALS_{n_factors}_{is_fitting_features}\")\n",
    "        models[f\"ALS_{n_factors}_{is_fitting_features}\"] = (\n",
    "            ALSModel(\n",
    "                train=train,\n",
    "                n_factors=n_factors,\n",
    "                is_fitting_features=is_fitting_features,\n",
    "                features=ALSFeatures(\n",
    "                  user_features_df=user_features,\n",
    "                    cat_user_features=[\"sex\", \"age\", \"income\"],\n",
    "                    item_features_df=item_features,\n",
    "                    cat_item_features=[\"genre\", \"content_type\"]\n",
    "                ),\n",
    "                n_threads=NUM_THREADS,\n",
    "                seed=SEED\n",
    "            )\n",
    "        )"
   ],
   "metadata": {
    "collapsed": false
   }
  },
  {
   "cell_type": "code",
   "execution_count": 61,
   "outputs": [
    {
     "name": "stdout",
     "output_type": "stream",
     "text": [
      "LightFM_32_0.05\n",
      "LightFM_32_0.01\n",
      "LightFM_64_0.05\n",
      "LightFM_64_0.01\n",
      "CPU times: user 14min 19s, sys: 4.4 s, total: 14min 23s\n",
      "Wall time: 1min 8s\n"
     ]
    }
   ],
   "source": [
    "%%time\n",
    "from service.rec_models.factoring_machine_model import FactoringMachineModel, FMHyperParams, FMTuneParams, FMFeatures, \\\n",
    "    NeighParams\n",
    "\n",
    "for n_factors in N_FACTORS:\n",
    "    for lr in LEARNING_RATE:\n",
    "        print(f\"LightFM_{n_factors}_{lr}\")\n",
    "        models[f\"LightFM_{n_factors}_{lr}\"] = (\n",
    "            FactoringMachineModel(\n",
    "                train=train,\n",
    "                hyper_params = FMHyperParams(\n",
    "                    n_factors=n_factors,\n",
    "                    loss=\"warp\",\n",
    "                    lr=lr,\n",
    "                    ua=USER_ALPHA,\n",
    "                    ia=ITEM_ALPHA,\n",
    "                ),\n",
    "                tune_params = FMTuneParams(\n",
    "                    n_epoch=N_EPOCHS,\n",
    "                    n_threads=NUM_THREADS,\n",
    "                    seed=SEED\n",
    "                ),\n",
    "                neigh_params=NeighParams(),\n",
    "                features=FMFeatures(\n",
    "                    user_features_df=user_features,\n",
    "                    cat_user_features=[\"sex\", \"age\", \"income\"],\n",
    "                    item_features_df=item_features,\n",
    "                    cat_item_features=[\"genre\", \"content_type\"]\n",
    "                ),\n",
    "            )\n",
    "        )"
   ],
   "metadata": {
    "collapsed": false
   }
  },
  {
   "cell_type": "code",
   "execution_count": 62,
   "outputs": [
    {
     "data": {
      "text/plain": "{'ALS_32_True': <service.rec_models.als_model.ALSModel at 0x7f6eee35f220>,\n 'ALS_64_True': <service.rec_models.als_model.ALSModel at 0x7f6ee8880970>,\n 'ALS_32_False': <service.rec_models.als_model.ALSModel at 0x7f6ee889bbb0>,\n 'ALS_64_False': <service.rec_models.als_model.ALSModel at 0x7f6ee88a32b0>,\n 'LightFM_32_0.05': <service.rec_models.factoring_machine_model.FactoringMachineModel at 0x7f6ee88accd0>,\n 'LightFM_32_0.01': <service.rec_models.factoring_machine_model.FactoringMachineModel at 0x7f6ee88ace20>,\n 'LightFM_64_0.05': <service.rec_models.factoring_machine_model.FactoringMachineModel at 0x7f6ee88aca90>,\n 'LightFM_64_0.01': <service.rec_models.factoring_machine_model.FactoringMachineModel at 0x7f6ee88ac4c0>}"
     },
     "execution_count": 62,
     "metadata": {},
     "output_type": "execute_result"
    }
   ],
   "source": [
    "models"
   ],
   "metadata": {
    "collapsed": false
   }
  },
  {
   "cell_type": "code",
   "execution_count": 63,
   "outputs": [],
   "source": [
    "TEST_USERS = test[Columns.User].unique()"
   ],
   "metadata": {
    "collapsed": false
   }
  },
  {
   "cell_type": "code",
   "execution_count": 64,
   "outputs": [
    {
     "data": {
      "text/plain": "array([ 203219,  200197,   73446, ..., 1097559, 1097560, 1097561])"
     },
     "execution_count": 64,
     "metadata": {},
     "output_type": "execute_result"
    }
   ],
   "source": [
    "np.array(TEST_USERS)"
   ],
   "metadata": {
    "collapsed": false
   }
  },
  {
   "cell_type": "code",
   "execution_count": 65,
   "outputs": [
    {
     "name": "stdout",
     "output_type": "stream",
     "text": [
      "CPU times: user 7min 17s, sys: 1.66 s, total: 7min 19s\n",
      "Wall time: 7min 19s\n"
     ]
    }
   ],
   "source": [
    "%%time\n",
    "results = []\n",
    "for model_name, model in models.items():\n",
    "    model_quality = {'model': model_name}\n",
    "\n",
    "    recos = model.model.recommend(\n",
    "        users=TEST_USERS,\n",
    "        dataset=dataset,\n",
    "        k=K_RECOS,\n",
    "        filter_viewed=True,\n",
    "    )\n",
    "    metric_values = calc_metrics(metrics, recos, test, train)\n",
    "    model_quality.update(metric_values)\n",
    "    results.append(model_quality)"
   ],
   "metadata": {
    "collapsed": false
   }
  },
  {
   "cell_type": "code",
   "execution_count": 66,
   "outputs": [],
   "source": [
    "df_quality = pd.DataFrame(results).T\n",
    "\n",
    "df_quality.columns = df_quality.iloc[0]\n",
    "\n",
    "df_quality.drop('model', inplace=True)"
   ],
   "metadata": {
    "collapsed": false
   }
  },
  {
   "cell_type": "code",
   "execution_count": 67,
   "outputs": [
    {
     "data": {
      "text/plain": "<pandas.io.formats.style.Styler at 0x7f6ee8626850>",
      "text/html": "<style type=\"text/css\">\n#T_b5da8_row0_col0, #T_b5da8_row1_col0, #T_b5da8_row2_col4, #T_b5da8_row3_col7, #T_b5da8_row4_col5, #T_b5da8_row5_col5, #T_b5da8_row6_col5, #T_b5da8_row7_col5, #T_b5da8_row8_col5, #T_b5da8_row9_col5, #T_b5da8_row10_col7, #T_b5da8_row11_col7, #T_b5da8_row12_col6, #T_b5da8_row13_col7, #T_b5da8_row14_col6, #T_b5da8_row15_col7, #T_b5da8_row16_col6, #T_b5da8_row17_col7, #T_b5da8_row18_col6, #T_b5da8_row19_col6, #T_b5da8_row20_col0, #T_b5da8_row21_col7, #T_b5da8_row22_col7, #T_b5da8_row23_col7, #T_b5da8_row24_col7, #T_b5da8_row25_col7, #T_b5da8_row26_col7, #T_b5da8_row27_col7, #T_b5da8_row28_col7, #T_b5da8_row29_col7 {\n  background-color: lightgreen;\n}\n</style>\n<table id=\"T_b5da8\">\n  <thead>\n    <tr>\n      <th class=\"index_name level0\" >model</th>\n      <th id=\"T_b5da8_level0_col0\" class=\"col_heading level0 col0\" >ALS_32_True</th>\n      <th id=\"T_b5da8_level0_col1\" class=\"col_heading level0 col1\" >ALS_64_True</th>\n      <th id=\"T_b5da8_level0_col2\" class=\"col_heading level0 col2\" >ALS_32_False</th>\n      <th id=\"T_b5da8_level0_col3\" class=\"col_heading level0 col3\" >ALS_64_False</th>\n      <th id=\"T_b5da8_level0_col4\" class=\"col_heading level0 col4\" >LightFM_32_0.05</th>\n      <th id=\"T_b5da8_level0_col5\" class=\"col_heading level0 col5\" >LightFM_32_0.01</th>\n      <th id=\"T_b5da8_level0_col6\" class=\"col_heading level0 col6\" >LightFM_64_0.05</th>\n      <th id=\"T_b5da8_level0_col7\" class=\"col_heading level0 col7\" >LightFM_64_0.01</th>\n    </tr>\n  </thead>\n  <tbody>\n    <tr>\n      <th id=\"T_b5da8_level0_row0\" class=\"row_heading level0 row0\" >Precision@1</th>\n      <td id=\"T_b5da8_row0_col0\" class=\"data row0 col0\" >0.084341</td>\n      <td id=\"T_b5da8_row0_col1\" class=\"data row0 col1\" >0.083620</td>\n      <td id=\"T_b5da8_row0_col2\" class=\"data row0 col2\" >0.062711</td>\n      <td id=\"T_b5da8_row0_col3\" class=\"data row0 col3\" >0.065150</td>\n      <td id=\"T_b5da8_row0_col4\" class=\"data row0 col4\" >0.082790</td>\n      <td id=\"T_b5da8_row0_col5\" class=\"data row0 col5\" >0.080326</td>\n      <td id=\"T_b5da8_row0_col6\" class=\"data row0 col6\" >0.080151</td>\n      <td id=\"T_b5da8_row0_col7\" class=\"data row0 col7\" >0.083196</td>\n    </tr>\n    <tr>\n      <th id=\"T_b5da8_level0_row1\" class=\"row_heading level0 row1\" >Recall@1</th>\n      <td id=\"T_b5da8_row1_col0\" class=\"data row1 col0\" >0.044148</td>\n      <td id=\"T_b5da8_row1_col1\" class=\"data row1 col1\" >0.043696</td>\n      <td id=\"T_b5da8_row1_col2\" class=\"data row1 col2\" >0.031888</td>\n      <td id=\"T_b5da8_row1_col3\" class=\"data row1 col3\" >0.032925</td>\n      <td id=\"T_b5da8_row1_col4\" class=\"data row1 col4\" >0.042350</td>\n      <td id=\"T_b5da8_row1_col5\" class=\"data row1 col5\" >0.041880</td>\n      <td id=\"T_b5da8_row1_col6\" class=\"data row1 col6\" >0.041228</td>\n      <td id=\"T_b5da8_row1_col7\" class=\"data row1 col7\" >0.043408</td>\n    </tr>\n    <tr>\n      <th id=\"T_b5da8_level0_row2\" class=\"row_heading level0 row2\" >Precision@2</th>\n      <td id=\"T_b5da8_row2_col0\" class=\"data row2 col0\" >0.070730</td>\n      <td id=\"T_b5da8_row2_col1\" class=\"data row2 col1\" >0.070066</td>\n      <td id=\"T_b5da8_row2_col2\" class=\"data row2 col2\" >0.056301</td>\n      <td id=\"T_b5da8_row2_col3\" class=\"data row2 col3\" >0.058408</td>\n      <td id=\"T_b5da8_row2_col4\" class=\"data row2 col4\" >0.072564</td>\n      <td id=\"T_b5da8_row2_col5\" class=\"data row2 col5\" >0.071813</td>\n      <td id=\"T_b5da8_row2_col6\" class=\"data row2 col6\" >0.071460</td>\n      <td id=\"T_b5da8_row2_col7\" class=\"data row2 col7\" >0.072190</td>\n    </tr>\n    <tr>\n      <th id=\"T_b5da8_level0_row3\" class=\"row_heading level0 row3\" >Recall@2</th>\n      <td id=\"T_b5da8_row3_col0\" class=\"data row3 col0\" >0.071733</td>\n      <td id=\"T_b5da8_row3_col1\" class=\"data row3 col1\" >0.071094</td>\n      <td id=\"T_b5da8_row3_col2\" class=\"data row3 col2\" >0.056408</td>\n      <td id=\"T_b5da8_row3_col3\" class=\"data row3 col3\" >0.058101</td>\n      <td id=\"T_b5da8_row3_col4\" class=\"data row3 col4\" >0.073349</td>\n      <td id=\"T_b5da8_row3_col5\" class=\"data row3 col5\" >0.073425</td>\n      <td id=\"T_b5da8_row3_col6\" class=\"data row3 col6\" >0.072125</td>\n      <td id=\"T_b5da8_row3_col7\" class=\"data row3 col7\" >0.073584</td>\n    </tr>\n    <tr>\n      <th id=\"T_b5da8_level0_row4\" class=\"row_heading level0 row4\" >Precision@3</th>\n      <td id=\"T_b5da8_row4_col0\" class=\"data row4 col0\" >0.061178</td>\n      <td id=\"T_b5da8_row4_col1\" class=\"data row4 col1\" >0.060899</td>\n      <td id=\"T_b5da8_row4_col2\" class=\"data row4 col2\" >0.052259</td>\n      <td id=\"T_b5da8_row4_col3\" class=\"data row4 col3\" >0.053885</td>\n      <td id=\"T_b5da8_row4_col4\" class=\"data row4 col4\" >0.064788</td>\n      <td id=\"T_b5da8_row4_col5\" class=\"data row4 col5\" >0.065039</td>\n      <td id=\"T_b5da8_row4_col6\" class=\"data row4 col6\" >0.063930</td>\n      <td id=\"T_b5da8_row4_col7\" class=\"data row4 col7\" >0.064796</td>\n    </tr>\n    <tr>\n      <th id=\"T_b5da8_level0_row5\" class=\"row_heading level0 row5\" >Recall@3</th>\n      <td id=\"T_b5da8_row5_col0\" class=\"data row5 col0\" >0.091233</td>\n      <td id=\"T_b5da8_row5_col1\" class=\"data row5 col1\" >0.090791</td>\n      <td id=\"T_b5da8_row5_col2\" class=\"data row5 col2\" >0.077344</td>\n      <td id=\"T_b5da8_row5_col3\" class=\"data row5 col3\" >0.079156</td>\n      <td id=\"T_b5da8_row5_col4\" class=\"data row5 col4\" >0.097340</td>\n      <td id=\"T_b5da8_row5_col5\" class=\"data row5 col5\" >0.098376</td>\n      <td id=\"T_b5da8_row5_col6\" class=\"data row5 col6\" >0.095631</td>\n      <td id=\"T_b5da8_row5_col7\" class=\"data row5 col7\" >0.097746</td>\n    </tr>\n    <tr>\n      <th id=\"T_b5da8_level0_row6\" class=\"row_heading level0 row6\" >Precision@4</th>\n      <td id=\"T_b5da8_row6_col0\" class=\"data row6 col0\" >0.054094</td>\n      <td id=\"T_b5da8_row6_col1\" class=\"data row6 col1\" >0.053760</td>\n      <td id=\"T_b5da8_row6_col2\" class=\"data row6 col2\" >0.048333</td>\n      <td id=\"T_b5da8_row6_col3\" class=\"data row6 col3\" >0.049802</td>\n      <td id=\"T_b5da8_row6_col4\" class=\"data row6 col4\" >0.057944</td>\n      <td id=\"T_b5da8_row6_col5\" class=\"data row6 col5\" >0.058566</td>\n      <td id=\"T_b5da8_row6_col6\" class=\"data row6 col6\" >0.057622</td>\n      <td id=\"T_b5da8_row6_col7\" class=\"data row6 col7\" >0.058556</td>\n    </tr>\n    <tr>\n      <th id=\"T_b5da8_level0_row7\" class=\"row_heading level0 row7\" >Recall@4</th>\n      <td id=\"T_b5da8_row7_col0\" class=\"data row7 col0\" >0.106615</td>\n      <td id=\"T_b5da8_row7_col1\" class=\"data row7 col1\" >0.105840</td>\n      <td id=\"T_b5da8_row7_col2\" class=\"data row7 col2\" >0.093772</td>\n      <td id=\"T_b5da8_row7_col3\" class=\"data row7 col3\" >0.096146</td>\n      <td id=\"T_b5da8_row7_col4\" class=\"data row7 col4\" >0.114613</td>\n      <td id=\"T_b5da8_row7_col5\" class=\"data row7 col5\" >0.116882</td>\n      <td id=\"T_b5da8_row7_col6\" class=\"data row7 col6\" >0.113532</td>\n      <td id=\"T_b5da8_row7_col7\" class=\"data row7 col7\" >0.116801</td>\n    </tr>\n    <tr>\n      <th id=\"T_b5da8_level0_row8\" class=\"row_heading level0 row8\" >Precision@5</th>\n      <td id=\"T_b5da8_row8_col0\" class=\"data row8 col0\" >0.048066</td>\n      <td id=\"T_b5da8_row8_col1\" class=\"data row8 col1\" >0.047741</td>\n      <td id=\"T_b5da8_row8_col2\" class=\"data row8 col2\" >0.044772</td>\n      <td id=\"T_b5da8_row8_col3\" class=\"data row8 col3\" >0.045778</td>\n      <td id=\"T_b5da8_row8_col4\" class=\"data row8 col4\" >0.052102</td>\n      <td id=\"T_b5da8_row8_col5\" class=\"data row8 col5\" >0.052741</td>\n      <td id=\"T_b5da8_row8_col6\" class=\"data row8 col6\" >0.051949</td>\n      <td id=\"T_b5da8_row8_col7\" class=\"data row8 col7\" >0.052586</td>\n    </tr>\n    <tr>\n      <th id=\"T_b5da8_level0_row9\" class=\"row_heading level0 row9\" >Recall@5</th>\n      <td id=\"T_b5da8_row9_col0\" class=\"data row9 col0\" >0.117188</td>\n      <td id=\"T_b5da8_row9_col1\" class=\"data row9 col1\" >0.116252</td>\n      <td id=\"T_b5da8_row9_col2\" class=\"data row9 col2\" >0.107550</td>\n      <td id=\"T_b5da8_row9_col3\" class=\"data row9 col3\" >0.109260</td>\n      <td id=\"T_b5da8_row9_col4\" class=\"data row9 col4\" >0.127678</td>\n      <td id=\"T_b5da8_row9_col5\" class=\"data row9 col5\" >0.130278</td>\n      <td id=\"T_b5da8_row9_col6\" class=\"data row9 col6\" >0.126471</td>\n      <td id=\"T_b5da8_row9_col7\" class=\"data row9 col7\" >0.129738</td>\n    </tr>\n    <tr>\n      <th id=\"T_b5da8_level0_row10\" class=\"row_heading level0 row10\" >Precision@6</th>\n      <td id=\"T_b5da8_row10_col0\" class=\"data row10 col0\" >0.042848</td>\n      <td id=\"T_b5da8_row10_col1\" class=\"data row10 col1\" >0.042594</td>\n      <td id=\"T_b5da8_row10_col2\" class=\"data row10 col2\" >0.041501</td>\n      <td id=\"T_b5da8_row10_col3\" class=\"data row10 col3\" >0.042122</td>\n      <td id=\"T_b5da8_row10_col4\" class=\"data row10 col4\" >0.047316</td>\n      <td id=\"T_b5da8_row10_col5\" class=\"data row10 col5\" >0.047456</td>\n      <td id=\"T_b5da8_row10_col6\" class=\"data row10 col6\" >0.047322</td>\n      <td id=\"T_b5da8_row10_col7\" class=\"data row10 col7\" >0.047578</td>\n    </tr>\n    <tr>\n      <th id=\"T_b5da8_level0_row11\" class=\"row_heading level0 row11\" >Recall@6</th>\n      <td id=\"T_b5da8_row11_col0\" class=\"data row11 col0\" >0.124205</td>\n      <td id=\"T_b5da8_row11_col1\" class=\"data row11 col1\" >0.123407</td>\n      <td id=\"T_b5da8_row11_col2\" class=\"data row11 col2\" >0.117842</td>\n      <td id=\"T_b5da8_row11_col3\" class=\"data row11 col3\" >0.119284</td>\n      <td id=\"T_b5da8_row11_col4\" class=\"data row11 col4\" >0.137714</td>\n      <td id=\"T_b5da8_row11_col5\" class=\"data row11 col5\" >0.139696</td>\n      <td id=\"T_b5da8_row11_col6\" class=\"data row11 col6\" >0.136749</td>\n      <td id=\"T_b5da8_row11_col7\" class=\"data row11 col7\" >0.139714</td>\n    </tr>\n    <tr>\n      <th id=\"T_b5da8_level0_row12\" class=\"row_heading level0 row12\" >Precision@7</th>\n      <td id=\"T_b5da8_row12_col0\" class=\"data row12 col0\" >0.038592</td>\n      <td id=\"T_b5da8_row12_col1\" class=\"data row12 col1\" >0.038509</td>\n      <td id=\"T_b5da8_row12_col2\" class=\"data row12 col2\" >0.038631</td>\n      <td id=\"T_b5da8_row12_col3\" class=\"data row12 col3\" >0.038979</td>\n      <td id=\"T_b5da8_row12_col4\" class=\"data row12 col4\" >0.043316</td>\n      <td id=\"T_b5da8_row12_col5\" class=\"data row12 col5\" >0.042924</td>\n      <td id=\"T_b5da8_row12_col6\" class=\"data row12 col6\" >0.043393</td>\n      <td id=\"T_b5da8_row12_col7\" class=\"data row12 col7\" >0.043245</td>\n    </tr>\n    <tr>\n      <th id=\"T_b5da8_level0_row13\" class=\"row_heading level0 row13\" >Recall@7</th>\n      <td id=\"T_b5da8_row13_col0\" class=\"data row13 col0\" >0.129468</td>\n      <td id=\"T_b5da8_row13_col1\" class=\"data row13 col1\" >0.129179</td>\n      <td id=\"T_b5da8_row13_col2\" class=\"data row13 col2\" >0.126582</td>\n      <td id=\"T_b5da8_row13_col3\" class=\"data row13 col3\" >0.127276</td>\n      <td id=\"T_b5da8_row13_col4\" class=\"data row13 col4\" >0.145904</td>\n      <td id=\"T_b5da8_row13_col5\" class=\"data row13 col5\" >0.146699</td>\n      <td id=\"T_b5da8_row13_col6\" class=\"data row13 col6\" >0.145479</td>\n      <td id=\"T_b5da8_row13_col7\" class=\"data row13 col7\" >0.147465</td>\n    </tr>\n    <tr>\n      <th id=\"T_b5da8_level0_row14\" class=\"row_heading level0 row14\" >Precision@8</th>\n      <td id=\"T_b5da8_row14_col0\" class=\"data row14 col0\" >0.035307</td>\n      <td id=\"T_b5da8_row14_col1\" class=\"data row14 col1\" >0.035198</td>\n      <td id=\"T_b5da8_row14_col2\" class=\"data row14 col2\" >0.036279</td>\n      <td id=\"T_b5da8_row14_col3\" class=\"data row14 col3\" >0.036450</td>\n      <td id=\"T_b5da8_row14_col4\" class=\"data row14 col4\" >0.040011</td>\n      <td id=\"T_b5da8_row14_col5\" class=\"data row14 col5\" >0.039508</td>\n      <td id=\"T_b5da8_row14_col6\" class=\"data row14 col6\" >0.040091</td>\n      <td id=\"T_b5da8_row14_col7\" class=\"data row14 col7\" >0.039784</td>\n    </tr>\n    <tr>\n      <th id=\"T_b5da8_level0_row15\" class=\"row_heading level0 row15\" >Recall@8</th>\n      <td id=\"T_b5da8_row15_col0\" class=\"data row15 col0\" >0.134385</td>\n      <td id=\"T_b5da8_row15_col1\" class=\"data row15 col1\" >0.134111</td>\n      <td id=\"T_b5da8_row15_col2\" class=\"data row15 col2\" >0.134387</td>\n      <td id=\"T_b5da8_row15_col3\" class=\"data row15 col3\" >0.134723</td>\n      <td id=\"T_b5da8_row15_col4\" class=\"data row15 col4\" >0.152946</td>\n      <td id=\"T_b5da8_row15_col5\" class=\"data row15 col5\" >0.153753</td>\n      <td id=\"T_b5da8_row15_col6\" class=\"data row15 col6\" >0.152494</td>\n      <td id=\"T_b5da8_row15_col7\" class=\"data row15 col7\" >0.154289</td>\n    </tr>\n    <tr>\n      <th id=\"T_b5da8_level0_row16\" class=\"row_heading level0 row16\" >Precision@9</th>\n      <td id=\"T_b5da8_row16_col0\" class=\"data row16 col0\" >0.032620</td>\n      <td id=\"T_b5da8_row16_col1\" class=\"data row16 col1\" >0.032512</td>\n      <td id=\"T_b5da8_row16_col2\" class=\"data row16 col2\" >0.034289</td>\n      <td id=\"T_b5da8_row16_col3\" class=\"data row16 col3\" >0.034255</td>\n      <td id=\"T_b5da8_row16_col4\" class=\"data row16 col4\" >0.037319</td>\n      <td id=\"T_b5da8_row16_col5\" class=\"data row16 col5\" >0.036701</td>\n      <td id=\"T_b5da8_row16_col6\" class=\"data row16 col6\" >0.037504</td>\n      <td id=\"T_b5da8_row16_col7\" class=\"data row16 col7\" >0.037012</td>\n    </tr>\n    <tr>\n      <th id=\"T_b5da8_level0_row17\" class=\"row_heading level0 row17\" >Recall@9</th>\n      <td id=\"T_b5da8_row17_col0\" class=\"data row17 col0\" >0.138726</td>\n      <td id=\"T_b5da8_row17_col1\" class=\"data row17 col1\" >0.138346</td>\n      <td id=\"T_b5da8_row17_col2\" class=\"data row17 col2\" >0.141897</td>\n      <td id=\"T_b5da8_row17_col3\" class=\"data row17 col3\" >0.141024</td>\n      <td id=\"T_b5da8_row17_col4\" class=\"data row17 col4\" >0.159765</td>\n      <td id=\"T_b5da8_row17_col5\" class=\"data row17 col5\" >0.160157</td>\n      <td id=\"T_b5da8_row17_col6\" class=\"data row17 col6\" >0.159559</td>\n      <td id=\"T_b5da8_row17_col7\" class=\"data row17 col7\" >0.160699</td>\n    </tr>\n    <tr>\n      <th id=\"T_b5da8_level0_row18\" class=\"row_heading level0 row18\" >Precision@10</th>\n      <td id=\"T_b5da8_row18_col0\" class=\"data row18 col0\" >0.030380</td>\n      <td id=\"T_b5da8_row18_col1\" class=\"data row18 col1\" >0.030236</td>\n      <td id=\"T_b5da8_row18_col2\" class=\"data row18 col2\" >0.032640</td>\n      <td id=\"T_b5da8_row18_col3\" class=\"data row18 col3\" >0.032437</td>\n      <td id=\"T_b5da8_row18_col4\" class=\"data row18 col4\" >0.035172</td>\n      <td id=\"T_b5da8_row18_col5\" class=\"data row18 col5\" >0.034268</td>\n      <td id=\"T_b5da8_row18_col6\" class=\"data row18 col6\" >0.035408</td>\n      <td id=\"T_b5da8_row18_col7\" class=\"data row18 col7\" >0.034578</td>\n    </tr>\n    <tr>\n      <th id=\"T_b5da8_level0_row19\" class=\"row_heading level0 row19\" >Recall@10</th>\n      <td id=\"T_b5da8_row19_col0\" class=\"data row19 col0\" >0.142884</td>\n      <td id=\"T_b5da8_row19_col1\" class=\"data row19 col1\" >0.142191</td>\n      <td id=\"T_b5da8_row19_col2\" class=\"data row19 col2\" >0.148844</td>\n      <td id=\"T_b5da8_row19_col3\" class=\"data row19 col3\" >0.147045</td>\n      <td id=\"T_b5da8_row19_col4\" class=\"data row19 col4\" >0.166435</td>\n      <td id=\"T_b5da8_row19_col5\" class=\"data row19 col5\" >0.165786</td>\n      <td id=\"T_b5da8_row19_col6\" class=\"data row19 col6\" >0.166532</td>\n      <td id=\"T_b5da8_row19_col7\" class=\"data row19 col7\" >0.166266</td>\n    </tr>\n    <tr>\n      <th id=\"T_b5da8_level0_row20\" class=\"row_heading level0 row20\" >MAP@1</th>\n      <td id=\"T_b5da8_row20_col0\" class=\"data row20 col0\" >0.044148</td>\n      <td id=\"T_b5da8_row20_col1\" class=\"data row20 col1\" >0.043696</td>\n      <td id=\"T_b5da8_row20_col2\" class=\"data row20 col2\" >0.031888</td>\n      <td id=\"T_b5da8_row20_col3\" class=\"data row20 col3\" >0.032925</td>\n      <td id=\"T_b5da8_row20_col4\" class=\"data row20 col4\" >0.042350</td>\n      <td id=\"T_b5da8_row20_col5\" class=\"data row20 col5\" >0.041880</td>\n      <td id=\"T_b5da8_row20_col6\" class=\"data row20 col6\" >0.041228</td>\n      <td id=\"T_b5da8_row20_col7\" class=\"data row20 col7\" >0.043408</td>\n    </tr>\n    <tr>\n      <th id=\"T_b5da8_level0_row21\" class=\"row_heading level0 row21\" >MAP@2</th>\n      <td id=\"T_b5da8_row21_col0\" class=\"data row21 col0\" >0.058607</td>\n      <td id=\"T_b5da8_row21_col1\" class=\"data row21 col1\" >0.058056</td>\n      <td id=\"T_b5da8_row21_col2\" class=\"data row21 col2\" >0.044653</td>\n      <td id=\"T_b5da8_row21_col3\" class=\"data row21 col3\" >0.046084</td>\n      <td id=\"T_b5da8_row21_col4\" class=\"data row21 col4\" >0.058621</td>\n      <td id=\"T_b5da8_row21_col5\" class=\"data row21 col5\" >0.058398</td>\n      <td id=\"T_b5da8_row21_col6\" class=\"data row21 col6\" >0.057405</td>\n      <td id=\"T_b5da8_row21_col7\" class=\"data row21 col7\" >0.059228</td>\n    </tr>\n    <tr>\n      <th id=\"T_b5da8_level0_row22\" class=\"row_heading level0 row22\" >MAP@3</th>\n      <td id=\"T_b5da8_row22_col0\" class=\"data row22 col0\" >0.065639</td>\n      <td id=\"T_b5da8_row22_col1\" class=\"data row22 col1\" >0.065158</td>\n      <td id=\"T_b5da8_row22_col2\" class=\"data row22 col2\" >0.052110</td>\n      <td id=\"T_b5da8_row22_col3\" class=\"data row22 col3\" >0.053624</td>\n      <td id=\"T_b5da8_row22_col4\" class=\"data row22 col4\" >0.067291</td>\n      <td id=\"T_b5da8_row22_col5\" class=\"data row22 col5\" >0.067372</td>\n      <td id=\"T_b5da8_row22_col6\" class=\"data row22 col6\" >0.065878</td>\n      <td id=\"T_b5da8_row22_col7\" class=\"data row22 col7\" >0.067952</td>\n    </tr>\n    <tr>\n      <th id=\"T_b5da8_level0_row23\" class=\"row_heading level0 row23\" >MAP@4</th>\n      <td id=\"T_b5da8_row23_col0\" class=\"data row23 col0\" >0.069935</td>\n      <td id=\"T_b5da8_row23_col1\" class=\"data row23 col1\" >0.069362</td>\n      <td id=\"T_b5da8_row23_col2\" class=\"data row23 col2\" >0.056628</td>\n      <td id=\"T_b5da8_row23_col3\" class=\"data row23 col3\" >0.058342</td>\n      <td id=\"T_b5da8_row23_col4\" class=\"data row23 col4\" >0.072085</td>\n      <td id=\"T_b5da8_row23_col5\" class=\"data row23 col5\" >0.072545</td>\n      <td id=\"T_b5da8_row23_col6\" class=\"data row23 col6\" >0.070862</td>\n      <td id=\"T_b5da8_row23_col7\" class=\"data row23 col7\" >0.073258</td>\n    </tr>\n    <tr>\n      <th id=\"T_b5da8_level0_row24\" class=\"row_heading level0 row24\" >MAP@5</th>\n      <td id=\"T_b5da8_row24_col0\" class=\"data row24 col0\" >0.072389</td>\n      <td id=\"T_b5da8_row24_col1\" class=\"data row24 col1\" >0.071798</td>\n      <td id=\"T_b5da8_row24_col2\" class=\"data row24 col2\" >0.059725</td>\n      <td id=\"T_b5da8_row24_col3\" class=\"data row24 col3\" >0.061309</td>\n      <td id=\"T_b5da8_row24_col4\" class=\"data row24 col4\" >0.075076</td>\n      <td id=\"T_b5da8_row24_col5\" class=\"data row24 col5\" >0.075646</td>\n      <td id=\"T_b5da8_row24_col6\" class=\"data row24 col6\" >0.073830</td>\n      <td id=\"T_b5da8_row24_col7\" class=\"data row24 col7\" >0.076262</td>\n    </tr>\n    <tr>\n      <th id=\"T_b5da8_level0_row25\" class=\"row_heading level0 row25\" >MAP@6</th>\n      <td id=\"T_b5da8_row25_col0\" class=\"data row25 col0\" >0.073786</td>\n      <td id=\"T_b5da8_row25_col1\" class=\"data row25 col1\" >0.073204</td>\n      <td id=\"T_b5da8_row25_col2\" class=\"data row25 col2\" >0.061730</td>\n      <td id=\"T_b5da8_row25_col3\" class=\"data row25 col3\" >0.063252</td>\n      <td id=\"T_b5da8_row25_col4\" class=\"data row25 col4\" >0.077052</td>\n      <td id=\"T_b5da8_row25_col5\" class=\"data row25 col5\" >0.077505</td>\n      <td id=\"T_b5da8_row25_col6\" class=\"data row25 col6\" >0.075864</td>\n      <td id=\"T_b5da8_row25_col7\" class=\"data row25 col7\" >0.078225</td>\n    </tr>\n    <tr>\n      <th id=\"T_b5da8_level0_row26\" class=\"row_heading level0 row26\" >MAP@7</th>\n      <td id=\"T_b5da8_row26_col0\" class=\"data row26 col0\" >0.074690</td>\n      <td id=\"T_b5da8_row26_col1\" class=\"data row26 col1\" >0.074188</td>\n      <td id=\"T_b5da8_row26_col2\" class=\"data row26 col2\" >0.063193</td>\n      <td id=\"T_b5da8_row26_col3\" class=\"data row26 col3\" >0.064604</td>\n      <td id=\"T_b5da8_row26_col4\" class=\"data row26 col4\" >0.078443</td>\n      <td id=\"T_b5da8_row26_col5\" class=\"data row26 col5\" >0.078720</td>\n      <td id=\"T_b5da8_row26_col6\" class=\"data row26 col6\" >0.077336</td>\n      <td id=\"T_b5da8_row26_col7\" class=\"data row26 col7\" >0.079559</td>\n    </tr>\n    <tr>\n      <th id=\"T_b5da8_level0_row27\" class=\"row_heading level0 row27\" >MAP@8</th>\n      <td id=\"T_b5da8_row27_col0\" class=\"data row27 col0\" >0.075439</td>\n      <td id=\"T_b5da8_row27_col1\" class=\"data row27 col1\" >0.074932</td>\n      <td id=\"T_b5da8_row27_col2\" class=\"data row27 col2\" >0.064361</td>\n      <td id=\"T_b5da8_row27_col3\" class=\"data row27 col3\" >0.065726</td>\n      <td id=\"T_b5da8_row27_col4\" class=\"data row27 col4\" >0.079498</td>\n      <td id=\"T_b5da8_row27_col5\" class=\"data row27 col5\" >0.079782</td>\n      <td id=\"T_b5da8_row27_col6\" class=\"data row27 col6\" >0.078388</td>\n      <td id=\"T_b5da8_row27_col7\" class=\"data row27 col7\" >0.080590</td>\n    </tr>\n    <tr>\n      <th id=\"T_b5da8_level0_row28\" class=\"row_heading level0 row28\" >MAP@9</th>\n      <td id=\"T_b5da8_row28_col0\" class=\"data row28 col0\" >0.076025</td>\n      <td id=\"T_b5da8_row28_col1\" class=\"data row28 col1\" >0.075508</td>\n      <td id=\"T_b5da8_row28_col2\" class=\"data row28 col2\" >0.065356</td>\n      <td id=\"T_b5da8_row28_col3\" class=\"data row28 col3\" >0.066582</td>\n      <td id=\"T_b5da8_row28_col4\" class=\"data row28 col4\" >0.080408</td>\n      <td id=\"T_b5da8_row28_col5\" class=\"data row28 col5\" >0.080651</td>\n      <td id=\"T_b5da8_row28_col6\" class=\"data row28 col6\" >0.079336</td>\n      <td id=\"T_b5da8_row28_col7\" class=\"data row28 col7\" >0.081472</td>\n    </tr>\n    <tr>\n      <th id=\"T_b5da8_level0_row29\" class=\"row_heading level0 row29\" >MAP@10</th>\n      <td id=\"T_b5da8_row29_col0\" class=\"data row29 col0\" >0.076529</td>\n      <td id=\"T_b5da8_row29_col1\" class=\"data row29 col1\" >0.075977</td>\n      <td id=\"T_b5da8_row29_col2\" class=\"data row29 col2\" >0.066196</td>\n      <td id=\"T_b5da8_row29_col3\" class=\"data row29 col3\" >0.067333</td>\n      <td id=\"T_b5da8_row29_col4\" class=\"data row29 col4\" >0.081215</td>\n      <td id=\"T_b5da8_row29_col5\" class=\"data row29 col5\" >0.081336</td>\n      <td id=\"T_b5da8_row29_col6\" class=\"data row29 col6\" >0.080191</td>\n      <td id=\"T_b5da8_row29_col7\" class=\"data row29 col7\" >0.082161</td>\n    </tr>\n  </tbody>\n</table>\n"
     },
     "execution_count": 67,
     "metadata": {},
     "output_type": "execute_result"
    }
   ],
   "source": [
    "df_quality.style.highlight_max(color='lightgreen', axis=1)"
   ],
   "metadata": {
    "collapsed": false
   }
  },
  {
   "cell_type": "code",
   "execution_count": 70,
   "outputs": [],
   "source": [
    "model = models[\"LightFM_64_0.01\"]\n",
    "fake_user_id_series = new_user_id - 1\n",
    "fake_user_id_sport = new_user_id - 2\n",
    "fake_user_id_thriller = new_user_id - 3"
   ],
   "metadata": {
    "collapsed": false
   }
  },
  {
   "cell_type": "markdown",
   "source": [
    "---\n",
    "\n",
    "Как видно, данному пользователю рекомендуют в основном триллеры, ужасы, детективы\n",
    "Это не удивительно, ведь часто люди, которые смотрят триллеры, находят данные жанры схожими\n",
    "Поэтому нашему любителю триллеров и рекомендуется такой набор фильмов\n",
    "Более того, мы не видим тут в списке одни лишь триллеры, что хорошо, ведь это показатель отсутствия переобучения\n",
    "\n",
    "В целом, рекомендация прошла успешна"
   ],
   "metadata": {
    "collapsed": false
   }
  },
  {
   "cell_type": "code",
   "execution_count": 71,
   "outputs": [
    {
     "data": {
      "text/plain": "       item_id content_type                     title  \\\n1006      3626         film      Развратные сестрички   \n3975      8511       series  Охотники за бриллиантами   \n5654      4484         film                    Готика   \n6041     14100         film                 Новенький   \n6432     10104         film   Лучшее… от первого лица   \n6781      3634         film       Страшная воля богов   \n7216       630         film   Охотники за астероидами   \n11810    14814         film                Заражённая   \n14260     3435       series   Мой удивительный парень   \n14417    12884         film       Любовь прет-а-порте   \n\n                               title_orig  release_year  \\\n1006   Wet & Horny Stepsisters Deepthroat        2016.0   \n3975            Okhotniki za brilliantami        2011.0   \n5654                              Gothika        2003.0   \n6041                                  NaN        2017.0   \n6432                                  NaN        2017.0   \n6781                  Kamisama no iu tôri        2014.0   \n7216                     Asteroid Chasers        2020.0   \n11810                              Maggie        2014.0   \n14260                                 NaN        2016.0   \n14417                                 NaN        2017.0   \n\n                                        genres                      countries  \\\n1006                              для взрослых                 Великобритания   \n3975                                 детективы                         Россия   \n5654                ужасы, триллеры, детективы  США, Франция, Канада, Испания   \n6041                         семейное, комедии                         Россия   \n6432                                     драмы                         Россия   \n6781   фантастика, зарубежные, триллеры, ужасы                         Япония   \n7216     зарубежные, для детей, документальное                      Австралия   \n11810                   драмы, ужасы, триллеры                 США, Швейцария   \n14260  мелодрамы, зарубежные, фэнтези, комедии                          Китай   \n14417              русские, комедии, мелодрамы                         Россия   \n\n       for_kids  age_rating studios       directors  \\\n1006        NaN        21.0     NaN     Джек Манила   \n3975        NaN        16.0     NaN  Александр Котт   \n5654        NaN        16.0     NaN  Матьё Кассовиц   \n6041        0.0         6.0     NaN    Мария Сопова   \n6432        0.0        16.0     NaN   Александр Цой   \n6781        NaN        18.0     NaN    Такаси Миике   \n7216        NaN        12.0     NaN             NaN   \n11810       NaN        12.0     NaN    Генри Хобсон   \n14260       NaN        16.0     NaN     Шуй Цянь-Мо   \n14417       NaN        12.0     NaN    Макс Нардари   \n\n                                                  actors  \\\n1006                                                 NaN   \n3975   Александр Новин, Мария Аронова, Владимир Симон...   \n5654   Холли Берри, Роберт Дауни мл., Чарльз С. Датто...   \n6041   Александр Алёшкин, Елена Лямина, Татьяна Плетн...   \n6432   Кирилл Ковбас, Полина Ревис, Лада Марис, Галин...   \n6781   Ацуко Маэда, Дзинги Ириэ, Лили Фрэнки, Мио Юки...   \n7216                                        Tamara Davis   \n11810  Эбигейл Бреслин, Джоэли Ричардсон, Арнольд Шва...   \n14260  Ким Тхэ-хван, Лили Тиен, Пират Нитипаисалкул, ...   \n14417  Алессандро Борги, Андреа Прети, Антонио Де Мат...   \n\n                                             description  \\\n1006   Однажды летом к Майку приезжает на каникулы ег...   \n3975   В ноябре 1980-го происходит ограбление вдовы А...   \n5654   Женщина-психиатр оказывается пациенткой больни...   \n6041   По статистике, семьи, имеющие больше одного ре...   \n6432   Молодой человек знакомится с новой героиней ег...   \n6781   Стоило японскому старшекласснику пожаловаться ...   \n7216   Научно-популярный фильм о малых телах Солнечно...   \n11810  Девочка-подросток Мэгги заражается болезнью, м...   \n14260  Молодая актриса вынуждена жить в одной квартир...   \n14417  Итальянский донжуан Джорджио из-за своего бесп...   \n\n                                                keywords  \\\n1006   2016, соединенное королевство, развратные, сес...   \n3975                                 сериал мини-формата   \n5654   амнезия, психиатрическая больница, пациент, до...   \n6041                             Новенький, 2017, Россия   \n6432            Лучшее…, от, первого, лица, 2017, Россия   \n6781   Страшная, воля, богов, 2014, Япония, куклы, св...   \n7216   Охотники, за, астероидами, 2020, Австралия, ко...   \n11810  постапокалипсис, дистопия, зомби, 2015 год, Ви...   \n14260  Мой, удивительный, парень, 2016, Китай, друзья...   \n14417  Любовь, прет-а-порте, 2017, Россия, любовь, мо...   \n\n                                           genre  \n1006                              [для взрослых]  \n3975                                 [детективы]  \n5654                [ужасы, триллеры, детективы]  \n6041                         [семейное, комедии]  \n6432                                     [драмы]  \n6781   [фантастика, зарубежные, триллеры, ужасы]  \n7216     [зарубежные, для детей, документальное]  \n11810                   [драмы, ужасы, триллеры]  \n14260  [мелодрамы, зарубежные, фэнтези, комедии]  \n14417              [русские, комедии, мелодрамы]  ",
      "text/html": "<div>\n<style scoped>\n    .dataframe tbody tr th:only-of-type {\n        vertical-align: middle;\n    }\n\n    .dataframe tbody tr th {\n        vertical-align: top;\n    }\n\n    .dataframe thead th {\n        text-align: right;\n    }\n</style>\n<table border=\"1\" class=\"dataframe\">\n  <thead>\n    <tr style=\"text-align: right;\">\n      <th></th>\n      <th>item_id</th>\n      <th>content_type</th>\n      <th>title</th>\n      <th>title_orig</th>\n      <th>release_year</th>\n      <th>genres</th>\n      <th>countries</th>\n      <th>for_kids</th>\n      <th>age_rating</th>\n      <th>studios</th>\n      <th>directors</th>\n      <th>actors</th>\n      <th>description</th>\n      <th>keywords</th>\n      <th>genre</th>\n    </tr>\n  </thead>\n  <tbody>\n    <tr>\n      <th>1006</th>\n      <td>3626</td>\n      <td>film</td>\n      <td>Развратные сестрички</td>\n      <td>Wet &amp; Horny Stepsisters Deepthroat</td>\n      <td>2016.0</td>\n      <td>для взрослых</td>\n      <td>Великобритания</td>\n      <td>NaN</td>\n      <td>21.0</td>\n      <td>NaN</td>\n      <td>Джек Манила</td>\n      <td>NaN</td>\n      <td>Однажды летом к Майку приезжает на каникулы ег...</td>\n      <td>2016, соединенное королевство, развратные, сес...</td>\n      <td>[для взрослых]</td>\n    </tr>\n    <tr>\n      <th>3975</th>\n      <td>8511</td>\n      <td>series</td>\n      <td>Охотники за бриллиантами</td>\n      <td>Okhotniki za brilliantami</td>\n      <td>2011.0</td>\n      <td>детективы</td>\n      <td>Россия</td>\n      <td>NaN</td>\n      <td>16.0</td>\n      <td>NaN</td>\n      <td>Александр Котт</td>\n      <td>Александр Новин, Мария Аронова, Владимир Симон...</td>\n      <td>В ноябре 1980-го происходит ограбление вдовы А...</td>\n      <td>сериал мини-формата</td>\n      <td>[детективы]</td>\n    </tr>\n    <tr>\n      <th>5654</th>\n      <td>4484</td>\n      <td>film</td>\n      <td>Готика</td>\n      <td>Gothika</td>\n      <td>2003.0</td>\n      <td>ужасы, триллеры, детективы</td>\n      <td>США, Франция, Канада, Испания</td>\n      <td>NaN</td>\n      <td>16.0</td>\n      <td>NaN</td>\n      <td>Матьё Кассовиц</td>\n      <td>Холли Берри, Роберт Дауни мл., Чарльз С. Датто...</td>\n      <td>Женщина-психиатр оказывается пациенткой больни...</td>\n      <td>амнезия, психиатрическая больница, пациент, до...</td>\n      <td>[ужасы, триллеры, детективы]</td>\n    </tr>\n    <tr>\n      <th>6041</th>\n      <td>14100</td>\n      <td>film</td>\n      <td>Новенький</td>\n      <td>NaN</td>\n      <td>2017.0</td>\n      <td>семейное, комедии</td>\n      <td>Россия</td>\n      <td>0.0</td>\n      <td>6.0</td>\n      <td>NaN</td>\n      <td>Мария Сопова</td>\n      <td>Александр Алёшкин, Елена Лямина, Татьяна Плетн...</td>\n      <td>По статистике, семьи, имеющие больше одного ре...</td>\n      <td>Новенький, 2017, Россия</td>\n      <td>[семейное, комедии]</td>\n    </tr>\n    <tr>\n      <th>6432</th>\n      <td>10104</td>\n      <td>film</td>\n      <td>Лучшее… от первого лица</td>\n      <td>NaN</td>\n      <td>2017.0</td>\n      <td>драмы</td>\n      <td>Россия</td>\n      <td>0.0</td>\n      <td>16.0</td>\n      <td>NaN</td>\n      <td>Александр Цой</td>\n      <td>Кирилл Ковбас, Полина Ревис, Лада Марис, Галин...</td>\n      <td>Молодой человек знакомится с новой героиней ег...</td>\n      <td>Лучшее…, от, первого, лица, 2017, Россия</td>\n      <td>[драмы]</td>\n    </tr>\n    <tr>\n      <th>6781</th>\n      <td>3634</td>\n      <td>film</td>\n      <td>Страшная воля богов</td>\n      <td>Kamisama no iu tôri</td>\n      <td>2014.0</td>\n      <td>фантастика, зарубежные, триллеры, ужасы</td>\n      <td>Япония</td>\n      <td>NaN</td>\n      <td>18.0</td>\n      <td>NaN</td>\n      <td>Такаси Миике</td>\n      <td>Ацуко Маэда, Дзинги Ириэ, Лили Фрэнки, Мио Юки...</td>\n      <td>Стоило японскому старшекласснику пожаловаться ...</td>\n      <td>Страшная, воля, богов, 2014, Япония, куклы, св...</td>\n      <td>[фантастика, зарубежные, триллеры, ужасы]</td>\n    </tr>\n    <tr>\n      <th>7216</th>\n      <td>630</td>\n      <td>film</td>\n      <td>Охотники за астероидами</td>\n      <td>Asteroid Chasers</td>\n      <td>2020.0</td>\n      <td>зарубежные, для детей, документальное</td>\n      <td>Австралия</td>\n      <td>NaN</td>\n      <td>12.0</td>\n      <td>NaN</td>\n      <td>NaN</td>\n      <td>Tamara Davis</td>\n      <td>Научно-популярный фильм о малых телах Солнечно...</td>\n      <td>Охотники, за, астероидами, 2020, Австралия, ко...</td>\n      <td>[зарубежные, для детей, документальное]</td>\n    </tr>\n    <tr>\n      <th>11810</th>\n      <td>14814</td>\n      <td>film</td>\n      <td>Заражённая</td>\n      <td>Maggie</td>\n      <td>2014.0</td>\n      <td>драмы, ужасы, триллеры</td>\n      <td>США, Швейцария</td>\n      <td>NaN</td>\n      <td>12.0</td>\n      <td>NaN</td>\n      <td>Генри Хобсон</td>\n      <td>Эбигейл Бреслин, Джоэли Ричардсон, Арнольд Шва...</td>\n      <td>Девочка-подросток Мэгги заражается болезнью, м...</td>\n      <td>постапокалипсис, дистопия, зомби, 2015 год, Ви...</td>\n      <td>[драмы, ужасы, триллеры]</td>\n    </tr>\n    <tr>\n      <th>14260</th>\n      <td>3435</td>\n      <td>series</td>\n      <td>Мой удивительный парень</td>\n      <td>NaN</td>\n      <td>2016.0</td>\n      <td>мелодрамы, зарубежные, фэнтези, комедии</td>\n      <td>Китай</td>\n      <td>NaN</td>\n      <td>16.0</td>\n      <td>NaN</td>\n      <td>Шуй Цянь-Мо</td>\n      <td>Ким Тхэ-хван, Лили Тиен, Пират Нитипаисалкул, ...</td>\n      <td>Молодая актриса вынуждена жить в одной квартир...</td>\n      <td>Мой, удивительный, парень, 2016, Китай, друзья...</td>\n      <td>[мелодрамы, зарубежные, фэнтези, комедии]</td>\n    </tr>\n    <tr>\n      <th>14417</th>\n      <td>12884</td>\n      <td>film</td>\n      <td>Любовь прет-а-порте</td>\n      <td>NaN</td>\n      <td>2017.0</td>\n      <td>русские, комедии, мелодрамы</td>\n      <td>Россия</td>\n      <td>NaN</td>\n      <td>12.0</td>\n      <td>NaN</td>\n      <td>Макс Нардари</td>\n      <td>Алессандро Борги, Андреа Прети, Антонио Де Мат...</td>\n      <td>Итальянский донжуан Джорджио из-за своего бесп...</td>\n      <td>Любовь, прет-а-порте, 2017, Россия, любовь, мо...</td>\n      <td>[русские, комедии, мелодрамы]</td>\n    </tr>\n  </tbody>\n</table>\n</div>"
     },
     "execution_count": 71,
     "metadata": {},
     "output_type": "execute_result"
    }
   ],
   "source": [
    "recos = model.recommend(fake_user_id_thriller, 10)\n",
    "\n",
    "acquired_items = items[items[\"item_id\"].isin(recos)]\n",
    "acquired_items\n"
   ],
   "metadata": {
    "collapsed": false
   }
  },
  {
   "cell_type": "markdown",
   "source": [
    "---\n",
    "\n",
    "У данного пользователя в списке рекомендаций есть один фильм про спорт, и это уже хорошо.\n",
    "Это можно объяснить тем, что фильмов с тематикой спорт не так уж и много, и люди, интересующиеся этим жанром часто вынуждены смотреть другие жанры.\n",
    "Именно поэтому тут мы видим большое разнообразие."
   ],
   "metadata": {
    "collapsed": false
   }
  },
  {
   "cell_type": "code",
   "execution_count": 72,
   "outputs": [
    {
     "data": {
      "text/plain": "       item_id content_type                         title  \\\n202       4880       series                         Афера   \n767      15297       series               Клиника счастья   \n1882     10440       series                   Хрустальный   \n3875      6809         film                         Дуров   \n6346      9728         film             Гнев человеческий   \n6501     13865         film                      Девятаев   \n6689      4151       series        Секреты семейной жизни   \n7486      8636         film                    Белый снег   \n12050     3734         film  Прабабушка легкого поведения   \n15234      142         film                          Маша   \n\n                            title_orig  release_year  \\\n202                              Afera        2021.0   \n767                  Klinika schast'ya        2021.0   \n1882                      Khrustal'nyy        2021.0   \n3875                               NaN        2021.0   \n6346                      Wrath of Man        2021.0   \n6501              V2. Escape from Hell        2021.0   \n6689                               NaN        2021.0   \n7486                        Belyy sneg        2021.0   \n12050  Prababushka lyogkogo povedeniya        2021.0   \n15234                            Masha        2020.0   \n\n                            genres            countries  for_kids  age_rating  \\\n202                        комедии               Россия       NaN        18.0   \n767               драмы, мелодрамы               Россия       NaN        18.0   \n1882           триллеры, детективы               Россия       NaN        18.0   \n3875                документальное               Россия       NaN        16.0   \n6346             боевики, триллеры  Великобритания, США       NaN        18.0   \n6501   драмы, военные, приключения               Россия       NaN        12.0   \n6689                       комедии               Россия       NaN        18.0   \n7486                  драмы, спорт               Россия       NaN         6.0   \n12050                      комедии               Россия       NaN        16.0   \n15234              драмы, триллеры               Россия       NaN        16.0   \n\n      studios             directors  \\\n202       NaN        Михаил Старчак   \n767       NaN    Александр Кириенко   \n1882      NaN        Душан Глигоров   \n3875      NaN         Родион Чепель   \n6346      NaN              Гай Ричи   \n6501      NaN     Тимур Бекмамбетов   \n6689      NaN        Шота Гамисония   \n7486      NaN      Николай Хомерики   \n12050     NaN        Марюс Вайсберг   \n15234     NaN  Анастасия Пальчикова   \n\n                                                  actors  \\\n202    Сергей Степин, Игорь Царегородцев, Татьяна Лял...   \n767    Дарья Мороз, Анатолий Белый, Данил Акутин, Мар...   \n1882   Антон Васильев, Николай Шрайбер, Екатерина Оль...   \n3875                                                 NaN   \n6346   Джейсон Стэйтем, Холт МакКэллани, Джеффри Доно...   \n6501   Павел Прилучный, Павел Чинарёв, Тимофей Трибун...   \n6689   Петр Скворцов, Алена Михайлова, Федор Лавров, ...   \n7486   Ольга Лерман, Федор Добронравов, Надежда Марки...   \n12050  Александр Ревва, Глюкоза, Дмитрий Нагиев, Миха...   \n15234  Максим Суханов, Аня Чиповская, Полина Гухман, ...   \n\n                                             description  \\\n202    Смотри:- как кино- как сериалКарантин окончен,...   \n767    Успешный сексолог Алена уверена, что нашла фор...   \n1882   Сергей Смирнов — один из лучших «охотников на ...   \n3875   Уникальная история о лидере нового поколения, ...   \n6346   Грузовики лос-анджелесской инкассаторской комп...   \n6501   Военно-исторический блокбастер от режиссёров Т...   \n6689   У Никиты и Полины всё начиналось прекрасно: об...   \n7486   Отечественная спортивная драма про лыжницу и о...   \n12050  1980 год, вся страна следит за событиями моско...   \n15234  13-летняя Маша растёт между боксёрским рингом ...   \n\n                                                keywords  \\\n202    Афера, Аферисты, Карантин, Пандемия, Карантин ...   \n767    Клиника счастья, Клиника, Счастье, Клиника сча...   \n1882   хруст, хрусталь, хруста, хрус, полицейский, пе...   \n3875   Компьютер, Монитор, Гений, Интервью, Предприни...   \n6346   ограбление, криминальный авторитет, месть, пер...   \n6501   Девятаев, Девятаева, Девят, Девя, Девята, Девя...   \n6689   брызги крови, кровь, жестокое обращение с живо...   \n7486   биография, занятие спортом, байопик, чемпионат...   \n12050     , 2021, россия, прабабушка, легкого, поведения   \n15234  Фильм Маша, Маша фильм 2021, Смотреть фильм Ма...   \n\n                               genre  \n202                        [комедии]  \n767               [драмы, мелодрамы]  \n1882           [триллеры, детективы]  \n3875                [документальное]  \n6346             [боевики, триллеры]  \n6501   [драмы, военные, приключения]  \n6689                       [комедии]  \n7486                  [драмы, спорт]  \n12050                      [комедии]  \n15234              [драмы, триллеры]  ",
      "text/html": "<div>\n<style scoped>\n    .dataframe tbody tr th:only-of-type {\n        vertical-align: middle;\n    }\n\n    .dataframe tbody tr th {\n        vertical-align: top;\n    }\n\n    .dataframe thead th {\n        text-align: right;\n    }\n</style>\n<table border=\"1\" class=\"dataframe\">\n  <thead>\n    <tr style=\"text-align: right;\">\n      <th></th>\n      <th>item_id</th>\n      <th>content_type</th>\n      <th>title</th>\n      <th>title_orig</th>\n      <th>release_year</th>\n      <th>genres</th>\n      <th>countries</th>\n      <th>for_kids</th>\n      <th>age_rating</th>\n      <th>studios</th>\n      <th>directors</th>\n      <th>actors</th>\n      <th>description</th>\n      <th>keywords</th>\n      <th>genre</th>\n    </tr>\n  </thead>\n  <tbody>\n    <tr>\n      <th>202</th>\n      <td>4880</td>\n      <td>series</td>\n      <td>Афера</td>\n      <td>Afera</td>\n      <td>2021.0</td>\n      <td>комедии</td>\n      <td>Россия</td>\n      <td>NaN</td>\n      <td>18.0</td>\n      <td>NaN</td>\n      <td>Михаил Старчак</td>\n      <td>Сергей Степин, Игорь Царегородцев, Татьяна Лял...</td>\n      <td>Смотри:- как кино- как сериалКарантин окончен,...</td>\n      <td>Афера, Аферисты, Карантин, Пандемия, Карантин ...</td>\n      <td>[комедии]</td>\n    </tr>\n    <tr>\n      <th>767</th>\n      <td>15297</td>\n      <td>series</td>\n      <td>Клиника счастья</td>\n      <td>Klinika schast'ya</td>\n      <td>2021.0</td>\n      <td>драмы, мелодрамы</td>\n      <td>Россия</td>\n      <td>NaN</td>\n      <td>18.0</td>\n      <td>NaN</td>\n      <td>Александр Кириенко</td>\n      <td>Дарья Мороз, Анатолий Белый, Данил Акутин, Мар...</td>\n      <td>Успешный сексолог Алена уверена, что нашла фор...</td>\n      <td>Клиника счастья, Клиника, Счастье, Клиника сча...</td>\n      <td>[драмы, мелодрамы]</td>\n    </tr>\n    <tr>\n      <th>1882</th>\n      <td>10440</td>\n      <td>series</td>\n      <td>Хрустальный</td>\n      <td>Khrustal'nyy</td>\n      <td>2021.0</td>\n      <td>триллеры, детективы</td>\n      <td>Россия</td>\n      <td>NaN</td>\n      <td>18.0</td>\n      <td>NaN</td>\n      <td>Душан Глигоров</td>\n      <td>Антон Васильев, Николай Шрайбер, Екатерина Оль...</td>\n      <td>Сергей Смирнов — один из лучших «охотников на ...</td>\n      <td>хруст, хрусталь, хруста, хрус, полицейский, пе...</td>\n      <td>[триллеры, детективы]</td>\n    </tr>\n    <tr>\n      <th>3875</th>\n      <td>6809</td>\n      <td>film</td>\n      <td>Дуров</td>\n      <td>NaN</td>\n      <td>2021.0</td>\n      <td>документальное</td>\n      <td>Россия</td>\n      <td>NaN</td>\n      <td>16.0</td>\n      <td>NaN</td>\n      <td>Родион Чепель</td>\n      <td>NaN</td>\n      <td>Уникальная история о лидере нового поколения, ...</td>\n      <td>Компьютер, Монитор, Гений, Интервью, Предприни...</td>\n      <td>[документальное]</td>\n    </tr>\n    <tr>\n      <th>6346</th>\n      <td>9728</td>\n      <td>film</td>\n      <td>Гнев человеческий</td>\n      <td>Wrath of Man</td>\n      <td>2021.0</td>\n      <td>боевики, триллеры</td>\n      <td>Великобритания, США</td>\n      <td>NaN</td>\n      <td>18.0</td>\n      <td>NaN</td>\n      <td>Гай Ричи</td>\n      <td>Джейсон Стэйтем, Холт МакКэллани, Джеффри Доно...</td>\n      <td>Грузовики лос-анджелесской инкассаторской комп...</td>\n      <td>ограбление, криминальный авторитет, месть, пер...</td>\n      <td>[боевики, триллеры]</td>\n    </tr>\n    <tr>\n      <th>6501</th>\n      <td>13865</td>\n      <td>film</td>\n      <td>Девятаев</td>\n      <td>V2. Escape from Hell</td>\n      <td>2021.0</td>\n      <td>драмы, военные, приключения</td>\n      <td>Россия</td>\n      <td>NaN</td>\n      <td>12.0</td>\n      <td>NaN</td>\n      <td>Тимур Бекмамбетов</td>\n      <td>Павел Прилучный, Павел Чинарёв, Тимофей Трибун...</td>\n      <td>Военно-исторический блокбастер от режиссёров Т...</td>\n      <td>Девятаев, Девятаева, Девят, Девя, Девята, Девя...</td>\n      <td>[драмы, военные, приключения]</td>\n    </tr>\n    <tr>\n      <th>6689</th>\n      <td>4151</td>\n      <td>series</td>\n      <td>Секреты семейной жизни</td>\n      <td>NaN</td>\n      <td>2021.0</td>\n      <td>комедии</td>\n      <td>Россия</td>\n      <td>NaN</td>\n      <td>18.0</td>\n      <td>NaN</td>\n      <td>Шота Гамисония</td>\n      <td>Петр Скворцов, Алена Михайлова, Федор Лавров, ...</td>\n      <td>У Никиты и Полины всё начиналось прекрасно: об...</td>\n      <td>брызги крови, кровь, жестокое обращение с живо...</td>\n      <td>[комедии]</td>\n    </tr>\n    <tr>\n      <th>7486</th>\n      <td>8636</td>\n      <td>film</td>\n      <td>Белый снег</td>\n      <td>Belyy sneg</td>\n      <td>2021.0</td>\n      <td>драмы, спорт</td>\n      <td>Россия</td>\n      <td>NaN</td>\n      <td>6.0</td>\n      <td>NaN</td>\n      <td>Николай Хомерики</td>\n      <td>Ольга Лерман, Федор Добронравов, Надежда Марки...</td>\n      <td>Отечественная спортивная драма про лыжницу и о...</td>\n      <td>биография, занятие спортом, байопик, чемпионат...</td>\n      <td>[драмы, спорт]</td>\n    </tr>\n    <tr>\n      <th>12050</th>\n      <td>3734</td>\n      <td>film</td>\n      <td>Прабабушка легкого поведения</td>\n      <td>Prababushka lyogkogo povedeniya</td>\n      <td>2021.0</td>\n      <td>комедии</td>\n      <td>Россия</td>\n      <td>NaN</td>\n      <td>16.0</td>\n      <td>NaN</td>\n      <td>Марюс Вайсберг</td>\n      <td>Александр Ревва, Глюкоза, Дмитрий Нагиев, Миха...</td>\n      <td>1980 год, вся страна следит за событиями моско...</td>\n      <td>, 2021, россия, прабабушка, легкого, поведения</td>\n      <td>[комедии]</td>\n    </tr>\n    <tr>\n      <th>15234</th>\n      <td>142</td>\n      <td>film</td>\n      <td>Маша</td>\n      <td>Masha</td>\n      <td>2020.0</td>\n      <td>драмы, триллеры</td>\n      <td>Россия</td>\n      <td>NaN</td>\n      <td>16.0</td>\n      <td>NaN</td>\n      <td>Анастасия Пальчикова</td>\n      <td>Максим Суханов, Аня Чиповская, Полина Гухман, ...</td>\n      <td>13-летняя Маша растёт между боксёрским рингом ...</td>\n      <td>Фильм Маша, Маша фильм 2021, Смотреть фильм Ма...</td>\n      <td>[драмы, триллеры]</td>\n    </tr>\n  </tbody>\n</table>\n</div>"
     },
     "execution_count": 72,
     "metadata": {},
     "output_type": "execute_result"
    }
   ],
   "source": [
    "recos = model.recommend(fake_user_id_sport, 10)\n",
    "\n",
    "acquired_items = items[items[\"item_id\"].isin(recos)]\n",
    "acquired_items"
   ],
   "metadata": {
    "collapsed": false
   }
  },
  {
   "cell_type": "markdown",
   "source": [
    "---\n",
    "\n",
    "Ну и, наконец, последний аватар, который любит сериалы.\n",
    "Сразу бросается в глаза, что сериалов ему по рекомендовалось больше, чем фильмов.\n",
    "Опять же это хорошо, что есть разнообразие в виде фильмов. Это говорит об отсутствии переобучения."
   ],
   "metadata": {
    "collapsed": false
   }
  },
  {
   "cell_type": "code",
   "execution_count": 73,
   "outputs": [
    {
     "data": {
      "text/plain": "       item_id content_type                         title  \\\n202       4880       series                         Афера   \n767      15297       series               Клиника счастья   \n1882     10440       series                   Хрустальный   \n3875      6809         film                         Дуров   \n6346      9728         film             Гнев человеческий   \n6501     13865         film                      Девятаев   \n6689      4151       series        Секреты семейной жизни   \n7279      9996       series                         Немцы   \n12050     3734         film  Прабабушка легкого поведения   \n13615     2657       series                    Подслушано   \n\n                            title_orig  release_year  \\\n202                              Afera        2021.0   \n767                  Klinika schast'ya        2021.0   \n1882                      Khrustal'nyy        2021.0   \n3875                               NaN        2021.0   \n6346                      Wrath of Man        2021.0   \n6501              V2. Escape from Hell        2021.0   \n6689                               NaN        2021.0   \n7279                            Nemtsy        2021.0   \n12050  Prababushka lyogkogo povedeniya        2021.0   \n13615                      Podslushano        2021.0   \n\n                            genres            countries  for_kids  age_rating  \\\n202                        комедии               Россия       NaN        18.0   \n767               драмы, мелодрамы               Россия       NaN        18.0   \n1882           триллеры, детективы               Россия       NaN        18.0   \n3875                документальное               Россия       NaN        16.0   \n6346             боевики, триллеры  Великобритания, США       NaN        18.0   \n6501   драмы, военные, приключения               Россия       NaN        12.0   \n6689                       комедии               Россия       NaN        18.0   \n7279                         драмы               Россия       NaN        16.0   \n12050                      комедии               Россия       NaN        16.0   \n13615              драмы, триллеры               Россия       NaN        16.0   \n\n      studios           directors  \\\n202       NaN      Михаил Старчак   \n767       NaN  Александр Кириенко   \n1882      NaN      Душан Глигоров   \n3875      NaN       Родион Чепель   \n6346      NaN            Гай Ричи   \n6501      NaN   Тимур Бекмамбетов   \n6689      NaN      Шота Гамисония   \n7279      NaN         Стас Иванов   \n12050     NaN      Марюс Вайсберг   \n13615     NaN        Илья Куликов   \n\n                                                  actors  \\\n202    Сергей Степин, Игорь Царегородцев, Татьяна Лял...   \n767    Дарья Мороз, Анатолий Белый, Данил Акутин, Мар...   \n1882   Антон Васильев, Николай Шрайбер, Екатерина Оль...   \n3875                                                 NaN   \n6346   Джейсон Стэйтем, Холт МакКэллани, Джеффри Доно...   \n6501   Павел Прилучный, Павел Чинарёв, Тимофей Трибун...   \n6689   Петр Скворцов, Алена Михайлова, Федор Лавров, ...   \n7279   Евгений Коряковский, Анна Завтур, Антон Василь...   \n12050  Александр Ревва, Глюкоза, Дмитрий Нагиев, Миха...   \n13615  Александр Hовиков, Валентина Ляпина, Никита Па...   \n\n                                             description  \\\n202    Смотри:- как кино- как сериалКарантин окончен,...   \n767    Успешный сексолог Алена уверена, что нашла фор...   \n1882   Сергей Смирнов — один из лучших «охотников на ...   \n3875   Уникальная история о лидере нового поколения, ...   \n6346   Грузовики лос-анджелесской инкассаторской комп...   \n6501   Военно-исторический блокбастер от режиссёров Т...   \n6689   У Никиты и Полины всё начиналось прекрасно: об...   \n7279   На журналиста-оппозиционера Антона Эбергарда с...   \n12050  1980 год, вся страна следит за событиями моско...   \n13615  Смотри:- как кино- как сериалПодростковый псих...   \n\n                                                keywords  \\\n202    Афера, Аферисты, Карантин, Пандемия, Карантин ...   \n767    Клиника счастья, Клиника, Счастье, Клиника сча...   \n1882   хруст, хрусталь, хруста, хрус, полицейский, пе...   \n3875   Компьютер, Монитор, Гений, Интервью, Предприни...   \n6346   ограбление, криминальный авторитет, месть, пер...   \n6501   Девятаев, Девятаева, Девят, Девя, Девята, Девя...   \n6689   брызги крови, кровь, жестокое обращение с живо...   \n7279   немцы, немец, про немцев, по мотивам романа, п...   \n12050     , 2021, россия, прабабушка, легкого, поведения   \n13615  подслушано, подслушано в контакте, социальная ...   \n\n                               genre  \n202                        [комедии]  \n767               [драмы, мелодрамы]  \n1882           [триллеры, детективы]  \n3875                [документальное]  \n6346             [боевики, триллеры]  \n6501   [драмы, военные, приключения]  \n6689                       [комедии]  \n7279                         [драмы]  \n12050                      [комедии]  \n13615              [драмы, триллеры]  ",
      "text/html": "<div>\n<style scoped>\n    .dataframe tbody tr th:only-of-type {\n        vertical-align: middle;\n    }\n\n    .dataframe tbody tr th {\n        vertical-align: top;\n    }\n\n    .dataframe thead th {\n        text-align: right;\n    }\n</style>\n<table border=\"1\" class=\"dataframe\">\n  <thead>\n    <tr style=\"text-align: right;\">\n      <th></th>\n      <th>item_id</th>\n      <th>content_type</th>\n      <th>title</th>\n      <th>title_orig</th>\n      <th>release_year</th>\n      <th>genres</th>\n      <th>countries</th>\n      <th>for_kids</th>\n      <th>age_rating</th>\n      <th>studios</th>\n      <th>directors</th>\n      <th>actors</th>\n      <th>description</th>\n      <th>keywords</th>\n      <th>genre</th>\n    </tr>\n  </thead>\n  <tbody>\n    <tr>\n      <th>202</th>\n      <td>4880</td>\n      <td>series</td>\n      <td>Афера</td>\n      <td>Afera</td>\n      <td>2021.0</td>\n      <td>комедии</td>\n      <td>Россия</td>\n      <td>NaN</td>\n      <td>18.0</td>\n      <td>NaN</td>\n      <td>Михаил Старчак</td>\n      <td>Сергей Степин, Игорь Царегородцев, Татьяна Лял...</td>\n      <td>Смотри:- как кино- как сериалКарантин окончен,...</td>\n      <td>Афера, Аферисты, Карантин, Пандемия, Карантин ...</td>\n      <td>[комедии]</td>\n    </tr>\n    <tr>\n      <th>767</th>\n      <td>15297</td>\n      <td>series</td>\n      <td>Клиника счастья</td>\n      <td>Klinika schast'ya</td>\n      <td>2021.0</td>\n      <td>драмы, мелодрамы</td>\n      <td>Россия</td>\n      <td>NaN</td>\n      <td>18.0</td>\n      <td>NaN</td>\n      <td>Александр Кириенко</td>\n      <td>Дарья Мороз, Анатолий Белый, Данил Акутин, Мар...</td>\n      <td>Успешный сексолог Алена уверена, что нашла фор...</td>\n      <td>Клиника счастья, Клиника, Счастье, Клиника сча...</td>\n      <td>[драмы, мелодрамы]</td>\n    </tr>\n    <tr>\n      <th>1882</th>\n      <td>10440</td>\n      <td>series</td>\n      <td>Хрустальный</td>\n      <td>Khrustal'nyy</td>\n      <td>2021.0</td>\n      <td>триллеры, детективы</td>\n      <td>Россия</td>\n      <td>NaN</td>\n      <td>18.0</td>\n      <td>NaN</td>\n      <td>Душан Глигоров</td>\n      <td>Антон Васильев, Николай Шрайбер, Екатерина Оль...</td>\n      <td>Сергей Смирнов — один из лучших «охотников на ...</td>\n      <td>хруст, хрусталь, хруста, хрус, полицейский, пе...</td>\n      <td>[триллеры, детективы]</td>\n    </tr>\n    <tr>\n      <th>3875</th>\n      <td>6809</td>\n      <td>film</td>\n      <td>Дуров</td>\n      <td>NaN</td>\n      <td>2021.0</td>\n      <td>документальное</td>\n      <td>Россия</td>\n      <td>NaN</td>\n      <td>16.0</td>\n      <td>NaN</td>\n      <td>Родион Чепель</td>\n      <td>NaN</td>\n      <td>Уникальная история о лидере нового поколения, ...</td>\n      <td>Компьютер, Монитор, Гений, Интервью, Предприни...</td>\n      <td>[документальное]</td>\n    </tr>\n    <tr>\n      <th>6346</th>\n      <td>9728</td>\n      <td>film</td>\n      <td>Гнев человеческий</td>\n      <td>Wrath of Man</td>\n      <td>2021.0</td>\n      <td>боевики, триллеры</td>\n      <td>Великобритания, США</td>\n      <td>NaN</td>\n      <td>18.0</td>\n      <td>NaN</td>\n      <td>Гай Ричи</td>\n      <td>Джейсон Стэйтем, Холт МакКэллани, Джеффри Доно...</td>\n      <td>Грузовики лос-анджелесской инкассаторской комп...</td>\n      <td>ограбление, криминальный авторитет, месть, пер...</td>\n      <td>[боевики, триллеры]</td>\n    </tr>\n    <tr>\n      <th>6501</th>\n      <td>13865</td>\n      <td>film</td>\n      <td>Девятаев</td>\n      <td>V2. Escape from Hell</td>\n      <td>2021.0</td>\n      <td>драмы, военные, приключения</td>\n      <td>Россия</td>\n      <td>NaN</td>\n      <td>12.0</td>\n      <td>NaN</td>\n      <td>Тимур Бекмамбетов</td>\n      <td>Павел Прилучный, Павел Чинарёв, Тимофей Трибун...</td>\n      <td>Военно-исторический блокбастер от режиссёров Т...</td>\n      <td>Девятаев, Девятаева, Девят, Девя, Девята, Девя...</td>\n      <td>[драмы, военные, приключения]</td>\n    </tr>\n    <tr>\n      <th>6689</th>\n      <td>4151</td>\n      <td>series</td>\n      <td>Секреты семейной жизни</td>\n      <td>NaN</td>\n      <td>2021.0</td>\n      <td>комедии</td>\n      <td>Россия</td>\n      <td>NaN</td>\n      <td>18.0</td>\n      <td>NaN</td>\n      <td>Шота Гамисония</td>\n      <td>Петр Скворцов, Алена Михайлова, Федор Лавров, ...</td>\n      <td>У Никиты и Полины всё начиналось прекрасно: об...</td>\n      <td>брызги крови, кровь, жестокое обращение с живо...</td>\n      <td>[комедии]</td>\n    </tr>\n    <tr>\n      <th>7279</th>\n      <td>9996</td>\n      <td>series</td>\n      <td>Немцы</td>\n      <td>Nemtsy</td>\n      <td>2021.0</td>\n      <td>драмы</td>\n      <td>Россия</td>\n      <td>NaN</td>\n      <td>16.0</td>\n      <td>NaN</td>\n      <td>Стас Иванов</td>\n      <td>Евгений Коряковский, Анна Завтур, Антон Василь...</td>\n      <td>На журналиста-оппозиционера Антона Эбергарда с...</td>\n      <td>немцы, немец, про немцев, по мотивам романа, п...</td>\n      <td>[драмы]</td>\n    </tr>\n    <tr>\n      <th>12050</th>\n      <td>3734</td>\n      <td>film</td>\n      <td>Прабабушка легкого поведения</td>\n      <td>Prababushka lyogkogo povedeniya</td>\n      <td>2021.0</td>\n      <td>комедии</td>\n      <td>Россия</td>\n      <td>NaN</td>\n      <td>16.0</td>\n      <td>NaN</td>\n      <td>Марюс Вайсберг</td>\n      <td>Александр Ревва, Глюкоза, Дмитрий Нагиев, Миха...</td>\n      <td>1980 год, вся страна следит за событиями моско...</td>\n      <td>, 2021, россия, прабабушка, легкого, поведения</td>\n      <td>[комедии]</td>\n    </tr>\n    <tr>\n      <th>13615</th>\n      <td>2657</td>\n      <td>series</td>\n      <td>Подслушано</td>\n      <td>Podslushano</td>\n      <td>2021.0</td>\n      <td>драмы, триллеры</td>\n      <td>Россия</td>\n      <td>NaN</td>\n      <td>16.0</td>\n      <td>NaN</td>\n      <td>Илья Куликов</td>\n      <td>Александр Hовиков, Валентина Ляпина, Никита Па...</td>\n      <td>Смотри:- как кино- как сериалПодростковый псих...</td>\n      <td>подслушано, подслушано в контакте, социальная ...</td>\n      <td>[драмы, триллеры]</td>\n    </tr>\n  </tbody>\n</table>\n</div>"
     },
     "execution_count": 73,
     "metadata": {},
     "output_type": "execute_result"
    }
   ],
   "source": [
    "recos = model.recommend(fake_user_id_series, 10)\n",
    "\n",
    "acquired_items = items[items[\"item_id\"].isin(recos)]\n",
    "acquired_items\n"
   ],
   "metadata": {
    "collapsed": false
   }
  }
 ],
 "metadata": {
  "kernelspec": {
   "display_name": "Python 3",
   "language": "python",
   "name": "python3"
  },
  "language_info": {
   "codemirror_mode": {
    "name": "ipython",
    "version": 2
   },
   "file_extension": ".py",
   "mimetype": "text/x-python",
   "name": "python",
   "nbconvert_exporter": "python",
   "pygments_lexer": "ipython2",
   "version": "2.7.6"
  }
 },
 "nbformat": 4,
 "nbformat_minor": 0
}
