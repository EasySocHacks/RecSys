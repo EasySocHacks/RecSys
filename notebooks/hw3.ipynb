{
 "cells": [
  {
   "cell_type": "code",
   "execution_count": 1,
   "metadata": {
    "pycharm": {
     "name": "#%%\n"
    }
   },
   "outputs": [],
   "source": [
    "import pandas as pd\n",
    "from pprint import pprint\n",
    "from implicit.nearest_neighbours import CosineRecommender, TFIDFRecommender\n",
    "from itertools import islice\n",
    "import warnings\n",
    "warnings.filterwarnings(\"ignore\")\n",
    "\n",
    "from rectools import Columns\n",
    "from rectools.dataset import Interactions, IdMap\n",
    "\n",
    "from service.rec_models.userknn import UserKnn\n",
    "\n",
    "pd.set_option('display.max_columns', None)\n",
    "pd.set_option('display.max_colwidth', 200)"
   ]
  },
  {
   "cell_type": "markdown",
   "metadata": {
    "pycharm": {
     "name": "#%% md\n"
    }
   },
   "source": [
    "# EDA"
   ]
  },
  {
   "cell_type": "code",
   "execution_count": 11,
   "metadata": {
    "pycharm": {
     "name": "#%%\n"
    }
   },
   "outputs": [],
   "source": [
    "interactions = pd.read_csv('../datasets/kion_train/interactions.csv')\n",
    "users = pd.read_csv('../datasets/kion_train/users.csv')\n",
    "items = pd.read_csv('../datasets/kion_train/items.csv')"
   ]
  },
  {
   "cell_type": "code",
   "execution_count": 12,
   "metadata": {
    "pycharm": {
     "name": "#%%\n"
    }
   },
   "outputs": [],
   "source": [
    "# rename columns, convert timestamp\n",
    "interactions.rename(columns={'last_watch_dt': Columns.Datetime,\n",
    "                            'total_dur': Columns.Weight},\n",
    "                    inplace=True)\n",
    "\n",
    "interactions['datetime'] = pd.to_datetime(interactions['datetime'])"
   ]
  },
  {
   "cell_type": "markdown",
   "metadata": {
    "pycharm": {
     "name": "#%% md\n"
    }
   },
   "source": [
    "## interactions"
   ]
  },
  {
   "cell_type": "code",
   "execution_count": 6,
   "metadata": {
    "pycharm": {
     "name": "#%%\n"
    }
   },
   "outputs": [
    {
     "data": {
      "text/plain": "         user_id  item_id   datetime  weight  watched_pct\n0         176549     9506 2021-05-11    4250         72.0\n1         699317     1659 2021-05-29    8317        100.0\n2         656683     7107 2021-05-09      10          0.0\n3         864613     7638 2021-07-05   14483        100.0\n4         964868     9506 2021-04-30    6725        100.0\n5476246   648596    12225 2021-08-13      76          0.0\n5476247   546862     9673 2021-04-13    2308         49.0\n5476248   697262    15297 2021-08-20   18307         63.0\n5476249   384202    16197 2021-04-19    6203        100.0\n5476250   319709     4436 2021-08-15    3921         45.0",
      "text/html": "<div>\n<style scoped>\n    .dataframe tbody tr th:only-of-type {\n        vertical-align: middle;\n    }\n\n    .dataframe tbody tr th {\n        vertical-align: top;\n    }\n\n    .dataframe thead th {\n        text-align: right;\n    }\n</style>\n<table border=\"1\" class=\"dataframe\">\n  <thead>\n    <tr style=\"text-align: right;\">\n      <th></th>\n      <th>user_id</th>\n      <th>item_id</th>\n      <th>datetime</th>\n      <th>weight</th>\n      <th>watched_pct</th>\n    </tr>\n  </thead>\n  <tbody>\n    <tr>\n      <th>0</th>\n      <td>176549</td>\n      <td>9506</td>\n      <td>2021-05-11</td>\n      <td>4250</td>\n      <td>72.0</td>\n    </tr>\n    <tr>\n      <th>1</th>\n      <td>699317</td>\n      <td>1659</td>\n      <td>2021-05-29</td>\n      <td>8317</td>\n      <td>100.0</td>\n    </tr>\n    <tr>\n      <th>2</th>\n      <td>656683</td>\n      <td>7107</td>\n      <td>2021-05-09</td>\n      <td>10</td>\n      <td>0.0</td>\n    </tr>\n    <tr>\n      <th>3</th>\n      <td>864613</td>\n      <td>7638</td>\n      <td>2021-07-05</td>\n      <td>14483</td>\n      <td>100.0</td>\n    </tr>\n    <tr>\n      <th>4</th>\n      <td>964868</td>\n      <td>9506</td>\n      <td>2021-04-30</td>\n      <td>6725</td>\n      <td>100.0</td>\n    </tr>\n    <tr>\n      <th>5476246</th>\n      <td>648596</td>\n      <td>12225</td>\n      <td>2021-08-13</td>\n      <td>76</td>\n      <td>0.0</td>\n    </tr>\n    <tr>\n      <th>5476247</th>\n      <td>546862</td>\n      <td>9673</td>\n      <td>2021-04-13</td>\n      <td>2308</td>\n      <td>49.0</td>\n    </tr>\n    <tr>\n      <th>5476248</th>\n      <td>697262</td>\n      <td>15297</td>\n      <td>2021-08-20</td>\n      <td>18307</td>\n      <td>63.0</td>\n    </tr>\n    <tr>\n      <th>5476249</th>\n      <td>384202</td>\n      <td>16197</td>\n      <td>2021-04-19</td>\n      <td>6203</td>\n      <td>100.0</td>\n    </tr>\n    <tr>\n      <th>5476250</th>\n      <td>319709</td>\n      <td>4436</td>\n      <td>2021-08-15</td>\n      <td>3921</td>\n      <td>45.0</td>\n    </tr>\n  </tbody>\n</table>\n</div>"
     },
     "execution_count": 6,
     "metadata": {},
     "output_type": "execute_result"
    }
   ],
   "source": [
    "pd.concat([interactions.head(), interactions.tail()])"
   ]
  },
  {
   "cell_type": "code",
   "execution_count": 7,
   "metadata": {
    "pycharm": {
     "name": "#%%\n"
    }
   },
   "outputs": [
    {
     "name": "stdout",
     "output_type": "stream",
     "text": [
      "Interactions dataframe shape: (5476251, 5)\n",
      "Unique users in interactions: 962_179\n",
      "Unique items in interactions: 15_706\n"
     ]
    }
   ],
   "source": [
    "print(f\"Interactions dataframe shape: {interactions.shape}\")\n",
    "print(f\"Unique users in interactions: {interactions['user_id'].nunique():_}\")\n",
    "print(f\"Unique items in interactions: {interactions['item_id'].nunique():_}\")"
   ]
  },
  {
   "cell_type": "code",
   "execution_count": 8,
   "metadata": {
    "pycharm": {
     "name": "#%%\n"
    }
   },
   "outputs": [
    {
     "name": "stdout",
     "output_type": "stream",
     "text": [
      "min date in interactions: 2021-03-13 00:00:00\n",
      "max date in interactions: 2021-08-22 00:00:00\n"
     ]
    }
   ],
   "source": [
    "max_date = interactions['datetime'].max()\n",
    "min_date = interactions['datetime'].min()\n",
    "\n",
    "print(f\"min date in interactions: {min_date}\")\n",
    "print(f\"max date in interactions: {max_date}\")"
   ]
  },
  {
   "cell_type": "code",
   "execution_count": 9,
   "metadata": {
    "pycharm": {
     "name": "#%%\n"
    }
   },
   "outputs": [
    {
     "name": "stdout",
     "output_type": "stream",
     "text": [
      "<class 'pandas.core.frame.DataFrame'>\n",
      "RangeIndex: 5476251 entries, 0 to 5476250\n",
      "Data columns (total 5 columns):\n",
      " #   Column       Dtype         \n",
      "---  ------       -----         \n",
      " 0   user_id      int64         \n",
      " 1   item_id      int64         \n",
      " 2   datetime     datetime64[ns]\n",
      " 3   weight       int64         \n",
      " 4   watched_pct  float64       \n",
      "dtypes: datetime64[ns](1), float64(1), int64(3)\n",
      "memory usage: 208.9 MB\n"
     ]
    }
   ],
   "source": [
    "interactions.info()"
   ]
  },
  {
   "cell_type": "markdown",
   "metadata": {
    "pycharm": {
     "name": "#%% md\n"
    }
   },
   "source": [
    "## users"
   ]
  },
  {
   "cell_type": "code",
   "execution_count": 10,
   "metadata": {
    "pycharm": {
     "name": "#%%\n"
    }
   },
   "outputs": [
    {
     "data": {
      "text/plain": "        user_id         age        income  sex  kids_flg\n0        973171   age_25_34  income_60_90    М         1\n1        962099   age_18_24  income_20_40    М         0\n2       1047345   age_45_54  income_40_60    Ж         0\n3        721985   age_45_54  income_20_40    Ж         0\n4        704055   age_35_44  income_60_90    Ж         0\n840192   339025  age_65_inf   income_0_20    Ж         0\n840193   983617   age_18_24  income_20_40    Ж         1\n840194   251008         NaN           NaN  NaN         0\n840195   590706         NaN           NaN    Ж         0\n840196   166555  age_65_inf  income_20_40    Ж         0",
      "text/html": "<div>\n<style scoped>\n    .dataframe tbody tr th:only-of-type {\n        vertical-align: middle;\n    }\n\n    .dataframe tbody tr th {\n        vertical-align: top;\n    }\n\n    .dataframe thead th {\n        text-align: right;\n    }\n</style>\n<table border=\"1\" class=\"dataframe\">\n  <thead>\n    <tr style=\"text-align: right;\">\n      <th></th>\n      <th>user_id</th>\n      <th>age</th>\n      <th>income</th>\n      <th>sex</th>\n      <th>kids_flg</th>\n    </tr>\n  </thead>\n  <tbody>\n    <tr>\n      <th>0</th>\n      <td>973171</td>\n      <td>age_25_34</td>\n      <td>income_60_90</td>\n      <td>М</td>\n      <td>1</td>\n    </tr>\n    <tr>\n      <th>1</th>\n      <td>962099</td>\n      <td>age_18_24</td>\n      <td>income_20_40</td>\n      <td>М</td>\n      <td>0</td>\n    </tr>\n    <tr>\n      <th>2</th>\n      <td>1047345</td>\n      <td>age_45_54</td>\n      <td>income_40_60</td>\n      <td>Ж</td>\n      <td>0</td>\n    </tr>\n    <tr>\n      <th>3</th>\n      <td>721985</td>\n      <td>age_45_54</td>\n      <td>income_20_40</td>\n      <td>Ж</td>\n      <td>0</td>\n    </tr>\n    <tr>\n      <th>4</th>\n      <td>704055</td>\n      <td>age_35_44</td>\n      <td>income_60_90</td>\n      <td>Ж</td>\n      <td>0</td>\n    </tr>\n    <tr>\n      <th>840192</th>\n      <td>339025</td>\n      <td>age_65_inf</td>\n      <td>income_0_20</td>\n      <td>Ж</td>\n      <td>0</td>\n    </tr>\n    <tr>\n      <th>840193</th>\n      <td>983617</td>\n      <td>age_18_24</td>\n      <td>income_20_40</td>\n      <td>Ж</td>\n      <td>1</td>\n    </tr>\n    <tr>\n      <th>840194</th>\n      <td>251008</td>\n      <td>NaN</td>\n      <td>NaN</td>\n      <td>NaN</td>\n      <td>0</td>\n    </tr>\n    <tr>\n      <th>840195</th>\n      <td>590706</td>\n      <td>NaN</td>\n      <td>NaN</td>\n      <td>Ж</td>\n      <td>0</td>\n    </tr>\n    <tr>\n      <th>840196</th>\n      <td>166555</td>\n      <td>age_65_inf</td>\n      <td>income_20_40</td>\n      <td>Ж</td>\n      <td>0</td>\n    </tr>\n  </tbody>\n</table>\n</div>"
     },
     "execution_count": 10,
     "metadata": {},
     "output_type": "execute_result"
    }
   ],
   "source": [
    "pd.concat([users.head(), users.tail()])"
   ]
  },
  {
   "cell_type": "code",
   "execution_count": 11,
   "metadata": {
    "pycharm": {
     "name": "#%%\n"
    }
   },
   "outputs": [
    {
     "name": "stdout",
     "output_type": "stream",
     "text": [
      "Users dataframe shape (840197, 5)\n",
      "Unique users: 840_197\n"
     ]
    }
   ],
   "source": [
    "print(f\"Users dataframe shape {users.shape}\")\n",
    "print(f\"Unique users: {users['user_id'].nunique():_}\")"
   ]
  },
  {
   "cell_type": "markdown",
   "metadata": {
    "pycharm": {
     "name": "#%% md\n"
    }
   },
   "source": [
    "## items"
   ]
  },
  {
   "cell_type": "code",
   "execution_count": 12,
   "metadata": {
    "pycharm": {
     "name": "#%%\n"
    }
   },
   "outputs": [
    {
     "data": {
      "text/plain": "       item_id content_type           title  release_year\n0        10711         film  Поговори с ней        2002.0\n1         2508         film     Голые перцы        2014.0\n15961     4538       series    Среди камней        2019.0\n15962     3206       series            Гоша        2019.0",
      "text/html": "<div>\n<style scoped>\n    .dataframe tbody tr th:only-of-type {\n        vertical-align: middle;\n    }\n\n    .dataframe tbody tr th {\n        vertical-align: top;\n    }\n\n    .dataframe thead th {\n        text-align: right;\n    }\n</style>\n<table border=\"1\" class=\"dataframe\">\n  <thead>\n    <tr style=\"text-align: right;\">\n      <th></th>\n      <th>item_id</th>\n      <th>content_type</th>\n      <th>title</th>\n      <th>release_year</th>\n    </tr>\n  </thead>\n  <tbody>\n    <tr>\n      <th>0</th>\n      <td>10711</td>\n      <td>film</td>\n      <td>Поговори с ней</td>\n      <td>2002.0</td>\n    </tr>\n    <tr>\n      <th>1</th>\n      <td>2508</td>\n      <td>film</td>\n      <td>Голые перцы</td>\n      <td>2014.0</td>\n    </tr>\n    <tr>\n      <th>15961</th>\n      <td>4538</td>\n      <td>series</td>\n      <td>Среди камней</td>\n      <td>2019.0</td>\n    </tr>\n    <tr>\n      <th>15962</th>\n      <td>3206</td>\n      <td>series</td>\n      <td>Гоша</td>\n      <td>2019.0</td>\n    </tr>\n  </tbody>\n</table>\n</div>"
     },
     "execution_count": 12,
     "metadata": {},
     "output_type": "execute_result"
    }
   ],
   "source": [
    "pd.concat([items.head(2), items.tail(2)])[[\"item_id\", \"content_type\", \"title\", \"release_year\"]]"
   ]
  },
  {
   "cell_type": "code",
   "execution_count": 13,
   "metadata": {
    "pycharm": {
     "name": "#%%\n"
    }
   },
   "outputs": [
    {
     "name": "stdout",
     "output_type": "stream",
     "text": [
      "Items dataframe shape (15963, 14)\n",
      "Unique item_id: 15_963\n"
     ]
    }
   ],
   "source": [
    "print(f\"Items dataframe shape {items.shape}\")\n",
    "print(f\"Unique item_id: {items['item_id'].nunique():_}\")"
   ]
  },
  {
   "cell_type": "markdown",
   "source": [
    "## IdMap"
   ],
   "metadata": {
    "collapsed": false,
    "pycharm": {
     "name": "#%% md\n"
    }
   }
  },
  {
   "cell_type": "code",
   "execution_count": 13,
   "outputs": [],
   "source": [
    "userMap = IdMap.from_values(interactions[Columns.User])\n",
    "itemMap = IdMap.from_values(interactions[Columns.Item])"
   ],
   "metadata": {
    "collapsed": false,
    "pycharm": {
     "name": "#%%\n"
    }
   }
  },
  {
   "cell_type": "markdown",
   "metadata": {
    "pycharm": {
     "name": "#%% md\n"
    }
   },
   "source": [
    "# userkNN model CV\n",
    "\n",
    "Compare implicit `CosineRecommender` and `TFIDFRecommender` as an ItemKnn base"
   ]
  },
  {
   "cell_type": "code",
   "execution_count": 6,
   "metadata": {
    "pycharm": {
     "name": "#%%\n"
    }
   },
   "outputs": [
    {
     "name": "stdout",
     "output_type": "stream",
     "text": [
      "Start date and last date of the test fold: (Timestamp('2021-06-27 00:00:00'), Timestamp('2021-08-22 00:00:00'))\n"
     ]
    }
   ],
   "source": [
    "# setting for cv\n",
    "n_folds = 7  # due to fit time only the first 2 folds will be used\n",
    "unit = \"W\"\n",
    "n_units = 1\n",
    "\n",
    "last_date = interactions[Columns.Datetime].max().normalize()\n",
    "start_date = last_date - pd.Timedelta(n_folds * n_units + 1, unit=unit)\n",
    "print(f\"Start date and last date of the test fold: {start_date, last_date}\")"
   ]
  },
  {
   "cell_type": "markdown",
   "metadata": {},
   "source": [
    "### Test fold borders"
   ]
  },
  {
   "cell_type": "code",
   "execution_count": 15,
   "metadata": {
    "pycharm": {
     "name": "#%%\n"
    }
   },
   "outputs": [
    {
     "name": "stdout",
     "output_type": "stream",
     "text": [
      "start_date: 2021-06-27 00:00:00\n",
      "last_date: 2021-08-22 00:00:00\n",
      "periods: 8\n",
      "freq: 1W\n",
      "\n",
      "Test fold borders: ['2021-06-27' '2021-07-04' '2021-07-11' '2021-07-18' '2021-07-25'\n",
      " '2021-08-01' '2021-08-08' '2021-08-15']\n",
      "Real number of folds: 7\n"
     ]
    }
   ],
   "source": [
    "from rectools.model_selection import TimeRangeSplitter\n",
    "\n",
    "periods = n_folds + 1\n",
    "freq = f\"{n_units}{unit}\"\n",
    "print(\n",
    "    f\"start_date: {start_date}\\n\"\n",
    "    f\"last_date: {last_date}\\n\"\n",
    "    f\"periods: {periods}\\n\"\n",
    "    f\"freq: {freq}\\n\"\n",
    ")\n",
    "\n",
    "date_range = pd.date_range(start=start_date, periods=periods, freq=freq, tz=last_date.tz)\n",
    "print(f\"Test fold borders: {date_range.values.astype('datetime64[D]')}\")\n",
    "\n",
    "# generator of folds\n",
    "cv = TimeRangeSplitter(\n",
    "    date_range=date_range,\n",
    "    filter_already_seen=True,\n",
    "    filter_cold_items=True,\n",
    "    filter_cold_users=True,\n",
    ")\n",
    "\n",
    "rec_interactions = Interactions.from_raw(interactions, userMap, itemMap)\n",
    "print(f\"Real number of folds: {cv.get_n_splits(rec_interactions)}\")"
   ]
  },
  {
   "cell_type": "markdown",
   "source": [
    "### Validation parameters and metrics"
   ],
   "metadata": {
    "collapsed": false,
    "pycharm": {
     "name": "#%% md\n"
    }
   }
  },
  {
   "cell_type": "code",
   "execution_count": 13,
   "metadata": {
    "pycharm": {
     "name": "#%%\n"
    }
   },
   "outputs": [],
   "source": [
    "from rectools.metrics import Precision, Recall, MeanInvUserFreq, Serendipity, MAP, calc_metrics\n",
    "\n",
    "metrics = {\n",
    "    \"prec@10\": Precision(k=10),\n",
    "    \"recall@10\": Recall(k=10),\n",
    "    \"novelty\": MeanInvUserFreq(k=10),\n",
    "    \"serendipity\": Serendipity(k=10),\n",
    "    \"MAP@10\": MAP(k=10),\n",
    "}\n",
    "\n",
    "# few simple models to compare\n",
    "models = {\n",
    "    \"cosine_itemknn\": CosineRecommender(),\n",
    "    \"tfidf_itemknn\": TFIDFRecommender(),\n",
    "}\n",
    "\n",
    "user_count = [50, 80]\n",
    "\n",
    "popularities = [\"n_users\", \"n_interactions\", \"mean_weight\", \"sum_weight\"]"
   ]
  },
  {
   "cell_type": "markdown",
   "metadata": {},
   "source": [
    "## Model training by fold\n",
    "\n",
    "`Training UserKNN model with different parameters`"
   ]
  },
  {
   "cell_type": "code",
   "execution_count": 18,
   "metadata": {
    "pycharm": {
     "name": "#%%\n"
    }
   },
   "outputs": [
    {
     "name": "stdout",
     "output_type": "stream",
     "text": [
      "\n",
      "==================== Fold 0\n",
      "{'End date': Timestamp('2021-07-04 00:00:00', freq='W-SUN'),\n",
      " 'Start date': Timestamp('2021-06-27 00:00:00', freq='W-SUN'),\n",
      " 'Test': 237414,\n",
      " 'Test items': 5947,\n",
      " 'Test users': 98930,\n",
      " 'Train': 2533586,\n",
      " 'Train items': 14092,\n",
      " 'Train users': 536802}\n",
      "\n",
      "\n",
      "\n",
      "\n",
      "\n",
      "\n",
      "\n",
      "\n",
      "\n",
      "\n",
      "\n",
      "\n",
      "\n",
      "\n",
      "\n",
      "\n",
      "\n",
      "\n",
      "\n",
      "\n",
      "\n",
      "\n",
      "\n",
      "\n",
      "\n",
      "==================== Fold 1\n",
      "{'End date': Timestamp('2021-07-11 00:00:00', freq='W-SUN'),\n",
      " 'Start date': Timestamp('2021-07-04 00:00:00', freq='W-SUN'),\n",
      " 'Test': 211146,\n",
      " 'Test items': 6209,\n",
      " 'Test users': 86167,\n",
      " 'Train': 2886800,\n",
      " 'Train items': 14357,\n",
      " 'Train users': 595902}\n",
      "\n",
      "\n",
      "\n",
      "\n",
      "\n",
      "\n",
      "\n",
      "\n",
      "\n",
      "\n",
      "\n",
      "\n",
      "\n",
      "\n",
      "\n",
      "\n",
      "\n",
      "\n",
      "\n",
      "\n",
      "\n",
      "\n",
      "\n",
      "\n",
      "CPU times: total: 3d 1h 17min 17s\n",
      "Wall time: 7h 33min 11s\n"
     ]
    },
    {
     "data": {
      "text/plain": "HBox(children=(FloatProgress(value=0.0, max=536802.0), HTML(value='')))",
      "application/vnd.jupyter.widget-view+json": {
       "version_major": 2,
       "version_minor": 0,
       "model_id": "4032639d597148aab0f3a18b40c0e3d9"
      }
     },
     "metadata": {},
     "output_type": "display_data"
    },
    {
     "data": {
      "text/plain": "HBox(children=(FloatProgress(value=0.0, max=536802.0), HTML(value='')))",
      "application/vnd.jupyter.widget-view+json": {
       "version_major": 2,
       "version_minor": 0,
       "model_id": "ef393c7fa90a4fcb91199ac705bc8405"
      }
     },
     "metadata": {},
     "output_type": "display_data"
    },
    {
     "data": {
      "text/plain": "HBox(children=(FloatProgress(value=0.0, max=536802.0), HTML(value='')))",
      "application/vnd.jupyter.widget-view+json": {
       "version_major": 2,
       "version_minor": 0,
       "model_id": "e3de491f50394d54920b4bdcf45f4ade"
      }
     },
     "metadata": {},
     "output_type": "display_data"
    },
    {
     "data": {
      "text/plain": "HBox(children=(FloatProgress(value=0.0, max=536802.0), HTML(value='')))",
      "application/vnd.jupyter.widget-view+json": {
       "version_major": 2,
       "version_minor": 0,
       "model_id": "fbcf013683984881a1330120f3a4669f"
      }
     },
     "metadata": {},
     "output_type": "display_data"
    },
    {
     "data": {
      "text/plain": "HBox(children=(FloatProgress(value=0.0, max=536802.0), HTML(value='')))",
      "application/vnd.jupyter.widget-view+json": {
       "version_major": 2,
       "version_minor": 0,
       "model_id": "f4c2e9a2dbf846768170908b15291019"
      }
     },
     "metadata": {},
     "output_type": "display_data"
    },
    {
     "data": {
      "text/plain": "HBox(children=(FloatProgress(value=0.0, max=536802.0), HTML(value='')))",
      "application/vnd.jupyter.widget-view+json": {
       "version_major": 2,
       "version_minor": 0,
       "model_id": "3ddb0b7df70f4be8b49a8df97c72181a"
      }
     },
     "metadata": {},
     "output_type": "display_data"
    },
    {
     "data": {
      "text/plain": "HBox(children=(FloatProgress(value=0.0, max=536802.0), HTML(value='')))",
      "application/vnd.jupyter.widget-view+json": {
       "version_major": 2,
       "version_minor": 0,
       "model_id": "f7671c7610d94ccd8bbde43b3d457748"
      }
     },
     "metadata": {},
     "output_type": "display_data"
    },
    {
     "data": {
      "text/plain": "HBox(children=(FloatProgress(value=0.0, max=536802.0), HTML(value='')))",
      "application/vnd.jupyter.widget-view+json": {
       "version_major": 2,
       "version_minor": 0,
       "model_id": "a4c2b9d38ccf401ea07d0a35563e4b5f"
      }
     },
     "metadata": {},
     "output_type": "display_data"
    },
    {
     "data": {
      "text/plain": "HBox(children=(FloatProgress(value=0.0, max=536802.0), HTML(value='')))",
      "application/vnd.jupyter.widget-view+json": {
       "version_major": 2,
       "version_minor": 0,
       "model_id": "482f37354f4444568ca2e07cc9477f94"
      }
     },
     "metadata": {},
     "output_type": "display_data"
    },
    {
     "data": {
      "text/plain": "HBox(children=(FloatProgress(value=0.0, max=536802.0), HTML(value='')))",
      "application/vnd.jupyter.widget-view+json": {
       "version_major": 2,
       "version_minor": 0,
       "model_id": "96d9c47ae5a74ef0af097d356dd7ea23"
      }
     },
     "metadata": {},
     "output_type": "display_data"
    },
    {
     "data": {
      "text/plain": "HBox(children=(FloatProgress(value=0.0, max=536802.0), HTML(value='')))",
      "application/vnd.jupyter.widget-view+json": {
       "version_major": 2,
       "version_minor": 0,
       "model_id": "511872b846a74c08a48d261ef9657878"
      }
     },
     "metadata": {},
     "output_type": "display_data"
    },
    {
     "data": {
      "text/plain": "HBox(children=(FloatProgress(value=0.0, max=536802.0), HTML(value='')))",
      "application/vnd.jupyter.widget-view+json": {
       "version_major": 2,
       "version_minor": 0,
       "model_id": "33494e673e6540b089c09e51a3ee40e2"
      }
     },
     "metadata": {},
     "output_type": "display_data"
    },
    {
     "data": {
      "text/plain": "HBox(children=(FloatProgress(value=0.0, max=536802.0), HTML(value='')))",
      "application/vnd.jupyter.widget-view+json": {
       "version_major": 2,
       "version_minor": 0,
       "model_id": "dbad17202d724e899c8f74f23540a6c1"
      }
     },
     "metadata": {},
     "output_type": "display_data"
    },
    {
     "data": {
      "text/plain": "HBox(children=(FloatProgress(value=0.0, max=536802.0), HTML(value='')))",
      "application/vnd.jupyter.widget-view+json": {
       "version_major": 2,
       "version_minor": 0,
       "model_id": "2f8b5b44461e4bcb908a0762f7c69d6a"
      }
     },
     "metadata": {},
     "output_type": "display_data"
    },
    {
     "data": {
      "text/plain": "HBox(children=(FloatProgress(value=0.0, max=536802.0), HTML(value='')))",
      "application/vnd.jupyter.widget-view+json": {
       "version_major": 2,
       "version_minor": 0,
       "model_id": "5bfebc1322de45efbc78b220a60bb795"
      }
     },
     "metadata": {},
     "output_type": "display_data"
    },
    {
     "data": {
      "text/plain": "HBox(children=(FloatProgress(value=0.0, max=536802.0), HTML(value='')))",
      "application/vnd.jupyter.widget-view+json": {
       "version_major": 2,
       "version_minor": 0,
       "model_id": "85a80965a21546538900b36aa2de56a9"
      }
     },
     "metadata": {},
     "output_type": "display_data"
    },
    {
     "data": {
      "text/plain": "HBox(children=(FloatProgress(value=0.0, max=536802.0), HTML(value='')))",
      "application/vnd.jupyter.widget-view+json": {
       "version_major": 2,
       "version_minor": 0,
       "model_id": "6586e73d2dfd4eab8b6c30e18a7cfcde"
      }
     },
     "metadata": {},
     "output_type": "display_data"
    },
    {
     "data": {
      "text/plain": "HBox(children=(FloatProgress(value=0.0, max=536802.0), HTML(value='')))",
      "application/vnd.jupyter.widget-view+json": {
       "version_major": 2,
       "version_minor": 0,
       "model_id": "2ece8a9e9d654b37a6749e363b624576"
      }
     },
     "metadata": {},
     "output_type": "display_data"
    },
    {
     "data": {
      "text/plain": "HBox(children=(FloatProgress(value=0.0, max=536802.0), HTML(value='')))",
      "application/vnd.jupyter.widget-view+json": {
       "version_major": 2,
       "version_minor": 0,
       "model_id": "41376a2d02bf4bdfb2d548ffc0380b47"
      }
     },
     "metadata": {},
     "output_type": "display_data"
    },
    {
     "data": {
      "text/plain": "HBox(children=(FloatProgress(value=0.0, max=536802.0), HTML(value='')))",
      "application/vnd.jupyter.widget-view+json": {
       "version_major": 2,
       "version_minor": 0,
       "model_id": "a045506ec7a747ef832d57c337abb6b8"
      }
     },
     "metadata": {},
     "output_type": "display_data"
    },
    {
     "data": {
      "text/plain": "HBox(children=(FloatProgress(value=0.0, max=536802.0), HTML(value='')))",
      "application/vnd.jupyter.widget-view+json": {
       "version_major": 2,
       "version_minor": 0,
       "model_id": "1582db92b100497f981815dc3fdc78a2"
      }
     },
     "metadata": {},
     "output_type": "display_data"
    },
    {
     "data": {
      "text/plain": "HBox(children=(FloatProgress(value=0.0, max=536802.0), HTML(value='')))",
      "application/vnd.jupyter.widget-view+json": {
       "version_major": 2,
       "version_minor": 0,
       "model_id": "1ba402bd96294b8d812b2d8d17b05f3f"
      }
     },
     "metadata": {},
     "output_type": "display_data"
    },
    {
     "data": {
      "text/plain": "HBox(children=(FloatProgress(value=0.0, max=536802.0), HTML(value='')))",
      "application/vnd.jupyter.widget-view+json": {
       "version_major": 2,
       "version_minor": 0,
       "model_id": "ae5ca8d853c2429d8058c7e5b4db8abb"
      }
     },
     "metadata": {},
     "output_type": "display_data"
    },
    {
     "data": {
      "text/plain": "HBox(children=(FloatProgress(value=0.0, max=536802.0), HTML(value='')))",
      "application/vnd.jupyter.widget-view+json": {
       "version_major": 2,
       "version_minor": 0,
       "model_id": "3dace04b57e04af597302fa6259d4bbc"
      }
     },
     "metadata": {},
     "output_type": "display_data"
    },
    {
     "data": {
      "text/plain": "HBox(children=(FloatProgress(value=0.0, max=595902.0), HTML(value='')))",
      "application/vnd.jupyter.widget-view+json": {
       "version_major": 2,
       "version_minor": 0,
       "model_id": "473f3c398198497e9bf6bb968275332e"
      }
     },
     "metadata": {},
     "output_type": "display_data"
    },
    {
     "data": {
      "text/plain": "HBox(children=(FloatProgress(value=0.0, max=595902.0), HTML(value='')))",
      "application/vnd.jupyter.widget-view+json": {
       "version_major": 2,
       "version_minor": 0,
       "model_id": "90fc55ab16484b2faa2e3a21bca6e289"
      }
     },
     "metadata": {},
     "output_type": "display_data"
    },
    {
     "data": {
      "text/plain": "HBox(children=(FloatProgress(value=0.0, max=595902.0), HTML(value='')))",
      "application/vnd.jupyter.widget-view+json": {
       "version_major": 2,
       "version_minor": 0,
       "model_id": "c59fe227b81a42398ea81dcab688baa6"
      }
     },
     "metadata": {},
     "output_type": "display_data"
    },
    {
     "data": {
      "text/plain": "HBox(children=(FloatProgress(value=0.0, max=595902.0), HTML(value='')))",
      "application/vnd.jupyter.widget-view+json": {
       "version_major": 2,
       "version_minor": 0,
       "model_id": "bd10616b65ce4995abe0b54734523611"
      }
     },
     "metadata": {},
     "output_type": "display_data"
    },
    {
     "data": {
      "text/plain": "HBox(children=(FloatProgress(value=0.0, max=595902.0), HTML(value='')))",
      "application/vnd.jupyter.widget-view+json": {
       "version_major": 2,
       "version_minor": 0,
       "model_id": "4a3c69a8c61e4a739434c2ade10d52ce"
      }
     },
     "metadata": {},
     "output_type": "display_data"
    },
    {
     "data": {
      "text/plain": "HBox(children=(FloatProgress(value=0.0, max=595902.0), HTML(value='')))",
      "application/vnd.jupyter.widget-view+json": {
       "version_major": 2,
       "version_minor": 0,
       "model_id": "3326a01c43c74cf38042263980e19207"
      }
     },
     "metadata": {},
     "output_type": "display_data"
    },
    {
     "data": {
      "text/plain": "HBox(children=(FloatProgress(value=0.0, max=595902.0), HTML(value='')))",
      "application/vnd.jupyter.widget-view+json": {
       "version_major": 2,
       "version_minor": 0,
       "model_id": "cee91c5d6f8e4e91a60d12162884e57a"
      }
     },
     "metadata": {},
     "output_type": "display_data"
    },
    {
     "data": {
      "text/plain": "HBox(children=(FloatProgress(value=0.0, max=595902.0), HTML(value='')))",
      "application/vnd.jupyter.widget-view+json": {
       "version_major": 2,
       "version_minor": 0,
       "model_id": "8c2bd19b787747f2ba127579ae8bfa80"
      }
     },
     "metadata": {},
     "output_type": "display_data"
    },
    {
     "data": {
      "text/plain": "HBox(children=(FloatProgress(value=0.0, max=595902.0), HTML(value='')))",
      "application/vnd.jupyter.widget-view+json": {
       "version_major": 2,
       "version_minor": 0,
       "model_id": "9de2def42a1a4753bdb5dc047c8c64b1"
      }
     },
     "metadata": {},
     "output_type": "display_data"
    },
    {
     "data": {
      "text/plain": "HBox(children=(FloatProgress(value=0.0, max=595902.0), HTML(value='')))",
      "application/vnd.jupyter.widget-view+json": {
       "version_major": 2,
       "version_minor": 0,
       "model_id": "d5c30c0c08a14a28b65172f506bada22"
      }
     },
     "metadata": {},
     "output_type": "display_data"
    },
    {
     "data": {
      "text/plain": "HBox(children=(FloatProgress(value=0.0, max=595902.0), HTML(value='')))",
      "application/vnd.jupyter.widget-view+json": {
       "version_major": 2,
       "version_minor": 0,
       "model_id": "87d8fb1918d743438cbe34d4eb16c2c1"
      }
     },
     "metadata": {},
     "output_type": "display_data"
    },
    {
     "data": {
      "text/plain": "HBox(children=(FloatProgress(value=0.0, max=595902.0), HTML(value='')))",
      "application/vnd.jupyter.widget-view+json": {
       "version_major": 2,
       "version_minor": 0,
       "model_id": "ec087cf35baf45c8b5440944ff20c024"
      }
     },
     "metadata": {},
     "output_type": "display_data"
    },
    {
     "data": {
      "text/plain": "HBox(children=(FloatProgress(value=0.0, max=595902.0), HTML(value='')))",
      "application/vnd.jupyter.widget-view+json": {
       "version_major": 2,
       "version_minor": 0,
       "model_id": "87d3d93c561f4308bcc86ccdad7ff7ce"
      }
     },
     "metadata": {},
     "output_type": "display_data"
    },
    {
     "data": {
      "text/plain": "HBox(children=(FloatProgress(value=0.0, max=595902.0), HTML(value='')))",
      "application/vnd.jupyter.widget-view+json": {
       "version_major": 2,
       "version_minor": 0,
       "model_id": "a837f297222d49fbbfbab44cc0695bef"
      }
     },
     "metadata": {},
     "output_type": "display_data"
    },
    {
     "data": {
      "text/plain": "HBox(children=(FloatProgress(value=0.0, max=595902.0), HTML(value='')))",
      "application/vnd.jupyter.widget-view+json": {
       "version_major": 2,
       "version_minor": 0,
       "model_id": "afd3edc6adec4037a063820af6518edf"
      }
     },
     "metadata": {},
     "output_type": "display_data"
    },
    {
     "data": {
      "text/plain": "HBox(children=(FloatProgress(value=0.0, max=595902.0), HTML(value='')))",
      "application/vnd.jupyter.widget-view+json": {
       "version_major": 2,
       "version_minor": 0,
       "model_id": "d93ae41982e5427aab48e1790e293c33"
      }
     },
     "metadata": {},
     "output_type": "display_data"
    },
    {
     "data": {
      "text/plain": "HBox(children=(FloatProgress(value=0.0, max=595902.0), HTML(value='')))",
      "application/vnd.jupyter.widget-view+json": {
       "version_major": 2,
       "version_minor": 0,
       "model_id": "f40e2bf4d9c3489ab2d22885666ec389"
      }
     },
     "metadata": {},
     "output_type": "display_data"
    },
    {
     "data": {
      "text/plain": "HBox(children=(FloatProgress(value=0.0, max=595902.0), HTML(value='')))",
      "application/vnd.jupyter.widget-view+json": {
       "version_major": 2,
       "version_minor": 0,
       "model_id": "d4f09bc1625b41aaa0cc213571aea8c1"
      }
     },
     "metadata": {},
     "output_type": "display_data"
    },
    {
     "data": {
      "text/plain": "HBox(children=(FloatProgress(value=0.0, max=595902.0), HTML(value='')))",
      "application/vnd.jupyter.widget-view+json": {
       "version_major": 2,
       "version_minor": 0,
       "model_id": "0beafc1eaf394088939fcc5ee763dbbe"
      }
     },
     "metadata": {},
     "output_type": "display_data"
    },
    {
     "data": {
      "text/plain": "HBox(children=(FloatProgress(value=0.0, max=595902.0), HTML(value='')))",
      "application/vnd.jupyter.widget-view+json": {
       "version_major": 2,
       "version_minor": 0,
       "model_id": "ab87e7244336497d9a4fddc738540392"
      }
     },
     "metadata": {},
     "output_type": "display_data"
    },
    {
     "data": {
      "text/plain": "HBox(children=(FloatProgress(value=0.0, max=595902.0), HTML(value='')))",
      "application/vnd.jupyter.widget-view+json": {
       "version_major": 2,
       "version_minor": 0,
       "model_id": "6c235c0c52604b6782a3698619c52734"
      }
     },
     "metadata": {},
     "output_type": "display_data"
    },
    {
     "data": {
      "text/plain": "HBox(children=(FloatProgress(value=0.0, max=595902.0), HTML(value='')))",
      "application/vnd.jupyter.widget-view+json": {
       "version_major": 2,
       "version_minor": 0,
       "model_id": "707cb344c44a4b61bc7f5dbf67374424"
      }
     },
     "metadata": {},
     "output_type": "display_data"
    },
    {
     "data": {
      "text/plain": "HBox(children=(FloatProgress(value=0.0, max=595902.0), HTML(value='')))",
      "application/vnd.jupyter.widget-view+json": {
       "version_major": 2,
       "version_minor": 0,
       "model_id": "433f7cdbe1934c2f9712057bb50933c1"
      }
     },
     "metadata": {},
     "output_type": "display_data"
    },
    {
     "data": {
      "text/plain": "HBox(children=(FloatProgress(value=0.0, max=595902.0), HTML(value='')))",
      "application/vnd.jupyter.widget-view+json": {
       "version_major": 2,
       "version_minor": 0,
       "model_id": "e7902d242684464abb57201ba3ad1a25"
      }
     },
     "metadata": {},
     "output_type": "display_data"
    }
   ],
   "source": [
    "%%time\n",
    "\n",
    "results = []\n",
    "\n",
    "fold_iterator = islice(cv.split(rec_interactions, collect_fold_stats=True), 2)\n",
    "\n",
    "for i_fold, (train_ids, test_ids, fold_info) in enumerate(fold_iterator):\n",
    "    print(f\"\\n==================== Fold {i_fold}\")\n",
    "    pprint(fold_info)\n",
    "\n",
    "    df_train = rec_interactions.df.iloc[train_ids].copy()\n",
    "    df_test = rec_interactions.df.iloc[test_ids].copy()\n",
    "\n",
    "    catalog = df_train[Columns.Item].unique()\n",
    "\n",
    "    for model_name, model in models.items():\n",
    "        for N_users in user_count:\n",
    "            for popularity in popularities:\n",
    "                userknn_model = UserKnn(model, popularity=popularity, N_users=N_users)\n",
    "                userknn_model.fit(df_train, False)\n",
    "\n",
    "                recos = userknn_model.recommend(df_test)\n",
    "\n",
    "                metric_values = calc_metrics(\n",
    "                    metrics,\n",
    "                    reco=recos,\n",
    "                    interactions=df_test,\n",
    "                    prev_interactions=df_train,\n",
    "                    catalog=catalog,\n",
    "                )\n",
    "\n",
    "                fold = {\"fold\": i_fold,\n",
    "                        \"model\": model_name,\n",
    "                        \"N_users\": N_users,\n",
    "                        \"popularity\": popularity}\n",
    "                fold.update(metric_values)\n",
    "                results.append(fold)\n"
   ]
  },
  {
   "cell_type": "markdown",
   "metadata": {
    "pycharm": {
     "name": "#%% md\n"
    }
   },
   "source": [
    "# 👌 Metrics"
   ]
  },
  {
   "cell_type": "markdown",
   "metadata": {},
   "source": [
    "## Metric description\n",
    "- ### <a href=\"https://rectools.readthedocs.io/en/latest/api/rectools.metrics.novelty.MeanInvUserFreq.html#rectools.metrics.novelty.MeanInvUserFreq\"> Mean Inverse User Frequency (novelty)</a>\n",
    "\n",
    "- ### <a href=\"https://rectools.readthedocs.io/en/latest/api/rectools.metrics.serendipity.Serendipity.html\"> Serendipity = novelty and relevance</a>"
   ]
  },
  {
   "cell_type": "code",
   "execution_count": 10,
   "metadata": {
    "pycharm": {
     "name": "#%%\n"
    }
   },
   "outputs": [],
   "source": [
    "df_metrics = pd.DataFrame(results)\n",
    "\n",
    "df_metrics.to_pickle(\"df_metrics.pickle\")"
   ]
  },
  {
   "cell_type": "markdown",
   "metadata": {
    "pycharm": {
     "name": "#%% md\n"
    }
   },
   "source": [
    "## Metrics mean by fold\n",
    "`We can compare two models`"
   ]
  },
  {
   "cell_type": "code",
   "execution_count": 14,
   "metadata": {
    "pycharm": {
     "name": "#%%\n"
    }
   },
   "outputs": [
    {
     "data": {
      "text/plain": "                                        prec@10  recall@10    novelty  \\\nmodel          N_users popularity                                       \ncosine_itemknn 50      mean_weight     0.005875   0.032338  11.891396   \n                       n_interactions  0.039523   0.240064   6.313828   \n                       n_users         0.039523   0.240064   6.313828   \n                       sum_weight      0.034870   0.215191   6.628110   \n               80      mean_weight     0.005875   0.032338  11.891396   \n                       n_interactions  0.039523   0.240064   6.313828   \n                       n_users         0.039523   0.240064   6.313828   \n                       sum_weight      0.034870   0.215191   6.628110   \ntfidf_itemknn  50      mean_weight     0.009276   0.052973  11.775528   \n                       n_interactions  0.041433   0.242970   6.518878   \n                       n_users         0.041433   0.242970   6.518878   \n                       sum_weight      0.036995   0.219179   6.817797   \n               80      mean_weight     0.009276   0.052973  11.775528   \n                       n_interactions  0.041433   0.242970   6.518878   \n                       n_users         0.041433   0.242970   6.518878   \n                       sum_weight      0.036995   0.219179   6.817797   \n\n                                       serendipity    MAP@10  \nmodel          N_users popularity                             \ncosine_itemknn 50      mean_weight        0.000038  0.005730  \n                       n_interactions     0.000038  0.074456  \n                       n_users            0.000038  0.074456  \n                       sum_weight         0.000041  0.073966  \n               80      mean_weight        0.000038  0.005730  \n                       n_interactions     0.000038  0.074456  \n                       n_users            0.000038  0.074456  \n                       sum_weight         0.000041  0.073966  \ntfidf_itemknn  50      mean_weight        0.000039  0.009889  \n                       n_interactions     0.000040  0.076768  \n                       n_users            0.000040  0.076768  \n                       sum_weight         0.000042  0.076404  \n               80      mean_weight        0.000039  0.009889  \n                       n_interactions     0.000040  0.076768  \n                       n_users            0.000040  0.076768  \n                       sum_weight         0.000042  0.076404  ",
      "text/html": "<div>\n<style scoped>\n    .dataframe tbody tr th:only-of-type {\n        vertical-align: middle;\n    }\n\n    .dataframe tbody tr th {\n        vertical-align: top;\n    }\n\n    .dataframe thead th {\n        text-align: right;\n    }\n</style>\n<table border=\"1\" class=\"dataframe\">\n  <thead>\n    <tr style=\"text-align: right;\">\n      <th></th>\n      <th></th>\n      <th></th>\n      <th>prec@10</th>\n      <th>recall@10</th>\n      <th>novelty</th>\n      <th>serendipity</th>\n      <th>MAP@10</th>\n    </tr>\n    <tr>\n      <th>model</th>\n      <th>N_users</th>\n      <th>popularity</th>\n      <th></th>\n      <th></th>\n      <th></th>\n      <th></th>\n      <th></th>\n    </tr>\n  </thead>\n  <tbody>\n    <tr>\n      <th rowspan=\"8\" valign=\"top\">cosine_itemknn</th>\n      <th rowspan=\"4\" valign=\"top\">50</th>\n      <th>mean_weight</th>\n      <td>0.005875</td>\n      <td>0.032338</td>\n      <td>11.891396</td>\n      <td>0.000038</td>\n      <td>0.005730</td>\n    </tr>\n    <tr>\n      <th>n_interactions</th>\n      <td>0.039523</td>\n      <td>0.240064</td>\n      <td>6.313828</td>\n      <td>0.000038</td>\n      <td>0.074456</td>\n    </tr>\n    <tr>\n      <th>n_users</th>\n      <td>0.039523</td>\n      <td>0.240064</td>\n      <td>6.313828</td>\n      <td>0.000038</td>\n      <td>0.074456</td>\n    </tr>\n    <tr>\n      <th>sum_weight</th>\n      <td>0.034870</td>\n      <td>0.215191</td>\n      <td>6.628110</td>\n      <td>0.000041</td>\n      <td>0.073966</td>\n    </tr>\n    <tr>\n      <th rowspan=\"4\" valign=\"top\">80</th>\n      <th>mean_weight</th>\n      <td>0.005875</td>\n      <td>0.032338</td>\n      <td>11.891396</td>\n      <td>0.000038</td>\n      <td>0.005730</td>\n    </tr>\n    <tr>\n      <th>n_interactions</th>\n      <td>0.039523</td>\n      <td>0.240064</td>\n      <td>6.313828</td>\n      <td>0.000038</td>\n      <td>0.074456</td>\n    </tr>\n    <tr>\n      <th>n_users</th>\n      <td>0.039523</td>\n      <td>0.240064</td>\n      <td>6.313828</td>\n      <td>0.000038</td>\n      <td>0.074456</td>\n    </tr>\n    <tr>\n      <th>sum_weight</th>\n      <td>0.034870</td>\n      <td>0.215191</td>\n      <td>6.628110</td>\n      <td>0.000041</td>\n      <td>0.073966</td>\n    </tr>\n    <tr>\n      <th rowspan=\"8\" valign=\"top\">tfidf_itemknn</th>\n      <th rowspan=\"4\" valign=\"top\">50</th>\n      <th>mean_weight</th>\n      <td>0.009276</td>\n      <td>0.052973</td>\n      <td>11.775528</td>\n      <td>0.000039</td>\n      <td>0.009889</td>\n    </tr>\n    <tr>\n      <th>n_interactions</th>\n      <td>0.041433</td>\n      <td>0.242970</td>\n      <td>6.518878</td>\n      <td>0.000040</td>\n      <td>0.076768</td>\n    </tr>\n    <tr>\n      <th>n_users</th>\n      <td>0.041433</td>\n      <td>0.242970</td>\n      <td>6.518878</td>\n      <td>0.000040</td>\n      <td>0.076768</td>\n    </tr>\n    <tr>\n      <th>sum_weight</th>\n      <td>0.036995</td>\n      <td>0.219179</td>\n      <td>6.817797</td>\n      <td>0.000042</td>\n      <td>0.076404</td>\n    </tr>\n    <tr>\n      <th rowspan=\"4\" valign=\"top\">80</th>\n      <th>mean_weight</th>\n      <td>0.009276</td>\n      <td>0.052973</td>\n      <td>11.775528</td>\n      <td>0.000039</td>\n      <td>0.009889</td>\n    </tr>\n    <tr>\n      <th>n_interactions</th>\n      <td>0.041433</td>\n      <td>0.242970</td>\n      <td>6.518878</td>\n      <td>0.000040</td>\n      <td>0.076768</td>\n    </tr>\n    <tr>\n      <th>n_users</th>\n      <td>0.041433</td>\n      <td>0.242970</td>\n      <td>6.518878</td>\n      <td>0.000040</td>\n      <td>0.076768</td>\n    </tr>\n    <tr>\n      <th>sum_weight</th>\n      <td>0.036995</td>\n      <td>0.219179</td>\n      <td>6.817797</td>\n      <td>0.000042</td>\n      <td>0.076404</td>\n    </tr>\n  </tbody>\n</table>\n</div>"
     },
     "execution_count": 14,
     "metadata": {},
     "output_type": "execute_result"
    }
   ],
   "source": [
    "df_metrics.groupby(['model', 'N_users', 'popularity']).mean()[metrics.keys()]"
   ]
  },
  {
   "cell_type": "markdown",
   "source": [
    "`Increasing of the count of nearest neighbours doesn't impact on metrics values.\n",
    "That's why the choice of 50 is sufficient.`"
   ],
   "metadata": {
    "collapsed": false
   }
  },
  {
   "cell_type": "code",
   "execution_count": 15,
   "outputs": [
    {
     "data": {
      "text/plain": "                                prec@10  recall@10    novelty  serendipity  \\\nmodel          popularity                                                    \ncosine_itemknn mean_weight     0.005875   0.032338  11.891396     0.000038   \n               n_interactions  0.039523   0.240064   6.313828     0.000038   \n               n_users         0.039523   0.240064   6.313828     0.000038   \n               sum_weight      0.034870   0.215191   6.628110     0.000041   \ntfidf_itemknn  mean_weight     0.009276   0.052973  11.775528     0.000039   \n               n_interactions  0.041433   0.242970   6.518878     0.000040   \n               n_users         0.041433   0.242970   6.518878     0.000040   \n               sum_weight      0.036995   0.219179   6.817797     0.000042   \n\n                                 MAP@10  \nmodel          popularity                \ncosine_itemknn mean_weight     0.005730  \n               n_interactions  0.074456  \n               n_users         0.074456  \n               sum_weight      0.073966  \ntfidf_itemknn  mean_weight     0.009889  \n               n_interactions  0.076768  \n               n_users         0.076768  \n               sum_weight      0.076404  ",
      "text/html": "<div>\n<style scoped>\n    .dataframe tbody tr th:only-of-type {\n        vertical-align: middle;\n    }\n\n    .dataframe tbody tr th {\n        vertical-align: top;\n    }\n\n    .dataframe thead th {\n        text-align: right;\n    }\n</style>\n<table border=\"1\" class=\"dataframe\">\n  <thead>\n    <tr style=\"text-align: right;\">\n      <th></th>\n      <th></th>\n      <th>prec@10</th>\n      <th>recall@10</th>\n      <th>novelty</th>\n      <th>serendipity</th>\n      <th>MAP@10</th>\n    </tr>\n    <tr>\n      <th>model</th>\n      <th>popularity</th>\n      <th></th>\n      <th></th>\n      <th></th>\n      <th></th>\n      <th></th>\n    </tr>\n  </thead>\n  <tbody>\n    <tr>\n      <th rowspan=\"4\" valign=\"top\">cosine_itemknn</th>\n      <th>mean_weight</th>\n      <td>0.005875</td>\n      <td>0.032338</td>\n      <td>11.891396</td>\n      <td>0.000038</td>\n      <td>0.005730</td>\n    </tr>\n    <tr>\n      <th>n_interactions</th>\n      <td>0.039523</td>\n      <td>0.240064</td>\n      <td>6.313828</td>\n      <td>0.000038</td>\n      <td>0.074456</td>\n    </tr>\n    <tr>\n      <th>n_users</th>\n      <td>0.039523</td>\n      <td>0.240064</td>\n      <td>6.313828</td>\n      <td>0.000038</td>\n      <td>0.074456</td>\n    </tr>\n    <tr>\n      <th>sum_weight</th>\n      <td>0.034870</td>\n      <td>0.215191</td>\n      <td>6.628110</td>\n      <td>0.000041</td>\n      <td>0.073966</td>\n    </tr>\n    <tr>\n      <th rowspan=\"4\" valign=\"top\">tfidf_itemknn</th>\n      <th>mean_weight</th>\n      <td>0.009276</td>\n      <td>0.052973</td>\n      <td>11.775528</td>\n      <td>0.000039</td>\n      <td>0.009889</td>\n    </tr>\n    <tr>\n      <th>n_interactions</th>\n      <td>0.041433</td>\n      <td>0.242970</td>\n      <td>6.518878</td>\n      <td>0.000040</td>\n      <td>0.076768</td>\n    </tr>\n    <tr>\n      <th>n_users</th>\n      <td>0.041433</td>\n      <td>0.242970</td>\n      <td>6.518878</td>\n      <td>0.000040</td>\n      <td>0.076768</td>\n    </tr>\n    <tr>\n      <th>sum_weight</th>\n      <td>0.036995</td>\n      <td>0.219179</td>\n      <td>6.817797</td>\n      <td>0.000042</td>\n      <td>0.076404</td>\n    </tr>\n  </tbody>\n</table>\n</div>"
     },
     "execution_count": 15,
     "metadata": {},
     "output_type": "execute_result"
    }
   ],
   "source": [
    "df_metrics = df_metrics[df_metrics['N_users'] == 50]\n",
    "\n",
    "df_metrics.groupby(['model', 'popularity']).mean()[metrics.keys()]"
   ],
   "metadata": {
    "collapsed": false,
    "pycharm": {
     "name": "#%%\n"
    }
   }
  },
  {
   "cell_type": "markdown",
   "source": [
    "`MAP is the most important metric, which score we need to increase.`\n",
    "\n",
    "`Strategies 'n_users' and 'n_interactions' for popularity baseline with\n",
    "TF-IDF KNN model shows better results than rest. 'n_users' was chosen as default variant.`\n",
    "\n",
    "`However, the best MAP@10 result comes with decreased novelty.`"
   ],
   "metadata": {
    "collapsed": false
   }
  },
  {
   "cell_type": "markdown",
   "metadata": {
    "pycharm": {
     "name": "#%% md\n"
    }
   },
   "source": [
    "## Metrics std by fold\n",
    "\n",
    "`If a diff between model metrics less than an std value =>\n",
    "there is no significant difference observed`\n",
    "\n",
    "- For instance, for the serendipity metric there is no such difference between cosine_itemknn and tfidf_itemknn model results"
   ]
  },
  {
   "cell_type": "code",
   "execution_count": 16,
   "metadata": {
    "pycharm": {
     "name": "#%%\n"
    }
   },
   "outputs": [
    {
     "data": {
      "text/plain": "                                prec@10  recall@10   novelty  serendipity  \\\nmodel          popularity                                                   \ncosine_itemknn mean_weight     0.000060   0.000372  0.279949     0.000004   \n               n_interactions  0.007132   0.050245  0.047737     0.000004   \n               n_users         0.007132   0.050245  0.047737     0.000004   \n               sum_weight      0.006825   0.050053  0.019884     0.000003   \ntfidf_itemknn  mean_weight     0.000085   0.001344  0.278584     0.000005   \n               n_interactions  0.006741   0.049426  0.088305     0.000005   \n               n_users         0.006741   0.049426  0.088305     0.000005   \n               sum_weight      0.006441   0.048510  0.058318     0.000004   \n\n                                 MAP@10  \nmodel          popularity                \ncosine_itemknn mean_weight     0.000088  \n               n_interactions  0.004218  \n               n_users         0.004218  \n               sum_weight      0.012427  \ntfidf_itemknn  mean_weight     0.000302  \n               n_interactions  0.004174  \n               n_users         0.004174  \n               sum_weight      0.012314  ",
      "text/html": "<div>\n<style scoped>\n    .dataframe tbody tr th:only-of-type {\n        vertical-align: middle;\n    }\n\n    .dataframe tbody tr th {\n        vertical-align: top;\n    }\n\n    .dataframe thead th {\n        text-align: right;\n    }\n</style>\n<table border=\"1\" class=\"dataframe\">\n  <thead>\n    <tr style=\"text-align: right;\">\n      <th></th>\n      <th></th>\n      <th>prec@10</th>\n      <th>recall@10</th>\n      <th>novelty</th>\n      <th>serendipity</th>\n      <th>MAP@10</th>\n    </tr>\n    <tr>\n      <th>model</th>\n      <th>popularity</th>\n      <th></th>\n      <th></th>\n      <th></th>\n      <th></th>\n      <th></th>\n    </tr>\n  </thead>\n  <tbody>\n    <tr>\n      <th rowspan=\"4\" valign=\"top\">cosine_itemknn</th>\n      <th>mean_weight</th>\n      <td>0.000060</td>\n      <td>0.000372</td>\n      <td>0.279949</td>\n      <td>0.000004</td>\n      <td>0.000088</td>\n    </tr>\n    <tr>\n      <th>n_interactions</th>\n      <td>0.007132</td>\n      <td>0.050245</td>\n      <td>0.047737</td>\n      <td>0.000004</td>\n      <td>0.004218</td>\n    </tr>\n    <tr>\n      <th>n_users</th>\n      <td>0.007132</td>\n      <td>0.050245</td>\n      <td>0.047737</td>\n      <td>0.000004</td>\n      <td>0.004218</td>\n    </tr>\n    <tr>\n      <th>sum_weight</th>\n      <td>0.006825</td>\n      <td>0.050053</td>\n      <td>0.019884</td>\n      <td>0.000003</td>\n      <td>0.012427</td>\n    </tr>\n    <tr>\n      <th rowspan=\"4\" valign=\"top\">tfidf_itemknn</th>\n      <th>mean_weight</th>\n      <td>0.000085</td>\n      <td>0.001344</td>\n      <td>0.278584</td>\n      <td>0.000005</td>\n      <td>0.000302</td>\n    </tr>\n    <tr>\n      <th>n_interactions</th>\n      <td>0.006741</td>\n      <td>0.049426</td>\n      <td>0.088305</td>\n      <td>0.000005</td>\n      <td>0.004174</td>\n    </tr>\n    <tr>\n      <th>n_users</th>\n      <td>0.006741</td>\n      <td>0.049426</td>\n      <td>0.088305</td>\n      <td>0.000005</td>\n      <td>0.004174</td>\n    </tr>\n    <tr>\n      <th>sum_weight</th>\n      <td>0.006441</td>\n      <td>0.048510</td>\n      <td>0.058318</td>\n      <td>0.000004</td>\n      <td>0.012314</td>\n    </tr>\n  </tbody>\n</table>\n</div>"
     },
     "execution_count": 16,
     "metadata": {},
     "output_type": "execute_result"
    }
   ],
   "source": [
    "df_metrics.groupby(['model', 'popularity']).std()[metrics.keys()]"
   ]
  },
  {
   "cell_type": "markdown",
   "source": [
    "`std values for interested combinations are low enough\n",
    "to maintain previous combination as the most desirable.`"
   ],
   "metadata": {
    "collapsed": false
   }
  },
  {
   "cell_type": "markdown",
   "source": [
    "# Fit"
   ],
   "metadata": {
    "collapsed": false
   }
  },
  {
   "cell_type": "code",
   "execution_count": 2,
   "metadata": {},
   "outputs": [],
   "source": [
    "userknn_model = UserKnn(TFIDFRecommender())\n",
    "userknn_model.fit(rec_interactions.df, save=True)"
   ]
  },
  {
   "cell_type": "markdown",
   "source": [
    "# Check"
   ],
   "metadata": {
    "collapsed": false
   }
  },
  {
   "cell_type": "code",
   "execution_count": 3,
   "outputs": [
    {
     "name": "stdout",
     "output_type": "stream",
     "text": [
      "CPU times: total: 641 ms\n",
      "Wall time: 613 ms\n"
     ]
    }
   ],
   "source": [
    "%%time\n",
    "\n",
    "for _ in range(0, 1000):\n",
    "    userknn_model.predict(176549, 10)"
   ],
   "metadata": {
    "collapsed": false,
    "pycharm": {
     "name": "#%%\n"
    }
   }
  },
  {
   "cell_type": "code",
   "execution_count": 4,
   "outputs": [
    {
     "data": {
      "text/plain": "array([2777, 5297,  875, 2015,  948,  806, 3038, 1407, 4340, 2337])"
     },
     "execution_count": 4,
     "metadata": {},
     "output_type": "execute_result"
    }
   ],
   "source": [
    "userknn_model._predict_userknn(176549, 10)"
   ],
   "metadata": {
    "collapsed": false,
    "pycharm": {
     "name": "#%%\n"
    }
   }
  },
  {
   "cell_type": "code",
   "execution_count": 6,
   "outputs": [
    {
     "data": {
      "text/plain": "   user_id item_id     score  rank\n0   176549      25  202457.0     1\n1   176549      21  193123.0     2\n2   176549      32  132865.0     3\n3   176549      16  122119.0     4\n4   176549     174   91167.0     5\n5   176549      84   74803.0     6\n6   176549      93   68581.0     7\n7   176549     142   55043.0     8\n8   176549     370   45367.0     9\n9   176549     122   40372.0    10",
      "text/html": "<div>\n<style scoped>\n    .dataframe tbody tr th:only-of-type {\n        vertical-align: middle;\n    }\n\n    .dataframe tbody tr th {\n        vertical-align: top;\n    }\n\n    .dataframe thead th {\n        text-align: right;\n    }\n</style>\n<table border=\"1\" class=\"dataframe\">\n  <thead>\n    <tr style=\"text-align: right;\">\n      <th></th>\n      <th>user_id</th>\n      <th>item_id</th>\n      <th>score</th>\n      <th>rank</th>\n    </tr>\n  </thead>\n  <tbody>\n    <tr>\n      <th>0</th>\n      <td>176549</td>\n      <td>25</td>\n      <td>202457.0</td>\n      <td>1</td>\n    </tr>\n    <tr>\n      <th>1</th>\n      <td>176549</td>\n      <td>21</td>\n      <td>193123.0</td>\n      <td>2</td>\n    </tr>\n    <tr>\n      <th>2</th>\n      <td>176549</td>\n      <td>32</td>\n      <td>132865.0</td>\n      <td>3</td>\n    </tr>\n    <tr>\n      <th>3</th>\n      <td>176549</td>\n      <td>16</td>\n      <td>122119.0</td>\n      <td>4</td>\n    </tr>\n    <tr>\n      <th>4</th>\n      <td>176549</td>\n      <td>174</td>\n      <td>91167.0</td>\n      <td>5</td>\n    </tr>\n    <tr>\n      <th>5</th>\n      <td>176549</td>\n      <td>84</td>\n      <td>74803.0</td>\n      <td>6</td>\n    </tr>\n    <tr>\n      <th>6</th>\n      <td>176549</td>\n      <td>93</td>\n      <td>68581.0</td>\n      <td>7</td>\n    </tr>\n    <tr>\n      <th>7</th>\n      <td>176549</td>\n      <td>142</td>\n      <td>55043.0</td>\n      <td>8</td>\n    </tr>\n    <tr>\n      <th>8</th>\n      <td>176549</td>\n      <td>370</td>\n      <td>45367.0</td>\n      <td>9</td>\n    </tr>\n    <tr>\n      <th>9</th>\n      <td>176549</td>\n      <td>122</td>\n      <td>40372.0</td>\n      <td>10</td>\n    </tr>\n  </tbody>\n</table>\n</div>"
     },
     "execution_count": 6,
     "metadata": {},
     "output_type": "execute_result"
    }
   ],
   "source": [
    "userknn_model.recommend(pd.DataFrame({\"user_id\": [176549]}))"
   ],
   "metadata": {
    "collapsed": false,
    "pycharm": {
     "name": "#%%\n"
    }
   }
  },
  {
   "cell_type": "code",
   "execution_count": 5,
   "outputs": [
    {
     "data": {
      "text/plain": "[2777, 5297, 875, 2015, 948, 806, 3038, 1407, 4340, 2337]"
     },
     "execution_count": 5,
     "metadata": {},
     "output_type": "execute_result"
    }
   ],
   "source": [
    "userknn_model.predict(176549, 10)\n"
   ],
   "metadata": {
    "collapsed": false,
    "pycharm": {
     "name": "#%%\n"
    }
   }
  }
 ],
 "metadata": {
  "kernelspec": {
   "name": "python3",
   "language": "python",
   "display_name": "Python 3 (ipykernel)"
  },
  "language_info": {
   "codemirror_mode": {
    "name": "ipython",
    "version": 3
   },
   "file_extension": ".py",
   "mimetype": "text/x-python",
   "name": "python",
   "nbconvert_exporter": "python",
   "pygments_lexer": "ipython3",
   "version": "3.8.5"
  }
 },
 "nbformat": 4,
 "nbformat_minor": 1
}