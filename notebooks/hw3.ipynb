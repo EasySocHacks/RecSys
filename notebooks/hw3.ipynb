{
 "cells": [
  {
   "cell_type": "code",
   "execution_count": 1,
   "metadata": {
    "pycharm": {
     "name": "#%%\n"
    }
   },
   "outputs": [],
   "source": [
    "import pandas as pd\n",
    "import numpy as np\n",
    "import requests\n",
    "from tqdm.auto import tqdm\n",
    "from scipy.stats import mode\n",
    "from pprint import pprint\n",
    "from implicit.nearest_neighbours import CosineRecommender, TFIDFRecommender\n",
    "import warnings\n",
    "warnings.filterwarnings(\"ignore\")\n",
    "\n",
    "from rectools import Columns\n",
    "from rectools.dataset import Dataset, Interactions, IdMap\n",
    "\n",
    "from service.rec_models.userknn import UserKnn\n",
    "\n",
    "pd.set_option('display.max_columns', None)\n",
    "pd.set_option('display.max_colwidth', 200)"
   ]
  },
  {
   "cell_type": "markdown",
   "metadata": {
    "pycharm": {
     "name": "#%% md\n"
    }
   },
   "source": [
    "# Get KION dataset\n",
    "\n",
    "<a href=\"https://ods.ai/competitions/competition-recsys-21/data\"> Dataset description [ru] </a>\n"
   ]
  },
  {
   "cell_type": "code",
   "execution_count": 49,
   "metadata": {
    "pycharm": {
     "name": "#%%\n"
    }
   },
   "outputs": [],
   "source": [
    "\n",
    "# download dataset by chunks\n",
    "# url = \"https://storage.yandexcloud.net/itmo-recsys-public-data/kion_train.zip\"\n",
    "#\n",
    "# req = requests.get(url, stream=True)\n",
    "#\n",
    "# with open('../datasets/kion_train.zip', \"wb\") as fd:\n",
    "#     total_size_in_bytes = int(req.headers.get('Content-Length', 0))\n",
    "#     progress_bar = tqdm(desc='kion dataset download', total=total_size_in_bytes, unit='iB', unit_scale=True)\n",
    "#     for chunk in req.iter_content(chunk_size=2 ** 20):\n",
    "#         progress_bar.update(len(chunk))\n",
    "#         fd.write(chunk)"
   ]
  },
  {
   "cell_type": "code",
   "execution_count": 50,
   "metadata": {
    "pycharm": {
     "name": "#%%\n"
    }
   },
   "outputs": [
    {
     "name": "stderr",
     "output_type": "stream",
     "text": [
      "\"unzip\" ­Ґ пў«пҐвбп ў­гваҐ­­Ґ© Ё«Ё ў­Ґи­Ґ©\n",
      "Є®¬ ­¤®©, ЁбЇ®«­пҐ¬®© Їа®Ја ¬¬®© Ё«Ё Ї ЄҐв­л¬ д ©«®¬.\n"
     ]
    }
   ],
   "source": [
    "!unzip kion_train.zip"
   ]
  },
  {
   "cell_type": "markdown",
   "metadata": {
    "pycharm": {
     "name": "#%% md\n"
    }
   },
   "source": [
    "# EDA"
   ]
  },
  {
   "cell_type": "code",
   "execution_count": 2,
   "metadata": {
    "pycharm": {
     "name": "#%%\n"
    }
   },
   "outputs": [],
   "source": [
    "interactions = pd.read_csv('../datasets/kion_train/interactions.csv')\n",
    "users = pd.read_csv('../datasets/kion_train/users.csv')\n",
    "items = pd.read_csv('../datasets/kion_train/items.csv')"
   ]
  },
  {
   "cell_type": "code",
   "execution_count": 4,
   "metadata": {
    "pycharm": {
     "name": "#%%\n"
    }
   },
   "outputs": [],
   "source": [
    "# rename columns, convert timestamp\n",
    "interactions.rename(columns={'last_watch_dt': Columns.Datetime,\n",
    "                            'total_dur': Columns.Weight},\n",
    "                    inplace=True)\n",
    "\n",
    "interactions['datetime'] = pd.to_datetime(interactions['datetime'])"
   ]
  },
  {
   "cell_type": "markdown",
   "metadata": {
    "pycharm": {
     "name": "#%% md\n"
    }
   },
   "source": [
    "## interactions"
   ]
  },
  {
   "cell_type": "code",
   "execution_count": 53,
   "metadata": {
    "pycharm": {
     "name": "#%%\n"
    }
   },
   "outputs": [
    {
     "data": {
      "text/plain": "         user_id  item_id   datetime  weight  watched_pct\n0         176549     9506 2021-05-11    4250         72.0\n1         699317     1659 2021-05-29    8317        100.0\n2         656683     7107 2021-05-09      10          0.0\n3         864613     7638 2021-07-05   14483        100.0\n4         964868     9506 2021-04-30    6725        100.0\n5476246   648596    12225 2021-08-13      76          0.0\n5476247   546862     9673 2021-04-13    2308         49.0\n5476248   697262    15297 2021-08-20   18307         63.0\n5476249   384202    16197 2021-04-19    6203        100.0\n5476250   319709     4436 2021-08-15    3921         45.0",
      "text/html": "<div>\n<style scoped>\n    .dataframe tbody tr th:only-of-type {\n        vertical-align: middle;\n    }\n\n    .dataframe tbody tr th {\n        vertical-align: top;\n    }\n\n    .dataframe thead th {\n        text-align: right;\n    }\n</style>\n<table border=\"1\" class=\"dataframe\">\n  <thead>\n    <tr style=\"text-align: right;\">\n      <th></th>\n      <th>user_id</th>\n      <th>item_id</th>\n      <th>datetime</th>\n      <th>weight</th>\n      <th>watched_pct</th>\n    </tr>\n  </thead>\n  <tbody>\n    <tr>\n      <th>0</th>\n      <td>176549</td>\n      <td>9506</td>\n      <td>2021-05-11</td>\n      <td>4250</td>\n      <td>72.0</td>\n    </tr>\n    <tr>\n      <th>1</th>\n      <td>699317</td>\n      <td>1659</td>\n      <td>2021-05-29</td>\n      <td>8317</td>\n      <td>100.0</td>\n    </tr>\n    <tr>\n      <th>2</th>\n      <td>656683</td>\n      <td>7107</td>\n      <td>2021-05-09</td>\n      <td>10</td>\n      <td>0.0</td>\n    </tr>\n    <tr>\n      <th>3</th>\n      <td>864613</td>\n      <td>7638</td>\n      <td>2021-07-05</td>\n      <td>14483</td>\n      <td>100.0</td>\n    </tr>\n    <tr>\n      <th>4</th>\n      <td>964868</td>\n      <td>9506</td>\n      <td>2021-04-30</td>\n      <td>6725</td>\n      <td>100.0</td>\n    </tr>\n    <tr>\n      <th>5476246</th>\n      <td>648596</td>\n      <td>12225</td>\n      <td>2021-08-13</td>\n      <td>76</td>\n      <td>0.0</td>\n    </tr>\n    <tr>\n      <th>5476247</th>\n      <td>546862</td>\n      <td>9673</td>\n      <td>2021-04-13</td>\n      <td>2308</td>\n      <td>49.0</td>\n    </tr>\n    <tr>\n      <th>5476248</th>\n      <td>697262</td>\n      <td>15297</td>\n      <td>2021-08-20</td>\n      <td>18307</td>\n      <td>63.0</td>\n    </tr>\n    <tr>\n      <th>5476249</th>\n      <td>384202</td>\n      <td>16197</td>\n      <td>2021-04-19</td>\n      <td>6203</td>\n      <td>100.0</td>\n    </tr>\n    <tr>\n      <th>5476250</th>\n      <td>319709</td>\n      <td>4436</td>\n      <td>2021-08-15</td>\n      <td>3921</td>\n      <td>45.0</td>\n    </tr>\n  </tbody>\n</table>\n</div>"
     },
     "execution_count": 53,
     "metadata": {},
     "output_type": "execute_result"
    }
   ],
   "source": [
    "pd.concat([interactions.head(), interactions.tail()])"
   ]
  },
  {
   "cell_type": "code",
   "execution_count": 54,
   "metadata": {
    "pycharm": {
     "name": "#%%\n"
    }
   },
   "outputs": [
    {
     "name": "stdout",
     "output_type": "stream",
     "text": [
      "Interactions dataframe shape: (5476251, 5)\n",
      "Unique users in interactions: 962_179\n",
      "Unique items in interactions: 15_706\n"
     ]
    }
   ],
   "source": [
    "print(f\"Interactions dataframe shape: {interactions.shape}\")\n",
    "print(f\"Unique users in interactions: {interactions['user_id'].nunique():_}\")\n",
    "print(f\"Unique items in interactions: {interactions['item_id'].nunique():_}\")"
   ]
  },
  {
   "cell_type": "code",
   "execution_count": 55,
   "metadata": {
    "pycharm": {
     "name": "#%%\n"
    }
   },
   "outputs": [
    {
     "name": "stdout",
     "output_type": "stream",
     "text": [
      "min date in interactions: 2021-03-13 00:00:00\n",
      "max date in interactions: 2021-08-22 00:00:00\n"
     ]
    }
   ],
   "source": [
    "max_date = interactions['datetime'].max()\n",
    "min_date = interactions['datetime'].min()\n",
    "\n",
    "print(f\"min date in interactions: {min_date}\")\n",
    "print(f\"max date in interactions: {max_date}\")"
   ]
  },
  {
   "cell_type": "code",
   "execution_count": 56,
   "metadata": {
    "pycharm": {
     "name": "#%%\n"
    }
   },
   "outputs": [
    {
     "name": "stdout",
     "output_type": "stream",
     "text": [
      "<class 'pandas.core.frame.DataFrame'>\n",
      "RangeIndex: 5476251 entries, 0 to 5476250\n",
      "Data columns (total 5 columns):\n",
      " #   Column       Dtype         \n",
      "---  ------       -----         \n",
      " 0   user_id      int64         \n",
      " 1   item_id      int64         \n",
      " 2   datetime     datetime64[ns]\n",
      " 3   weight       int64         \n",
      " 4   watched_pct  float64       \n",
      "dtypes: datetime64[ns](1), float64(1), int64(3)\n",
      "memory usage: 208.9 MB\n"
     ]
    }
   ],
   "source": [
    "interactions.info()"
   ]
  },
  {
   "cell_type": "markdown",
   "metadata": {
    "pycharm": {
     "name": "#%% md\n"
    }
   },
   "source": [
    "## users"
   ]
  },
  {
   "cell_type": "code",
   "execution_count": 57,
   "metadata": {
    "pycharm": {
     "name": "#%%\n"
    }
   },
   "outputs": [
    {
     "data": {
      "text/plain": "        user_id         age        income  sex  kids_flg\n0        973171   age_25_34  income_60_90    М         1\n1        962099   age_18_24  income_20_40    М         0\n2       1047345   age_45_54  income_40_60    Ж         0\n3        721985   age_45_54  income_20_40    Ж         0\n4        704055   age_35_44  income_60_90    Ж         0\n840192   339025  age_65_inf   income_0_20    Ж         0\n840193   983617   age_18_24  income_20_40    Ж         1\n840194   251008         NaN           NaN  NaN         0\n840195   590706         NaN           NaN    Ж         0\n840196   166555  age_65_inf  income_20_40    Ж         0",
      "text/html": "<div>\n<style scoped>\n    .dataframe tbody tr th:only-of-type {\n        vertical-align: middle;\n    }\n\n    .dataframe tbody tr th {\n        vertical-align: top;\n    }\n\n    .dataframe thead th {\n        text-align: right;\n    }\n</style>\n<table border=\"1\" class=\"dataframe\">\n  <thead>\n    <tr style=\"text-align: right;\">\n      <th></th>\n      <th>user_id</th>\n      <th>age</th>\n      <th>income</th>\n      <th>sex</th>\n      <th>kids_flg</th>\n    </tr>\n  </thead>\n  <tbody>\n    <tr>\n      <th>0</th>\n      <td>973171</td>\n      <td>age_25_34</td>\n      <td>income_60_90</td>\n      <td>М</td>\n      <td>1</td>\n    </tr>\n    <tr>\n      <th>1</th>\n      <td>962099</td>\n      <td>age_18_24</td>\n      <td>income_20_40</td>\n      <td>М</td>\n      <td>0</td>\n    </tr>\n    <tr>\n      <th>2</th>\n      <td>1047345</td>\n      <td>age_45_54</td>\n      <td>income_40_60</td>\n      <td>Ж</td>\n      <td>0</td>\n    </tr>\n    <tr>\n      <th>3</th>\n      <td>721985</td>\n      <td>age_45_54</td>\n      <td>income_20_40</td>\n      <td>Ж</td>\n      <td>0</td>\n    </tr>\n    <tr>\n      <th>4</th>\n      <td>704055</td>\n      <td>age_35_44</td>\n      <td>income_60_90</td>\n      <td>Ж</td>\n      <td>0</td>\n    </tr>\n    <tr>\n      <th>840192</th>\n      <td>339025</td>\n      <td>age_65_inf</td>\n      <td>income_0_20</td>\n      <td>Ж</td>\n      <td>0</td>\n    </tr>\n    <tr>\n      <th>840193</th>\n      <td>983617</td>\n      <td>age_18_24</td>\n      <td>income_20_40</td>\n      <td>Ж</td>\n      <td>1</td>\n    </tr>\n    <tr>\n      <th>840194</th>\n      <td>251008</td>\n      <td>NaN</td>\n      <td>NaN</td>\n      <td>NaN</td>\n      <td>0</td>\n    </tr>\n    <tr>\n      <th>840195</th>\n      <td>590706</td>\n      <td>NaN</td>\n      <td>NaN</td>\n      <td>Ж</td>\n      <td>0</td>\n    </tr>\n    <tr>\n      <th>840196</th>\n      <td>166555</td>\n      <td>age_65_inf</td>\n      <td>income_20_40</td>\n      <td>Ж</td>\n      <td>0</td>\n    </tr>\n  </tbody>\n</table>\n</div>"
     },
     "execution_count": 57,
     "metadata": {},
     "output_type": "execute_result"
    }
   ],
   "source": [
    "pd.concat([users.head(), users.tail()])"
   ]
  },
  {
   "cell_type": "code",
   "execution_count": 58,
   "metadata": {
    "pycharm": {
     "name": "#%%\n"
    }
   },
   "outputs": [
    {
     "name": "stdout",
     "output_type": "stream",
     "text": [
      "Users dataframe shape (840197, 5)\n",
      "Unique users: 840_197\n"
     ]
    }
   ],
   "source": [
    "print(f\"Users dataframe shape {users.shape}\")\n",
    "print(f\"Unique users: {users['user_id'].nunique():_}\")"
   ]
  },
  {
   "cell_type": "markdown",
   "metadata": {
    "pycharm": {
     "name": "#%% md\n"
    }
   },
   "source": [
    "## items"
   ]
  },
  {
   "cell_type": "code",
   "execution_count": 59,
   "metadata": {
    "pycharm": {
     "name": "#%%\n"
    }
   },
   "outputs": [
    {
     "data": {
      "text/plain": "       item_id content_type           title  release_year\n0        10711         film  Поговори с ней        2002.0\n1         2508         film     Голые перцы        2014.0\n15961     4538       series    Среди камней        2019.0\n15962     3206       series            Гоша        2019.0",
      "text/html": "<div>\n<style scoped>\n    .dataframe tbody tr th:only-of-type {\n        vertical-align: middle;\n    }\n\n    .dataframe tbody tr th {\n        vertical-align: top;\n    }\n\n    .dataframe thead th {\n        text-align: right;\n    }\n</style>\n<table border=\"1\" class=\"dataframe\">\n  <thead>\n    <tr style=\"text-align: right;\">\n      <th></th>\n      <th>item_id</th>\n      <th>content_type</th>\n      <th>title</th>\n      <th>release_year</th>\n    </tr>\n  </thead>\n  <tbody>\n    <tr>\n      <th>0</th>\n      <td>10711</td>\n      <td>film</td>\n      <td>Поговори с ней</td>\n      <td>2002.0</td>\n    </tr>\n    <tr>\n      <th>1</th>\n      <td>2508</td>\n      <td>film</td>\n      <td>Голые перцы</td>\n      <td>2014.0</td>\n    </tr>\n    <tr>\n      <th>15961</th>\n      <td>4538</td>\n      <td>series</td>\n      <td>Среди камней</td>\n      <td>2019.0</td>\n    </tr>\n    <tr>\n      <th>15962</th>\n      <td>3206</td>\n      <td>series</td>\n      <td>Гоша</td>\n      <td>2019.0</td>\n    </tr>\n  </tbody>\n</table>\n</div>"
     },
     "execution_count": 59,
     "metadata": {},
     "output_type": "execute_result"
    }
   ],
   "source": [
    "# TODO\n",
    "pd.concat([items.head(2), items.tail(2)])[[\"item_id\", \"content_type\", \"title\", \"release_year\"]]"
   ]
  },
  {
   "cell_type": "code",
   "execution_count": 60,
   "metadata": {
    "pycharm": {
     "name": "#%%\n"
    }
   },
   "outputs": [
    {
     "name": "stdout",
     "output_type": "stream",
     "text": [
      "Items dataframe shape (15963, 14)\n",
      "Unique item_id: 15_963\n"
     ]
    }
   ],
   "source": [
    "print(f\"Items dataframe shape {items.shape}\")\n",
    "print(f\"Unique item_id: {items['item_id'].nunique():_}\")"
   ]
  },
  {
   "cell_type": "markdown",
   "source": [
    "## IdMap"
   ],
   "metadata": {
    "collapsed": false,
    "pycharm": {
     "name": "#%% md\n"
    }
   }
  },
  {
   "cell_type": "code",
   "execution_count": 61,
   "outputs": [],
   "source": [
    "userMap = IdMap.from_values(interactions[Columns.User])\n",
    "itemMap = IdMap.from_values(interactions[Columns.Item])"
   ],
   "metadata": {
    "collapsed": false,
    "pycharm": {
     "name": "#%%\n"
    }
   }
  },
  {
   "cell_type": "markdown",
   "metadata": {
    "pycharm": {
     "name": "#%% md\n"
    }
   },
   "source": [
    "#  userkNN model  CV\n",
    "\n",
    "Compare implicit `CosineRecommender` and `TFIDFRecommender` as an ItemKnn base\n",
    "\n"
   ]
  },
  {
   "cell_type": "code",
   "execution_count": 5,
   "metadata": {
    "pycharm": {
     "name": "#%%\n"
    }
   },
   "outputs": [
    {
     "name": "stdout",
     "output_type": "stream",
     "text": [
      "Start date and last date of the test fold: (Timestamp('2021-08-08 00:00:00'), Timestamp('2021-08-22 00:00:00'))\n"
     ]
    }
   ],
   "source": [
    "# setting for cv\n",
    "n_folds = 1\n",
    "unit = \"W\"\n",
    "n_units = 1\n",
    "\n",
    "last_date = interactions[Columns.Datetime].max().normalize()\n",
    "start_date = last_date - pd.Timedelta(n_folds * n_units + 1, unit=unit)\n",
    "print(f\"Start date and last date of the test fold: {start_date, last_date}\")"
   ]
  },
  {
   "cell_type": "markdown",
   "metadata": {},
   "source": [
    "### Test fold borders"
   ]
  },
  {
   "cell_type": "code",
   "execution_count": 6,
   "metadata": {
    "pycharm": {
     "name": "#%%\n"
    }
   },
   "outputs": [
    {
     "name": "stdout",
     "output_type": "stream",
     "text": [
      "start_date: 2021-08-08 00:00:00\n",
      "last_date: 2021-08-22 00:00:00\n",
      "periods: 2\n",
      "freq: 1W\n",
      "\n",
      "Test fold borders: ['2021-08-08' '2021-08-15']\n"
     ]
    },
    {
     "ename": "NameError",
     "evalue": "name 'userMap' is not defined",
     "output_type": "error",
     "traceback": [
      "\u001B[1;31m---------------------------------------------------------------------------\u001B[0m",
      "\u001B[1;31mNameError\u001B[0m                                 Traceback (most recent call last)",
      "Cell \u001B[1;32mIn [6], line 23\u001B[0m\n\u001B[0;32m     15\u001B[0m \u001B[38;5;66;03m# generator of folds\u001B[39;00m\n\u001B[0;32m     16\u001B[0m cv \u001B[38;5;241m=\u001B[39m TimeRangeSplitter(\n\u001B[0;32m     17\u001B[0m     date_range\u001B[38;5;241m=\u001B[39mdate_range,\n\u001B[0;32m     18\u001B[0m     filter_already_seen\u001B[38;5;241m=\u001B[39m\u001B[38;5;28;01mTrue\u001B[39;00m,\n\u001B[0;32m     19\u001B[0m     filter_cold_items\u001B[38;5;241m=\u001B[39m\u001B[38;5;28;01mTrue\u001B[39;00m,\n\u001B[0;32m     20\u001B[0m     filter_cold_users\u001B[38;5;241m=\u001B[39m\u001B[38;5;28;01mTrue\u001B[39;00m,\n\u001B[0;32m     21\u001B[0m )\n\u001B[1;32m---> 23\u001B[0m rec_interactions \u001B[38;5;241m=\u001B[39m Interactions\u001B[38;5;241m.\u001B[39mfrom_raw(interactions, \u001B[43muserMap\u001B[49m, itemMap)\n\u001B[0;32m     24\u001B[0m \u001B[38;5;28mprint\u001B[39m(\u001B[38;5;124mf\u001B[39m\u001B[38;5;124m\"\u001B[39m\u001B[38;5;124mReal number of folds: \u001B[39m\u001B[38;5;132;01m{\u001B[39;00mcv\u001B[38;5;241m.\u001B[39mget_n_splits(rec_interactions)\u001B[38;5;132;01m}\u001B[39;00m\u001B[38;5;124m\"\u001B[39m)\n",
      "\u001B[1;31mNameError\u001B[0m: name 'userMap' is not defined"
     ]
    }
   ],
   "source": [
    "from rectools.model_selection import TimeRangeSplitter\n",
    "\n",
    "periods = n_folds + 1\n",
    "freq = f\"{n_units}{unit}\"\n",
    "print(\n",
    "    f\"start_date: {start_date}\\n\"\n",
    "    f\"last_date: {last_date}\\n\"\n",
    "    f\"periods: {periods}\\n\"\n",
    "    f\"freq: {freq}\\n\"\n",
    ")\n",
    "\n",
    "date_range = pd.date_range(start=start_date, periods=periods, freq=freq, tz=last_date.tz)\n",
    "print(f\"Test fold borders: {date_range.values.astype('datetime64[D]')}\")\n",
    "\n",
    "# generator of folds\n",
    "cv = TimeRangeSplitter(\n",
    "    date_range=date_range,\n",
    "    filter_already_seen=True,\n",
    "    filter_cold_items=True,\n",
    "    filter_cold_users=True,\n",
    ")\n",
    "\n",
    "rec_interactions = Interactions.from_raw(interactions, userMap, itemMap)\n",
    "print(f\"Real number of folds: {cv.get_n_splits(rec_interactions)}\")"
   ]
  },
  {
   "cell_type": "code",
   "execution_count": 7,
   "metadata": {
    "pycharm": {
     "name": "#%%\n"
    }
   },
   "outputs": [],
   "source": [
    "from rectools.metrics import Precision, Recall, MeanInvUserFreq, Serendipity, MAP, calc_metrics\n",
    "\n",
    "# calculate several classic (precision@k and recall@k) and \"beyond accuracy\" metrics\n",
    "metrics = {\n",
    "    \"prec@10\": Precision(k=10),\n",
    "    \"recall@10\": Recall(k=10),\n",
    "    \"novelty\": MeanInvUserFreq(k=10),\n",
    "    \"serendipity\": Serendipity(k=10),\n",
    "    \"MAP@10\": MAP(k=10),\n",
    "}\n",
    "\n",
    "# few simple models to compare\n",
    "models = {\n",
    "    \"cosine_itemknn\": CosineRecommender(),\n",
    "    \"tfidf_itemknn\": TFIDFRecommender(),\n",
    "}\n"
   ]
  },
  {
   "cell_type": "markdown",
   "metadata": {},
   "source": [
    "# Model training by fold"
   ]
  },
  {
   "cell_type": "code",
   "execution_count": 65,
   "metadata": {
    "pycharm": {
     "name": "#%%\n"
    }
   },
   "outputs": [
    {
     "name": "stdout",
     "output_type": "stream",
     "text": [
      "\n",
      "==================== Fold 0\n",
      "{'End date': Timestamp('2021-08-15 00:00:00', freq='W-SUN'),\n",
      " 'Start date': Timestamp('2021-08-08 00:00:00', freq='W-SUN'),\n",
      " 'Test': 276699,\n",
      " 'Test items': 6715,\n",
      " 'Test users': 101983,\n",
      " 'Train': 4587708,\n",
      " 'Train items': 15404,\n",
      " 'Train users': 842129}\n",
      "\n",
      "0\n",
      "1\n",
      "2\n",
      "\n",
      "3\n",
      "4\n",
      "\n",
      "\n",
      "\n",
      "0\n",
      "1\n",
      "2\n",
      "\n",
      "3\n",
      "4\n",
      "\n",
      "\n",
      "CPU times: total: 8h 35min 8s\n",
      "Wall time: 52min 53s\n"
     ]
    },
    {
     "data": {
      "text/plain": "HBox(children=(FloatProgress(value=0.0, max=842129.0), HTML(value='')))",
      "application/vnd.jupyter.widget-view+json": {
       "version_major": 2,
       "version_minor": 0,
       "model_id": "d96527d84b2f449c8c1f876fa6d5f315"
      }
     },
     "metadata": {},
     "output_type": "display_data"
    },
    {
     "data": {
      "text/plain": "HBox(children=(FloatProgress(value=0.0, max=101983.0), HTML(value='')))",
      "application/vnd.jupyter.widget-view+json": {
       "version_major": 2,
       "version_minor": 0,
       "model_id": "591eca22960c4a99babe18ded5f6617d"
      }
     },
     "metadata": {},
     "output_type": "display_data"
    },
    {
     "data": {
      "text/plain": "HBox(children=(FloatProgress(value=0.0, max=842129.0), HTML(value='')))",
      "application/vnd.jupyter.widget-view+json": {
       "version_major": 2,
       "version_minor": 0,
       "model_id": "67b8f0907e724196bb8baa04c0327643"
      }
     },
     "metadata": {},
     "output_type": "display_data"
    },
    {
     "data": {
      "text/plain": "HBox(children=(FloatProgress(value=0.0, max=101983.0), HTML(value='')))",
      "application/vnd.jupyter.widget-view+json": {
       "version_major": 2,
       "version_minor": 0,
       "model_id": "9b8bd81bced040eb8144c16167b6aaad"
      }
     },
     "metadata": {},
     "output_type": "display_data"
    }
   ],
   "source": [
    "%%time\n",
    "\n",
    "results = []\n",
    "\n",
    "fold_iterator = cv.split(rec_interactions, collect_fold_stats=True)\n",
    "\n",
    "for i_fold, (train_ids, test_ids, fold_info) in enumerate(fold_iterator):\n",
    "    print(f\"\\n==================== Fold {i_fold}\")\n",
    "    pprint(fold_info)\n",
    "\n",
    "    df_train = rec_interactions.df.iloc[train_ids].copy()\n",
    "    df_test = rec_interactions.df.iloc[test_ids].copy()\n",
    "\n",
    "    catalog = df_train[Columns.Item].unique()\n",
    "\n",
    "    for model_name, model in models.items():\n",
    "        if model_name == \"cosine_itemknn\":\n",
    "            userknn_model = UserKnn(model)\n",
    "            userknn_model.fit(df_train, False)\n",
    "            # userknn_model = UserKnn.load(\"userknn_cosine.dill\")\n",
    "        else:\n",
    "            userknn_model = UserKnn(model)\n",
    "            userknn_model.fit(df_train, False)\n",
    "            # userknn_model = UserKnn.load(\"userknn_tfidf.dill\")\n",
    "\n",
    "        recos = userknn_model.recommend(df_test)\n",
    "\n",
    "        metric_values = calc_metrics(\n",
    "            metrics,\n",
    "            reco=recos,\n",
    "            interactions=df_test,\n",
    "            prev_interactions=df_train,\n",
    "            catalog=catalog,\n",
    "        )\n",
    "\n",
    "        fold = {\"fold\": i_fold, \"model\": model_name}\n",
    "        fold.update(metric_values)\n",
    "        results.append(fold)\n",
    "        print()\n",
    "        print()\n"
   ]
  },
  {
   "cell_type": "markdown",
   "metadata": {
    "pycharm": {
     "name": "#%% md\n"
    }
   },
   "source": [
    "# 👌 Metrics\n",
    "\n",
    "`Metrics by fold`\n",
    "\n"
   ]
  },
  {
   "cell_type": "markdown",
   "metadata": {},
   "source": [
    "## Metric description\n",
    "- ### <a href=\"https://rectools.readthedocs.io/en/latest/api/rectools.metrics.novelty.MeanInvUserFreq.html#rectools.metrics.novelty.MeanInvUserFreq\"> Mean Inverse User Frequency (novelty)</a>\n",
    "\n",
    "- ### <a href=\"https://rectools.readthedocs.io/en/latest/api/rectools.metrics.serendipity.Serendipity.html\"> Serendipity = novelty and relevance</a>"
   ]
  },
  {
   "cell_type": "code",
   "execution_count": 66,
   "metadata": {
    "pycharm": {
     "name": "#%%\n"
    }
   },
   "outputs": [
    {
     "data": {
      "text/plain": "   fold           model   prec@10  recall@10    MAP@10   novelty  serendipity\n0     0  cosine_itemknn  0.020312   0.108145  0.036107  6.682183     0.000056\n1     0   tfidf_itemknn  0.021802   0.111020  0.037483  6.936814     0.000066",
      "text/html": "<div>\n<style scoped>\n    .dataframe tbody tr th:only-of-type {\n        vertical-align: middle;\n    }\n\n    .dataframe tbody tr th {\n        vertical-align: top;\n    }\n\n    .dataframe thead th {\n        text-align: right;\n    }\n</style>\n<table border=\"1\" class=\"dataframe\">\n  <thead>\n    <tr style=\"text-align: right;\">\n      <th></th>\n      <th>fold</th>\n      <th>model</th>\n      <th>prec@10</th>\n      <th>recall@10</th>\n      <th>MAP@10</th>\n      <th>novelty</th>\n      <th>serendipity</th>\n    </tr>\n  </thead>\n  <tbody>\n    <tr>\n      <th>0</th>\n      <td>0</td>\n      <td>cosine_itemknn</td>\n      <td>0.020312</td>\n      <td>0.108145</td>\n      <td>0.036107</td>\n      <td>6.682183</td>\n      <td>0.000056</td>\n    </tr>\n    <tr>\n      <th>1</th>\n      <td>0</td>\n      <td>tfidf_itemknn</td>\n      <td>0.021802</td>\n      <td>0.111020</td>\n      <td>0.037483</td>\n      <td>6.936814</td>\n      <td>0.000066</td>\n    </tr>\n  </tbody>\n</table>\n</div>"
     },
     "execution_count": 66,
     "metadata": {},
     "output_type": "execute_result"
    }
   ],
   "source": [
    "df_metrics = pd.DataFrame(results)\n",
    "df_metrics"
   ]
  },
  {
   "cell_type": "code",
   "execution_count": 67,
   "metadata": {
    "pycharm": {
     "name": "#%%\n"
    }
   },
   "outputs": [],
   "source": [
    "df_metrics.to_pickle(\"df_metrics.pickle\")"
   ]
  },
  {
   "cell_type": "markdown",
   "metadata": {
    "pycharm": {
     "name": "#%% md\n"
    }
   },
   "source": [
    "## Metrics mean by fold\n",
    "`we can compare two models`"
   ]
  },
  {
   "cell_type": "code",
   "execution_count": 68,
   "metadata": {
    "pycharm": {
     "name": "#%%\n"
    }
   },
   "outputs": [
    {
     "data": {
      "text/plain": "                 prec@10  recall@10   novelty  serendipity    MAP@10\nmodel                                                               \ncosine_itemknn  0.020312   0.108145  6.682183     0.000056  0.036107\ntfidf_itemknn   0.021802   0.111020  6.936814     0.000066  0.037483",
      "text/html": "<div>\n<style scoped>\n    .dataframe tbody tr th:only-of-type {\n        vertical-align: middle;\n    }\n\n    .dataframe tbody tr th {\n        vertical-align: top;\n    }\n\n    .dataframe thead th {\n        text-align: right;\n    }\n</style>\n<table border=\"1\" class=\"dataframe\">\n  <thead>\n    <tr style=\"text-align: right;\">\n      <th></th>\n      <th>prec@10</th>\n      <th>recall@10</th>\n      <th>novelty</th>\n      <th>serendipity</th>\n      <th>MAP@10</th>\n    </tr>\n    <tr>\n      <th>model</th>\n      <th></th>\n      <th></th>\n      <th></th>\n      <th></th>\n      <th></th>\n    </tr>\n  </thead>\n  <tbody>\n    <tr>\n      <th>cosine_itemknn</th>\n      <td>0.020312</td>\n      <td>0.108145</td>\n      <td>6.682183</td>\n      <td>0.000056</td>\n      <td>0.036107</td>\n    </tr>\n    <tr>\n      <th>tfidf_itemknn</th>\n      <td>0.021802</td>\n      <td>0.111020</td>\n      <td>6.936814</td>\n      <td>0.000066</td>\n      <td>0.037483</td>\n    </tr>\n  </tbody>\n</table>\n</div>"
     },
     "execution_count": 68,
     "metadata": {},
     "output_type": "execute_result"
    }
   ],
   "source": [
    "df_metrics.groupby('model').mean()[metrics.keys()]"
   ]
  },
  {
   "cell_type": "markdown",
   "metadata": {
    "pycharm": {
     "name": "#%% md\n"
    }
   },
   "source": [
    "## Metrics std by fold\n",
    "\n",
    "`If a diff between model metrics less than an std value => there is no significant difference observed`\n",
    "\n",
    "- For instance, for the serendipity metric there is no such difference between cosine_itemknn and tfidf_itemknn model results"
   ]
  },
  {
   "cell_type": "code",
   "execution_count": 69,
   "metadata": {
    "pycharm": {
     "name": "#%%\n"
    }
   },
   "outputs": [
    {
     "data": {
      "text/plain": "                prec@10  recall@10  novelty  serendipity  MAP@10\nmodel                                                           \ncosine_itemknn      NaN        NaN      NaN          NaN     NaN\ntfidf_itemknn       NaN        NaN      NaN          NaN     NaN",
      "text/html": "<div>\n<style scoped>\n    .dataframe tbody tr th:only-of-type {\n        vertical-align: middle;\n    }\n\n    .dataframe tbody tr th {\n        vertical-align: top;\n    }\n\n    .dataframe thead th {\n        text-align: right;\n    }\n</style>\n<table border=\"1\" class=\"dataframe\">\n  <thead>\n    <tr style=\"text-align: right;\">\n      <th></th>\n      <th>prec@10</th>\n      <th>recall@10</th>\n      <th>novelty</th>\n      <th>serendipity</th>\n      <th>MAP@10</th>\n    </tr>\n    <tr>\n      <th>model</th>\n      <th></th>\n      <th></th>\n      <th></th>\n      <th></th>\n      <th></th>\n    </tr>\n  </thead>\n  <tbody>\n    <tr>\n      <th>cosine_itemknn</th>\n      <td>NaN</td>\n      <td>NaN</td>\n      <td>NaN</td>\n      <td>NaN</td>\n      <td>NaN</td>\n    </tr>\n    <tr>\n      <th>tfidf_itemknn</th>\n      <td>NaN</td>\n      <td>NaN</td>\n      <td>NaN</td>\n      <td>NaN</td>\n      <td>NaN</td>\n    </tr>\n  </tbody>\n</table>\n</div>"
     },
     "execution_count": 69,
     "metadata": {},
     "output_type": "execute_result"
    }
   ],
   "source": [
    "df_metrics.groupby('model').std()[metrics.keys()]"
   ]
  },
  {
   "cell_type": "code",
   "execution_count": 70,
   "metadata": {
    "pycharm": {
     "name": "#%%\n"
    }
   },
   "outputs": [],
   "source": [
    "df = df_metrics.groupby('model').mean()[metrics.keys()]"
   ]
  },
  {
   "cell_type": "code",
   "execution_count": 71,
   "metadata": {
    "pycharm": {
     "name": "#%%\n"
    }
   },
   "outputs": [
    {
     "data": {
      "text/plain": "prec@10       -0.001489\nrecall@10     -0.002875\nnovelty       -0.254631\nserendipity   -0.000010\nMAP@10        -0.001376\ndtype: float64"
     },
     "execution_count": 71,
     "metadata": {},
     "output_type": "execute_result"
    }
   ],
   "source": [
    "diff = df.loc['cosine_itemknn'] - df.loc['tfidf_itemknn']\n",
    "diff"
   ]
  },
  {
   "cell_type": "markdown",
   "source": [
    "# Fit"
   ],
   "metadata": {
    "collapsed": false
   }
  },
  {
   "cell_type": "code",
   "source": [
    "# userknn_model = UserKnn(TFIDFRecommender())\n",
    "# userknn_model.fit(rec_interactions.df, True)"
   ],
   "metadata": {
    "collapsed": false,
    "pycharm": {
     "name": "#%%\n"
    }
   },
   "execution_count": 72,
   "outputs": []
  },
  {
   "cell_type": "markdown",
   "source": [
    "# Проверка"
   ],
   "metadata": {
    "collapsed": false,
    "pycharm": {
     "name": "#%% md\n"
    }
   }
  },
  {
   "cell_type": "code",
   "execution_count": 10,
   "metadata": {},
   "outputs": [],
   "source": [
    "userknn_model = UserKnn.load(\"userknn_tfidf.dill\")\n",
    "\n",
    "x = userknn_model.watched.watched_dict[176549]"
   ]
  },
  {
   "cell_type": "code",
   "execution_count": 13,
   "outputs": [
    {
     "name": "stdout",
     "output_type": "stream",
     "text": [
      "[14, 24, 101, 142, 341, 512, 657, 849, 1132, 1287]\n",
      "{512, 1287, 14, 142, 657, 849, 341, 24}\n",
      "CPU times: total: 609 ms\n",
      "Wall time: 629 ms\n"
     ]
    }
   ],
   "source": [
    "%%time\n",
    "\n",
    "for _ in range(0, 1000):\n",
    "    userknn_model.predict(176549, 10)\n",
    "print(userknn_model.predict(176549, 10))\n",
    "print(set(userknn_model.predict(176549, 10)) - set(x))"
   ],
   "metadata": {
    "collapsed": false,
    "pycharm": {
     "name": "#%%\n"
    }
   }
  },
  {
   "cell_type": "code",
   "execution_count": 75,
   "metadata": {},
   "outputs": [
    {
     "name": "stdout",
     "output_type": "stream",
     "text": [
      "CPU times: total: 0 ns\n",
      "Wall time: 458 µs\n"
     ]
    },
    {
     "data": {
      "text/plain": "array([ 875, 2015, 3238, 2337, 1061,  229, 1408, 1730,  538,  585])"
     },
     "execution_count": 75,
     "metadata": {},
     "output_type": "execute_result"
    }
   ],
   "source": [
    "%%time\n",
    "\n",
    "# for _ in range(0, 1000):\n",
    "#     userknn_model._predict_userknn(176549, 10)\n",
    "userknn_model._predict_userknn(176549, 10)\n",
    "\n"
   ]
  }
 ],
 "metadata": {
  "kernelspec": {
   "name": "python3",
   "language": "python",
   "display_name": "Python 3 (ipykernel)"
  },
  "language_info": {
   "codemirror_mode": {
    "name": "ipython",
    "version": 3
   },
   "file_extension": ".py",
   "mimetype": "text/x-python",
   "name": "python",
   "nbconvert_exporter": "python",
   "pygments_lexer": "ipython3",
   "version": "3.8.5"
  }
 },
 "nbformat": 4,
 "nbformat_minor": 1
}